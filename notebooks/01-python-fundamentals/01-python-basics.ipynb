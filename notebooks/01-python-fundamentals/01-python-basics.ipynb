{
 "cells": [
  {
   "cell_type": "markdown",
   "id": "intro",
   "metadata": {},
   "source": [
    "# Python Basics: Complete Foundation\n",
    "\n",
    "This comprehensive notebook covers all the fundamental concepts of Python programming, including data types, variables, functions, lists, dictionaries, comparisons, and conditionals."
   ]
  },
  {
   "cell_type": "markdown",
   "id": "section1",
   "metadata": {},
   "source": [
    "## Part 1: Data Types and Operations\n",
    "\n",
    "In this section, we'll explore Python's fundamental data types and the operations we can perform with them."
   ]
  },
  {
   "cell_type": "markdown",
   "id": "basic-types",
   "metadata": {},
   "source": [
    "### Basic Data Types\n",
    "\n",
    "Let's start by exploring different data types in Python using the `type()` function:"
   ]
  },
  {
   "cell_type": "code",
   "execution_count": 1,
   "id": "type-check",
   "metadata": {},
   "outputs": [
    {
     "name": "stdout",
     "output_type": "stream",
     "text": [
      "<class 'int'>\n",
      "<class 'float'>\n",
      "<class 'str'>\n",
      "<class 'list'>\n"
     ]
    }
   ],
   "source": [
    "# Let's check some basic data types\n",
    "print(type(42))        # integer\n",
    "print(type(3.14159))   # float\n",
    "print(type(\"Hello\"))   # string\n",
    "print(type([1,2,3]))   # list"
   ]
  },
  {
   "cell_type": "markdown",
   "id": "arithmetic",
   "metadata": {},
   "source": [
    "### Arithmetic Operations"
   ]
  },
  {
   "cell_type": "code",
   "execution_count": 2,
   "id": "arithmetic-ops",
   "metadata": {},
   "outputs": [
    {
     "name": "stdout",
     "output_type": "stream",
     "text": [
      "40\n",
      "20\n",
      "48\n",
      "20.0\n",
      "2\n",
      "3\n",
      "8\n"
     ]
    }
   ],
   "source": [
    "# Basic arithmetic\n",
    "print(25 + 15)    # Addition: 40\n",
    "print(50 - 30)    # Subtraction: 20\n",
    "print(8 * 6)      # Multiplication: 48\n",
    "print(100 / 5)    # Division: 20.0\n",
    "\n",
    "# Special operations\n",
    "print(17 % 5)     # Modulus (remainder): 2\n",
    "print(17 // 5)    # Floor division: 3\n",
    "print(2 ** 3)     # Exponentiation: 8"
   ]
  },
  {
   "cell_type": "markdown",
   "id": "string-ops",
   "metadata": {},
   "source": [
    "### String Operations"
   ]
  },
  {
   "cell_type": "code",
   "execution_count": 3,
   "id": "string-operations",
   "metadata": {},
   "outputs": [
    {
     "name": "stdout",
     "output_type": "stream",
     "text": [
      "Hello World\n",
      "Python! Python! Python! \n",
      "Error: can only concatenate str (not \"int\") to str\n",
      "Error: unsupported operand type(s) for -: 'str' and 'str'\n"
     ]
    }
   ],
   "source": [
    "# String concatenation\n",
    "print(\"Hello\" + \" \" + \"World\")    # Works!\n",
    "\n",
    "# String multiplication\n",
    "print(\"Python! \" * 3)             # Repeats the string 3 times\n",
    "\n",
    "# These operations will cause errors:\n",
    "try:\n",
    "    print(\"Python\" + 3)           # TypeError\n",
    "except TypeError as e:\n",
    "    print(f\"Error: {e}\")\n",
    "\n",
    "try:\n",
    "    print(\"Python\" - \"hon\")       # TypeError\n",
    "except TypeError as e:\n",
    "    print(f\"Error: {e}\")"
   ]
  },
  {
   "cell_type": "markdown",
   "id": "fstrings",
   "metadata": {},
   "source": [
    "### String Formatting with F-strings"
   ]
  },
  {
   "cell_type": "code",
   "execution_count": 4,
   "id": "fstring-example",
   "metadata": {},
   "outputs": [
    {
     "name": "stdout",
     "output_type": "stream",
     "text": [
      "The distance to Mars is approximately 225.0 million kilometers\n"
     ]
    }
   ],
   "source": [
    "# Using f-strings for dynamic string creation\n",
    "planet = \"Mars\"\n",
    "distance = 225.0\n",
    "message = f\"The distance to {planet} is approximately {distance} million kilometers\"\n",
    "print(message)"
   ]
  },
  {
   "cell_type": "markdown",
   "id": "section2",
   "metadata": {},
   "source": [
    "## Part 2: Variables\n",
    "\n",
    "A variable in Python is a container that holds data. Think of it like a labeled box where you can store different types of information."
   ]
  },
  {
   "cell_type": "code",
   "execution_count": 5,
   "id": "variables-intro",
   "metadata": {},
   "outputs": [
    {
     "name": "stdout",
     "output_type": "stream",
     "text": [
      "Hello, Python!\n",
      "Number: 42\n",
      "Decimal: 3.14\n",
      "Text: Programming is fun\n"
     ]
    }
   ],
   "source": [
    "# Creating our first variable\n",
    "message = \"Hello, Python!\"\n",
    "print(message)\n",
    "\n",
    "# Variables can store different types of data\n",
    "number = 42\n",
    "decimal = 3.14\n",
    "text = \"Programming is fun\"\n",
    "\n",
    "print(f\"Number: {number}\")\n",
    "print(f\"Decimal: {decimal}\")\n",
    "print(f\"Text: {text}\")"
   ]
  },
  {
   "cell_type": "markdown",
   "id": "var-operations",
   "metadata": {},
   "source": [
    "### Working with Variables"
   ]
  },
  {
   "cell_type": "code",
   "execution_count": 6,
   "id": "var-math",
   "metadata": {},
   "outputs": [
    {
     "name": "stdout",
     "output_type": "stream",
     "text": [
      "Sum: 40\n",
      "Difference: 10\n",
      "Product: 375\n"
     ]
    }
   ],
   "source": [
    "# Mathematical operations\n",
    "first_number = 25\n",
    "second_number = 15\n",
    "\n",
    "sum_result = first_number + second_number\n",
    "difference = first_number - second_number\n",
    "product = first_number * second_number\n",
    "\n",
    "print(f\"Sum: {sum_result}\")\n",
    "print(f\"Difference: {difference}\")\n",
    "print(f\"Product: {product}\")"
   ]
  },
  {
   "cell_type": "markdown",
   "id": "var-update",
   "metadata": {},
   "source": [
    "### Updating Variables"
   ]
  },
  {
   "cell_type": "code",
   "execution_count": 7,
   "id": "update-vars",
   "metadata": {},
   "outputs": [
    {
     "name": "stdout",
     "output_type": "stream",
     "text": [
      "Initial value: 1\n",
      "After adding 1: 2\n",
      "After adding 5 more: 7\n"
     ]
    }
   ],
   "source": [
    "# Changing variable values\n",
    "counter = 1\n",
    "print(f\"Initial value: {counter}\")\n",
    "\n",
    "counter = counter + 1\n",
    "print(f\"After adding 1: {counter}\")\n",
    "\n",
    "counter += 5  # Shorthand for counter = counter + 5\n",
    "print(f\"After adding 5 more: {counter}\")"
   ]
  },
  {
   "cell_type": "markdown",
   "id": "section3",
   "metadata": {},
   "source": [
    "## Part 3: Functions\n",
    "\n",
    "Functions are essential building blocks that help us organize code, make it reusable, and break down complex problems into manageable pieces."
   ]
  },
  {
   "cell_type": "markdown",
   "id": "builtin-funcs",
   "metadata": {},
   "source": [
    "### Built-in Functions"
   ]
  },
  {
   "cell_type": "code",
   "execution_count": 8,
   "id": "builtin-examples",
   "metadata": {},
   "outputs": [
    {
     "name": "stdout",
     "output_type": "stream",
     "text": [
      "Length of name: 9\n",
      "Length of number list: 5\n",
      "Pi rounded to 2 decimals: 3.14\n",
      "Pi rounded to whole number: 3\n",
      "Absolute value: 10\n"
     ]
    }
   ],
   "source": [
    "# len() - Calculates the length of sequences\n",
    "name = \"Alexander\"\n",
    "numbers = [1, 2, 3, 4, 5]\n",
    "\n",
    "print(f\"Length of name: {len(name)}\")\n",
    "print(f\"Length of number list: {len(numbers)}\")\n",
    "\n",
    "# round() - Rounds numbers to specified decimals\n",
    "pi = 3.14159\n",
    "print(f\"Pi rounded to 2 decimals: {round(pi, 2)}\")\n",
    "print(f\"Pi rounded to whole number: {round(pi)}\")\n",
    "\n",
    "# abs() - Returns absolute value\n",
    "temperature = -10\n",
    "print(f\"Absolute value: {abs(temperature)}\")"
   ]
  },
  {
   "cell_type": "markdown",
   "id": "custom-funcs",
   "metadata": {},
   "source": [
    "### Creating Our Own Functions"
   ]
  },
  {
   "cell_type": "code",
   "execution_count": 9,
   "id": "def-function",
   "metadata": {},
   "outputs": [
    {
     "name": "stdout",
     "output_type": "stream",
     "text": [
      "Good morning, Alice!\n",
      "Good evening, Bob!\n"
     ]
    }
   ],
   "source": [
    "def greet_user(name, time_of_day):\n",
    "    \"\"\"\n",
    "    Creates a personalized greeting based on time of day\n",
    "    \"\"\"\n",
    "    greeting = f\"Good {time_of_day}, {name}!\"\n",
    "    return greeting\n",
    "\n",
    "# Using our function\n",
    "morning_greeting = greet_user(\"Alice\", \"morning\")\n",
    "evening_greeting = greet_user(\"Bob\", \"evening\")\n",
    "\n",
    "print(morning_greeting)\n",
    "print(evening_greeting)"
   ]
  },
  {
   "cell_type": "markdown",
   "id": "func-multiple",
   "metadata": {},
   "source": [
    "### Functions with Multiple Parameters"
   ]
  },
  {
   "cell_type": "code",
   "execution_count": 10,
   "id": "stats-function",
   "metadata": {},
   "outputs": [
    {
     "name": "stdout",
     "output_type": "stream",
     "text": [
      "Class Statistics:\n",
      "Sum: 433\n",
      "Average: 86.6\n",
      "Max: 92\n",
      "Min: 78\n"
     ]
    }
   ],
   "source": [
    "def calculate_statistics(numbers):\n",
    "    \"\"\"\n",
    "    Calculate basic statistics for a list of numbers\n",
    "    \"\"\"\n",
    "    total = sum(numbers)\n",
    "    average = total / len(numbers)\n",
    "    maximum = max(numbers)\n",
    "    minimum = min(numbers)\n",
    "    \n",
    "    return {\n",
    "        \"sum\": total,\n",
    "        \"average\": average,\n",
    "        \"max\": maximum,\n",
    "        \"min\": minimum\n",
    "    }\n",
    "\n",
    "# Using our statistics function\n",
    "scores = [85, 92, 78, 90, 88]\n",
    "stats = calculate_statistics(scores)\n",
    "\n",
    "print(f\"Class Statistics:\")\n",
    "for key, value in stats.items():\n",
    "    print(f\"{key.capitalize()}: {value}\")"
   ]
  },
  {
   "cell_type": "markdown",
   "id": "section4",
   "metadata": {},
   "source": [
    "## Part 4: Lists and Loops\n",
    "\n",
    "Lists in Python are ordered collections that can store different types of data. For loops help us work with these collections efficiently."
   ]
  },
  {
   "cell_type": "code",
   "execution_count": 11,
   "id": "lists-intro",
   "metadata": {},
   "outputs": [
    {
     "name": "stdout",
     "output_type": "stream",
     "text": [
      "Student grades: [('Emma', 95), ('James', 87), ('Sofia', 92), ('Alex', 88), ('Nina', 90)]\n",
      "First student: Emma\n",
      "Last grade: 90\n"
     ]
    }
   ],
   "source": [
    "# Creating simple lists\n",
    "students = [\"Emma\", \"James\", \"Sofia\", \"Alex\", \"Nina\"]\n",
    "grades = [95, 87, 92, 88, 90]\n",
    "\n",
    "# Combining related lists using zip\n",
    "student_grades = list(zip(students, grades))\n",
    "print(\"Student grades:\", student_grades)\n",
    "\n",
    "# Accessing elements\n",
    "print(f\"First student: {students[0]}\")\n",
    "print(f\"Last grade: {grades[-1]}\")"
   ]
  },
  {
   "cell_type": "markdown",
   "id": "list-operations",
   "metadata": {},
   "source": [
    "### List Operations and Methods"
   ]
  },
  {
   "cell_type": "code",
   "execution_count": 12,
   "id": "list-methods",
   "metadata": {},
   "outputs": [
    {
     "name": "stdout",
     "output_type": "stream",
     "text": [
      "Shopping list: ['milk', 'butter', 'bread', 'eggs', 'cheese', 'apples', 'bananas']\n",
      "Updated list: ['butter', 'bread', 'eggs', 'cheese', 'apples']\n"
     ]
    }
   ],
   "source": [
    "# Creating a shopping list\n",
    "shopping = [\"milk\", \"bread\", \"eggs\"]\n",
    "\n",
    "# Adding items\n",
    "shopping.append(\"cheese\")               # Add single item\n",
    "shopping.extend([\"apples\", \"bananas\"])  # Add multiple items\n",
    "shopping.insert(1, \"butter\")            # Add at specific position\n",
    "\n",
    "print(\"Shopping list:\", shopping)\n",
    "\n",
    "# Removing items\n",
    "removed_item = shopping.pop()           # Remove and return last item\n",
    "shopping.remove(\"milk\")                 # Remove specific item\n",
    "print(\"Updated list:\", shopping)"
   ]
  },
  {
   "cell_type": "markdown",
   "id": "for-loops",
   "metadata": {},
   "source": [
    "### For Loops"
   ]
  },
  {
   "cell_type": "code",
   "execution_count": 13,
   "id": "for-loop-example",
   "metadata": {},
   "outputs": [
    {
     "name": "stdout",
     "output_type": "stream",
     "text": [
      "Task Tracker:\n",
      "1. [ ] Review Python basics\n",
      "2. [ ] Complete coding exercises\n",
      "3. [ ] Write documentation\n",
      "4. [ ] Debug application\n",
      "5. [ ] Submit project\n"
     ]
    }
   ],
   "source": [
    "# Basic for loop with a task list\n",
    "tasks = [\n",
    "    \"Review Python basics\",\n",
    "    \"Complete coding exercises\",\n",
    "    \"Write documentation\",\n",
    "    \"Debug application\",\n",
    "    \"Submit project\"\n",
    "]\n",
    "\n",
    "print(\"Task Tracker:\")\n",
    "for index, task in enumerate(tasks, 1):\n",
    "    print(f\"{index}. [ ] {task}\")"
   ]
  },
  {
   "cell_type": "markdown",
   "id": "section5",
   "metadata": {},
   "source": [
    "## Part 5: Dictionaries\n",
    "\n",
    "Dictionaries are a powerful data structure for storing and managing key-value pairs."
   ]
  },
  {
   "cell_type": "code",
   "execution_count": 14,
   "id": "dict-intro",
   "metadata": {},
   "outputs": [
    {
     "name": "stdout",
     "output_type": "stream",
     "text": [
      "Alice's number: 555-0101\n",
      "Bob's number: 555-0202\n",
      "Eve's number: Not found\n"
     ]
    }
   ],
   "source": [
    "# Creating a simple contact dictionary\n",
    "contacts = {\n",
    "    \"Alice\": \"555-0101\",\n",
    "    \"Bob\": \"555-0202\",\n",
    "    \"Charlie\": \"555-0303\",\n",
    "    \"Diana\": \"555-0404\"\n",
    "}\n",
    "\n",
    "# Accessing values\n",
    "print(f\"Alice's number: {contacts['Alice']}\")\n",
    "print(f\"Bob's number: {contacts.get('Bob')}\")\n",
    "# Using get() with default value for safety\n",
    "print(f\"Eve's number: {contacts.get('Eve', 'Not found')}\")"
   ]
  },
  {
   "cell_type": "markdown",
   "id": "dict-methods",
   "metadata": {},
   "source": [
    "### Essential Dictionary Methods"
   ]
  },
  {
   "cell_type": "code",
   "execution_count": 15,
   "id": "dict-demo",
   "metadata": {},
   "outputs": [
    {
     "name": "stdout",
     "output_type": "stream",
     "text": [
      "Available fruits: ['apples', 'bananas', 'oranges']\n",
      "Quantities: [50, 30, 25]\n",
      "\n",
      "Current inventory:\n",
      "apples: 50\n",
      "bananas: 30\n",
      "oranges: 25\n",
      "\n",
      "Removed 30 bananas\n",
      "\n",
      "Final inventory: {'apples': 45, 'oranges': 25, 'grapes': 40}\n"
     ]
    }
   ],
   "source": [
    "def demonstrate_dictionary_methods():\n",
    "    inventory = {\n",
    "        \"apples\": 50,\n",
    "        \"bananas\": 30,\n",
    "        \"oranges\": 25\n",
    "    }\n",
    "    \n",
    "    # Getting all keys\n",
    "    print(\"Available fruits:\", list(inventory.keys()))\n",
    "    \n",
    "    # Getting all values\n",
    "    print(\"Quantities:\", list(inventory.values()))\n",
    "    \n",
    "    # Getting key-value pairs\n",
    "    print(\"\\nCurrent inventory:\")\n",
    "    for fruit, quantity in inventory.items():\n",
    "        print(f\"{fruit}: {quantity}\")\n",
    "    \n",
    "    # Adding/updating items\n",
    "    inventory.update({\n",
    "        \"apples\": 45,  # Update existing\n",
    "        \"grapes\": 40   # Add new\n",
    "    })\n",
    "    \n",
    "    # Removing items\n",
    "    removed_quantity = inventory.pop(\"bananas\")\n",
    "    print(f\"\\nRemoved {removed_quantity} bananas\")\n",
    "    \n",
    "    return inventory\n",
    "\n",
    "updated_inventory = demonstrate_dictionary_methods()\n",
    "print(\"\\nFinal inventory:\", updated_inventory)"
   ]
  },
  {
   "cell_type": "markdown",
   "id": "nested-dict",
   "metadata": {},
   "source": [
    "### Nested Dictionaries"
   ]
  },
  {
   "cell_type": "code",
   "execution_count": 16,
   "id": "nested-example",
   "metadata": {},
   "outputs": [
    {
     "name": "stdout",
     "output_type": "stream",
     "text": [
      "User Profile Summary:\n",
      "Name: Sarah Wilson\n",
      "Title: Software Engineer\n",
      "Skills: Python, JavaScript, Docker\n",
      "Settings: {'theme': 'dark', 'notifications': True, 'language': 'English'}\n"
     ]
    }
   ],
   "source": [
    "# Creating a nested user profile\n",
    "user_profile = {\n",
    "    \"personal_info\": {\n",
    "        \"name\": \"Sarah Wilson\",\n",
    "        \"age\": 28,\n",
    "        \"location\": \"Seattle\"\n",
    "    },\n",
    "    \"professional_info\": {\n",
    "        \"title\": \"Software Engineer\",\n",
    "        \"skills\": [\"Python\", \"JavaScript\", \"Docker\"],\n",
    "        \"experience_years\": 5\n",
    "    },\n",
    "    \"preferences\": {\n",
    "        \"theme\": \"dark\",\n",
    "        \"notifications\": True,\n",
    "        \"language\": \"English\"\n",
    "    }\n",
    "}\n",
    "\n",
    "def display_profile(profile):\n",
    "    print(\"User Profile Summary:\")\n",
    "    print(f\"Name: {profile['personal_info']['name']}\")\n",
    "    print(f\"Title: {profile['professional_info']['title']}\")\n",
    "    print(f\"Skills: {', '.join(profile['professional_info']['skills'])}\")\n",
    "    print(f\"Settings: {profile['preferences']}\")\n",
    "\n",
    "display_profile(user_profile)"
   ]
  },
  {
   "cell_type": "markdown",
   "id": "section6",
   "metadata": {},
   "source": [
    "## Part 6: Comparisons and Logic\n",
    "\n",
    "In this section, we'll explore how Python handles logical operations and comparisons."
   ]
  },
  {
   "cell_type": "markdown",
   "id": "booleans",
   "metadata": {},
   "source": [
    "### Boolean Values"
   ]
  },
  {
   "cell_type": "code",
   "execution_count": 17,
   "id": "bool-intro",
   "metadata": {},
   "outputs": [
    {
     "name": "stdout",
     "output_type": "stream",
     "text": [
      "Type of boolean: <class 'bool'>\n",
      "Is Python fun? True\n",
      "Is coding hard? False\n"
     ]
    }
   ],
   "source": [
    "# Booleans are Python's way of representing True and False\n",
    "is_python_fun = True\n",
    "is_coding_hard = False\n",
    "\n",
    "print(f\"Type of boolean: {type(is_python_fun)}\")\n",
    "print(f\"Is Python fun? {is_python_fun}\")\n",
    "print(f\"Is coding hard? {is_coding_hard}\")"
   ]
  },
  {
   "cell_type": "markdown",
   "id": "comparison-ops",
   "metadata": {},
   "source": [
    "### Comparison Operators"
   ]
  },
  {
   "cell_type": "code",
   "execution_count": 18,
   "id": "comparisons",
   "metadata": {},
   "outputs": [
    {
     "name": "stdout",
     "output_type": "stream",
     "text": [
      "Did I pass? True\n",
      "Did I get perfect? False\n",
      "Did I just barely pass? False\n",
      "Did I do better than passing? True\n"
     ]
    }
   ],
   "source": [
    "# Let's look at various comparisons\n",
    "score = 85\n",
    "passing_grade = 70\n",
    "perfect_score = 100\n",
    "\n",
    "# Greater than and less than\n",
    "is_passing = score > passing_grade\n",
    "is_perfect = score >= perfect_score\n",
    "\n",
    "# Equality comparisons\n",
    "is_exactly_passing = score == passing_grade  # Equality check\n",
    "has_improved = score != passing_grade        # Inequality check\n",
    "\n",
    "print(f\"Did I pass? {is_passing}\")\n",
    "print(f\"Did I get perfect? {is_perfect}\")\n",
    "print(f\"Did I just barely pass? {is_exactly_passing}\")\n",
    "print(f\"Did I do better than passing? {has_improved}\")"
   ]
  },
  {
   "cell_type": "markdown",
   "id": "complex-conditions",
   "metadata": {},
   "source": [
    "### Creating Complex Conditions"
   ]
  },
  {
   "cell_type": "code",
   "execution_count": 19,
   "id": "logic-ops",
   "metadata": {},
   "outputs": [
    {
     "name": "stdout",
     "output_type": "stream",
     "text": [
      "Study Session Analysis:\n",
      "should_study: True\n",
      "time_is_good: True\n",
      "energy_is_good: True\n"
     ]
    }
   ],
   "source": [
    "def check_study_conditions(time_of_day, energy_level, is_weekend):\n",
    "    \"\"\"\n",
    "    Determine if it's a good time to study based on multiple factors\n",
    "    \"\"\"\n",
    "    # Check if it's an optimal time (between 9 AM and 8 PM)\n",
    "    good_time = time_of_day >= 9 and time_of_day <= 20\n",
    "    \n",
    "    # Check if energy levels are sufficient (scale of 1-10)\n",
    "    good_energy = energy_level >= 6\n",
    "    \n",
    "    # Determine if we should study\n",
    "    should_study = (good_time and good_energy) or is_weekend\n",
    "    \n",
    "    return {\n",
    "        \"should_study\": should_study,\n",
    "        \"time_is_good\": good_time,\n",
    "        \"energy_is_good\": good_energy\n",
    "    }\n",
    "\n",
    "# Test the function\n",
    "result = check_study_conditions(time_of_day=14, energy_level=8, is_weekend=False)\n",
    "print(\"Study Session Analysis:\")\n",
    "for condition, value in result.items():\n",
    "    print(f\"{condition}: {value}\")"
   ]
  },
  {
   "cell_type": "markdown",
   "id": "section7",
   "metadata": {},
   "source": [
    "## Part 7: Conditionals and Decision Making\n",
    "\n",
    "In programming, we often need to make decisions based on certain conditions. Python provides `if`, `elif`, and `else` statements for this purpose."
   ]
  },
  {
   "cell_type": "markdown",
   "id": "if-statements",
   "metadata": {},
   "source": [
    "### Basic If Statements"
   ]
  },
  {
   "cell_type": "code",
   "execution_count": 20,
   "id": "if-basic",
   "metadata": {},
   "outputs": [
    {
     "name": "stdout",
     "output_type": "stream",
     "text": [
      "Good morning!\n"
     ]
    }
   ],
   "source": [
    "time_of_day = 10  # 24-hour format\n",
    "\n",
    "if time_of_day < 12:\n",
    "    print(\"Good morning!\")\n",
    "    \n",
    "if time_of_day > 10:\n",
    "    print(\"Time for work!\")"
   ]
  },
  {
   "cell_type": "markdown",
   "id": "if-else",
   "metadata": {},
   "source": [
    "### If-Else Statements"
   ]
  },
  {
   "cell_type": "code",
   "execution_count": 21,
   "id": "if-else-example",
   "metadata": {},
   "outputs": [
    {
     "name": "stdout",
     "output_type": "stream",
     "text": [
      "Warning: Battery low!\n",
      "Please connect charger\n"
     ]
    }
   ],
   "source": [
    "battery_percentage = 15\n",
    "\n",
    "if battery_percentage < 20:\n",
    "    print(\"Warning: Battery low!\")\n",
    "    print(\"Please connect charger\")\n",
    "else:\n",
    "    print(\"Battery level okay\")"
   ]
  },
  {
   "cell_type": "markdown",
   "id": "if-elif-else",
   "metadata": {},
   "source": [
    "### If-Elif-Else Chains"
   ]
  },
  {
   "cell_type": "code",
   "execution_count": 22,
   "id": "elif-example",
   "metadata": {},
   "outputs": [
    {
     "name": "stdout",
     "output_type": "stream",
     "text": [
      "Warning: File is very small\n",
      "Warning: File is very large\n"
     ]
    }
   ],
   "source": [
    "def check_file_status(file_size_mb):\n",
    "    if file_size_mb == 0:\n",
    "        print(\"Error: File is empty\")\n",
    "    elif file_size_mb < 1:\n",
    "        print(\"Warning: File is very small\")\n",
    "    elif file_size_mb > 1000:\n",
    "        print(\"Warning: File is very large\")\n",
    "    else:\n",
    "        print(\"File size is acceptable\")\n",
    "\n",
    "check_file_status(0.5)\n",
    "check_file_status(1500)"
   ]
  },
  {
   "cell_type": "markdown",
   "id": "nested-conditionals",
   "metadata": {},
   "source": [
    "### Nested Conditionals"
   ]
  },
  {
   "cell_type": "code",
   "execution_count": 23,
   "id": "nested-if",
   "metadata": {},
   "outputs": [
    {
     "name": "stdout",
     "output_type": "stream",
     "text": [
      "Processing small text file: report.txt\n",
      "Unsupported file type: data.csv\n",
      "Text file too large: video.txt\n"
     ]
    },
    {
     "data": {
      "text/plain": [
       "False"
      ]
     },
     "execution_count": 23,
     "metadata": {},
     "output_type": "execute_result"
    }
   ],
   "source": [
    "def process_file(filename, size_mb):\n",
    "    if filename.endswith('.txt'):\n",
    "        if size_mb < 1:\n",
    "            print(f\"Processing small text file: {filename}\")\n",
    "            return True\n",
    "        else:\n",
    "            print(f\"Text file too large: {filename}\")\n",
    "            return False\n",
    "    else:\n",
    "        print(f\"Unsupported file type: {filename}\")\n",
    "        return False\n",
    "\n",
    "process_file(\"report.txt\", 0.5)\n",
    "process_file(\"data.csv\", 0.3)\n",
    "process_file(\"video.txt\", 10)"
   ]
  },
  {
   "cell_type": "markdown",
   "id": "practical-example",
   "metadata": {},
   "source": [
    "### Practical Example: Task Priority System"
   ]
  },
  {
   "cell_type": "code",
   "execution_count": null,
   "id": "priority-system",
   "metadata": {},
   "outputs": [],
   "source": [
    "def analyze_task(task_name, deadline_days, estimated_hours, importance):\n",
    "    \"\"\"\n",
    "    Analyze a task and determine its priority level and handling strategy\n",
    "    \"\"\"\n",
    "    is_urgent = deadline_days <= 3\n",
    "    is_big_task = estimated_hours > 4\n",
    "    is_important = importance >= 8  # Scale of 1-10\n",
    "    \n",
    "    # Determine priority level\n",
    "    if is_urgent and is_important:\n",
    "        priority = \"Critical\"\n",
    "    elif is_urgent or (is_important and is_big_task):\n",
    "        priority = \"High\"\n",
    "    elif is_important:\n",
    "        priority = \"Medium\"\n",
    "    else:\n",
    "        priority = \"Low\"\n",
    "    \n",
    "    # Determine handling strategy\n",
    "    needs_immediate_action = is_urgent and (is_important or is_big_task)\n",
    "    can_delegate = not is_important and is_big_task\n",
    "    \n",
    "    return {\n",
    "        \"task\": task_name,\n",
    "        \"priority\": priority,\n",
    "        \"needs_immediate_action\": needs_immediate_action,\n",
    "        \"can_delegate\": can_delegate\n",
    "    }\n",
    "\n",
    "# Test the system with different tasks\n",
    "tasks = [\n",
    "    {\"name\": \"Client Presentation\", \"deadline\": 2, \"hours\": 6, \"importance\": 9},\n",
    "    {\"name\": \"Email Responses\", \"deadline\": 1, \"hours\": 2, \"importance\": 5},\n",
    "    {\"name\": \"Code Review\", \"deadline\": 5, \"hours\": 3, \"importance\": 8}\n",
    "]\n",
    "\n",
    "print(\"Task Analysis:\")\n",
    "for task in tasks:\n",
    "    result = analyze_task(task[\"name\"], task[\"deadline\"], \n",
    "                         task[\"hours\"], task[\"importance\"])\n",
    "    print(f\"\\nTask: {result['task']}\")\n",
    "    print(f\"Priority: {result['priority']}\")\n",
    "    print(f\"Immediate Action: {result['needs_immediate_action']}\")\n",
    "    print(f\"Can Delegate: {result['can_delegate']}\")"
   ]
  },
  {
   "cell_type": "markdown",
   "id": "summary",
   "metadata": {},
   "source": [
    "## Summary and Key Takeaways\n",
    "\n",
    "We've covered the fundamental building blocks of Python programming:\n",
    "\n",
    "### Data Types and Operations\n",
    "- Python has several basic data types: integers (`int`), floating-point numbers (`float`), strings (`str`), and more\n",
    "- Different data types support different operations\n",
    "- F-strings provide an easy way to create formatted strings\n",
    "\n",
    "### Variables\n",
    "- Variables are containers for storing data\n",
    "- They can be updated or changed at any time\n",
    "- Meaningful variable names make code easier to understand\n",
    "\n",
    "### Functions\n",
    "- Functions help organize code and make it reusable\n",
    "- Python has many useful built-in functions\n",
    "- We can create custom functions using the `def` keyword\n",
    "- Functions can take parameters and return values\n",
    "\n",
    "### Lists and Loops\n",
    "- Lists are versatile data structures that can store any type of data\n",
    "- List methods like append(), extend(), remove() help manage list contents\n",
    "- For loops provide a way to iterate through lists\n",
    "- List comprehensions offer a concise way to create and transform lists\n",
    "\n",
    "### Dictionaries\n",
    "- Dictionaries store key-value pairs for efficient data organization\n",
    "- Keys must be immutable (strings, numbers, tuples)\n",
    "- Common methods include keys(), values(), items(), get(), update(), pop()\n",
    "- Nested dictionaries can store complex data structures\n",
    "\n",
    "### Comparisons and Logic\n",
    "- Boolean values (`True` and `False`) are fundamental for logical operations\n",
    "- Comparison operators (`>`, `<`, `>=`, `<=`, `==`, `!=`) return boolean values\n",
    "- `and` requires both conditions to be `True`\n",
    "- `or` requires at least one condition to be `True`\n",
    "\n",
    "### Conditionals\n",
    "- Conditionals allow programs to make decisions based on conditions\n",
    "- Basic syntax includes `if`, `elif`, and `else`\n",
    "- Nested conditionals enable complex decision making\n",
    "- Ternary operator provides simple conditional expressions\n",
    "\n",
    "These concepts form the foundation for all Python programming. Master these, and you'll be ready to tackle more advanced topics!"
   ]
  }
 ],
 "metadata": {
  "kernelspec": {
   "display_name": "Python 3",
   "language": "python",
   "name": "python3"
  },
  "language_info": {
   "codemirror_mode": {
    "name": "ipython",
    "version": 3
   },
   "file_extension": ".py",
   "mimetype": "text/x-python",
   "name": "python",
   "nbconvert_exporter": "python",
   "pygments_lexer": "ipython3",
   "version": "3.9.0"
  }
 },
 "nbformat": 4,
 "nbformat_minor": 5
}
