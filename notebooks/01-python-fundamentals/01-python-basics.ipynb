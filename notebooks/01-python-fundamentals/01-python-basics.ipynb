{
 "cells": [
  {
   "cell_type": "markdown",
   "id": "intro",
   "metadata": {},
   "source": [
    "# Python Basics: Complete Foundation\n",
    "\n",
    "This comprehensive notebook covers all the fundamental concepts of Python programming, including data types, variables, functions, lists, dictionaries, comparisons, and conditionals."
   ]
  },
  {
   "cell_type": "markdown",
   "id": "section1",
   "metadata": {},
   "source": [
    "## Part 1: Data Types and Operations\n",
    "\n",
    "In this section, we'll explore Python's fundamental data types and the operations we can perform with them."
   ]
  },
  {
   "cell_type": "markdown",
   "id": "basic-types",
   "metadata": {},
   "source": [
    "### Basic Data Types\n",
    "\n",
    "Let's start by exploring different data types in Python using the `type()` function:"
   ]
  },
  {
   "cell_type": "code",
   "execution_count": 1,
   "id": "bcd78fed-00e5-49e7-abcc-77836b63d219",
   "metadata": {},
   "outputs": [
    {
     "data": {
      "text/plain": [
       "'str'"
      ]
     },
     "execution_count": 1,
     "metadata": {},
     "output_type": "execute_result"
    }
   ],
   "source": [
    "\"str\""
   ]
  },
  {
   "cell_type": "code",
   "execution_count": 2,
   "id": "ab311a47-6089-4def-abe8-b66b1a0e8058",
   "metadata": {},
   "outputs": [
    {
     "data": {
      "text/plain": [
       "10"
      ]
     },
     "execution_count": 2,
     "metadata": {},
     "output_type": "execute_result"
    }
   ],
   "source": [
    "10"
   ]
  },
  {
   "cell_type": "code",
   "execution_count": 3,
   "id": "9ba9c1d0-50cd-4b77-9507-fcf56b403d21",
   "metadata": {},
   "outputs": [
    {
     "data": {
      "text/plain": [
       "1.5"
      ]
     },
     "execution_count": 3,
     "metadata": {},
     "output_type": "execute_result"
    }
   ],
   "source": [
    "1.5"
   ]
  },
  {
   "cell_type": "code",
   "execution_count": 4,
   "id": "7966632d-b4e8-4205-ac3c-96bcb13bb21a",
   "metadata": {},
   "outputs": [
    {
     "data": {
      "text/plain": [
       "[1, 2, 3]"
      ]
     },
     "execution_count": 4,
     "metadata": {},
     "output_type": "execute_result"
    }
   ],
   "source": [
    "[1,2,3]"
   ]
  },
  {
   "cell_type": "code",
   "execution_count": null,
   "id": "cc200344-c264-4687-a5e3-f1cb7e45aef5",
   "metadata": {},
   "outputs": [],
   "source": []
  },
  {
   "cell_type": "code",
   "execution_count": 5,
   "id": "type-check",
   "metadata": {},
   "outputs": [
    {
     "name": "stdout",
     "output_type": "stream",
     "text": [
      "<class 'int'>\n"
     ]
    }
   ],
   "source": [
    "# Let's check some basic data types\n",
    "print(type(42))        # integer"
   ]
  },
  {
   "cell_type": "code",
   "execution_count": 6,
   "id": "aca9ebf3-5a2e-423a-b10a-e1e96c91ef00",
   "metadata": {},
   "outputs": [
    {
     "name": "stdout",
     "output_type": "stream",
     "text": [
      "<class 'float'>\n"
     ]
    }
   ],
   "source": [
    "print(type(3.14159))   # float"
   ]
  },
  {
   "cell_type": "code",
   "execution_count": 8,
   "id": "95301c0e-a16e-4ee1-97c8-94dedcfbe5fa",
   "metadata": {},
   "outputs": [
    {
     "name": "stdout",
     "output_type": "stream",
     "text": [
      "<class 'str'>\n"
     ]
    }
   ],
   "source": [
    "print(type(\"Hello\"))   # string"
   ]
  },
  {
   "cell_type": "code",
   "execution_count": 9,
   "id": "c30bc42b-3737-46c3-b6ef-f33ce961a789",
   "metadata": {},
   "outputs": [
    {
     "name": "stdout",
     "output_type": "stream",
     "text": [
      "<class 'list'>\n"
     ]
    }
   ],
   "source": [
    "print(type([1,2,3]))   # list"
   ]
  },
  {
   "cell_type": "code",
   "execution_count": null,
   "id": "6631bf6b-1ed3-4ac8-8026-07be029b0b46",
   "metadata": {},
   "outputs": [],
   "source": []
  },
  {
   "cell_type": "code",
   "execution_count": null,
   "id": "45a44505-a6ff-4a64-a086-af938136f7cc",
   "metadata": {},
   "outputs": [],
   "source": []
  },
  {
   "cell_type": "markdown",
   "id": "arithmetic",
   "metadata": {},
   "source": [
    "### Arithmetic Operations"
   ]
  },
  {
   "cell_type": "code",
   "execution_count": 10,
   "id": "arithmetic-ops",
   "metadata": {},
   "outputs": [
    {
     "name": "stdout",
     "output_type": "stream",
     "text": [
      "40\n",
      "20\n",
      "48\n",
      "20.0\n"
     ]
    }
   ],
   "source": [
    "# Basic arithmetic\n",
    "print(25 + 15)    # Addition: 40\n",
    "print(50 - 30)    # Subtraction: 20\n",
    "print(8 * 6)      # Multiplication: 48\n",
    "print(100 / 5)    # Division: 20.0"
   ]
  },
  {
   "cell_type": "code",
   "execution_count": 11,
   "id": "73b02c06-b12a-488c-8ff1-32232f716b20",
   "metadata": {},
   "outputs": [
    {
     "data": {
      "text/plain": [
       "-177"
      ]
     },
     "execution_count": 11,
     "metadata": {},
     "output_type": "execute_result"
    }
   ],
   "source": [
    "20*2 + (10+3) - 230"
   ]
  },
  {
   "cell_type": "code",
   "execution_count": 16,
   "id": "33312713-12ac-4f70-9aad-eabaf2fc1296",
   "metadata": {},
   "outputs": [
    {
     "name": "stdout",
     "output_type": "stream",
     "text": [
      "2\n",
      "3\n",
      "8\n"
     ]
    }
   ],
   "source": [
    "# Special operations\n",
    "print(17 % 5)     # Modulus (remainder): 2\n",
    "print(17 // 5)    # Floor division: 3\n",
    "print(2 ** 3)     # Exponentiation: 8"
   ]
  },
  {
   "cell_type": "markdown",
   "id": "string-ops",
   "metadata": {},
   "source": [
    "### String Operations"
   ]
  },
  {
   "cell_type": "code",
   "execution_count": 13,
   "id": "string-operations",
   "metadata": {},
   "outputs": [
    {
     "name": "stdout",
     "output_type": "stream",
     "text": [
      "Hello World\n",
      "Python! Python! Python! \n"
     ]
    }
   ],
   "source": [
    "# String concatenation\n",
    "print(\"Hello\" + \" \" + \"World\")    # Works!\n",
    "\n",
    "# String multiplication\n",
    "print(\"Python! \" * 3)             # Repeats the string 3 times"
   ]
  },
  {
   "cell_type": "code",
   "execution_count": 14,
   "id": "2c39ec34-007b-445b-b22c-81f828d171cc",
   "metadata": {},
   "outputs": [
    {
     "ename": "TypeError",
     "evalue": "can only concatenate str (not \"int\") to str",
     "output_type": "error",
     "traceback": [
      "\u001b[0;31m---------------------------------------------------------------------------\u001b[0m",
      "\u001b[0;31mTypeError\u001b[0m                                 Traceback (most recent call last)",
      "Cell \u001b[0;32mIn[14], line 3\u001b[0m\n\u001b[1;32m      1\u001b[0m \u001b[38;5;66;03m# Could we add a string to a number?\u001b[39;00m\n\u001b[0;32m----> 3\u001b[0m \u001b[38;5;124;43m\"\u001b[39;49m\u001b[38;5;124;43mlucas is a bald gorgeous man\u001b[39;49m\u001b[38;5;124;43m\"\u001b[39;49m\u001b[43m \u001b[49m\u001b[38;5;241;43m+\u001b[39;49m\u001b[43m \u001b[49m\u001b[38;5;241;43m100\u001b[39;49m\n",
      "\u001b[0;31mTypeError\u001b[0m: can only concatenate str (not \"int\") to str"
     ]
    }
   ],
   "source": [
    "# Could we add a string to a number?\n",
    "\n",
    "\"lucas is a bald gorgeous man\" + 100"
   ]
  },
  {
   "cell_type": "code",
   "execution_count": null,
   "id": "596bb554-05d8-4533-82b4-aa1ae3e6670e",
   "metadata": {},
   "outputs": [],
   "source": []
  },
  {
   "cell_type": "code",
   "execution_count": null,
   "id": "5a9d41a8-0f3b-474b-86b0-82c25766b7a8",
   "metadata": {},
   "outputs": [],
   "source": []
  },
  {
   "cell_type": "markdown",
   "id": "fstrings",
   "metadata": {},
   "source": [
    "### String Formatting with F-strings"
   ]
  },
  {
   "cell_type": "code",
   "execution_count": 17,
   "id": "fstring-example",
   "metadata": {},
   "outputs": [],
   "source": [
    "# Using f-strings for dynamic string creation\n",
    "planet = \"Mars\""
   ]
  },
  {
   "cell_type": "code",
   "execution_count": 18,
   "id": "3918aa12-6c11-4451-ae9f-10291fe52ad8",
   "metadata": {},
   "outputs": [
    {
     "data": {
      "text/plain": [
       "'Mars'"
      ]
     },
     "execution_count": 18,
     "metadata": {},
     "output_type": "execute_result"
    }
   ],
   "source": [
    "planet"
   ]
  },
  {
   "cell_type": "code",
   "execution_count": 19,
   "id": "8ce016b3-56b4-4a8b-8afc-3d4e086fb2d8",
   "metadata": {},
   "outputs": [
    {
     "data": {
      "text/plain": [
       "225.0"
      ]
     },
     "execution_count": 19,
     "metadata": {},
     "output_type": "execute_result"
    }
   ],
   "source": [
    "distance = 225.0\n",
    "distance"
   ]
  },
  {
   "cell_type": "code",
   "execution_count": 20,
   "id": "7076e9f8-afa8-451a-b1ca-ab4b0d0f381f",
   "metadata": {},
   "outputs": [
    {
     "name": "stdout",
     "output_type": "stream",
     "text": [
      "The distance to Mars is approximately 225.0 million kilometers\n"
     ]
    }
   ],
   "source": [
    "message = f\"The distance to {planet} is approximately {distance} million kilometers\"\n",
    "print(message)"
   ]
  },
  {
   "cell_type": "code",
   "execution_count": 22,
   "id": "cbb270b1-607a-4a4f-8a1e-1ee7d92c6698",
   "metadata": {},
   "outputs": [
    {
     "data": {
      "text/plain": [
       "'The distance to Venus is approximately 170.0 million kilometers'"
      ]
     },
     "execution_count": 22,
     "metadata": {},
     "output_type": "execute_result"
    }
   ],
   "source": [
    "planet = 'Venus'\n",
    "distance = 170.0\n",
    "message = f\"The distance to {planet} is approximately {distance} million kilometers\"\n",
    "message"
   ]
  },
  {
   "cell_type": "markdown",
   "id": "section2",
   "metadata": {},
   "source": [
    "## Part 2: Variables\n",
    "\n",
    "A variable in Python is a container that holds data. Think of it like a labeled box where you can store different types of information."
   ]
  },
  {
   "cell_type": "code",
   "execution_count": 23,
   "id": "variables-intro",
   "metadata": {},
   "outputs": [
    {
     "name": "stdout",
     "output_type": "stream",
     "text": [
      "Hello, Python!\n",
      "Number: 42\n",
      "Decimal: 3.14\n",
      "Text: Programming is fun\n"
     ]
    }
   ],
   "source": [
    "# Creating our first variable\n",
    "message = \"Hello, Python!\"\n",
    "print(message)\n",
    "\n",
    "# Variables can store different types of data\n",
    "number = 42\n",
    "decimal = 3.14\n",
    "text = \"Programming is fun\"\n",
    "\n",
    "print(f\"Number: {number}\")\n",
    "print(f\"Decimal: {decimal}\")\n",
    "print(f\"Text: {text}\")"
   ]
  },
  {
   "cell_type": "markdown",
   "id": "var-operations",
   "metadata": {},
   "source": [
    "### Working with Variables"
   ]
  },
  {
   "cell_type": "code",
   "execution_count": 24,
   "id": "var-math",
   "metadata": {},
   "outputs": [
    {
     "data": {
      "text/plain": [
       "40"
      ]
     },
     "execution_count": 24,
     "metadata": {},
     "output_type": "execute_result"
    }
   ],
   "source": [
    "# Mathematical operations\n",
    "first_number = 25\n",
    "second_number = 15\n",
    "\n",
    "sum_result = first_number + second_number\n",
    "sum_result"
   ]
  },
  {
   "cell_type": "code",
   "execution_count": 26,
   "id": "94a526b3-4d84-4c25-95d2-a26faee866af",
   "metadata": {},
   "outputs": [
    {
     "data": {
      "text/plain": [
       "10"
      ]
     },
     "execution_count": 26,
     "metadata": {},
     "output_type": "execute_result"
    }
   ],
   "source": [
    "difference = first_number - second_number\n",
    "difference"
   ]
  },
  {
   "cell_type": "code",
   "execution_count": 27,
   "id": "b32b1cab-0729-4049-b5bc-bcae833bfe5f",
   "metadata": {},
   "outputs": [
    {
     "data": {
      "text/plain": [
       "375"
      ]
     },
     "execution_count": 27,
     "metadata": {},
     "output_type": "execute_result"
    }
   ],
   "source": [
    "product = first_number * second_number\n",
    "product"
   ]
  },
  {
   "cell_type": "code",
   "execution_count": 28,
   "id": "ed5711d1-c535-42cf-9325-ff7eb6029154",
   "metadata": {},
   "outputs": [
    {
     "name": "stdout",
     "output_type": "stream",
     "text": [
      "Sum: 40\n",
      "Difference: 10\n",
      "Product: 375\n"
     ]
    }
   ],
   "source": [
    "print(f\"Sum: {sum_result}\")\n",
    "print(f\"Difference: {difference}\")\n",
    "print(f\"Product: {product}\")"
   ]
  },
  {
   "cell_type": "code",
   "execution_count": 31,
   "id": "3c2b0a2c-8597-4c73-a9e8-16353946cc45",
   "metadata": {},
   "outputs": [
    {
     "name": "stdout",
     "output_type": "stream",
     "text": [
      "\n",
      "The sum, difference and product of 25 and 15 are:\n",
      "- Sum: 40\n",
      "- Difference: 10\n",
      "- Product: 375\n",
      "\n"
     ]
    }
   ],
   "source": [
    "printed_results = f\"\"\"\n",
    "The sum, difference and product of {first_number} and {second_number} are:\n",
    "- Sum: {sum_result}\n",
    "- Difference: {difference}\n",
    "- Product: {product}\n",
    "\"\"\"\n",
    "print(printed_results)"
   ]
  },
  {
   "cell_type": "markdown",
   "id": "var-update",
   "metadata": {},
   "source": [
    "### Updating Variables"
   ]
  },
  {
   "cell_type": "code",
   "execution_count": 32,
   "id": "update-vars",
   "metadata": {},
   "outputs": [
    {
     "name": "stdout",
     "output_type": "stream",
     "text": [
      "Initial value: 1\n",
      "After adding 1: 2\n",
      "After adding 5 more: 7\n"
     ]
    }
   ],
   "source": [
    "# Changing variable values\n",
    "counter = 1\n",
    "print(f\"Initial value: {counter}\")\n",
    "\n",
    "counter = counter + 1\n",
    "print(f\"After adding 1: {counter}\")\n",
    "\n",
    "counter += 5  # Shorthand for counter = counter + 5\n",
    "print(f\"After adding 5 more: {counter}\")"
   ]
  },
  {
   "cell_type": "markdown",
   "id": "0958ffba-42ae-4281-b930-d704c1b293b4",
   "metadata": {},
   "source": [
    "# 1. Time Travel Calculator\n",
    "\n",
    "- Ask the user for their current age (integer).\n",
    "\n",
    "- Ask how many years into the future they want to travel (integer).\n",
    "\n",
    "- Calculate and print their future age using f-strings.\n",
    "\n",
    "📝 Example output:\n",
    "\n",
    "You are 33 years old now.\n",
    "In 20 years, you will be 53 years old!"
   ]
  },
  {
   "cell_type": "code",
   "execution_count": 37,
   "id": "c4bb2c4a-147b-43e2-bfcb-506584e6280f",
   "metadata": {},
   "outputs": [
    {
     "name": "stdout",
     "output_type": "stream",
     "text": [
      "What is your age son? 21\n",
      "How many years into the future you would like to travel? (output an integer: e.g 10) 13\n"
     ]
    },
    {
     "name": "stdout",
     "output_type": "stream",
     "text": [
      "Your future age will be: 34\n"
     ]
    }
   ],
   "source": [
    "user_age = input(\"What is your age son?\")\n",
    "\n",
    "future_years = input(\"How many years into the future you would like to travel? (output an integer: e.g 10)\")\n",
    "\n",
    "user_age_int = int(user_age)\n",
    "\n",
    "future_years_int = int(future_years)\n",
    "\n",
    "future_age = user_age_int + future_years_int\n",
    "\n",
    "print(f\"Your future age will be: {future_age}\")"
   ]
  },
  {
   "cell_type": "markdown",
   "id": "ac2632a0-1eff-4e18-a747-a12ad3b26dab",
   "metadata": {},
   "source": [
    "# MM asked: how do you insert the new cell in the notebook to start testing ?\n",
    "\n",
    "ESC + B"
   ]
  },
  {
   "cell_type": "markdown",
   "id": "c0404b90-ca76-4d38-8a92-3c950e8aaba4",
   "metadata": {},
   "source": [
    "# VN: Could you have written int(input(\"Expecting an int\"))?"
   ]
  },
  {
   "cell_type": "code",
   "execution_count": 39,
   "id": "a773908c-439f-4515-8337-fff9b9d00731",
   "metadata": {},
   "outputs": [
    {
     "name": "stdout",
     "output_type": "stream",
     "text": [
      "Your age 21\n",
      "Years in the future 13\n"
     ]
    },
    {
     "name": "stdout",
     "output_type": "stream",
     "text": [
      "34\n"
     ]
    }
   ],
   "source": [
    "user_age = int(input(\"Your age\"))\n",
    "\n",
    "future_years = int(input(\"Years in the future\"))\n",
    "\n",
    "future_age = user_age + future_years\n",
    "\n",
    "print(future_age)"
   ]
  },
  {
   "cell_type": "markdown",
   "id": "section3",
   "metadata": {},
   "source": [
    "## Part 3: Functions\n",
    "\n",
    "Functions are essential building blocks that help us organize code, make it reusable, and break down complex problems into manageable pieces."
   ]
  },
  {
   "cell_type": "markdown",
   "id": "builtin-funcs",
   "metadata": {},
   "source": [
    "### Built-in Functions"
   ]
  },
  {
   "cell_type": "code",
   "execution_count": 8,
   "id": "builtin-examples",
   "metadata": {
    "execution": {
     "iopub.execute_input": "2025-09-18T13:11:14.912446Z",
     "iopub.status.busy": "2025-09-18T13:11:14.912347Z",
     "iopub.status.idle": "2025-09-18T13:11:14.914692Z",
     "shell.execute_reply": "2025-09-18T13:11:14.914447Z"
    }
   },
   "outputs": [
    {
     "name": "stdout",
     "output_type": "stream",
     "text": [
      "Length of name: 9\n",
      "Length of number list: 5\n",
      "Pi rounded to 2 decimals: 3.14\n",
      "Pi rounded to whole number: 3\n",
      "Absolute value: 10\n"
     ]
    }
   ],
   "source": [
    "# len() - Calculates the length of sequences\n",
    "name = \"Alexander\"\n",
    "numbers = [1, 2, 3, 4, 5]\n",
    "\n",
    "print(f\"Length of name: {len(name)}\")\n",
    "print(f\"Length of number list: {len(numbers)}\")\n",
    "\n",
    "# round() - Rounds numbers to specified decimals\n",
    "pi = 3.14159\n",
    "print(f\"Pi rounded to 2 decimals: {round(pi, 2)}\")\n",
    "print(f\"Pi rounded to whole number: {round(pi)}\")\n",
    "\n",
    "# abs() - Returns absolute value\n",
    "temperature = -10\n",
    "print(f\"Absolute value: {abs(temperature)}\")"
   ]
  },
  {
   "cell_type": "markdown",
   "id": "custom-funcs",
   "metadata": {},
   "source": [
    "### Creating Our Own Functions"
   ]
  },
  {
   "cell_type": "code",
   "execution_count": 9,
   "id": "def-function",
   "metadata": {
    "execution": {
     "iopub.execute_input": "2025-09-18T13:11:14.915905Z",
     "iopub.status.busy": "2025-09-18T13:11:14.915813Z",
     "iopub.status.idle": "2025-09-18T13:11:14.917840Z",
     "shell.execute_reply": "2025-09-18T13:11:14.917631Z"
    }
   },
   "outputs": [
    {
     "name": "stdout",
     "output_type": "stream",
     "text": [
      "Good morning, Alice!\n",
      "Good evening, Bob!\n"
     ]
    }
   ],
   "source": [
    "def greet_user(name, time_of_day):\n",
    "    \"\"\"\n",
    "    Creates a personalized greeting based on time of day\n",
    "    \"\"\"\n",
    "    greeting = f\"Good {time_of_day}, {name}!\"\n",
    "    return greeting\n",
    "\n",
    "# Using our function\n",
    "morning_greeting = greet_user(\"Alice\", \"morning\")\n",
    "evening_greeting = greet_user(\"Bob\", \"evening\")\n",
    "\n",
    "print(morning_greeting)\n",
    "print(evening_greeting)"
   ]
  },
  {
   "cell_type": "markdown",
   "id": "func-multiple",
   "metadata": {},
   "source": [
    "### Functions with Multiple Parameters"
   ]
  },
  {
   "cell_type": "code",
   "execution_count": 10,
   "id": "stats-function",
   "metadata": {
    "execution": {
     "iopub.execute_input": "2025-09-18T13:11:14.919065Z",
     "iopub.status.busy": "2025-09-18T13:11:14.918982Z",
     "iopub.status.idle": "2025-09-18T13:11:14.921196Z",
     "shell.execute_reply": "2025-09-18T13:11:14.920965Z"
    }
   },
   "outputs": [
    {
     "name": "stdout",
     "output_type": "stream",
     "text": [
      "Class Statistics:\n",
      "Sum: 433\n",
      "Average: 86.6\n",
      "Max: 92\n",
      "Min: 78\n"
     ]
    }
   ],
   "source": [
    "def calculate_statistics(numbers):\n",
    "    \"\"\"\n",
    "    Calculate basic statistics for a list of numbers\n",
    "    \"\"\"\n",
    "    total = sum(numbers)\n",
    "    average = total / len(numbers)\n",
    "    maximum = max(numbers)\n",
    "    minimum = min(numbers)\n",
    "    \n",
    "    return {\n",
    "        \"sum\": total,\n",
    "        \"average\": average,\n",
    "        \"max\": maximum,\n",
    "        \"min\": minimum\n",
    "    }\n",
    "\n",
    "# Using our statistics function\n",
    "scores = [85, 92, 78, 90, 88]\n",
    "stats = calculate_statistics(scores)\n",
    "\n",
    "print(f\"Class Statistics:\")\n",
    "for key, value in stats.items():\n",
    "    print(f\"{key.capitalize()}: {value}\")"
   ]
  },
  {
   "cell_type": "markdown",
   "id": "section4",
   "metadata": {},
   "source": [
    "## Part 4: Lists and Loops\n",
    "\n",
    "Lists in Python are ordered collections that can store different types of data. For loops help us work with these collections efficiently."
   ]
  },
  {
   "cell_type": "code",
   "execution_count": 11,
   "id": "lists-intro",
   "metadata": {
    "execution": {
     "iopub.execute_input": "2025-09-18T13:11:14.922420Z",
     "iopub.status.busy": "2025-09-18T13:11:14.922338Z",
     "iopub.status.idle": "2025-09-18T13:11:14.924152Z",
     "shell.execute_reply": "2025-09-18T13:11:14.923934Z"
    }
   },
   "outputs": [
    {
     "name": "stdout",
     "output_type": "stream",
     "text": [
      "Student grades: [('Emma', 95), ('James', 87), ('Sofia', 92), ('Alex', 88), ('Nina', 90)]\n",
      "First student: Emma\n",
      "Last grade: 90\n"
     ]
    }
   ],
   "source": [
    "# Creating simple lists\n",
    "students = [\"Emma\", \"James\", \"Sofia\", \"Alex\", \"Nina\"]\n",
    "grades = [95, 87, 92, 88, 90]\n",
    "\n",
    "# Combining related lists using zip\n",
    "student_grades = list(zip(students, grades))\n",
    "print(\"Student grades:\", student_grades)\n",
    "\n",
    "# Accessing elements\n",
    "print(f\"First student: {students[0]}\")\n",
    "print(f\"Last grade: {grades[-1]}\")"
   ]
  },
  {
   "cell_type": "markdown",
   "id": "list-operations",
   "metadata": {},
   "source": [
    "### List Operations and Methods"
   ]
  },
  {
   "cell_type": "code",
   "execution_count": 12,
   "id": "list-methods",
   "metadata": {
    "execution": {
     "iopub.execute_input": "2025-09-18T13:11:14.925222Z",
     "iopub.status.busy": "2025-09-18T13:11:14.925160Z",
     "iopub.status.idle": "2025-09-18T13:11:14.927192Z",
     "shell.execute_reply": "2025-09-18T13:11:14.926972Z"
    }
   },
   "outputs": [
    {
     "name": "stdout",
     "output_type": "stream",
     "text": [
      "Shopping list: ['milk', 'butter', 'bread', 'eggs', 'cheese', 'apples', 'bananas']\n",
      "Updated list: ['butter', 'bread', 'eggs', 'cheese', 'apples']\n"
     ]
    }
   ],
   "source": [
    "# Creating a shopping list\n",
    "shopping = [\"milk\", \"bread\", \"eggs\"]\n",
    "\n",
    "# Adding items\n",
    "shopping.append(\"cheese\")               # Add single item\n",
    "shopping.extend([\"apples\", \"bananas\"])  # Add multiple items\n",
    "shopping.insert(1, \"butter\")            # Add at specific position\n",
    "\n",
    "print(\"Shopping list:\", shopping)\n",
    "\n",
    "# Removing items\n",
    "removed_item = shopping.pop()           # Remove and return last item\n",
    "shopping.remove(\"milk\")                 # Remove specific item\n",
    "print(\"Updated list:\", shopping)"
   ]
  },
  {
   "cell_type": "markdown",
   "id": "for-loops",
   "metadata": {},
   "source": [
    "### For Loops"
   ]
  },
  {
   "cell_type": "code",
   "execution_count": 13,
   "id": "for-loop-example",
   "metadata": {
    "execution": {
     "iopub.execute_input": "2025-09-18T13:11:14.928330Z",
     "iopub.status.busy": "2025-09-18T13:11:14.928266Z",
     "iopub.status.idle": "2025-09-18T13:11:14.929818Z",
     "shell.execute_reply": "2025-09-18T13:11:14.929624Z"
    }
   },
   "outputs": [
    {
     "name": "stdout",
     "output_type": "stream",
     "text": [
      "Task Tracker:\n",
      "1. [ ] Review Python basics\n",
      "2. [ ] Complete coding exercises\n",
      "3. [ ] Write documentation\n",
      "4. [ ] Debug application\n",
      "5. [ ] Submit project\n"
     ]
    }
   ],
   "source": [
    "# Basic for loop with a task list\n",
    "tasks = [\n",
    "    \"Review Python basics\",\n",
    "    \"Complete coding exercises\",\n",
    "    \"Write documentation\",\n",
    "    \"Debug application\",\n",
    "    \"Submit project\"\n",
    "]\n",
    "\n",
    "print(\"Task Tracker:\")\n",
    "for index, task in enumerate(tasks, 1):\n",
    "    print(f\"{index}. [ ] {task}\")"
   ]
  },
  {
   "cell_type": "markdown",
   "id": "section5",
   "metadata": {},
   "source": [
    "## Part 5: Dictionaries\n",
    "\n",
    "Dictionaries are a powerful data structure for storing and managing key-value pairs."
   ]
  },
  {
   "cell_type": "code",
   "execution_count": 14,
   "id": "dict-intro",
   "metadata": {
    "execution": {
     "iopub.execute_input": "2025-09-18T13:11:14.931253Z",
     "iopub.status.busy": "2025-09-18T13:11:14.931190Z",
     "iopub.status.idle": "2025-09-18T13:11:14.933004Z",
     "shell.execute_reply": "2025-09-18T13:11:14.932799Z"
    }
   },
   "outputs": [
    {
     "name": "stdout",
     "output_type": "stream",
     "text": [
      "Alice's number: 555-0101\n",
      "Bob's number: 555-0202\n",
      "Eve's number: Not found\n"
     ]
    }
   ],
   "source": [
    "# Creating a simple contact dictionary\n",
    "contacts = {\n",
    "    \"Alice\": \"555-0101\",\n",
    "    \"Bob\": \"555-0202\",\n",
    "    \"Charlie\": \"555-0303\",\n",
    "    \"Diana\": \"555-0404\"\n",
    "}\n",
    "\n",
    "# Accessing values\n",
    "print(f\"Alice's number: {contacts['Alice']}\")\n",
    "print(f\"Bob's number: {contacts.get('Bob')}\")\n",
    "# Using get() with default value for safety\n",
    "print(f\"Eve's number: {contacts.get('Eve', 'Not found')}\")"
   ]
  },
  {
   "cell_type": "markdown",
   "id": "dict-methods",
   "metadata": {},
   "source": [
    "### Essential Dictionary Methods"
   ]
  },
  {
   "cell_type": "code",
   "execution_count": 15,
   "id": "dict-demo",
   "metadata": {
    "execution": {
     "iopub.execute_input": "2025-09-18T13:11:14.934091Z",
     "iopub.status.busy": "2025-09-18T13:11:14.934033Z",
     "iopub.status.idle": "2025-09-18T13:11:14.936376Z",
     "shell.execute_reply": "2025-09-18T13:11:14.936180Z"
    }
   },
   "outputs": [
    {
     "name": "stdout",
     "output_type": "stream",
     "text": [
      "Available fruits: ['apples', 'bananas', 'oranges']\n",
      "Quantities: [50, 30, 25]\n",
      "\n",
      "Current inventory:\n",
      "apples: 50\n",
      "bananas: 30\n",
      "oranges: 25\n",
      "\n",
      "Removed 30 bananas\n",
      "\n",
      "Final inventory: {'apples': 45, 'oranges': 25, 'grapes': 40}\n"
     ]
    }
   ],
   "source": [
    "def demonstrate_dictionary_methods():\n",
    "    inventory = {\n",
    "        \"apples\": 50,\n",
    "        \"bananas\": 30,\n",
    "        \"oranges\": 25\n",
    "    }\n",
    "    \n",
    "    # Getting all keys\n",
    "    print(\"Available fruits:\", list(inventory.keys()))\n",
    "    \n",
    "    # Getting all values\n",
    "    print(\"Quantities:\", list(inventory.values()))\n",
    "    \n",
    "    # Getting key-value pairs\n",
    "    print(\"\\nCurrent inventory:\")\n",
    "    for fruit, quantity in inventory.items():\n",
    "        print(f\"{fruit}: {quantity}\")\n",
    "    \n",
    "    # Adding/updating items\n",
    "    inventory.update({\n",
    "        \"apples\": 45,  # Update existing\n",
    "        \"grapes\": 40   # Add new\n",
    "    })\n",
    "    \n",
    "    # Removing items\n",
    "    removed_quantity = inventory.pop(\"bananas\")\n",
    "    print(f\"\\nRemoved {removed_quantity} bananas\")\n",
    "    \n",
    "    return inventory\n",
    "\n",
    "updated_inventory = demonstrate_dictionary_methods()\n",
    "print(\"\\nFinal inventory:\", updated_inventory)"
   ]
  },
  {
   "cell_type": "markdown",
   "id": "nested-dict",
   "metadata": {},
   "source": [
    "### Nested Dictionaries"
   ]
  },
  {
   "cell_type": "code",
   "execution_count": 16,
   "id": "nested-example",
   "metadata": {
    "execution": {
     "iopub.execute_input": "2025-09-18T13:11:14.937466Z",
     "iopub.status.busy": "2025-09-18T13:11:14.937406Z",
     "iopub.status.idle": "2025-09-18T13:11:14.939562Z",
     "shell.execute_reply": "2025-09-18T13:11:14.939385Z"
    }
   },
   "outputs": [
    {
     "name": "stdout",
     "output_type": "stream",
     "text": [
      "User Profile Summary:\n",
      "Name: Sarah Wilson\n",
      "Title: Software Engineer\n",
      "Skills: Python, JavaScript, Docker\n",
      "Settings: {'theme': 'dark', 'notifications': True, 'language': 'English'}\n"
     ]
    }
   ],
   "source": [
    "# Creating a nested user profile\n",
    "user_profile = {\n",
    "    \"personal_info\": {\n",
    "        \"name\": \"Sarah Wilson\",\n",
    "        \"age\": 28,\n",
    "        \"location\": \"Seattle\"\n",
    "    },\n",
    "    \"professional_info\": {\n",
    "        \"title\": \"Software Engineer\",\n",
    "        \"skills\": [\"Python\", \"JavaScript\", \"Docker\"],\n",
    "        \"experience_years\": 5\n",
    "    },\n",
    "    \"preferences\": {\n",
    "        \"theme\": \"dark\",\n",
    "        \"notifications\": True,\n",
    "        \"language\": \"English\"\n",
    "    }\n",
    "}\n",
    "\n",
    "def display_profile(profile):\n",
    "    print(\"User Profile Summary:\")\n",
    "    print(f\"Name: {profile['personal_info']['name']}\")\n",
    "    print(f\"Title: {profile['professional_info']['title']}\")\n",
    "    print(f\"Skills: {', '.join(profile['professional_info']['skills'])}\")\n",
    "    print(f\"Settings: {profile['preferences']}\")\n",
    "\n",
    "display_profile(user_profile)"
   ]
  },
  {
   "cell_type": "markdown",
   "id": "section6",
   "metadata": {},
   "source": [
    "## Part 6: Comparisons and Logic\n",
    "\n",
    "In this section, we'll explore how Python handles logical operations and comparisons."
   ]
  },
  {
   "cell_type": "markdown",
   "id": "booleans",
   "metadata": {},
   "source": [
    "### Boolean Values"
   ]
  },
  {
   "cell_type": "code",
   "execution_count": 17,
   "id": "bool-intro",
   "metadata": {
    "execution": {
     "iopub.execute_input": "2025-09-18T13:11:14.940635Z",
     "iopub.status.busy": "2025-09-18T13:11:14.940573Z",
     "iopub.status.idle": "2025-09-18T13:11:14.942169Z",
     "shell.execute_reply": "2025-09-18T13:11:14.941950Z"
    }
   },
   "outputs": [
    {
     "name": "stdout",
     "output_type": "stream",
     "text": [
      "Type of boolean: <class 'bool'>\n",
      "Is Python fun? True\n",
      "Is coding hard? False\n"
     ]
    }
   ],
   "source": [
    "# Booleans are Python's way of representing True and False\n",
    "is_python_fun = True\n",
    "is_coding_hard = False\n",
    "\n",
    "print(f\"Type of boolean: {type(is_python_fun)}\")\n",
    "print(f\"Is Python fun? {is_python_fun}\")\n",
    "print(f\"Is coding hard? {is_coding_hard}\")"
   ]
  },
  {
   "cell_type": "markdown",
   "id": "comparison-ops",
   "metadata": {},
   "source": [
    "### Comparison Operators"
   ]
  },
  {
   "cell_type": "code",
   "execution_count": 18,
   "id": "comparisons",
   "metadata": {
    "execution": {
     "iopub.execute_input": "2025-09-18T13:11:14.943204Z",
     "iopub.status.busy": "2025-09-18T13:11:14.943144Z",
     "iopub.status.idle": "2025-09-18T13:11:14.944946Z",
     "shell.execute_reply": "2025-09-18T13:11:14.944766Z"
    }
   },
   "outputs": [
    {
     "name": "stdout",
     "output_type": "stream",
     "text": [
      "Did I pass? True\n",
      "Did I get perfect? False\n",
      "Did I just barely pass? False\n",
      "Did I do better than passing? True\n"
     ]
    }
   ],
   "source": [
    "# Let's look at various comparisons\n",
    "score = 85\n",
    "passing_grade = 70\n",
    "perfect_score = 100\n",
    "\n",
    "# Greater than and less than\n",
    "is_passing = score > passing_grade\n",
    "is_perfect = score >= perfect_score\n",
    "\n",
    "# Equality comparisons\n",
    "is_exactly_passing = score == passing_grade  # Equality check\n",
    "has_improved = score != passing_grade        # Inequality check\n",
    "\n",
    "print(f\"Did I pass? {is_passing}\")\n",
    "print(f\"Did I get perfect? {is_perfect}\")\n",
    "print(f\"Did I just barely pass? {is_exactly_passing}\")\n",
    "print(f\"Did I do better than passing? {has_improved}\")"
   ]
  },
  {
   "cell_type": "markdown",
   "id": "complex-conditions",
   "metadata": {},
   "source": [
    "### Creating Complex Conditions"
   ]
  },
  {
   "cell_type": "code",
   "execution_count": 19,
   "id": "logic-ops",
   "metadata": {
    "execution": {
     "iopub.execute_input": "2025-09-18T13:11:14.945972Z",
     "iopub.status.busy": "2025-09-18T13:11:14.945903Z",
     "iopub.status.idle": "2025-09-18T13:11:14.947818Z",
     "shell.execute_reply": "2025-09-18T13:11:14.947648Z"
    }
   },
   "outputs": [
    {
     "name": "stdout",
     "output_type": "stream",
     "text": [
      "Study Session Analysis:\n",
      "should_study: True\n",
      "time_is_good: True\n",
      "energy_is_good: True\n"
     ]
    }
   ],
   "source": [
    "def check_study_conditions(time_of_day, energy_level, is_weekend):\n",
    "    \"\"\"\n",
    "    Determine if it's a good time to study based on multiple factors\n",
    "    \"\"\"\n",
    "    # Check if it's an optimal time (between 9 AM and 8 PM)\n",
    "    good_time = time_of_day >= 9 and time_of_day <= 20\n",
    "    \n",
    "    # Check if energy levels are sufficient (scale of 1-10)\n",
    "    good_energy = energy_level >= 6\n",
    "    \n",
    "    # Determine if we should study\n",
    "    should_study = (good_time and good_energy) or is_weekend\n",
    "    \n",
    "    return {\n",
    "        \"should_study\": should_study,\n",
    "        \"time_is_good\": good_time,\n",
    "        \"energy_is_good\": good_energy\n",
    "    }\n",
    "\n",
    "# Test the function\n",
    "result = check_study_conditions(time_of_day=14, energy_level=8, is_weekend=False)\n",
    "print(\"Study Session Analysis:\")\n",
    "for condition, value in result.items():\n",
    "    print(f\"{condition}: {value}\")"
   ]
  },
  {
   "cell_type": "markdown",
   "id": "section7",
   "metadata": {},
   "source": [
    "## Part 7: Conditionals and Decision Making\n",
    "\n",
    "In programming, we often need to make decisions based on certain conditions. Python provides `if`, `elif`, and `else` statements for this purpose."
   ]
  },
  {
   "cell_type": "markdown",
   "id": "if-statements",
   "metadata": {},
   "source": [
    "### Basic If Statements"
   ]
  },
  {
   "cell_type": "code",
   "execution_count": 20,
   "id": "if-basic",
   "metadata": {
    "execution": {
     "iopub.execute_input": "2025-09-18T13:11:14.948832Z",
     "iopub.status.busy": "2025-09-18T13:11:14.948778Z",
     "iopub.status.idle": "2025-09-18T13:11:14.950331Z",
     "shell.execute_reply": "2025-09-18T13:11:14.950145Z"
    }
   },
   "outputs": [
    {
     "name": "stdout",
     "output_type": "stream",
     "text": [
      "Good morning!\n"
     ]
    }
   ],
   "source": [
    "time_of_day = 10  # 24-hour format\n",
    "\n",
    "if time_of_day < 12:\n",
    "    print(\"Good morning!\")\n",
    "    \n",
    "if time_of_day > 10:\n",
    "    print(\"Time for work!\")"
   ]
  },
  {
   "cell_type": "markdown",
   "id": "if-else",
   "metadata": {},
   "source": [
    "### If-Else Statements"
   ]
  },
  {
   "cell_type": "code",
   "execution_count": 21,
   "id": "if-else-example",
   "metadata": {
    "execution": {
     "iopub.execute_input": "2025-09-18T13:11:14.951295Z",
     "iopub.status.busy": "2025-09-18T13:11:14.951237Z",
     "iopub.status.idle": "2025-09-18T13:11:14.952703Z",
     "shell.execute_reply": "2025-09-18T13:11:14.952509Z"
    }
   },
   "outputs": [
    {
     "name": "stdout",
     "output_type": "stream",
     "text": [
      "Warning: Battery low!\n",
      "Please connect charger\n"
     ]
    }
   ],
   "source": [
    "battery_percentage = 15\n",
    "\n",
    "if battery_percentage < 20:\n",
    "    print(\"Warning: Battery low!\")\n",
    "    print(\"Please connect charger\")\n",
    "else:\n",
    "    print(\"Battery level okay\")"
   ]
  },
  {
   "cell_type": "markdown",
   "id": "if-elif-else",
   "metadata": {},
   "source": [
    "### If-Elif-Else Chains"
   ]
  },
  {
   "cell_type": "code",
   "execution_count": 22,
   "id": "elif-example",
   "metadata": {
    "execution": {
     "iopub.execute_input": "2025-09-18T13:11:14.953685Z",
     "iopub.status.busy": "2025-09-18T13:11:14.953629Z",
     "iopub.status.idle": "2025-09-18T13:11:14.955286Z",
     "shell.execute_reply": "2025-09-18T13:11:14.955106Z"
    }
   },
   "outputs": [
    {
     "name": "stdout",
     "output_type": "stream",
     "text": [
      "Warning: File is very small\n",
      "Warning: File is very large\n"
     ]
    }
   ],
   "source": [
    "def check_file_status(file_size_mb):\n",
    "    if file_size_mb == 0:\n",
    "        print(\"Error: File is empty\")\n",
    "    elif file_size_mb < 1:\n",
    "        print(\"Warning: File is very small\")\n",
    "    elif file_size_mb > 1000:\n",
    "        print(\"Warning: File is very large\")\n",
    "    else:\n",
    "        print(\"File size is acceptable\")\n",
    "\n",
    "check_file_status(0.5)\n",
    "check_file_status(1500)"
   ]
  },
  {
   "cell_type": "markdown",
   "id": "nested-conditionals",
   "metadata": {},
   "source": [
    "### Nested Conditionals"
   ]
  },
  {
   "cell_type": "code",
   "execution_count": 23,
   "id": "nested-if",
   "metadata": {
    "execution": {
     "iopub.execute_input": "2025-09-18T13:11:14.956291Z",
     "iopub.status.busy": "2025-09-18T13:11:14.956224Z",
     "iopub.status.idle": "2025-09-18T13:11:14.959019Z",
     "shell.execute_reply": "2025-09-18T13:11:14.958825Z"
    }
   },
   "outputs": [
    {
     "name": "stdout",
     "output_type": "stream",
     "text": [
      "Processing small text file: report.txt\n",
      "Unsupported file type: data.csv\n",
      "Text file too large: video.txt\n"
     ]
    },
    {
     "data": {
      "text/plain": [
       "False"
      ]
     },
     "execution_count": 23,
     "metadata": {},
     "output_type": "execute_result"
    }
   ],
   "source": [
    "def process_file(filename, size_mb):\n",
    "    if filename.endswith('.txt'):\n",
    "        if size_mb < 1:\n",
    "            print(f\"Processing small text file: {filename}\")\n",
    "            return True\n",
    "        else:\n",
    "            print(f\"Text file too large: {filename}\")\n",
    "            return False\n",
    "    else:\n",
    "        print(f\"Unsupported file type: {filename}\")\n",
    "        return False\n",
    "\n",
    "process_file(\"report.txt\", 0.5)\n",
    "process_file(\"data.csv\", 0.3)\n",
    "process_file(\"video.txt\", 10)"
   ]
  },
  {
   "cell_type": "markdown",
   "id": "practical-example",
   "metadata": {},
   "source": [
    "### Practical Example: Task Priority System"
   ]
  },
  {
   "cell_type": "code",
   "execution_count": 24,
   "id": "priority-system",
   "metadata": {
    "execution": {
     "iopub.execute_input": "2025-09-18T13:11:14.960008Z",
     "iopub.status.busy": "2025-09-18T13:11:14.959941Z",
     "iopub.status.idle": "2025-09-18T13:11:14.962599Z",
     "shell.execute_reply": "2025-09-18T13:11:14.962441Z"
    }
   },
   "outputs": [
    {
     "name": "stdout",
     "output_type": "stream",
     "text": [
      "Task Analysis:\n",
      "\n",
      "Task: Client Presentation\n",
      "Priority: Critical\n",
      "Immediate Action: True\n",
      "Can Delegate: False\n",
      "\n",
      "Task: Email Responses\n",
      "Priority: High\n",
      "Immediate Action: False\n",
      "Can Delegate: False\n",
      "\n",
      "Task: Code Review\n",
      "Priority: Medium\n",
      "Immediate Action: False\n",
      "Can Delegate: False\n"
     ]
    }
   ],
   "source": [
    "def analyze_task(task_name, deadline_days, estimated_hours, importance):\n",
    "    \"\"\"\n",
    "    Analyze a task and determine its priority level and handling strategy\n",
    "    \"\"\"\n",
    "    is_urgent = deadline_days <= 3\n",
    "    is_big_task = estimated_hours > 4\n",
    "    is_important = importance >= 8  # Scale of 1-10\n",
    "    \n",
    "    # Determine priority level\n",
    "    if is_urgent and is_important:\n",
    "        priority = \"Critical\"\n",
    "    elif is_urgent or (is_important and is_big_task):\n",
    "        priority = \"High\"\n",
    "    elif is_important:\n",
    "        priority = \"Medium\"\n",
    "    else:\n",
    "        priority = \"Low\"\n",
    "    \n",
    "    # Determine handling strategy\n",
    "    needs_immediate_action = is_urgent and (is_important or is_big_task)\n",
    "    can_delegate = not is_important and is_big_task\n",
    "    \n",
    "    return {\n",
    "        \"task\": task_name,\n",
    "        \"priority\": priority,\n",
    "        \"needs_immediate_action\": needs_immediate_action,\n",
    "        \"can_delegate\": can_delegate\n",
    "    }\n",
    "\n",
    "# Test the system with different tasks\n",
    "tasks = [\n",
    "    {\"name\": \"Client Presentation\", \"deadline\": 2, \"hours\": 6, \"importance\": 9},\n",
    "    {\"name\": \"Email Responses\", \"deadline\": 1, \"hours\": 2, \"importance\": 5},\n",
    "    {\"name\": \"Code Review\", \"deadline\": 5, \"hours\": 3, \"importance\": 8}\n",
    "]\n",
    "\n",
    "print(\"Task Analysis:\")\n",
    "for task in tasks:\n",
    "    result = analyze_task(task[\"name\"], task[\"deadline\"], \n",
    "                         task[\"hours\"], task[\"importance\"])\n",
    "    print(f\"\\nTask: {result['task']}\")\n",
    "    print(f\"Priority: {result['priority']}\")\n",
    "    print(f\"Immediate Action: {result['needs_immediate_action']}\")\n",
    "    print(f\"Can Delegate: {result['can_delegate']}\")"
   ]
  },
  {
   "cell_type": "markdown",
   "id": "summary",
   "metadata": {},
   "source": [
    "## Summary and Key Takeaways\n",
    "\n",
    "We've covered the fundamental building blocks of Python programming:\n",
    "\n",
    "### Data Types and Operations\n",
    "- Python has several basic data types: integers (`int`), floating-point numbers (`float`), strings (`str`), and more\n",
    "- Different data types support different operations\n",
    "- F-strings provide an easy way to create formatted strings\n",
    "\n",
    "### Variables\n",
    "- Variables are containers for storing data\n",
    "- They can be updated or changed at any time\n",
    "- Meaningful variable names make code easier to understand\n",
    "\n",
    "### Functions\n",
    "- Functions help organize code and make it reusable\n",
    "- Python has many useful built-in functions\n",
    "- We can create custom functions using the `def` keyword\n",
    "- Functions can take parameters and return values\n",
    "\n",
    "### Lists and Loops\n",
    "- Lists are versatile data structures that can store any type of data\n",
    "- List methods like append(), extend(), remove() help manage list contents\n",
    "- For loops provide a way to iterate through lists\n",
    "- List comprehensions offer a concise way to create and transform lists\n",
    "\n",
    "### Dictionaries\n",
    "- Dictionaries store key-value pairs for efficient data organization\n",
    "- Keys must be immutable (strings, numbers, tuples)\n",
    "- Common methods include keys(), values(), items(), get(), update(), pop()\n",
    "- Nested dictionaries can store complex data structures\n",
    "\n",
    "### Comparisons and Logic\n",
    "- Boolean values (`True` and `False`) are fundamental for logical operations\n",
    "- Comparison operators (`>`, `<`, `>=`, `<=`, `==`, `!=`) return boolean values\n",
    "- `and` requires both conditions to be `True`\n",
    "- `or` requires at least one condition to be `True`\n",
    "\n",
    "### Conditionals\n",
    "- Conditionals allow programs to make decisions based on conditions\n",
    "- Basic syntax includes `if`, `elif`, and `else`\n",
    "- Nested conditionals enable complex decision making\n",
    "- Ternary operator provides simple conditional expressions\n",
    "\n",
    "These concepts form the foundation for all Python programming. Master these, and you'll be ready to tackle more advanced topics!"
   ]
  }
 ],
 "metadata": {
  "kernelspec": {
   "display_name": "orielly-python-course",
   "language": "python",
   "name": "orielly-python-course"
  },
  "language_info": {
   "codemirror_mode": {
    "name": "ipython",
    "version": 3
   },
   "file_extension": ".py",
   "mimetype": "text/x-python",
   "name": "python",
   "nbconvert_exporter": "python",
   "pygments_lexer": "ipython3",
   "version": "3.13.0"
  }
 },
 "nbformat": 4,
 "nbformat_minor": 5
}
