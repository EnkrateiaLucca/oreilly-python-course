{
 "cells": [
  {
   "cell_type": "code",
   "execution_count": 1,
   "id": "446dac20-ce5b-4c0f-bf86-015a84f470c6",
   "metadata": {},
   "outputs": [
    {
     "name": "stdout",
     "output_type": "stream",
     "text": [
      "HI!\n"
     ]
    }
   ],
   "source": [
    "print(\"HI!\")"
   ]
  },
  {
   "cell_type": "markdown",
   "id": "bea77c3f-02f9-4474-a039-9c15920b034a",
   "metadata": {},
   "source": [
    "# SM Question\n",
    "I know we all are here to learn python. But whats so much buzz around vibe coding? Chatgpt, Grok and others if i know basics of programming, claude code , copilot all these new AI tools helping a lot. so do we still need to learn syntax and other things about python?\n",
    "\n",
    "\n",
    "Yes! It is nice and useful to know at least the basic syntax of any programming language including Python."
   ]
  },
  {
   "cell_type": "markdown",
   "id": "b76303f1-4c97-4015-86f7-97f923ba0ebd",
   "metadata": {},
   "source": [
    "# BA issue\n",
    "\n",
    "abc@@dhcp-10-48-113-248 oreilly-python-course % playwright install                                                                             \n",
    "\n",
    "zsh: command not found: playwright\n",
    "\n",
    "DOn't worry about this right now! I'll send a solution during the break. Focus on following along."
   ]
  },
  {
   "cell_type": "code",
   "execution_count": null,
   "id": "041353bc-b6d1-4d0f-b356-4854c5cddd6f",
   "metadata": {},
   "outputs": [],
   "source": []
  }
 ],
 "metadata": {
  "kernelspec": {
   "display_name": "oreilly-python-course",
   "language": "python",
   "name": "oreilly-python-course"
  },
  "language_info": {
   "codemirror_mode": {
    "name": "ipython",
    "version": 3
   },
   "file_extension": ".py",
   "mimetype": "text/x-python",
   "name": "python",
   "nbconvert_exporter": "python",
   "pygments_lexer": "ipython3",
   "version": "3.13.0"
  }
 },
 "nbformat": 4,
 "nbformat_minor": 5
}
