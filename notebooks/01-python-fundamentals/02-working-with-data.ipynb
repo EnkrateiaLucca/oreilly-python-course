{
 "cells": [
  {
   "cell_type": "markdown",
   "id": "intro",
   "metadata": {},
   "source": [
    "# Working with Data: Files and Tabular Data\n",
    "\n",
    "This comprehensive notebook covers working with files and CSV data in Python, including reading/writing files, data manipulation with pandas, and leveraging AI tools for data analysis."
   ]
  },
  {
   "cell_type": "markdown",
   "id": "section1",
   "metadata": {},
   "source": [
    "## Part 1: Working with Files\n",
    "\n",
    "In Python, it's extremely simple to work with files like .txt or .md files. Let's explore file operations and how to leverage them for powerful workflows."
   ]
  },
  {
   "cell_type": "code",
   "execution_count": 1,
   "id": "imports",
   "metadata": {
    "execution": {
     "iopub.execute_input": "2025-09-18T13:11:16.490249Z",
     "iopub.status.busy": "2025-09-18T13:11:16.490125Z",
     "iopub.status.idle": "2025-09-18T13:11:16.779436Z",
     "shell.execute_reply": "2025-09-18T13:11:16.779113Z"
    }
   },
   "outputs": [],
   "source": [
    "import sys\n",
    "sys.path.append('../../scripts')\n",
    "from ai_tools import ask_ai\n",
    "from IPython.display import Markdown"
   ]
  },
  {
   "cell_type": "markdown",
   "id": "reading-files",
   "metadata": {},
   "source": [
    "### Reading Files"
   ]
  },
  {
   "cell_type": "code",
   "execution_count": 2,
   "id": "read-file",
   "metadata": {
    "execution": {
     "iopub.execute_input": "2025-09-18T13:11:16.780994Z",
     "iopub.status.busy": "2025-09-18T13:11:16.780913Z",
     "iopub.status.idle": "2025-09-18T13:11:16.782906Z",
     "shell.execute_reply": "2025-09-18T13:11:16.782656Z"
    }
   },
   "outputs": [
    {
     "name": "stdout",
     "output_type": "stream",
     "text": [
      "this is a sample filethis is an append to my filernew datanew data\n"
     ]
    }
   ],
   "source": [
    "# To open a file\n",
    "with open(\"./file.txt\", \"r\") as f:\n",
    "    data = f.read()\n",
    "\n",
    "print(data)"
   ]
  },
  {
   "cell_type": "markdown",
   "id": "writing-files",
   "metadata": {},
   "source": [
    "### Creating and Writing Files\n",
    "\n",
    "We can also create files easily in Python:"
   ]
  },
  {
   "cell_type": "code",
   "execution_count": 3,
   "id": "write-file",
   "metadata": {
    "execution": {
     "iopub.execute_input": "2025-09-18T13:11:16.784271Z",
     "iopub.status.busy": "2025-09-18T13:11:16.784189Z",
     "iopub.status.idle": "2025-09-18T13:11:16.905885Z",
     "shell.execute_reply": "2025-09-18T13:11:16.905459Z"
    }
   },
   "outputs": [
    {
     "name": "stdout",
     "output_type": "stream",
     "text": [
      "This is a file"
     ]
    }
   ],
   "source": [
    "content = \"This is a file\"\n",
    "with open(\"summary-notes.txt\", \"w\") as f:\n",
    "    f.write(content)\n",
    "\n",
    "# Verify the file was created\n",
    "!cat ./summary-notes.txt"
   ]
  },
  {
   "cell_type": "markdown",
   "id": "file-modes",
   "metadata": {},
   "source": [
    "### File Modes\n",
    "\n",
    "Below are more examples for the different modes of reading and writing files available via the built-in `open()` method:"
   ]
  },
  {
   "cell_type": "code",
   "execution_count": 4,
   "id": "append-mode",
   "metadata": {
    "execution": {
     "iopub.execute_input": "2025-09-18T13:11:16.907889Z",
     "iopub.status.busy": "2025-09-18T13:11:16.907749Z",
     "iopub.status.idle": "2025-09-18T13:11:17.032816Z",
     "shell.execute_reply": "2025-09-18T13:11:17.032158Z"
    }
   },
   "outputs": [
    {
     "name": "stdout",
     "output_type": "stream",
     "text": [
      "This is a fileappend this"
     ]
    }
   ],
   "source": [
    "# Common file modes in Python's open() function:\n",
    "\n",
    "# \"a\" - Append - Opens file for appending, creates new file if not exists\n",
    "with open(\"summary-notes.txt\", \"a\") as f:\n",
    "    f.write(\"append this\")\n",
    "\n",
    "!cat summary-notes.txt"
   ]
  },
  {
   "cell_type": "code",
   "execution_count": 5,
   "id": "exclusive-mode",
   "metadata": {
    "execution": {
     "iopub.execute_input": "2025-09-18T13:11:17.035348Z",
     "iopub.status.busy": "2025-09-18T13:11:17.035161Z",
     "iopub.status.idle": "2025-09-18T13:11:17.037783Z",
     "shell.execute_reply": "2025-09-18T13:11:17.037549Z"
    }
   },
   "outputs": [
    {
     "name": "stdout",
     "output_type": "stream",
     "text": [
      "File already exists!\n"
     ]
    }
   ],
   "source": [
    "# \"x\" - Exclusive creation - Opens for writing, fails if file exists\n",
    "try:\n",
    "    with open(\"file.txt\", \"x\") as f:\n",
    "        f.write(\"new file content\")\n",
    "except FileExistsError:\n",
    "    print(\"File already exists!\")"
   ]
  },
  {
   "cell_type": "code",
   "execution_count": 6,
   "id": "readwrite-mode",
   "metadata": {
    "execution": {
     "iopub.execute_input": "2025-09-18T13:11:17.038980Z",
     "iopub.status.busy": "2025-09-18T13:11:17.038902Z",
     "iopub.status.idle": "2025-09-18T13:11:17.040917Z",
     "shell.execute_reply": "2025-09-18T13:11:17.040574Z"
    }
   },
   "outputs": [],
   "source": [
    "# \"+\" - Read and write mode\n",
    "with open(\"file.txt\", \"r+\") as f:  # Open for both reading and writing\n",
    "    data = f.read()\n",
    "    f.write(\"new data\")"
   ]
  },
  {
   "cell_type": "markdown",
   "id": "ai-integration",
   "metadata": {},
   "source": [
    "### Combining File Operations with AI\n",
    "\n",
    "The cool stuff about being able to do this is that we can connect our ability of generating summaries of information with AI, along with our ability to read and write files in Python to create super powerful workflows.\n",
    "\n",
    "For example, below we will write single sentence summaries for multiple files containing information about different papers."
   ]
  },
  {
   "cell_type": "code",
   "execution_count": 7,
   "id": "ai-summary",
   "metadata": {
    "execution": {
     "iopub.execute_input": "2025-09-18T13:11:17.042751Z",
     "iopub.status.busy": "2025-09-18T13:11:17.042619Z",
     "iopub.status.idle": "2025-09-18T13:11:54.195443Z",
     "shell.execute_reply": "2025-09-18T13:11:54.194748Z"
    }
   },
   "outputs": [
    {
     "data": {
      "text/markdown": [
       "# Paper Summaries\n",
       "\n",
       "## Paper 1\n",
       "\n",
       "The paper titled \"TheAgent Company: Benchmarking LLM Agents on Consequential Real World Tasks\" introduces TheAgentCompany benchmark, designed to evaluate the effectiveness of large language model (LLM)-powered AI agents in performing various professional tasks within a simulated software company environment. The benchmark encompasses 175 diverse tasks in areas such as software engineering and project management, employing web browsing and communication with simulated colleagues for realism. Performance evaluations revealed that top models like Claude-3.5-Sonnet completed only 24% of tasks autonomously, highlighting ongoing challenges, particularly in complex interactions and lengthy tasks. The research emphasizes the need for further advancements in LLM capabilities, particularly in social interactions and decision-making, signaling a critical step towards understanding and enhancing AI integration into professional settings.\n",
       "\n",
       "## Paper 2\n",
       "\n",
       "The paper introduces a new research area called Automated Design of Agentic Systems (ADAS), which aims to automate the creation of powerful agentic systems by using a meta-agent to define agents in code. The method, termed Meta Agent Search, involves iteratively generating and evaluating new agents based on previously discovered ones, leading to the invention of novel designs that often outperform traditional hand-designed agents across various tasks such as reasoning, math, and science. The experiments demonstrate the robustness and transferability of the generated agents across different domains, indicating the potential for significant advancements in AI capabilities through automation in agent design.\n",
       "\n",
       "## Paper 3\n",
       "\n",
       "The paper \"Who Validates the Validators? Aligning LLM-Assisted Evaluation of LLM Outputs with Human Preferences\" by Shreya Shankar et al. explores the challenges of effectively validating the evaluations produced by Large Language Models (LLMs). The authors emphasize that while LLMs provide a means to assess outputs efficiently, they can inherit the shortcomings of the models they evaluate. As a solution, the paper introduces a mixed-initiative interface called EvalGen, which helps users generate evaluation criteria and implement assertions while gathering iterative human feedback to align the generated evaluations with user preferences.\n",
       "\n",
       "Key contributions of the paper include:\n",
       "\n",
       "1. **Mixed-Initiative Approach**: EvalGen seeks to validate LLM-generated evaluation functions by allowing users to iteratively refine criteria based on their evaluations of LLM outputs. This is achieved through a voting system where users can give quick feedback (good/bad) on LLM outputs.\n",
       "\n",
       "2. **Criteria Drift Phenomenon**: The authors identify \"criteria drift,\" where user-defined evaluation criteria evolve as they interact with outputs. Users often need to re-evaluate their criteria based on observed outputs, highlighting a fundamental challenge when trying to establish fixed evaluation standards.\n",
       "\n",
       "3. **Empirical Evaluation**: The paper includes an empirical study involving nine industry practitioners who utilized EvalGen in a real-world context. Findings indicated that while participants mostly appreciated EvalGen's ability to assist with assertion creation, they encountered challenges in aligning the generated assertions with their standards—particularly due to criteria drift and the subjectivity of evaluative metrics.\n",
       "\n",
       "4. **Algorithmic Framework**: EvalGen employs an algorithm that suggests evaluation criteria and synthesizes potential assertions based on user input, leading to better alignment with human preferences compared to fully automated systems like SPADE, particularly in terms of coverage and false failure rates.\n",
       "\n",
       "Overall, the paper emphasizes the need for interactive systems that account for the inherent complexity and subjectivity in evaluating LLM outputs, arguing for continuous alignment through user feedback and iterative refinement in the design of LLM evaluation assistants. The findings have implications for the future design of LLMOps and evaluation frameworks, raising questions about the stability of evaluation criteria and the dynamics of human-machine collaboration.\n",
       "\n"
      ],
      "text/plain": [
       "<IPython.core.display.Markdown object>"
      ]
     },
     "execution_count": 7,
     "metadata": {},
     "output_type": "execute_result"
    }
   ],
   "source": [
    "folder_with_papers = \"../assets/papers/\"\n",
    "file_names = [\"paper1.txt\", \"paper2.txt\", \"paper3.txt\"]\n",
    "\n",
    "def summarize_this_paper(paper_contents):\n",
    "    summary_prompt = f\"Summarize this paper\\n\\n: {paper_contents} in a couple of sentences.\"\n",
    "    output_summary = ask_ai(summary_prompt)\n",
    "    \n",
    "    return output_summary\n",
    "\n",
    "paper_summaries_list = []\n",
    "for file_name in file_names:\n",
    "    file_path = folder_with_papers + file_name\n",
    "    with open(file_path, \"r\") as f:\n",
    "        contents_of_the_paper = f.read()\n",
    "    \n",
    "    paper_summary = summarize_this_paper(contents_of_the_paper)\n",
    "    paper_summaries_list.append(paper_summary)\n",
    "\n",
    "# Display the markdown content in the notebook\n",
    "markdown_content = \"# Paper Summaries\\n\\n\"\n",
    "for i, summary in enumerate(paper_summaries_list, 1):\n",
    "    markdown_content += f\"## Paper {i}\\n\\n\"\n",
    "    markdown_content += f\"{summary}\\n\\n\"\n",
    "        \n",
    "Markdown(markdown_content)"
   ]
  },
  {
   "cell_type": "markdown",
   "id": "extraction",
   "metadata": {},
   "source": [
    "We can do similar things to extract specific information from documents, imagine you have a bunch of differently formatted invoices from which you would like to organize the information extracting things like the amounts and dates."
   ]
  },
  {
   "cell_type": "markdown",
   "id": "part2",
   "metadata": {},
   "source": [
    "## Part 2: Working with Tabular Data (CSV Files)\n",
    "\n",
    "Let's learn about CSV files that structure data into rows and columns (tabular data!). Text files are great but sometimes you need a bit more organization and structure, that's where CSV files come into play."
   ]
  },
  {
   "cell_type": "code",
   "execution_count": 8,
   "id": "imports-csv",
   "metadata": {
    "execution": {
     "iopub.execute_input": "2025-09-18T13:11:54.198733Z",
     "iopub.status.busy": "2025-09-18T13:11:54.198477Z",
     "iopub.status.idle": "2025-09-18T13:11:54.454652Z",
     "shell.execute_reply": "2025-09-18T13:11:54.454321Z"
    }
   },
   "outputs": [],
   "source": [
    "# Super popular library for working with tabular data\n",
    "import pandas as pd\n",
    "import sys\n",
    "sys.path.append('../../scripts')\n",
    "from ai_tools import ask_ai"
   ]
  },
  {
   "cell_type": "markdown",
   "id": "reading-csv",
   "metadata": {},
   "source": [
    "### Reading CSV Files\n",
    "\n",
    "Imagine you have a bunch of information about customer tickets organized in a .csv file that you would like to understand a bit more about."
   ]
  },
  {
   "cell_type": "code",
   "execution_count": 9,
   "id": "load-csv",
   "metadata": {
    "execution": {
     "iopub.execute_input": "2025-09-18T13:11:54.456662Z",
     "iopub.status.busy": "2025-09-18T13:11:54.456517Z",
     "iopub.status.idle": "2025-09-18T13:11:54.462905Z",
     "shell.execute_reply": "2025-09-18T13:11:54.462655Z"
    }
   },
   "outputs": [
    {
     "data": {
      "text/html": [
       "<div>\n",
       "<style scoped>\n",
       "    .dataframe tbody tr th:only-of-type {\n",
       "        vertical-align: middle;\n",
       "    }\n",
       "\n",
       "    .dataframe tbody tr th {\n",
       "        vertical-align: top;\n",
       "    }\n",
       "\n",
       "    .dataframe thead th {\n",
       "        text-align: right;\n",
       "    }\n",
       "</style>\n",
       "<table border=\"1\" class=\"dataframe\">\n",
       "  <thead>\n",
       "    <tr style=\"text-align: right;\">\n",
       "      <th></th>\n",
       "      <th>customer_name</th>\n",
       "      <th>issue_description</th>\n",
       "      <th>priority</th>\n",
       "    </tr>\n",
       "  </thead>\n",
       "  <tbody>\n",
       "    <tr>\n",
       "      <th>0</th>\n",
       "      <td>Jane Doe</td>\n",
       "      <td>Customer was charged twice for the same transa...</td>\n",
       "      <td>High</td>\n",
       "    </tr>\n",
       "    <tr>\n",
       "      <th>1</th>\n",
       "      <td>John Smith</td>\n",
       "      <td>Customer unable to log into their account, fac...</td>\n",
       "      <td>Medium</td>\n",
       "    </tr>\n",
       "    <tr>\n",
       "      <th>2</th>\n",
       "      <td>Alice Johnson</td>\n",
       "      <td>Customer wants more information about product ...</td>\n",
       "      <td>Low</td>\n",
       "    </tr>\n",
       "    <tr>\n",
       "      <th>3</th>\n",
       "      <td>Bob Brown</td>\n",
       "      <td>Customer has not received the order yet, track...</td>\n",
       "      <td>High</td>\n",
       "    </tr>\n",
       "    <tr>\n",
       "      <th>4</th>\n",
       "      <td>Michael Lee</td>\n",
       "      <td>Customer wants to return a product and needs a...</td>\n",
       "      <td>Medium</td>\n",
       "    </tr>\n",
       "  </tbody>\n",
       "</table>\n",
       "</div>"
      ],
      "text/plain": [
       "   customer_name                                  issue_description priority\n",
       "0       Jane Doe  Customer was charged twice for the same transa...     High\n",
       "1     John Smith  Customer unable to log into their account, fac...   Medium\n",
       "2  Alice Johnson  Customer wants more information about product ...      Low\n",
       "3      Bob Brown  Customer has not received the order yet, track...     High\n",
       "4    Michael Lee  Customer wants to return a product and needs a...   Medium"
      ]
     },
     "execution_count": 9,
     "metadata": {},
     "output_type": "execute_result"
    }
   ],
   "source": [
    "data_customer_tickets = pd.read_csv(\"../assets/extracted_ticket_issues.csv\")\n",
    "\n",
    "data_customer_tickets"
   ]
  },
  {
   "cell_type": "markdown",
   "id": "data-description",
   "metadata": {},
   "source": [
    "The data contains 3 columns:\n",
    "1. `customer_name` - names of the customers\n",
    "2. `issue_description` - description of the issue they had\n",
    "3. `priority` - reference to the level of priority of that task"
   ]
  },
  {
   "cell_type": "markdown",
   "id": "filtering",
   "metadata": {},
   "source": [
    "### Filtering Data\n",
    "\n",
    "We could use Python to get for example only the high priority issues:"
   ]
  },
  {
   "cell_type": "code",
   "execution_count": 10,
   "id": "filter-data",
   "metadata": {
    "execution": {
     "iopub.execute_input": "2025-09-18T13:11:54.464216Z",
     "iopub.status.busy": "2025-09-18T13:11:54.464145Z",
     "iopub.status.idle": "2025-09-18T13:11:54.466348Z",
     "shell.execute_reply": "2025-09-18T13:11:54.466139Z"
    }
   },
   "outputs": [
    {
     "data": {
      "text/plain": [
       "0     True\n",
       "1    False\n",
       "2    False\n",
       "3     True\n",
       "4    False\n",
       "Name: priority, dtype: bool"
      ]
     },
     "execution_count": 10,
     "metadata": {},
     "output_type": "execute_result"
    }
   ],
   "source": [
    "# == indicates equivalence!\n",
    "data_customer_tickets[\"priority\"]==\"High\""
   ]
  },
  {
   "cell_type": "code",
   "execution_count": 11,
   "id": "high-priority",
   "metadata": {
    "execution": {
     "iopub.execute_input": "2025-09-18T13:11:54.467401Z",
     "iopub.status.busy": "2025-09-18T13:11:54.467339Z",
     "iopub.status.idle": "2025-09-18T13:11:54.470069Z",
     "shell.execute_reply": "2025-09-18T13:11:54.469878Z"
    }
   },
   "outputs": [
    {
     "data": {
      "text/html": [
       "<div>\n",
       "<style scoped>\n",
       "    .dataframe tbody tr th:only-of-type {\n",
       "        vertical-align: middle;\n",
       "    }\n",
       "\n",
       "    .dataframe tbody tr th {\n",
       "        vertical-align: top;\n",
       "    }\n",
       "\n",
       "    .dataframe thead th {\n",
       "        text-align: right;\n",
       "    }\n",
       "</style>\n",
       "<table border=\"1\" class=\"dataframe\">\n",
       "  <thead>\n",
       "    <tr style=\"text-align: right;\">\n",
       "      <th></th>\n",
       "      <th>customer_name</th>\n",
       "      <th>issue_description</th>\n",
       "      <th>priority</th>\n",
       "    </tr>\n",
       "  </thead>\n",
       "  <tbody>\n",
       "    <tr>\n",
       "      <th>0</th>\n",
       "      <td>Jane Doe</td>\n",
       "      <td>Customer was charged twice for the same transa...</td>\n",
       "      <td>High</td>\n",
       "    </tr>\n",
       "    <tr>\n",
       "      <th>3</th>\n",
       "      <td>Bob Brown</td>\n",
       "      <td>Customer has not received the order yet, track...</td>\n",
       "      <td>High</td>\n",
       "    </tr>\n",
       "  </tbody>\n",
       "</table>\n",
       "</div>"
      ],
      "text/plain": [
       "  customer_name                                  issue_description priority\n",
       "0      Jane Doe  Customer was charged twice for the same transa...     High\n",
       "3     Bob Brown  Customer has not received the order yet, track...     High"
      ]
     },
     "execution_count": 11,
     "metadata": {},
     "output_type": "execute_result"
    }
   ],
   "source": [
    "high_priority_issues = data_customer_tickets[data_customer_tickets[\"priority\"]==\"High\"]\n",
    "\n",
    "# Now we can take a look at the issues themselves:\n",
    "high_priority_issues"
   ]
  },
  {
   "cell_type": "markdown",
   "id": "ai-categorization",
   "metadata": {},
   "source": [
    "### Using AI for Data Categorization\n",
    "\n",
    "Awesome! What we could do now is for example use our `ask_ai` tool to categorize the issues for us to help organizing the information, and then feed that back into the table:"
   ]
  },
  {
   "cell_type": "code",
   "execution_count": 12,
   "id": "categorize",
   "metadata": {
    "execution": {
     "iopub.execute_input": "2025-09-18T13:11:54.471301Z",
     "iopub.status.busy": "2025-09-18T13:11:54.471237Z",
     "iopub.status.idle": "2025-09-18T13:11:55.386303Z",
     "shell.execute_reply": "2025-09-18T13:11:55.385193Z"
    }
   },
   "outputs": [
    {
     "name": "stdout",
     "output_type": "stream",
     "text": [
      "Categorizing issue: Customer was charged twice for the same transaction.\n"
     ]
    },
    {
     "name": "stdout",
     "output_type": "stream",
     "text": [
      "Category: Billing\n",
      "Categorizing issue: Customer has not received the order yet, tracking information shows a delay.\n"
     ]
    },
    {
     "name": "stdout",
     "output_type": "stream",
     "text": [
      "Category: Delay\n"
     ]
    }
   ],
   "source": [
    "categories_list = []\n",
    "for issue in high_priority_issues[\"issue_description\"]:\n",
    "    print(f\"Categorizing issue: {issue}\")\n",
    "    category = ask_ai(f\"Categorize this issue in just one single word and OUTPUT ONLY THAT WORD:\\n\\n issue: {issue}\\n category: \\n\")\n",
    "    print(f\"Category: {category}\")\n",
    "    categories_list.append(category)"
   ]
  },
  {
   "cell_type": "markdown",
   "id": "updating-df",
   "metadata": {},
   "source": [
    "Notice we use concepts we've learned before by looping over the issues, saving them to a list.\n",
    "\n",
    "Now with that information in hand we can actually update the dataframe accordingly, first we create a new column in the dataframe:"
   ]
  },
  {
   "cell_type": "code",
   "execution_count": 13,
   "id": "add-column",
   "metadata": {
    "execution": {
     "iopub.execute_input": "2025-09-18T13:11:55.389893Z",
     "iopub.status.busy": "2025-09-18T13:11:55.389606Z",
     "iopub.status.idle": "2025-09-18T13:11:55.399786Z",
     "shell.execute_reply": "2025-09-18T13:11:55.399327Z"
    }
   },
   "outputs": [
    {
     "data": {
      "text/html": [
       "<div>\n",
       "<style scoped>\n",
       "    .dataframe tbody tr th:only-of-type {\n",
       "        vertical-align: middle;\n",
       "    }\n",
       "\n",
       "    .dataframe tbody tr th {\n",
       "        vertical-align: top;\n",
       "    }\n",
       "\n",
       "    .dataframe thead th {\n",
       "        text-align: right;\n",
       "    }\n",
       "</style>\n",
       "<table border=\"1\" class=\"dataframe\">\n",
       "  <thead>\n",
       "    <tr style=\"text-align: right;\">\n",
       "      <th></th>\n",
       "      <th>customer_name</th>\n",
       "      <th>issue_description</th>\n",
       "      <th>priority</th>\n",
       "      <th>issue_category</th>\n",
       "    </tr>\n",
       "  </thead>\n",
       "  <tbody>\n",
       "    <tr>\n",
       "      <th>0</th>\n",
       "      <td>Jane Doe</td>\n",
       "      <td>Customer was charged twice for the same transa...</td>\n",
       "      <td>High</td>\n",
       "      <td>Billing</td>\n",
       "    </tr>\n",
       "    <tr>\n",
       "      <th>1</th>\n",
       "      <td>John Smith</td>\n",
       "      <td>Customer unable to log into their account, fac...</td>\n",
       "      <td>Medium</td>\n",
       "      <td>None</td>\n",
       "    </tr>\n",
       "    <tr>\n",
       "      <th>2</th>\n",
       "      <td>Alice Johnson</td>\n",
       "      <td>Customer wants more information about product ...</td>\n",
       "      <td>Low</td>\n",
       "      <td>None</td>\n",
       "    </tr>\n",
       "    <tr>\n",
       "      <th>3</th>\n",
       "      <td>Bob Brown</td>\n",
       "      <td>Customer has not received the order yet, track...</td>\n",
       "      <td>High</td>\n",
       "      <td>Delay</td>\n",
       "    </tr>\n",
       "    <tr>\n",
       "      <th>4</th>\n",
       "      <td>Michael Lee</td>\n",
       "      <td>Customer wants to return a product and needs a...</td>\n",
       "      <td>Medium</td>\n",
       "      <td>None</td>\n",
       "    </tr>\n",
       "  </tbody>\n",
       "</table>\n",
       "</div>"
      ],
      "text/plain": [
       "   customer_name                                  issue_description priority  \\\n",
       "0       Jane Doe  Customer was charged twice for the same transa...     High   \n",
       "1     John Smith  Customer unable to log into their account, fac...   Medium   \n",
       "2  Alice Johnson  Customer wants more information about product ...      Low   \n",
       "3      Bob Brown  Customer has not received the order yet, track...     High   \n",
       "4    Michael Lee  Customer wants to return a product and needs a...   Medium   \n",
       "\n",
       "  issue_category  \n",
       "0        Billing  \n",
       "1           None  \n",
       "2           None  \n",
       "3          Delay  \n",
       "4           None  "
      ]
     },
     "execution_count": 13,
     "metadata": {},
     "output_type": "execute_result"
    }
   ],
   "source": [
    "data_customer_tickets[\"issue_category\"] = None\n",
    "\n",
    "# Update categories for high priority issues using the index from high_priority_issues\n",
    "for idx, category in zip(high_priority_issues.index, categories_list):\n",
    "    data_customer_tickets.loc[idx, \"issue_category\"] = category\n",
    "\n",
    "data_customer_tickets"
   ]
  },
  {
   "cell_type": "markdown",
   "id": "note-none",
   "metadata": {},
   "source": [
    "Notice that the issues for which we did not analyse still contain a `None` indicating they haven't been categorized yet!"
   ]
  },
  {
   "cell_type": "markdown",
   "id": "creating-data",
   "metadata": {},
   "source": [
    "## Creating and Managing Structured Data\n",
    "\n",
    "Besides analysing data, we can also create our own tables with information we care about.\n",
    "\n",
    "Let's start with a practical example - creating a camping trip gear checklist:"
   ]
  },
  {
   "cell_type": "code",
   "execution_count": 14,
   "id": "camping-gear",
   "metadata": {
    "execution": {
     "iopub.execute_input": "2025-09-18T13:11:55.402864Z",
     "iopub.status.busy": "2025-09-18T13:11:55.402657Z",
     "iopub.status.idle": "2025-09-18T13:11:55.411092Z",
     "shell.execute_reply": "2025-09-18T13:11:55.410711Z"
    }
   },
   "outputs": [
    {
     "name": "stdout",
     "output_type": "stream",
     "text": [
      "Camping Gear Checklist:\n"
     ]
    },
    {
     "data": {
      "text/html": [
       "<div>\n",
       "<style scoped>\n",
       "    .dataframe tbody tr th:only-of-type {\n",
       "        vertical-align: middle;\n",
       "    }\n",
       "\n",
       "    .dataframe tbody tr th {\n",
       "        vertical-align: top;\n",
       "    }\n",
       "\n",
       "    .dataframe thead th {\n",
       "        text-align: right;\n",
       "    }\n",
       "</style>\n",
       "<table border=\"1\" class=\"dataframe\">\n",
       "  <thead>\n",
       "    <tr style=\"text-align: right;\">\n",
       "      <th></th>\n",
       "      <th>item</th>\n",
       "      <th>priority</th>\n",
       "      <th>estimated_cost</th>\n",
       "      <th>packed</th>\n",
       "    </tr>\n",
       "  </thead>\n",
       "  <tbody>\n",
       "    <tr>\n",
       "      <th>0</th>\n",
       "      <td>Tent</td>\n",
       "      <td>Essential</td>\n",
       "      <td>299.99</td>\n",
       "      <td>False</td>\n",
       "    </tr>\n",
       "    <tr>\n",
       "      <th>1</th>\n",
       "      <td>Sleeping Bag</td>\n",
       "      <td>Essential</td>\n",
       "      <td>149.99</td>\n",
       "      <td>False</td>\n",
       "    </tr>\n",
       "    <tr>\n",
       "      <th>2</th>\n",
       "      <td>Backpack</td>\n",
       "      <td>Essential</td>\n",
       "      <td>199.99</td>\n",
       "      <td>False</td>\n",
       "    </tr>\n",
       "    <tr>\n",
       "      <th>3</th>\n",
       "      <td>Hiking Boots</td>\n",
       "      <td>Essential</td>\n",
       "      <td>159.99</td>\n",
       "      <td>False</td>\n",
       "    </tr>\n",
       "    <tr>\n",
       "      <th>4</th>\n",
       "      <td>Water Filter</td>\n",
       "      <td>High</td>\n",
       "      <td>89.99</td>\n",
       "      <td>False</td>\n",
       "    </tr>\n",
       "    <tr>\n",
       "      <th>5</th>\n",
       "      <td>First Aid Kit</td>\n",
       "      <td>Essential</td>\n",
       "      <td>49.99</td>\n",
       "      <td>False</td>\n",
       "    </tr>\n",
       "    <tr>\n",
       "      <th>6</th>\n",
       "      <td>Headlamp</td>\n",
       "      <td>High</td>\n",
       "      <td>39.99</td>\n",
       "      <td>False</td>\n",
       "    </tr>\n",
       "    <tr>\n",
       "      <th>7</th>\n",
       "      <td>Camp Stove</td>\n",
       "      <td>Medium</td>\n",
       "      <td>79.99</td>\n",
       "      <td>False</td>\n",
       "    </tr>\n",
       "  </tbody>\n",
       "</table>\n",
       "</div>"
      ],
      "text/plain": [
       "            item   priority  estimated_cost  packed\n",
       "0           Tent  Essential          299.99   False\n",
       "1   Sleeping Bag  Essential          149.99   False\n",
       "2       Backpack  Essential          199.99   False\n",
       "3   Hiking Boots  Essential          159.99   False\n",
       "4   Water Filter       High           89.99   False\n",
       "5  First Aid Kit  Essential           49.99   False\n",
       "6       Headlamp       High           39.99   False\n",
       "7     Camp Stove     Medium           79.99   False"
      ]
     },
     "metadata": {},
     "output_type": "display_data"
    }
   ],
   "source": [
    "# Create a camping gear checklist\n",
    "camping_gear = {\n",
    "    \"item\": [\n",
    "        \"Tent\", \"Sleeping Bag\", \"Backpack\", \"Hiking Boots\",\n",
    "        \"Water Filter\", \"First Aid Kit\", \"Headlamp\", \"Camp Stove\"\n",
    "    ],\n",
    "    \"priority\": [\n",
    "        \"Essential\", \"Essential\", \"Essential\", \"Essential\",\n",
    "        \"High\", \"Essential\", \"High\", \"Medium\"\n",
    "    ],\n",
    "    \"estimated_cost\": [\n",
    "        299.99, 149.99, 199.99, 159.99,\n",
    "        89.99, 49.99, 39.99, 79.99\n",
    "    ],\n",
    "    \"packed\": [\n",
    "        False, False, False, False,\n",
    "        False, False, False, False\n",
    "    ]\n",
    "}\n",
    "\n",
    "# Convert to DataFrame\n",
    "gear_df = pd.DataFrame(camping_gear)\n",
    "print(\"Camping Gear Checklist:\")\n",
    "display(gear_df)"
   ]
  },
  {
   "cell_type": "markdown",
   "id": "data-filters",
   "metadata": {},
   "source": [
    "### Working with Data Filters\n",
    "\n",
    "Let's demonstrate how to filter and analyze our data:"
   ]
  },
  {
   "cell_type": "code",
   "execution_count": 15,
   "id": "analyze-gear",
   "metadata": {
    "execution": {
     "iopub.execute_input": "2025-09-18T13:11:55.413226Z",
     "iopub.status.busy": "2025-09-18T13:11:55.413006Z",
     "iopub.status.idle": "2025-09-18T13:11:55.417338Z",
     "shell.execute_reply": "2025-09-18T13:11:55.417125Z"
    }
   },
   "outputs": [
    {
     "name": "stdout",
     "output_type": "stream",
     "text": [
      "Total cost of essential gear: $859.95\n",
      "\n",
      "Unpacked essential items:\n"
     ]
    },
    {
     "data": {
      "text/html": [
       "<div>\n",
       "<style scoped>\n",
       "    .dataframe tbody tr th:only-of-type {\n",
       "        vertical-align: middle;\n",
       "    }\n",
       "\n",
       "    .dataframe tbody tr th {\n",
       "        vertical-align: top;\n",
       "    }\n",
       "\n",
       "    .dataframe thead th {\n",
       "        text-align: right;\n",
       "    }\n",
       "</style>\n",
       "<table border=\"1\" class=\"dataframe\">\n",
       "  <thead>\n",
       "    <tr style=\"text-align: right;\">\n",
       "      <th></th>\n",
       "      <th>item</th>\n",
       "      <th>estimated_cost</th>\n",
       "    </tr>\n",
       "  </thead>\n",
       "  <tbody>\n",
       "    <tr>\n",
       "      <th>0</th>\n",
       "      <td>Tent</td>\n",
       "      <td>299.99</td>\n",
       "    </tr>\n",
       "    <tr>\n",
       "      <th>1</th>\n",
       "      <td>Sleeping Bag</td>\n",
       "      <td>149.99</td>\n",
       "    </tr>\n",
       "    <tr>\n",
       "      <th>2</th>\n",
       "      <td>Backpack</td>\n",
       "      <td>199.99</td>\n",
       "    </tr>\n",
       "    <tr>\n",
       "      <th>3</th>\n",
       "      <td>Hiking Boots</td>\n",
       "      <td>159.99</td>\n",
       "    </tr>\n",
       "    <tr>\n",
       "      <th>5</th>\n",
       "      <td>First Aid Kit</td>\n",
       "      <td>49.99</td>\n",
       "    </tr>\n",
       "  </tbody>\n",
       "</table>\n",
       "</div>"
      ],
      "text/plain": [
       "            item  estimated_cost\n",
       "0           Tent          299.99\n",
       "1   Sleeping Bag          149.99\n",
       "2       Backpack          199.99\n",
       "3   Hiking Boots          159.99\n",
       "5  First Aid Kit           49.99"
      ]
     },
     "metadata": {},
     "output_type": "display_data"
    }
   ],
   "source": [
    "def analyze_gear_requirements():\n",
    "    # Filter essential items\n",
    "    essential_gear = gear_df[gear_df['priority'] == 'Essential']\n",
    "    \n",
    "    # Calculate total cost of essential items\n",
    "    essential_cost = essential_gear['estimated_cost'].sum()\n",
    "    \n",
    "    # Get unpacked essential items\n",
    "    unpacked_essential = essential_gear[~essential_gear['packed']]\n",
    "    \n",
    "    print(f\"Total cost of essential gear: ${essential_cost:.2f}\")\n",
    "    print(\"\\nUnpacked essential items:\")\n",
    "    display(unpacked_essential[['item', 'estimated_cost']])\n",
    "\n",
    "analyze_gear_requirements()"
   ]
  },
  {
   "cell_type": "markdown",
   "id": "itinerary",
   "metadata": {},
   "source": [
    "### Creating a Trip Itinerary\n",
    "\n",
    "Let's create a more complex example with a detailed trip itinerary:"
   ]
  },
  {
   "cell_type": "code",
   "execution_count": 16,
   "id": "create-itinerary",
   "metadata": {
    "execution": {
     "iopub.execute_input": "2025-09-18T13:11:55.418470Z",
     "iopub.status.busy": "2025-09-18T13:11:55.418403Z",
     "iopub.status.idle": "2025-09-18T13:11:55.423665Z",
     "shell.execute_reply": "2025-09-18T13:11:55.423314Z"
    }
   },
   "outputs": [
    {
     "name": "stdout",
     "output_type": "stream",
     "text": [
      "Trip Itinerary:\n"
     ]
    },
    {
     "data": {
      "text/html": [
       "<div>\n",
       "<style scoped>\n",
       "    .dataframe tbody tr th:only-of-type {\n",
       "        vertical-align: middle;\n",
       "    }\n",
       "\n",
       "    .dataframe tbody tr th {\n",
       "        vertical-align: top;\n",
       "    }\n",
       "\n",
       "    .dataframe thead th {\n",
       "        text-align: right;\n",
       "    }\n",
       "</style>\n",
       "<table border=\"1\" class=\"dataframe\">\n",
       "  <thead>\n",
       "    <tr style=\"text-align: right;\">\n",
       "      <th></th>\n",
       "      <th>day</th>\n",
       "      <th>date</th>\n",
       "      <th>activity</th>\n",
       "      <th>location</th>\n",
       "      <th>distance_km</th>\n",
       "      <th>difficulty</th>\n",
       "    </tr>\n",
       "  </thead>\n",
       "  <tbody>\n",
       "    <tr>\n",
       "      <th>0</th>\n",
       "      <td>1</td>\n",
       "      <td>2024-06-01</td>\n",
       "      <td>Arrival and Camp Setup</td>\n",
       "      <td>Basecamp Area</td>\n",
       "      <td>2</td>\n",
       "      <td>Easy</td>\n",
       "    </tr>\n",
       "    <tr>\n",
       "      <th>1</th>\n",
       "      <td>2</td>\n",
       "      <td>2024-06-02</td>\n",
       "      <td>Mountain Trail Hike</td>\n",
       "      <td>Mountain Ridge Trail</td>\n",
       "      <td>8</td>\n",
       "      <td>Hard</td>\n",
       "    </tr>\n",
       "    <tr>\n",
       "      <th>2</th>\n",
       "      <td>3</td>\n",
       "      <td>2024-06-03</td>\n",
       "      <td>Lake Exploration</td>\n",
       "      <td>Crystal Lake</td>\n",
       "      <td>5</td>\n",
       "      <td>Moderate</td>\n",
       "    </tr>\n",
       "    <tr>\n",
       "      <th>3</th>\n",
       "      <td>4</td>\n",
       "      <td>2024-06-04</td>\n",
       "      <td>Forest Adventure</td>\n",
       "      <td>Ancient Forest</td>\n",
       "      <td>6</td>\n",
       "      <td>Moderate</td>\n",
       "    </tr>\n",
       "    <tr>\n",
       "      <th>4</th>\n",
       "      <td>5</td>\n",
       "      <td>2024-06-05</td>\n",
       "      <td>Pack and Departure</td>\n",
       "      <td>Basecamp Area</td>\n",
       "      <td>2</td>\n",
       "      <td>Easy</td>\n",
       "    </tr>\n",
       "  </tbody>\n",
       "</table>\n",
       "</div>"
      ],
      "text/plain": [
       "   day       date                activity              location  distance_km  \\\n",
       "0    1 2024-06-01  Arrival and Camp Setup         Basecamp Area            2   \n",
       "1    2 2024-06-02     Mountain Trail Hike  Mountain Ridge Trail            8   \n",
       "2    3 2024-06-03        Lake Exploration          Crystal Lake            5   \n",
       "3    4 2024-06-04        Forest Adventure        Ancient Forest            6   \n",
       "4    5 2024-06-05      Pack and Departure         Basecamp Area            2   \n",
       "\n",
       "  difficulty  \n",
       "0       Easy  \n",
       "1       Hard  \n",
       "2   Moderate  \n",
       "3   Moderate  \n",
       "4       Easy  "
      ]
     },
     "metadata": {},
     "output_type": "display_data"
    }
   ],
   "source": [
    "def create_trip_itinerary():\n",
    "    itinerary_data = {\n",
    "        'day': range(1, 6),\n",
    "        'date': pd.date_range('2024-06-01', periods=5),\n",
    "        'activity': [\n",
    "            'Arrival and Camp Setup',\n",
    "            'Mountain Trail Hike',\n",
    "            'Lake Exploration',\n",
    "            'Forest Adventure',\n",
    "            'Pack and Departure'\n",
    "        ],\n",
    "        'location': [\n",
    "            'Basecamp Area',\n",
    "            'Mountain Ridge Trail',\n",
    "            'Crystal Lake',\n",
    "            'Ancient Forest',\n",
    "            'Basecamp Area'\n",
    "        ],\n",
    "        'distance_km': [2, 8, 5, 6, 2],\n",
    "        'difficulty': [\n",
    "            'Easy',\n",
    "            'Hard',\n",
    "            'Moderate',\n",
    "            'Moderate',\n",
    "            'Easy'\n",
    "        ]\n",
    "    }\n",
    "    \n",
    "    itinerary_df = pd.DataFrame(itinerary_data)\n",
    "    return itinerary_df\n",
    "\n",
    "# Create and display the itinerary\n",
    "trip_itinerary = create_trip_itinerary()\n",
    "print(\"Trip Itinerary:\")\n",
    "display(trip_itinerary)"
   ]
  },
  {
   "cell_type": "markdown",
   "id": "trip-stats",
   "metadata": {},
   "source": [
    "### Analyzing Trip Statistics\n",
    "\n",
    "Let's add some analysis to our trip planning:"
   ]
  },
  {
   "cell_type": "code",
   "execution_count": 17,
   "id": "analyze-trip",
   "metadata": {
    "execution": {
     "iopub.execute_input": "2025-09-18T13:11:55.425344Z",
     "iopub.status.busy": "2025-09-18T13:11:55.425215Z",
     "iopub.status.idle": "2025-09-18T13:11:55.430196Z",
     "shell.execute_reply": "2025-09-18T13:11:55.429879Z"
    }
   },
   "outputs": [
    {
     "name": "stdout",
     "output_type": "stream",
     "text": [
      "Trip Analysis:\n",
      "Total distance: 23 km\n",
      "\n",
      "Difficulty breakdown:\n"
     ]
    },
    {
     "data": {
      "text/plain": [
       "difficulty\n",
       "Easy        2\n",
       "Moderate    2\n",
       "Hard        1\n",
       "Name: count, dtype: int64"
      ]
     },
     "metadata": {},
     "output_type": "display_data"
    },
    {
     "name": "stdout",
     "output_type": "stream",
     "text": [
      "\n",
      "Longest day: Day 2 - Mountain Trail Hike\n",
      "Distance: 8 km\n"
     ]
    }
   ],
   "source": [
    "def analyze_trip_metrics(itinerary_df):\n",
    "    # Calculate total distance\n",
    "    total_distance = itinerary_df['distance_km'].sum()\n",
    "    \n",
    "    # Get difficulty breakdown\n",
    "    difficulty_counts = itinerary_df['difficulty'].value_counts()\n",
    "    \n",
    "    # Find longest day\n",
    "    longest_day = itinerary_df.loc[itinerary_df['distance_km'].idxmax()]\n",
    "    \n",
    "    print(f\"Trip Analysis:\")\n",
    "    print(f\"Total distance: {total_distance} km\")\n",
    "    print(\"\\nDifficulty breakdown:\")\n",
    "    display(difficulty_counts)\n",
    "    print(f\"\\nLongest day: Day {longest_day['day']} - {longest_day['activity']}\")\n",
    "    print(f\"Distance: {longest_day['distance_km']} km\")\n",
    "\n",
    "analyze_trip_metrics(trip_itinerary)"
   ]
  },
  {
   "cell_type": "markdown",
   "id": "export-data",
   "metadata": {},
   "source": [
    "### Exporting and Saving Data\n",
    "\n",
    "Let's see how to save our data for later use:"
   ]
  },
  {
   "cell_type": "code",
   "execution_count": 18,
   "id": "export-csv",
   "metadata": {
    "execution": {
     "iopub.execute_input": "2025-09-18T13:11:55.431632Z",
     "iopub.status.busy": "2025-09-18T13:11:55.431516Z",
     "iopub.status.idle": "2025-09-18T13:11:55.435856Z",
     "shell.execute_reply": "2025-09-18T13:11:55.435593Z"
    }
   },
   "outputs": [
    {
     "name": "stdout",
     "output_type": "stream",
     "text": [
      "Data exported to camping_trip_gear.csv and camping_trip_itinerary.csv\n"
     ]
    }
   ],
   "source": [
    "def export_trip_data(gear_df, itinerary_df, filename_prefix):\n",
    "    # Export to CSV\n",
    "    gear_df.to_csv(f\"{filename_prefix}_gear.csv\", index=False)\n",
    "    itinerary_df.to_csv(f\"{filename_prefix}_itinerary.csv\", index=False)\n",
    "    print(f\"Data exported to {filename_prefix}_gear.csv and {filename_prefix}_itinerary.csv\")\n",
    "\n",
    "# Export our data\n",
    "export_trip_data(gear_df, trip_itinerary, \"camping_trip\")"
   ]
  },
  {
   "cell_type": "markdown",
   "id": "budget-calc",
   "metadata": {},
   "source": [
    "### Practical Exercise: Trip Budget Calculator\n",
    "\n",
    "Let's create a budget calculator for our trip:"
   ]
  },
  {
   "cell_type": "code",
   "execution_count": 19,
   "id": "budget-calculator",
   "metadata": {
    "execution": {
     "iopub.execute_input": "2025-09-18T13:11:55.437094Z",
     "iopub.status.busy": "2025-09-18T13:11:55.436997Z",
     "iopub.status.idle": "2025-09-18T13:11:55.441634Z",
     "shell.execute_reply": "2025-09-18T13:11:55.441393Z"
    }
   },
   "outputs": [
    {
     "name": "stdout",
     "output_type": "stream",
     "text": [
      "Trip Budget Summary:\n"
     ]
    },
    {
     "data": {
      "text/html": [
       "<div>\n",
       "<style scoped>\n",
       "    .dataframe tbody tr th:only-of-type {\n",
       "        vertical-align: middle;\n",
       "    }\n",
       "\n",
       "    .dataframe tbody tr th {\n",
       "        vertical-align: top;\n",
       "    }\n",
       "\n",
       "    .dataframe thead th {\n",
       "        text-align: right;\n",
       "    }\n",
       "</style>\n",
       "<table border=\"1\" class=\"dataframe\">\n",
       "  <thead>\n",
       "    <tr style=\"text-align: right;\">\n",
       "      <th></th>\n",
       "      <th>Category</th>\n",
       "      <th>Cost</th>\n",
       "      <th>Percentage</th>\n",
       "    </tr>\n",
       "  </thead>\n",
       "  <tbody>\n",
       "    <tr>\n",
       "      <th>0</th>\n",
       "      <td>Gear</td>\n",
       "      <td>1069.92</td>\n",
       "      <td>79.6</td>\n",
       "    </tr>\n",
       "    <tr>\n",
       "      <th>1</th>\n",
       "      <td>Food</td>\n",
       "      <td>150.00</td>\n",
       "      <td>11.2</td>\n",
       "    </tr>\n",
       "    <tr>\n",
       "      <th>2</th>\n",
       "      <td>Fuel</td>\n",
       "      <td>50.00</td>\n",
       "      <td>3.7</td>\n",
       "    </tr>\n",
       "    <tr>\n",
       "      <th>3</th>\n",
       "      <td>Miscellaneous</td>\n",
       "      <td>75.00</td>\n",
       "      <td>5.6</td>\n",
       "    </tr>\n",
       "  </tbody>\n",
       "</table>\n",
       "</div>"
      ],
      "text/plain": [
       "        Category     Cost  Percentage\n",
       "0           Gear  1069.92        79.6\n",
       "1           Food   150.00        11.2\n",
       "2           Fuel    50.00         3.7\n",
       "3  Miscellaneous    75.00         5.6"
      ]
     },
     "metadata": {},
     "output_type": "display_data"
    }
   ],
   "source": [
    "def calculate_trip_budget(gear_df, itinerary_df):\n",
    "    # Equipment costs\n",
    "    total_gear_cost = gear_df['estimated_cost'].sum()\n",
    "    \n",
    "    # Daily expenses (example values)\n",
    "    daily_expenses = {\n",
    "        'food': 30,\n",
    "        'fuel': 10,\n",
    "        'miscellaneous': 15\n",
    "    }\n",
    "    \n",
    "    num_days = len(itinerary_df)\n",
    "    daily_total = sum(daily_expenses.values())\n",
    "    total_daily_costs = daily_total * num_days\n",
    "    \n",
    "    # Create budget summary\n",
    "    budget_summary = pd.DataFrame({\n",
    "        'Category': ['Gear', 'Food', 'Fuel', 'Miscellaneous'],\n",
    "        'Cost': [\n",
    "            total_gear_cost,\n",
    "            daily_expenses['food'] * num_days,\n",
    "            daily_expenses['fuel'] * num_days,\n",
    "            daily_expenses['miscellaneous'] * num_days\n",
    "        ]\n",
    "    })\n",
    "    \n",
    "    budget_summary['Percentage'] = (\n",
    "        budget_summary['Cost'] / budget_summary['Cost'].sum() * 100\n",
    "    ).round(1)\n",
    "    \n",
    "    return budget_summary\n",
    "\n",
    "# Calculate and display budget\n",
    "budget = calculate_trip_budget(gear_df, trip_itinerary)\n",
    "print(\"Trip Budget Summary:\")\n",
    "display(budget)"
   ]
  },
  {
   "cell_type": "markdown",
   "id": "summary",
   "metadata": {},
   "source": [
    "## Key Takeaways\n",
    "\n",
    "### Working with Files\n",
    "- Always use `with` statements when working with files to ensure proper closure\n",
    "- Different file modes serve different purposes:\n",
    "  - `\"r\"` for reading\n",
    "  - `\"w\"` for writing (creates new/overwrites)\n",
    "  - `\"a\"` for appending\n",
    "  - `\"r+\"` for reading and writing\n",
    "- Always handle potential file-related exceptions\n",
    "- File operations can be combined with data processing for powerful automation\n",
    "- Consider creating helper functions for common file operations\n",
    "\n",
    "### Working with CSV and Tabular Data\n",
    "- Pandas provides powerful tools for working with tabular data\n",
    "- DataFrames can be filtered and analyzed in various ways\n",
    "- Data can be exported to different formats (CSV, Excel)\n",
    "- Structured data makes analysis and planning easier\n",
    "- Always consider data types when creating DataFrames\n",
    "- Use appropriate column names and data organization\n",
    "- Remember to handle missing data appropriately\n",
    "\n",
    "### Combining AI with Data Processing\n",
    "- AI tools can be integrated with file and data operations for enhanced automation\n",
    "- Use AI for tasks like summarization, categorization, and information extraction\n",
    "- Combine traditional data processing with AI capabilities for powerful workflows\n",
    "\n",
    "In the next lesson, we'll explore Python packages, APIs, and more advanced data processing techniques!"
   ]
  }
 ],
 "metadata": {
  "kernelspec": {
   "display_name": "Python 3",
   "language": "python",
   "name": "python3"
  },
  "language_info": {
   "codemirror_mode": {
    "name": "ipython",
    "version": 3
   },
   "file_extension": ".py",
   "mimetype": "text/x-python",
   "name": "python",
   "nbconvert_exporter": "python",
   "pygments_lexer": "ipython3",
   "version": "3.11.9"
  }
 },
 "nbformat": 4,
 "nbformat_minor": 5
}
