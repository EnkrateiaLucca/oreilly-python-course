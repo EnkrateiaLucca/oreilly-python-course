{
 "cells": [
  {
   "cell_type": "markdown",
   "id": "647567e9-b35c-4cd1-86ab-c4d02d9d5e15",
   "metadata": {},
   "source": [
    "# Introduction to Python\n",
    "## Data Types, Variables, Operations"
   ]
  },
  {
   "cell_type": "code",
   "execution_count": 3,
   "id": "6b193233-f8fe-4c69-8335-d0e80b938d03",
   "metadata": {},
   "outputs": [
    {
     "data": {
      "text/plain": [
       "'Lucas'"
      ]
     },
     "execution_count": 3,
     "metadata": {},
     "output_type": "execute_result"
    }
   ],
   "source": [
    "# defining a variable which is of data type string\n",
    "a = \"Lucas\"\n",
    "a"
   ]
  },
  {
   "cell_type": "code",
   "execution_count": 2,
   "id": "b32ed9bc-558a-4514-a632-f8e78f90ba14",
   "metadata": {},
   "outputs": [
    {
     "name": "stdout",
     "output_type": "stream",
     "text": [
      "Lucas\n"
     ]
    }
   ],
   "source": [
    "print(a)"
   ]
  },
  {
   "cell_type": "markdown",
   "id": "9cf5acbf-8516-4d93-a828-58a92d6ef82d",
   "metadata": {},
   "source": [
    "What kinds of data types are out there? What are the most common?\n",
    "I love this question!"
   ]
  },
  {
   "cell_type": "code",
   "execution_count": 4,
   "id": "700285d3-d229-486f-9b69-6e72c3ce6b5e",
   "metadata": {},
   "outputs": [
    {
     "name": "stdout",
     "output_type": "stream",
     "text": [
      "<class 'int'>\n",
      "<class 'float'>\n",
      "<class 'str'>\n",
      "<class 'list'>\n"
     ]
    }
   ],
   "source": [
    "# integer number -> whole number\n",
    "number = 10\n",
    "# float number -> with decimals\n",
    "decimal_numbers = 10.5\n",
    "# Text? -> string\n",
    "text_to_my_wonderful_audience = 'Can you read this text easily folks?'\n",
    "# List of numbers and text in the same place?\n",
    "list_numbers_and_text = [10, 2, 'some text', 1.2]\n",
    "print(type(number))\n",
    "print(type(decimal_numbers))\n",
    "print(type(text_to_my_wonderful_audience))\n",
    "print(type(list_numbers_and_text))"
   ]
  },
  {
   "cell_type": "markdown",
   "id": "a21eabe0-dc27-46f5-b83e-959689b75c0c",
   "metadata": {},
   "source": [
    "# Operations?"
   ]
  },
  {
   "cell_type": "code",
   "execution_count": 5,
   "id": "f3436984-dfe5-472b-bebf-7ae6713a737c",
   "metadata": {},
   "outputs": [
    {
     "data": {
      "text/plain": [
       "20"
      ]
     },
     "execution_count": 5,
     "metadata": {},
     "output_type": "execute_result"
    }
   ],
   "source": [
    "# add numbers\n",
    "10 + 10"
   ]
  },
  {
   "cell_type": "code",
   "execution_count": 6,
   "id": "16e4f29f-83ac-4fd7-81e8-9902d45ed1fd",
   "metadata": {},
   "outputs": [
    {
     "data": {
      "text/plain": [
       "100"
      ]
     },
     "execution_count": 6,
     "metadata": {},
     "output_type": "execute_result"
    }
   ],
   "source": [
    "# multiply numbers \n",
    "10*10"
   ]
  },
  {
   "cell_type": "code",
   "execution_count": 7,
   "id": "e2636841-10ad-4177-8728-dd6975ed6e3b",
   "metadata": {},
   "outputs": [
    {
     "data": {
      "text/plain": [
       "8"
      ]
     },
     "execution_count": 7,
     "metadata": {},
     "output_type": "execute_result"
    }
   ],
   "source": [
    "# subtract\n",
    "10-2"
   ]
  },
  {
   "cell_type": "code",
   "execution_count": 8,
   "id": "e86681ab-f98d-4028-b720-0e1863c50fb0",
   "metadata": {},
   "outputs": [
    {
     "data": {
      "text/plain": [
       "5.0"
      ]
     },
     "execution_count": 8,
     "metadata": {},
     "output_type": "execute_result"
    }
   ],
   "source": [
    "# divide \n",
    "10/2"
   ]
  },
  {
   "cell_type": "markdown",
   "id": "30b7dc31-d1e4-4245-b5ca-0d6c12b29854",
   "metadata": {},
   "source": [
    "## Operations with text?"
   ]
  },
  {
   "cell_type": "code",
   "execution_count": 9,
   "id": "88f857b2-cd2b-44ae-a4ed-cba8cc5db9c7",
   "metadata": {},
   "outputs": [
    {
     "data": {
      "text/plain": [
       "'lucas is teaching a live course on automation and its going super well (lol).'"
      ]
     },
     "execution_count": 9,
     "metadata": {},
     "output_type": "execute_result"
    }
   ],
   "source": [
    "# operations in text\n",
    "sentence = 'lucas is teaching a live course on automation'\n",
    "second_part_of_sentence = ' and its going super well (lol).'\n",
    "# concatenate these 2 sentences together?\n",
    "sentence + second_part_of_sentence"
   ]
  },
  {
   "cell_type": "code",
   "execution_count": 10,
   "id": "00d51d47-71f3-4854-bc0c-7ed64c27ff86",
   "metadata": {},
   "outputs": [
    {
     "data": {
      "text/plain": [
       "'Folks! Lets have a great course! Excited to talk about:were gonna talk about string operations'"
      ]
     },
     "execution_count": 10,
     "metadata": {},
     "output_type": "execute_result"
    }
   ],
   "source": [
    "sentence = 'were gonna talk about string operations'\n",
    "template_text = f'Folks! Lets have a great course! Excited to talk about:{sentence}'\n",
    "template_text"
   ]
  },
  {
   "cell_type": "code",
   "execution_count": 11,
   "id": "bfb6286a-a31a-4ad5-98f9-47257198fe6b",
   "metadata": {},
   "outputs": [
    {
     "data": {
      "text/plain": [
       "'10 plus 20 = 30'"
      ]
     },
     "execution_count": 11,
     "metadata": {},
     "output_type": "execute_result"
    }
   ],
   "source": [
    "number1 = 10\n",
    "number2 = 20\n",
    "result = number1 + number2\n",
    "calculation_result = f'{number1} plus {number2} = {result}'\n",
    "calculation_result"
   ]
  },
  {
   "cell_type": "code",
   "execution_count": 13,
   "id": "e284d5d6-a00a-4e31-8110-1a423e79263e",
   "metadata": {},
   "outputs": [
    {
     "data": {
      "text/plain": [
       "6"
      ]
     },
     "execution_count": 13,
     "metadata": {},
     "output_type": "execute_result"
    }
   ],
   "source": [
    "shopping_list = [1, 2, 3]\n",
    "# I want to perform some sort of transformation to this shopping list\n",
    "sum(shopping_list)"
   ]
  },
  {
   "cell_type": "markdown",
   "id": "571874bd-4085-4c59-a557-aff7e42eab54",
   "metadata": {},
   "source": [
    "# Exercise\n",
    "# Create a script that calculates the multiple operations with different numbers and print them out in organized fashion"
   ]
  },
  {
   "cell_type": "code",
   "execution_count": 17,
   "id": "c218614e-d1f0-4348-bf05-6eb8cd0efabc",
   "metadata": {},
   "outputs": [
    {
     "name": "stdout",
     "output_type": "stream",
     "text": [
      "Subtract: 6\n",
      "Add: 12\n",
      "Multiply: 27\n",
      "Divide: 3.0\n",
      "Exponent: 729\n"
     ]
    }
   ],
   "source": [
    "# Subtract: 6 Add: 12 Multiply: 27 Divide: 3.0 Exponent: 729\n",
    "a = 9\n",
    "b = 3\n",
    "print(f\"Subtract: {a-b}\")\n",
    "print(f\"Add: {a+b}\")\n",
    "print(f\"Multiply: {a*b}\")\n",
    "print(f\"Divide: {a/b}\")\n",
    "print(f\"Exponent: {a**b}\")"
   ]
  },
  {
   "cell_type": "markdown",
   "id": "b1a1960a-bfe7-4531-a998-55e6006bdbd6",
   "metadata": {},
   "source": [
    "# Functions, Booleans, Logical Operators"
   ]
  },
  {
   "cell_type": "code",
   "execution_count": 18,
   "id": "afa1bce8-e7f2-4d2b-9d7d-cbf61c518fcd",
   "metadata": {},
   "outputs": [
    {
     "data": {
      "text/plain": [
       "True"
      ]
     },
     "execution_count": 18,
     "metadata": {},
     "output_type": "execute_result"
    }
   ],
   "source": [
    "boolean_value = True\n",
    "boolean_value"
   ]
  },
  {
   "cell_type": "code",
   "execution_count": 19,
   "id": "ca2d9658-3a9e-44a6-a3e1-b8c30b01bb44",
   "metadata": {},
   "outputs": [
    {
     "data": {
      "text/plain": [
       "bool"
      ]
     },
     "execution_count": 19,
     "metadata": {},
     "output_type": "execute_result"
    }
   ],
   "source": [
    "type(boolean_value)"
   ]
  },
  {
   "cell_type": "code",
   "execution_count": 36,
   "id": "cf7602d1-4d41-4183-95d0-3a7a970bf6b4",
   "metadata": {},
   "outputs": [
    {
     "data": {
      "text/html": [
       "\n",
       "<style>\n",
       "    .dashboard { font-family: Arial, sans-serif; padding: 10px; line-height: 1.6; }\n",
       "    .section { margin-bottom: 30px; }\n",
       "    h2 { color: #2c3e50; border-bottom: 2px solid #ccc; padding-bottom: 5px; }\n",
       "    table { border-collapse: collapse; width: 100%; margin-top: 10px; }\n",
       "    th, td { border: 1px solid #ccc; padding: 6px 12px; text-align: left; }\n",
       "    th { background-color: #f0f0f0; }\n",
       "    code { background-color: #f4f4f4; padding: 2px 4px; border-radius: 4px; }\n",
       "    pre { background-color: #f8f8f8; padding: 10px; border-radius: 6px; }\n",
       "</style>\n",
       "\n",
       "<div class=\"dashboard\">\n",
       "    <div class=\"section\">\n",
       "        <h2>🔢 Data Types</h2>\n",
       "        <table>\n",
       "            <tr><th>Type</th><th>Example</th><th>Mutable</th></tr>\n",
       "            <tr><td>int</td><td><code>10</code></td><td>No</td></tr>\n",
       "            <tr><td>float</td><td><code>3.14</code></td><td>No</td></tr>\n",
       "            <tr><td>str</td><td><code>'hello'</code></td><td>No</td></tr>\n",
       "            <tr><td>bool</td><td><code>True</code></td><td>No</td></tr>\n",
       "            <tr><td>list</td><td><code>[1, 2, 3]</code></td><td>Yes</td></tr>\n",
       "            <tr><td>tuple</td><td><code>(1, 2)</code></td><td>No</td></tr>\n",
       "            <tr><td>dict</td><td><code>{'a': 1}</code></td><td>Yes</td></tr>\n",
       "            <tr><td>set</td><td><code>{1, 2, 3}</code></td><td>Yes</td></tr>\n",
       "        </table>\n",
       "    </div>\n",
       "\n",
       "    <div class=\"section\">\n",
       "        <h2>➕ Arithmetic Operators</h2>\n",
       "        <table>\n",
       "            <tr><th>Operator</th><th>Meaning</th><th>Example</th></tr>\n",
       "            <tr><td>+</td><td>Addition</td><td><code>5 + 2</code></td></tr>\n",
       "            <tr><td>-</td><td>Subtraction</td><td><code>5 - 2</code></td></tr>\n",
       "            <tr><td>*</td><td>Multiplication</td><td><code>5 * 2</code></td></tr>\n",
       "            <tr><td>/</td><td>Division</td><td><code>5 / 2</code></td></tr>\n",
       "            <tr><td>//</td><td>Floor Division</td><td><code>5 // 2</code></td></tr>\n",
       "            <tr><td>%</td><td>Modulus</td><td><code>5 % 2</code></td></tr>\n",
       "            <tr><td>**</td><td>Exponentiation</td><td><code>5 ** 2</code></td></tr>\n",
       "        </table>\n",
       "    </div>\n",
       "\n",
       "    <div class=\"section\">\n",
       "        <h2>🧮 Comparison Operators</h2>\n",
       "        <table>\n",
       "            <tr><th>Operator</th><th>Meaning</th><th>Example</th></tr>\n",
       "            <tr><td>==</td><td>Equal</td><td><code>3 == 3</code></td></tr>\n",
       "            <tr><td>!=</td><td>Not Equal</td><td><code>3 != 2</code></td></tr>\n",
       "            <tr><td>></td><td>Greater Than</td><td><code>5 > 3</code></td></tr>\n",
       "            <tr><td><</td><td>Less Than</td><td><code>2 < 4</code></td></tr>\n",
       "            <tr><td>>=</td><td>Greater or Equal</td><td><code>5 >= 5</code></td></tr>\n",
       "            <tr><td><=</td><td>Less or Equal</td><td><code>3 <= 4</code></td></tr>\n",
       "        </table>\n",
       "    </div>\n",
       "\n",
       "    <div class=\"section\">\n",
       "        <h2>🔗 Logical Operators</h2>\n",
       "        <table>\n",
       "            <tr><th>Operator</th><th>Meaning</th><th>Example</th></tr>\n",
       "            <tr><td>and</td><td>Both are True</td><td><code>True and False</code></td></tr>\n",
       "            <tr><td>or</td><td>One is True</td><td><code>True or False</code></td></tr>\n",
       "            <tr><td>not</td><td>Inverts</td><td><code>not True</code></td></tr>\n",
       "        </table>\n",
       "    </div>\n",
       "\n",
       "    <div class=\"section\">\n",
       "        <h2>📦 Variables</h2>\n",
       "        <p>Used to store data values. Naming rules:</p>\n",
       "        <ul>\n",
       "            <li>Must start with a letter or underscore</li>\n",
       "            <li>Cannot start with a number</li>\n",
       "            <li>Are case-sensitive</li>\n",
       "        </ul>\n",
       "        <pre><code>x = 10\n",
       "name = \"Lucas\"\n",
       "is_active = True</code></pre>\n",
       "    </div>\n",
       "</div>\n"
      ],
      "text/plain": [
       "<IPython.core.display.HTML object>"
      ]
     },
     "metadata": {},
     "output_type": "display_data"
    }
   ],
   "source": [
    "from IPython.display import display, HTML\n",
    "\n",
    "html = \"\"\"\n",
    "<style>\n",
    "    .dashboard { font-family: Arial, sans-serif; padding: 10px; line-height: 1.6; }\n",
    "    .section { margin-bottom: 30px; }\n",
    "    h2 { color: #2c3e50; border-bottom: 2px solid #ccc; padding-bottom: 5px; }\n",
    "    table { border-collapse: collapse; width: 100%; margin-top: 10px; }\n",
    "    th, td { border: 1px solid #ccc; padding: 6px 12px; text-align: left; }\n",
    "    th { background-color: #f0f0f0; }\n",
    "    code { background-color: #f4f4f4; padding: 2px 4px; border-radius: 4px; }\n",
    "    pre { background-color: #f8f8f8; padding: 10px; border-radius: 6px; }\n",
    "</style>\n",
    "\n",
    "<div class=\"dashboard\">\n",
    "    <div class=\"section\">\n",
    "        <h2>🔢 Data Types</h2>\n",
    "        <table>\n",
    "            <tr><th>Type</th><th>Example</th><th>Mutable</th></tr>\n",
    "            <tr><td>int</td><td><code>10</code></td><td>No</td></tr>\n",
    "            <tr><td>float</td><td><code>3.14</code></td><td>No</td></tr>\n",
    "            <tr><td>str</td><td><code>'hello'</code></td><td>No</td></tr>\n",
    "            <tr><td>bool</td><td><code>True</code></td><td>No</td></tr>\n",
    "            <tr><td>list</td><td><code>[1, 2, 3]</code></td><td>Yes</td></tr>\n",
    "            <tr><td>tuple</td><td><code>(1, 2)</code></td><td>No</td></tr>\n",
    "            <tr><td>dict</td><td><code>{'a': 1}</code></td><td>Yes</td></tr>\n",
    "            <tr><td>set</td><td><code>{1, 2, 3}</code></td><td>Yes</td></tr>\n",
    "        </table>\n",
    "    </div>\n",
    "\n",
    "    <div class=\"section\">\n",
    "        <h2>➕ Arithmetic Operators</h2>\n",
    "        <table>\n",
    "            <tr><th>Operator</th><th>Meaning</th><th>Example</th></tr>\n",
    "            <tr><td>+</td><td>Addition</td><td><code>5 + 2</code></td></tr>\n",
    "            <tr><td>-</td><td>Subtraction</td><td><code>5 - 2</code></td></tr>\n",
    "            <tr><td>*</td><td>Multiplication</td><td><code>5 * 2</code></td></tr>\n",
    "            <tr><td>/</td><td>Division</td><td><code>5 / 2</code></td></tr>\n",
    "            <tr><td>//</td><td>Floor Division</td><td><code>5 // 2</code></td></tr>\n",
    "            <tr><td>%</td><td>Modulus</td><td><code>5 % 2</code></td></tr>\n",
    "            <tr><td>**</td><td>Exponentiation</td><td><code>5 ** 2</code></td></tr>\n",
    "        </table>\n",
    "    </div>\n",
    "\n",
    "    <div class=\"section\">\n",
    "        <h2>🧮 Comparison Operators</h2>\n",
    "        <table>\n",
    "            <tr><th>Operator</th><th>Meaning</th><th>Example</th></tr>\n",
    "            <tr><td>==</td><td>Equal</td><td><code>3 == 3</code></td></tr>\n",
    "            <tr><td>!=</td><td>Not Equal</td><td><code>3 != 2</code></td></tr>\n",
    "            <tr><td>></td><td>Greater Than</td><td><code>5 > 3</code></td></tr>\n",
    "            <tr><td><</td><td>Less Than</td><td><code>2 < 4</code></td></tr>\n",
    "            <tr><td>>=</td><td>Greater or Equal</td><td><code>5 >= 5</code></td></tr>\n",
    "            <tr><td><=</td><td>Less or Equal</td><td><code>3 <= 4</code></td></tr>\n",
    "        </table>\n",
    "    </div>\n",
    "\n",
    "    <div class=\"section\">\n",
    "        <h2>🔗 Logical Operators</h2>\n",
    "        <table>\n",
    "            <tr><th>Operator</th><th>Meaning</th><th>Example</th></tr>\n",
    "            <tr><td>and</td><td>Both are True</td><td><code>True and False</code></td></tr>\n",
    "            <tr><td>or</td><td>One is True</td><td><code>True or False</code></td></tr>\n",
    "            <tr><td>not</td><td>Inverts</td><td><code>not True</code></td></tr>\n",
    "        </table>\n",
    "    </div>\n",
    "\n",
    "    <div class=\"section\">\n",
    "        <h2>📦 Variables</h2>\n",
    "        <p>Used to store data values. Naming rules:</p>\n",
    "        <ul>\n",
    "            <li>Must start with a letter or underscore</li>\n",
    "            <li>Cannot start with a number</li>\n",
    "            <li>Are case-sensitive</li>\n",
    "        </ul>\n",
    "        <pre><code>x = 10\n",
    "name = \"Lucas\"\n",
    "is_active = True</code></pre>\n",
    "    </div>\n",
    "</div>\n",
    "\"\"\"\n",
    "\n",
    "display(HTML(html))\n"
   ]
  },
  {
   "cell_type": "markdown",
   "id": "6e695ff1-2137-4969-9b56-fac8403c234b",
   "metadata": {},
   "source": [
    "# Functions"
   ]
  },
  {
   "cell_type": "markdown",
   "id": "a33f4194-a685-46af-9b40-52a00c3a4a98",
   "metadata": {},
   "source": [
    "## Built in functions which are functions that work out of the box wit special keyword names"
   ]
  },
  {
   "cell_type": "code",
   "execution_count": 37,
   "id": "7e5a3f66-492a-4762-9609-772e8fefa23b",
   "metadata": {},
   "outputs": [
    {
     "data": {
      "text/plain": [
       "6"
      ]
     },
     "execution_count": 37,
     "metadata": {},
     "output_type": "execute_result"
    }
   ],
   "source": [
    "list_numbers = [1,2,3]\n",
    "\n",
    "# built in function in python!\n",
    "sum(list_numbers)"
   ]
  },
  {
   "cell_type": "code",
   "execution_count": 38,
   "id": "e4414ce8-6545-47ce-8c48-c5a325da31fb",
   "metadata": {},
   "outputs": [
    {
     "name": "stdout",
     "output_type": "stream",
     "text": [
      "\n"
     ]
    }
   ],
   "source": [
    "print()"
   ]
  },
  {
   "cell_type": "code",
   "execution_count": 39,
   "id": "0e64e90b-65bb-4856-ba45-d7f5457e31a2",
   "metadata": {},
   "outputs": [
    {
     "data": {
      "text/plain": [
       "3"
      ]
     },
     "execution_count": 39,
     "metadata": {},
     "output_type": "execute_result"
    }
   ],
   "source": [
    "len(list_numbers)"
   ]
  },
  {
   "cell_type": "markdown",
   "id": "78f4021f-eefa-4c85-86cd-3108968508f7",
   "metadata": {},
   "source": [
    "## Custom functions?"
   ]
  },
  {
   "cell_type": "code",
   "execution_count": 42,
   "id": "55bef4cb-1542-4ed0-9a9e-31a89369aa6e",
   "metadata": {},
   "outputs": [
    {
     "name": "stdout",
     "output_type": "stream",
     "text": [
      "Hello folks!\n"
     ]
    }
   ],
   "source": [
    "def custom_function():\n",
    "    print(\"Hello folks!\")\n",
    "\n",
    "custom_function()"
   ]
  },
  {
   "cell_type": "code",
   "execution_count": 43,
   "id": "2d118698-1764-4204-9b70-cae47bc787aa",
   "metadata": {},
   "outputs": [],
   "source": [
    "def print_hello_to_students():\n",
    "    print(\"Hello students\")"
   ]
  },
  {
   "cell_type": "code",
   "execution_count": 44,
   "id": "a29cfe6a-e142-4514-909d-171d9b7e528a",
   "metadata": {},
   "outputs": [
    {
     "name": "stdout",
     "output_type": "stream",
     "text": [
      "Hello students\n"
     ]
    }
   ],
   "source": [
    "print_hello_to_students()"
   ]
  },
  {
   "cell_type": "code",
   "execution_count": 45,
   "id": "42151faf-7453-498c-8fa6-ec2981a84990",
   "metadata": {},
   "outputs": [
    {
     "name": "stdout",
     "output_type": "stream",
     "text": [
      "Hi! Lucas\n"
     ]
    }
   ],
   "source": [
    "def great_friend(friend_name=\"John\"):\n",
    "    print(f\"Hi! {friend_name}\")\n",
    "\n",
    "great_friend(friend_name='Lucas')"
   ]
  },
  {
   "cell_type": "code",
   "execution_count": 46,
   "id": "131e766d-d8ac-42f4-830b-62fd380e7a76",
   "metadata": {},
   "outputs": [],
   "source": [
    "import os\n",
    "import shutil\n",
    "\n",
    "def create_folder(folder_path):\n",
    "    \"\"\"Create a new folder if it doesn't exist.\"\"\"\n",
    "    if not os.path.exists(folder_path):\n",
    "        os.makedirs(folder_path)\n",
    "        print(f\"✅ Folder created: {folder_path}\")\n",
    "    else:\n",
    "        print(f\"⚠️ Folder already exists: {folder_path}\")\n",
    "\n",
    "def rename_file(old_name, new_name):\n",
    "    \"\"\"Rename a file from old_name to new_name.\"\"\"\n",
    "    if os.path.exists(old_name):\n",
    "        os.rename(old_name, new_name)\n",
    "        print(f\"✅ Renamed: {old_name} → {new_name}\")\n",
    "    else:\n",
    "        print(f\"❌ File not found: {old_name}\")\n",
    "\n",
    "def move_file(source_path, destination_path):\n",
    "    \"\"\"Move a file from source to destination.\"\"\"\n",
    "    if os.path.exists(source_path):\n",
    "        shutil.move(source_path, destination_path)\n",
    "        print(f\"✅ Moved file to: {destination_path}\")\n",
    "    else:\n",
    "        print(f\"❌ Source file not found: {source_path}\")\n",
    "\n",
    "def delete_file(file_path):\n",
    "    \"\"\"Delete a file if it exists.\"\"\"\n",
    "    if os.path.exists(file_path):\n",
    "        os.remove(file_path)\n",
    "        print(f\"🗑️ Deleted: {file_path}\")\n",
    "    else:\n",
    "        print(f\"❌ File not found: {file_path}\")\n",
    "\n",
    "def list_files(folder_path):\n",
    "    \"\"\"List all files in a folder.\"\"\"\n",
    "    if os.path.exists(folder_path):\n",
    "        files = os.listdir(folder_path)\n",
    "        print(f\"📁 Files in {folder_path}:\")\n",
    "        for f in files:\n",
    "            print(f\" - {f}\")\n",
    "    else:\n",
    "        print(f\"❌ Folder not found: {folder_path}\")"
   ]
  },
  {
   "cell_type": "code",
   "execution_count": 47,
   "id": "9eca3d21-3998-40b3-88b7-a94dfde466c3",
   "metadata": {},
   "outputs": [
    {
     "name": "stdout",
     "output_type": "stream",
     "text": [
      "📁 Files in ./:\n",
      " - 04-lists-and-loops.ipynb\n",
      " - 07-conditionals.ipynb\n",
      " - 06-comparators.ipynb\n",
      " - 08-working-with-files.ipynb\n",
      " - live-intro-python.ipynb\n",
      " - 05-dictionaries.ipynb\n",
      " - 02-variables.ipynb\n",
      " - .ipynb_checkpoints\n",
      " - 10-packages-and-apis.ipynb\n",
      " - 01-data-types-and-operators.ipynb\n",
      " - 09-working-with-csv.ipynb\n",
      " - 03-functions.ipynb\n"
     ]
    }
   ],
   "source": [
    "list_files(\"./\")"
   ]
  },
  {
   "cell_type": "markdown",
   "id": "73030d42-af9f-4f42-a92f-b079203f5d50",
   "metadata": {},
   "source": [
    "# Lists and Loops!?"
   ]
  },
  {
   "cell_type": "code",
   "execution_count": 48,
   "id": "43e25abe-554b-48e8-95f8-39fa8fbb14c0",
   "metadata": {},
   "outputs": [],
   "source": [
    "def agent_master_3000(task_description):\n",
    "    print(\"Agent doing task\")\n",
    "    print(\"Finished task\")\n",
    "    return f'Master Lucas, your task is done: {task_description}'\n",
    "\n",
    "list_of_tasks = [\"teach a live course\", \"go eat pizza\", \"cry about my silly course on the bathroom\"]"
   ]
  },
  {
   "cell_type": "markdown",
   "id": "20f5c534-1357-4e3b-85f1-8edd60d81b05",
   "metadata": {},
   "source": [
    "## Loop over the tasks and use the function on each ?"
   ]
  },
  {
   "cell_type": "code",
   "execution_count": 53,
   "id": "d541413b-8277-40d3-9874-d8cdf6e5d67f",
   "metadata": {},
   "outputs": [
    {
     "name": "stdout",
     "output_type": "stream",
     "text": [
      "teach a live course\n",
      "Agent doing task\n",
      "Finished task\n",
      "***\n",
      "go eat pizza\n",
      "Agent doing task\n",
      "Finished task\n",
      "***\n",
      "cry about my silly course on the bathroom\n",
      "Agent doing task\n",
      "Finished task\n",
      "***\n"
     ]
    }
   ],
   "source": [
    "for task in list_of_tasks:\n",
    "    print(task)\n",
    "    agent_master_3000(task_description=task)\n",
    "    print(\"***\")"
   ]
  },
  {
   "cell_type": "code",
   "execution_count": 54,
   "id": "36906376-94ab-42b7-9890-305d8940ccb4",
   "metadata": {},
   "outputs": [],
   "source": [
    "list_number_text = [\"text\", 1, 1.4, []]"
   ]
  },
  {
   "cell_type": "code",
   "execution_count": 55,
   "id": "a286ef9a-cec8-4dfc-afae-090190109cd9",
   "metadata": {},
   "outputs": [
    {
     "data": {
      "text/plain": [
       "[10, 2, 'some text', 1.2]"
      ]
     },
     "execution_count": 55,
     "metadata": {},
     "output_type": "execute_result"
    }
   ],
   "source": [
    "list_numbers_and_text"
   ]
  },
  {
   "cell_type": "code",
   "execution_count": 56,
   "id": "8c26c0bc-47c9-4591-9607-2f8988ff9eb6",
   "metadata": {},
   "outputs": [],
   "source": [
    "# add elements to a list?\n",
    "\n",
    "list_nums = [1,2,3]\n",
    "\n",
    "list_nums.append(4)"
   ]
  },
  {
   "cell_type": "code",
   "execution_count": 57,
   "id": "75ef907b-4cf8-4188-be06-3b5285b0b7ac",
   "metadata": {},
   "outputs": [
    {
     "data": {
      "text/plain": [
       "[1, 2, 3, 4]"
      ]
     },
     "execution_count": 57,
     "metadata": {},
     "output_type": "execute_result"
    }
   ],
   "source": [
    "list_nums"
   ]
  },
  {
   "cell_type": "code",
   "execution_count": 58,
   "id": "10d34b47-1787-4de7-a4a9-cfac1e3327ab",
   "metadata": {},
   "outputs": [],
   "source": [
    "list_nums.remove(3)"
   ]
  },
  {
   "cell_type": "code",
   "execution_count": 59,
   "id": "3f93e5f1-6ae8-41ad-9cd0-1ea3eb51eada",
   "metadata": {},
   "outputs": [
    {
     "data": {
      "text/plain": [
       "[1, 2, 4]"
      ]
     },
     "execution_count": 59,
     "metadata": {},
     "output_type": "execute_result"
    }
   ],
   "source": [
    "list_nums"
   ]
  },
  {
   "cell_type": "code",
   "execution_count": 60,
   "id": "27e911f0-5c27-4d30-9d0c-d29c12840a25",
   "metadata": {},
   "outputs": [
    {
     "data": {
      "text/plain": [
       "0"
      ]
     },
     "execution_count": 60,
     "metadata": {},
     "output_type": "execute_result"
    }
   ],
   "source": [
    "list_names = ['lucas', 'john', 'maria']\n",
    "\n",
    "list_names.index('lucas')"
   ]
  },
  {
   "cell_type": "markdown",
   "id": "aca771c2-6647-4413-8878-93679f7bfdd2",
   "metadata": {},
   "source": [
    "## Combining Lists, loops into an elegant format with List comprehension!"
   ]
  },
  {
   "cell_type": "code",
   "execution_count": 62,
   "id": "4c1dc612-f4f2-4ff9-af3b-65d189f679fe",
   "metadata": {},
   "outputs": [
    {
     "data": {
      "text/plain": [
       "[0, 1, 4, 9, 16, 25, 36, 49, 64, 81]"
      ]
     },
     "execution_count": 62,
     "metadata": {},
     "output_type": "execute_result"
    }
   ],
   "source": [
    "list_comprehension_example_squares = [temporary_element**2 for temporary_element in range(10)]\n",
    "list_comprehension_example_squares"
   ]
  },
  {
   "cell_type": "markdown",
   "id": "ac718b29-d025-4aea-bff1-add1bb995698",
   "metadata": {},
   "source": [
    "# Exercise\n",
    "## Repeat My Name\n",
    "### Objective: Write a simple python function that repeats a certain input string a certain numbers of times:"
   ]
  },
  {
   "cell_type": "code",
   "execution_count": 67,
   "id": "b468b609-5ac0-4898-a0c9-469f368ede6c",
   "metadata": {},
   "outputs": [],
   "source": [
    "# repeat_string(\"string\", 3)\n",
    "# string\n",
    "# string\n",
    "# string\n",
    "\n",
    "# MV solution\n",
    "def repeat_string(string, n): return n*string"
   ]
  },
  {
   "cell_type": "code",
   "execution_count": 68,
   "id": "3fbf9ffe-8364-4a9d-8fb3-31e23643a9f7",
   "metadata": {},
   "outputs": [
    {
     "data": {
      "text/plain": [
       "'lucas silly manlucas silly manlucas silly manlucas silly manlucas silly manlucas silly manlucas silly manlucas silly manlucas silly manlucas silly man'"
      ]
     },
     "execution_count": 68,
     "metadata": {},
     "output_type": "execute_result"
    }
   ],
   "source": [
    "repeat_string(\"lucas silly man\", 10)"
   ]
  },
  {
   "cell_type": "code",
   "execution_count": 69,
   "id": "4d7c94b9-dec2-461b-b205-1c59a2a57a3c",
   "metadata": {},
   "outputs": [
    {
     "name": "stdout",
     "output_type": "stream",
     "text": [
      "string\n",
      "string\n",
      "string\n"
     ]
    }
   ],
   "source": [
    "# AN solution\n",
    "def repeat_string(string, times):\n",
    "    for i in range(times):\n",
    "        print(string)\n",
    "repeat_string(\"string\", 3)"
   ]
  },
  {
   "cell_type": "code",
   "execution_count": null,
   "id": "c4ce4445-be65-483f-90fd-9722c612306d",
   "metadata": {},
   "outputs": [],
   "source": []
  },
  {
   "cell_type": "markdown",
   "id": "dc68cefc-ddab-49c2-a64c-a3ff620b0f6e",
   "metadata": {},
   "source": [
    "### Write a simple python function to concatenate strings together "
   ]
  },
  {
   "cell_type": "code",
   "execution_count": 74,
   "id": "300fe676-60c4-49b2-bb39-02ba994b4053",
   "metadata": {},
   "outputs": [
    {
     "data": {
      "text/plain": [
       "'strin1string2strin1string2strin1string2strin1string2strin1string2'"
      ]
     },
     "execution_count": 74,
     "metadata": {},
     "output_type": "execute_result"
    }
   ],
   "source": [
    "# repeat_concatenate(\"string1\", \"string2\", 5)\n",
    "# string1string2\n",
    "# string1string2\n",
    "# string1string2\n",
    "# string1string2\n",
    "# string1string2\n",
    "\n",
    "# MV solution 2\n",
    "\n",
    "def repeat_concatenate(string1, string2, n):\n",
    "    return \"\".join([string1, string2]*n)\n",
    "\n",
    "repeat_concatenate(\"string1\", \"string2\", 5)"
   ]
  },
  {
   "cell_type": "code",
   "execution_count": 75,
   "id": "430fca8d-89f6-46af-be0c-ec72aad6d7a7",
   "metadata": {},
   "outputs": [
    {
     "name": "stdout",
     "output_type": "stream",
     "text": [
      "string1string2\n",
      "string1string2\n",
      "string1string2\n",
      "string1string2\n",
      "string1string2\n"
     ]
    }
   ],
   "source": [
    "# AN solution 2\n",
    "\n",
    "def repeat_concatenate(string1, string2, times):\n",
    "    for i in range(times):\n",
    "        print(f'{string1}{string2}')\n",
    "repeat_concatenate(\"string1\", \"string2\", 5)"
   ]
  },
  {
   "cell_type": "code",
   "execution_count": 77,
   "id": "6ab79915-6f27-48eb-80ed-d9a3e91cf61f",
   "metadata": {},
   "outputs": [
    {
     "name": "stdout",
     "output_type": "stream",
     "text": [
      "lucas\n",
      "lucas\n",
      "lucas\n"
     ]
    }
   ],
   "source": [
    "def sw_repeat_string(strn=\"sam\", how=5):\n",
    "    num=0\n",
    "    while num<how:\n",
    "        print(strn)\n",
    "        num+=1\n",
    "sw_repeat_string(\"lucas\", 3)"
   ]
  },
  {
   "cell_type": "code",
   "execution_count": 80,
   "id": "de36af9f-1725-45ee-bea9-5f103d19f1e3",
   "metadata": {},
   "outputs": [
    {
     "name": "stdout",
     "output_type": "stream",
     "text": [
      "john\n",
      "john\n",
      "john\n"
     ]
    }
   ],
   "source": [
    "def jp_repeat_string(name, count):\n",
    "    for x in range(count):\n",
    "        print(f'{name}')\n",
    "jp_repeat_string('john', 3)"
   ]
  },
  {
   "cell_type": "markdown",
   "id": "f9fd30f2-850c-4231-8ce4-d25b9e17d813",
   "metadata": {},
   "source": [
    "# Dictionaries, working with TAbular Data, conditionals, writing reading files"
   ]
  },
  {
   "cell_type": "code",
   "execution_count": 82,
   "id": "4ca45543-3ca1-4147-aaff-f6d6d353b559",
   "metadata": {},
   "outputs": [
    {
     "data": {
      "text/plain": [
       "{'key1': 'value1', 'key2': 10, 'key3': [1, 2, 3]}"
      ]
     },
     "execution_count": 82,
     "metadata": {},
     "output_type": "execute_result"
    }
   ],
   "source": [
    "dictionary = {\n",
    "    \"key1\": \"value1\",\n",
    "    \"key2\": 10,\n",
    "    \"key3\": [1,2,3]\n",
    "}\n",
    "\n",
    "dictionary"
   ]
  },
  {
   "cell_type": "code",
   "execution_count": 84,
   "id": "d4dcd839-8702-44c8-b915-fd462d34870e",
   "metadata": {},
   "outputs": [
    {
     "data": {
      "text/plain": [
       "dict_keys(['key1', 'key2', 'key3'])"
      ]
     },
     "execution_count": 84,
     "metadata": {},
     "output_type": "execute_result"
    }
   ],
   "source": [
    "dictionary.keys()"
   ]
  },
  {
   "cell_type": "code",
   "execution_count": 85,
   "id": "19eb7ab1-7a8e-45fc-8cfe-932173532b9a",
   "metadata": {},
   "outputs": [
    {
     "data": {
      "text/plain": [
       "dict_values(['value1', 10, [1, 2, 3]])"
      ]
     },
     "execution_count": 85,
     "metadata": {},
     "output_type": "execute_result"
    }
   ],
   "source": [
    "dictionary.values()"
   ]
  },
  {
   "cell_type": "code",
   "execution_count": 86,
   "id": "7dbc8869-93de-479f-9cb4-159adce4605e",
   "metadata": {},
   "outputs": [
    {
     "data": {
      "text/plain": [
       "dict_items([('key1', 'value1'), ('key2', 10), ('key3', [1, 2, 3])])"
      ]
     },
     "execution_count": 86,
     "metadata": {},
     "output_type": "execute_result"
    }
   ],
   "source": [
    "dictionary.items()"
   ]
  },
  {
   "cell_type": "code",
   "execution_count": 88,
   "id": "d89da77c-6109-4986-9416-c18357c0e9e0",
   "metadata": {},
   "outputs": [
    {
     "name": "stdout",
     "output_type": "stream",
     "text": [
      "key1\n",
      "value1\n",
      "key2\n",
      "10\n",
      "key3\n",
      "[1, 2, 3]\n",
      "key1\n",
      "value1\n",
      "key2\n",
      "10\n",
      "key3\n",
      "[1, 2, 3]\n"
     ]
    }
   ],
   "source": [
    "for key, value in dictionary.items():\n",
    "    print(key)\n",
    "    print(value)\n",
    "\n",
    "for key in dictionary.keys():\n",
    "    print(key)\n",
    "    value = dictionary[key]\n",
    "    print(value)"
   ]
  },
  {
   "cell_type": "code",
   "execution_count": 89,
   "id": "0fd5b51e-9653-492a-8b42-588a215d7bbf",
   "metadata": {},
   "outputs": [],
   "source": [
    "# Importing functionality built elsewhere to help us solve some task\n",
    "import pandas as pd "
   ]
  },
  {
   "cell_type": "code",
   "execution_count": 91,
   "id": "2acf7eb6-1768-4c56-ad50-77cef2a2d024",
   "metadata": {},
   "outputs": [
    {
     "data": {
      "text/plain": [
       "{'name': 'Lucas',\n",
       " 'age': 33,\n",
       " 'email': 'lucas@example.com',\n",
       " 'is_student': False,\n",
       " 'skills': ['Python', 'AI', 'Jiu-Jitsu'],\n",
       " 'address': {'street': '123 Learning St', 'city': 'Codeville', 'zip': '12345'}}"
      ]
     },
     "execution_count": 91,
     "metadata": {},
     "output_type": "execute_result"
    }
   ],
   "source": [
    "\n",
    "dictionary_of_person_information = {\n",
    "    \"name\": \"Lucas\",\n",
    "    \"age\": 33,\n",
    "    \"email\": \"lucas@example.com\",\n",
    "    \"is_student\": False,\n",
    "    \"skills\": [\"Python\", \"AI\", \"Jiu-Jitsu\"],\n",
    "    \"address\": {\n",
    "        \"street\": \"123 Learning St\",\n",
    "        \"city\": \"Codeville\",\n",
    "        \"zip\": \"12345\"\n",
    "    }\n",
    "}\n",
    "\n",
    "dictionary_of_person_information"
   ]
  },
  {
   "cell_type": "code",
   "execution_count": 92,
   "id": "3388acf8-d271-4c9e-81f0-84e57c947f32",
   "metadata": {},
   "outputs": [
    {
     "data": {
      "text/html": [
       "<div>\n",
       "<style scoped>\n",
       "    .dataframe tbody tr th:only-of-type {\n",
       "        vertical-align: middle;\n",
       "    }\n",
       "\n",
       "    .dataframe tbody tr th {\n",
       "        vertical-align: top;\n",
       "    }\n",
       "\n",
       "    .dataframe thead th {\n",
       "        text-align: right;\n",
       "    }\n",
       "</style>\n",
       "<table border=\"1\" class=\"dataframe\">\n",
       "  <thead>\n",
       "    <tr style=\"text-align: right;\">\n",
       "      <th></th>\n",
       "      <th>Country</th>\n",
       "      <th>City</th>\n",
       "    </tr>\n",
       "  </thead>\n",
       "  <tbody>\n",
       "    <tr>\n",
       "      <th>0</th>\n",
       "      <td>Japan</td>\n",
       "      <td>Tokyo</td>\n",
       "    </tr>\n",
       "    <tr>\n",
       "      <th>1</th>\n",
       "      <td>Japan</td>\n",
       "      <td>Kyoto</td>\n",
       "    </tr>\n",
       "    <tr>\n",
       "      <th>2</th>\n",
       "      <td>Japan</td>\n",
       "      <td>Osaka</td>\n",
       "    </tr>\n",
       "    <tr>\n",
       "      <th>3</th>\n",
       "      <td>Italy</td>\n",
       "      <td>Rome</td>\n",
       "    </tr>\n",
       "    <tr>\n",
       "      <th>4</th>\n",
       "      <td>Italy</td>\n",
       "      <td>Florence</td>\n",
       "    </tr>\n",
       "    <tr>\n",
       "      <th>5</th>\n",
       "      <td>Italy</td>\n",
       "      <td>Venice</td>\n",
       "    </tr>\n",
       "    <tr>\n",
       "      <th>6</th>\n",
       "      <td>Brazil</td>\n",
       "      <td>Rio de Janeiro</td>\n",
       "    </tr>\n",
       "    <tr>\n",
       "      <th>7</th>\n",
       "      <td>Brazil</td>\n",
       "      <td>São Paulo</td>\n",
       "    </tr>\n",
       "    <tr>\n",
       "      <th>8</th>\n",
       "      <td>Brazil</td>\n",
       "      <td>Salvador</td>\n",
       "    </tr>\n",
       "    <tr>\n",
       "      <th>9</th>\n",
       "      <td>USA</td>\n",
       "      <td>New York</td>\n",
       "    </tr>\n",
       "    <tr>\n",
       "      <th>10</th>\n",
       "      <td>USA</td>\n",
       "      <td>San Francisco</td>\n",
       "    </tr>\n",
       "    <tr>\n",
       "      <th>11</th>\n",
       "      <td>USA</td>\n",
       "      <td>Chicago</td>\n",
       "    </tr>\n",
       "    <tr>\n",
       "      <th>12</th>\n",
       "      <td>France</td>\n",
       "      <td>Paris</td>\n",
       "    </tr>\n",
       "    <tr>\n",
       "      <th>13</th>\n",
       "      <td>France</td>\n",
       "      <td>Nice</td>\n",
       "    </tr>\n",
       "    <tr>\n",
       "      <th>14</th>\n",
       "      <td>France</td>\n",
       "      <td>Lyon</td>\n",
       "    </tr>\n",
       "  </tbody>\n",
       "</table>\n",
       "</div>"
      ],
      "text/plain": [
       "   Country            City\n",
       "0    Japan           Tokyo\n",
       "1    Japan           Kyoto\n",
       "2    Japan           Osaka\n",
       "3    Italy            Rome\n",
       "4    Italy        Florence\n",
       "5    Italy          Venice\n",
       "6   Brazil  Rio de Janeiro\n",
       "7   Brazil       São Paulo\n",
       "8   Brazil        Salvador\n",
       "9      USA        New York\n",
       "10     USA   San Francisco\n",
       "11     USA         Chicago\n",
       "12  France           Paris\n",
       "13  France            Nice\n",
       "14  France            Lyon"
      ]
     },
     "execution_count": 92,
     "metadata": {},
     "output_type": "execute_result"
    }
   ],
   "source": [
    "import pandas as pd\n",
    "\n",
    "places_to_visit = {\n",
    "    \"Japan\": [\"Tokyo\", \"Kyoto\", \"Osaka\"],\n",
    "    \"Italy\": [\"Rome\", \"Florence\", \"Venice\"],\n",
    "    \"Brazil\": [\"Rio de Janeiro\", \"São Paulo\", \"Salvador\"],\n",
    "    \"USA\": [\"New York\", \"San Francisco\", \"Chicago\"],\n",
    "    \"France\": [\"Paris\", \"Nice\", \"Lyon\"]\n",
    "}\n",
    "\n",
    "# Convert to a DataFrame\n",
    "df_places = pd.DataFrame([\n",
    "    {\"Country\": country, \"City\": city}\n",
    "    for country, cities in places_to_visit.items()\n",
    "    for city in cities\n",
    "])\n",
    "\n",
    "df_places"
   ]
  },
  {
   "cell_type": "code",
   "execution_count": 94,
   "id": "aea32921-dae0-4349-8d65-7708e7b52765",
   "metadata": {},
   "outputs": [
    {
     "data": {
      "text/html": [
       "<div>\n",
       "<style scoped>\n",
       "    .dataframe tbody tr th:only-of-type {\n",
       "        vertical-align: middle;\n",
       "    }\n",
       "\n",
       "    .dataframe tbody tr th {\n",
       "        vertical-align: top;\n",
       "    }\n",
       "\n",
       "    .dataframe thead th {\n",
       "        text-align: right;\n",
       "    }\n",
       "</style>\n",
       "<table border=\"1\" class=\"dataframe\">\n",
       "  <thead>\n",
       "    <tr style=\"text-align: right;\">\n",
       "      <th></th>\n",
       "      <th>Countries</th>\n",
       "      <th>Cities</th>\n",
       "    </tr>\n",
       "  </thead>\n",
       "  <tbody>\n",
       "    <tr>\n",
       "      <th>0</th>\n",
       "      <td>Japan</td>\n",
       "      <td>Osaka</td>\n",
       "    </tr>\n",
       "    <tr>\n",
       "      <th>1</th>\n",
       "      <td>Brazil</td>\n",
       "      <td>Sao Paulo</td>\n",
       "    </tr>\n",
       "    <tr>\n",
       "      <th>2</th>\n",
       "      <td>Italy</td>\n",
       "      <td>Rome</td>\n",
       "    </tr>\n",
       "  </tbody>\n",
       "</table>\n",
       "</div>"
      ],
      "text/plain": [
       "  Countries     Cities\n",
       "0     Japan      Osaka\n",
       "1    Brazil  Sao Paulo\n",
       "2     Italy       Rome"
      ]
     },
     "execution_count": 94,
     "metadata": {},
     "output_type": "execute_result"
    }
   ],
   "source": [
    "countries = [\"Japan\", \"Brazil\", \"Italy\"]\n",
    "cities = [\"Osaka\",\"Sao Paulo\", \"Rome\"]\n",
    "\n",
    "table = pd.DataFrame({\n",
    "    \"Countries\": countries,\n",
    "    \"Cities\": cities\n",
    "})\n",
    "table"
   ]
  },
  {
   "cell_type": "code",
   "execution_count": 95,
   "id": "34b291cf-a53b-479e-b13b-cd25b507d2dd",
   "metadata": {},
   "outputs": [],
   "source": [
    "table.to_csv(\"places_to_go.csv\")"
   ]
  },
  {
   "cell_type": "code",
   "execution_count": 96,
   "id": "aaed2b83-1b80-493f-b720-a94c56e3ea04",
   "metadata": {},
   "outputs": [
    {
     "name": "stdout",
     "output_type": "stream",
     "text": [
      "places_to_go.csv\n"
     ]
    }
   ],
   "source": [
    "!ls *.csv"
   ]
  },
  {
   "cell_type": "markdown",
   "id": "afd6cbee-866e-43ec-9f47-597ff1bbce50",
   "metadata": {},
   "source": [
    "# Write Read Files with Python"
   ]
  },
  {
   "cell_type": "code",
   "execution_count": 97,
   "id": "100023dd-1c80-410f-befb-6d971d8c9f77",
   "metadata": {},
   "outputs": [],
   "source": [
    "# write \n",
    "\n",
    "contents = \"this is a sample file\"\n",
    "filepath = \"./file_test.txt\"\n",
    "with open(filepath, \"w\") as file:\n",
    "    file.write(contents)"
   ]
  },
  {
   "cell_type": "code",
   "execution_count": 98,
   "id": "36cda5ad-4a73-4c6d-b545-3536c37c9c57",
   "metadata": {},
   "outputs": [
    {
     "name": "stdout",
     "output_type": "stream",
     "text": [
      "01-data-types-and-operators.ipynb 08-working-with-files.ipynb\n",
      "02-variables.ipynb                09-working-with-csv.ipynb\n",
      "03-functions.ipynb                10-packages-and-apis.ipynb\n",
      "04-lists-and-loops.ipynb          file_test.txt\n",
      "05-dictionaries.ipynb             live-intro-python.ipynb\n",
      "06-comparators.ipynb              places_to_go.csv\n",
      "07-conditionals.ipynb\n"
     ]
    }
   ],
   "source": [
    "!ls"
   ]
  },
  {
   "cell_type": "code",
   "execution_count": 99,
   "id": "e96d0cdc-1e40-4057-be31-44eb59a3fa92",
   "metadata": {},
   "outputs": [],
   "source": [
    "# append to my file\n",
    "\n",
    "with open(filepath, \"a\") as file:\n",
    "    file.write(\"this is an append to my file\")"
   ]
  },
  {
   "cell_type": "code",
   "execution_count": 100,
   "id": "10453d46-873e-4022-9525-af85210d9e5e",
   "metadata": {},
   "outputs": [
    {
     "name": "stdout",
     "output_type": "stream",
     "text": [
      "this is a sample filethis is an append to my file\n"
     ]
    }
   ],
   "source": [
    "# reading files\n",
    "with open(filepath, \"r\") as file:\n",
    "    print(file.read())"
   ]
  },
  {
   "cell_type": "markdown",
   "id": "44a1365e-c256-445a-8946-a949fabea65c",
   "metadata": {},
   "source": [
    "# Automate Tasks with Python & Learn Python While Doing So!"
   ]
  },
  {
   "cell_type": "code",
   "execution_count": 101,
   "id": "d1649c1e-d21b-4ab3-83b7-1b2d0311c52e",
   "metadata": {},
   "outputs": [],
   "source": [
    "# Wh+at happens when we want to make decisions?"
   ]
  },
  {
   "cell_type": "code",
   "execution_count": 103,
   "id": "5f7518dd-5039-496c-9328-4bdd3d6f6ccc",
   "metadata": {},
   "outputs": [
    {
     "name": "stdout",
     "output_type": "stream",
     "text": [
      "I cant' buy it\n"
     ]
    }
   ],
   "source": [
    "price = 600\n",
    "budget = 500\n",
    "\n",
    "if price>budget:\n",
    "    print(\"I cant' buy it\")\n",
    "else:\n",
    "    print(\"I can buy it!\")"
   ]
  },
  {
   "cell_type": "code",
   "execution_count": 106,
   "id": "c31611b5-9efd-4c6b-b765-e49ee5183e1a",
   "metadata": {},
   "outputs": [
    {
     "name": "stdout",
     "output_type": "stream",
     "text": [
      "lazy\n"
     ]
    }
   ],
   "source": [
    "distance = 300\n",
    "ability_to_walk = 200\n",
    "\n",
    "if distance > ability_to_walk:\n",
    "    print(\"lazy\")\n",
    "elif distance == ability_to_walk:\n",
    "    print(\"I guess I can do it\")\n",
    "else:\n",
    "    print(\"I can do it!\")"
   ]
  }
 ],
 "metadata": {
  "kernelspec": {
   "display_name": "O'Reilly Python AI",
   "language": "python",
   "name": "oreilly-python-ai"
  },
  "language_info": {
   "codemirror_mode": {
    "name": "ipython",
    "version": 3
   },
   "file_extension": ".py",
   "mimetype": "text/x-python",
   "name": "python",
   "nbconvert_exporter": "python",
   "pygments_lexer": "ipython3",
   "version": "3.13.1"
  }
 },
 "nbformat": 4,
 "nbformat_minor": 5
}
