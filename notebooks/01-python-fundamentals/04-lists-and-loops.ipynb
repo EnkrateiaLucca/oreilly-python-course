{
 "cells": [
  {
   "cell_type": "markdown",
   "id": "8300f4c0",
   "metadata": {},
   "source": [
    "# Python Lists and Loops: Managing Collections of Data\n",
    "\n",
    "In this lesson, we'll explore Python lists - a fundamental data structure for storing collections of items - and for loops, which help us work with these collections efficiently.\n",
    "\n",
    "## Understanding Lists\n",
    "\n",
    "Lists in Python are ordered collections that can store different types of data. Let's start with some basic examples:"
   ]
  },
  {
   "cell_type": "code",
   "execution_count": 2,
   "id": "e306f74b",
   "metadata": {},
   "outputs": [
    {
     "name": "stdout",
     "output_type": "stream",
     "text": [
      "Student grades: [('Emma', 95), ('James', 87), ('Sofia', 92), ('Alex', 88), ('Nina', 90)]\n",
      "First student: Emma\n",
      "Last grade: 90\n"
     ]
    }
   ],
   "source": [
    "# Creating simple lists\n",
    "students = [\"Emma\", \"James\", \"Sofia\", \"Alex\", \"Nina\"]\n",
    "grades = [95, 87, 92, 88, 90]\n",
    "\n",
    "# Combining related lists using zip\n",
    "student_grades = list(zip(students, grades))\n",
    "print(\"Student grades:\", student_grades)\n",
    "\n",
    "# Accessing elements\n",
    "print(f\"First student: {students[0]}\")\n",
    "print(f\"Last grade: {grades[-1]}\")"
   ]
  },
  {
   "cell_type": "markdown",
   "id": "e91bde97",
   "metadata": {},
   "source": [
    "## List Operations and Methods\n",
    "\n",
    "Python lists come with many useful methods to manipulate data:"
   ]
  },
  {
   "cell_type": "code",
   "execution_count": 5,
   "id": "fdfb2865",
   "metadata": {},
   "outputs": [
    {
     "data": {
      "text/plain": [
       "['milk', 'butter', 'bread', 'eggs', 'cheese', 'apples', 'bananas']"
      ]
     },
     "execution_count": 5,
     "metadata": {},
     "output_type": "execute_result"
    }
   ],
   "source": [
    "# Creating a shopping list\n",
    "shopping = [\"milk\", \"bread\", \"eggs\"]\n",
    "\n",
    "# Adding items\n",
    "shopping.append(\"cheese\")               # Add single item\n",
    "shopping.extend([\"apples\", \"bananas\"])  # Add multiple items\n",
    "shopping.insert(1, \"butter\")            # Add at specific position\n",
    "\n",
    "shopping"
   ]
  },
  {
   "cell_type": "code",
   "execution_count": 6,
   "id": "4c774145",
   "metadata": {},
   "outputs": [
    {
     "name": "stdout",
     "output_type": "stream",
     "text": [
      "Shopping list: ['milk', 'butter', 'bread', 'eggs', 'cheese', 'apples', 'bananas']\n",
      "Updated list: ['butter', 'bread', 'eggs', 'cheese', 'apples']\n"
     ]
    }
   ],
   "source": [
    "print(\"Shopping list:\", shopping)\n",
    "\n",
    "# Removing items\n",
    "removed_item = shopping.pop()           # Remove and return last item\n",
    "shopping.remove(\"milk\")                 # Remove specific item\n",
    "print(\"Updated list:\", shopping)"
   ]
  },
  {
   "cell_type": "code",
   "execution_count": 7,
   "id": "2aa171de",
   "metadata": {},
   "outputs": [
    {
     "name": "stdout",
     "output_type": "stream",
     "text": [
      "Sorted numbers: [1, 2, 3, 5, 8, 9]\n",
      "Reversed numbers: [9, 8, 5, 3, 2, 1]\n"
     ]
    }
   ],
   "source": [
    "# Sorting and reversing\n",
    "numbers = [5, 2, 8, 1, 9, 3]\n",
    "numbers.sort()                          # Sort in place\n",
    "print(\"Sorted numbers:\", numbers)\n",
    "numbers.reverse()                       # Reverse in place\n",
    "print(\"Reversed numbers:\", numbers)"
   ]
  },
  {
   "cell_type": "markdown",
   "id": "794f93b3",
   "metadata": {},
   "source": [
    "## Working with Mixed Data Types\n",
    "\n",
    "Lists can store different types of data in the same structure:"
   ]
  },
  {
   "cell_type": "code",
   "execution_count": 9,
   "id": "aa1b5556",
   "metadata": {},
   "outputs": [
    {
     "name": "stdout",
     "output_type": "stream",
     "text": [
      "User Profile:\n",
      "Name: Alice Smith\n",
      "Age: 28\n",
      "Skills: Python, SQL, React\n",
      "Active: True\n",
      "Location: London\n"
     ]
    }
   ],
   "source": [
    "# Creating a user profile using different data types\n",
    "user_profile = [\n",
    "    \"Alice Smith\",                # name (string)\n",
    "    28,                          # age (integer)\n",
    "    [\"Python\", \"SQL\", \"React\"],  # skills (list)\n",
    "    True,                        # is_active (boolean)\n",
    "    {\"city\": \"London\"}           # location (dictionary)\n",
    "]\n",
    "\n",
    "print(\"User Profile:\")\n",
    "print(f\"Name: {user_profile[0]}\")\n",
    "print(f\"Age: {user_profile[1]}\")\n",
    "print(f\"Skills: {', '.join(user_profile[2])}\")\n",
    "print(f\"Active: {user_profile[3]}\")\n",
    "print(f\"Location: {user_profile[4]['city']}\")"
   ]
  },
  {
   "cell_type": "markdown",
   "id": "71e2145f",
   "metadata": {},
   "source": [
    "## Introduction to For Loops\n",
    "\n",
    "For loops allow us to iterate through lists and perform operations on each element:"
   ]
  },
  {
   "cell_type": "code",
   "execution_count": 10,
   "id": "2ecf9aa7",
   "metadata": {},
   "outputs": [
    {
     "name": "stdout",
     "output_type": "stream",
     "text": [
      "Task Tracker:\n",
      "1. [ ] Review Python basics\n",
      "2. [ ] Complete coding exercises\n",
      "3. [ ] Write documentation\n",
      "4. [ ] Debug application\n",
      "5. [ ] Submit project\n"
     ]
    }
   ],
   "source": [
    "# Basic for loop with a task list\n",
    "tasks = [\n",
    "    \"Review Python basics\",\n",
    "    \"Complete coding exercises\",\n",
    "    \"Write documentation\",\n",
    "    \"Debug application\",\n",
    "    \"Submit project\"\n",
    "]\n",
    "\n",
    "print(\"Task Tracker:\")\n",
    "for index, task in enumerate(tasks, 1):\n",
    "    print(f\"{index}. [ ] {task}\")"
   ]
  },
  {
   "cell_type": "markdown",
   "id": "4d9ded5d",
   "metadata": {},
   "source": [
    "## Practical Example: Project Management System\n",
    "\n",
    "Let's combine lists and loops to create a simple project management system:"
   ]
  },
  {
   "cell_type": "code",
   "execution_count": 11,
   "id": "dfd339b4",
   "metadata": {},
   "outputs": [
    {
     "name": "stdout",
     "output_type": "stream",
     "text": [
      "=== Project Dashboard ===\n",
      "\n",
      "Project: Website Redesign\n",
      "Status: In Progress\n",
      "Deadline: 2024-03-15\n",
      "Team Members: Alice, Bob, Charlie\n",
      "--------------------\n",
      "\n",
      "Project: Mobile App\n",
      "Status: Planning\n",
      "Deadline: 2024-06-30\n",
      "Team Members: David, Emma\n",
      "--------------------\n",
      "\n",
      "Project: Database Migration\n",
      "Status: Completed\n",
      "Deadline: 2024-01-30\n",
      "Team Members: Frank, Grace, Henry\n",
      "--------------------\n"
     ]
    }
   ],
   "source": [
    "def create_project_dashboard(projects):\n",
    "    \"\"\"\n",
    "    Create a formatted project dashboard from a list of project data\n",
    "    \"\"\"\n",
    "    print(\"=== Project Dashboard ===\")\n",
    "    for project in projects:\n",
    "        name, status, deadline, team = project\n",
    "        print(f\"\\nProject: {name}\")\n",
    "        print(f\"Status: {status}\")\n",
    "        print(f\"Deadline: {deadline}\")\n",
    "        print(f\"Team Members: {', '.join(team)}\")\n",
    "        print(\"-\" * 20)\n",
    "\n",
    "# Sample project data\n",
    "projects = [\n",
    "    [\"Website Redesign\", \"In Progress\", \"2024-03-15\", [\"Alice\", \"Bob\", \"Charlie\"]],\n",
    "    [\"Mobile App\", \"Planning\", \"2024-06-30\", [\"David\", \"Emma\"]],\n",
    "    [\"Database Migration\", \"Completed\", \"2024-01-30\", [\"Frank\", \"Grace\", \"Henry\"]]\n",
    "]\n",
    "\n",
    "create_project_dashboard(projects)"
   ]
  },
  {
   "cell_type": "markdown",
   "id": "2b5e8ba1",
   "metadata": {},
   "source": [
    "## Advanced List Comprehensions\n",
    "\n",
    "List comprehensions provide a concise way to create lists:"
   ]
  },
  {
   "cell_type": "code",
   "execution_count": 6,
   "id": "1a5ee733",
   "metadata": {},
   "outputs": [
    {
     "name": "stdout",
     "output_type": "stream",
     "text": [
      "Temperature Conversion:\n",
      "0°C = 32.0°F\n",
      "10°C = 50.0°F\n",
      "20°C = 68.0°F\n",
      "30°C = 86.0°F\n",
      "40°C = 104.0°F\n",
      "\n",
      "Even numbers: [2, 4, 6, 8, 10]\n"
     ]
    }
   ],
   "source": [
    "# Converting temperatures from Celsius to Fahrenheit\n"
   ]
  },
  {
   "cell_type": "markdown",
   "id": "f812e51c",
   "metadata": {},
   "source": [
    "## Key Takeaways\n",
    "\n",
    "- Lists are versatile data structures that can store any type of data\n",
    "- List methods like append(), extend(), remove() help manage list contents\n",
    "- Lists are mutable, meaning they can be modified after creation\n",
    "- For loops provide a way to iterate through lists\n",
    "- List comprehensions offer a concise way to create and transform lists\n",
    "- Python's zip() function helps work with multiple related lists\n",
    "- Lists can be nested to create more complex data structures\n",
    "\n",
    "In the next lesson, we'll explore dictionaries and how they complement lists in Python!"
   ]
  }
 ],
 "metadata": {
  "kernelspec": {
   "display_name": "oreilly-automate-tasks",
   "language": "python",
   "name": "oreilly-automate-tasks"
  },
  "language_info": {
   "codemirror_mode": {
    "name": "ipython",
    "version": 3
   },
   "file_extension": ".py",
   "mimetype": "text/x-python",
   "name": "python",
   "nbconvert_exporter": "python",
   "pygments_lexer": "ipython3",
   "version": "3.11.11"
  }
 },
 "nbformat": 4,
 "nbformat_minor": 5
}
