{
 "cells": [
  {
   "cell_type": "markdown",
   "id": "27f6a19a",
   "metadata": {},
   "source": [
    "# Python Basics: Understanding Variables\n",
    "\n",
    "In this lesson, we'll explore Python variables - what they are, how to use them, and how they can make our code more dynamic and powerful.\n",
    "\n",
    "## What is a Variable?\n",
    "\n",
    "A variable in Python is a container that holds data. Think of it like a labeled box where you can store different types of information and retrieve it later."
   ]
  },
  {
   "cell_type": "code",
   "execution_count": 1,
   "id": "be302460",
   "metadata": {},
   "outputs": [
    {
     "name": "stdout",
     "output_type": "stream",
     "text": [
      "Hello, Python!\n"
     ]
    }
   ],
   "source": [
    "# Creating our first variable\n",
    "message = \"Hello, Python!\"\n",
    "print(message)"
   ]
  },
  {
   "cell_type": "code",
   "execution_count": 2,
   "id": "47930dc9",
   "metadata": {},
   "outputs": [
    {
     "name": "stdout",
     "output_type": "stream",
     "text": [
      "Number: 42\n",
      "Decimal: 3.14\n",
      "Text: Programming is fun\n"
     ]
    }
   ],
   "source": [
    "# Variables can store different types of data\n",
    "number = 42\n",
    "decimal = 3.14\n",
    "text = \"Programming is fun\"\n",
    "\n",
    "print(f\"Number: {number}\")\n",
    "print(f\"Decimal: {decimal}\")\n",
    "print(f\"Text: {text}\")"
   ]
  },
  {
   "cell_type": "markdown",
   "id": "346bba72",
   "metadata": {},
   "source": [
    "## Working with Variables\n",
    "\n",
    "Once we have variables, we can perform operations with them:"
   ]
  },
  {
   "cell_type": "code",
   "execution_count": 3,
   "id": "d5da2346",
   "metadata": {},
   "outputs": [
    {
     "name": "stdout",
     "output_type": "stream",
     "text": [
      "Sum: 40\n",
      "Difference: 10\n",
      "Product: 375\n"
     ]
    }
   ],
   "source": [
    "# Mathematical operations\n",
    "first_number = 25\n",
    "second_number = 15\n",
    "\n",
    "sum_result = first_number + second_number\n",
    "difference = first_number - second_number\n",
    "product = first_number * second_number\n",
    "\n",
    "print(f\"Sum: {sum_result}\")\n",
    "print(f\"Difference: {difference}\")\n",
    "print(f\"Product: {product}\")"
   ]
  },
  {
   "cell_type": "markdown",
   "id": "8f1ff821",
   "metadata": {},
   "source": [
    "## String Operations with Variables\n",
    "\n",
    "Variables containing strings can be manipulated in various ways:"
   ]
  },
  {
   "cell_type": "code",
   "execution_count": 4,
   "id": "e50ff7eb",
   "metadata": {},
   "outputs": [
    {
     "name": "stdout",
     "output_type": "stream",
     "text": [
      "Ada Lovelace\n"
     ]
    }
   ],
   "source": [
    "# String concatenation\n",
    "first_name = \"Ada\"\n",
    "last_name = \"Lovelace\"\n",
    "full_name = first_name + \" \" + last_name\n",
    "print(full_name)"
   ]
  },
  {
   "cell_type": "code",
   "execution_count": 5,
   "id": "d0ab0fe0",
   "metadata": {},
   "outputs": [
    {
     "name": "stdout",
     "output_type": "stream",
     "text": [
      "Ada Lovelace was a mathematician who lived to be 36 years old\n"
     ]
    }
   ],
   "source": [
    "# Using f-strings for elegant string formatting\n",
    "age = 36\n",
    "profession = \"mathematician\"\n",
    "introduction = f\"{full_name} was a {profession} who lived to be {age} years old\"\n",
    "print(introduction)"
   ]
  },
  {
   "cell_type": "markdown",
   "id": "cb18e933",
   "metadata": {},
   "source": [
    "## Updating Variables\n",
    "\n",
    "Variables can be updated after they're created:"
   ]
  },
  {
   "cell_type": "code",
   "execution_count": 6,
   "id": "f279424d",
   "metadata": {},
   "outputs": [
    {
     "name": "stdout",
     "output_type": "stream",
     "text": [
      "Initial value: 1\n",
      "After adding 1: 2\n",
      "After adding 5 more: 7\n"
     ]
    }
   ],
   "source": [
    "# Changing variable values\n",
    "counter = 1\n",
    "print(f\"Initial value: {counter}\")\n",
    "\n",
    "counter = counter + 1\n",
    "print(f\"After adding 1: {counter}\")\n",
    "\n",
    "counter += 5  # Shorthand for counter = counter + 5\n",
    "print(f\"After adding 5 more: {counter}\")"
   ]
  },
  {
   "cell_type": "code",
   "execution_count": 7,
   "id": "1de5963c",
   "metadata": {},
   "outputs": [
    {
     "name": "stdout",
     "output_type": "stream",
     "text": [
      "Variable is a number: 100\n",
      "Variable is now text: Now I'm a string!\n"
     ]
    }
   ],
   "source": [
    "# You can also completely change the type of data stored\n",
    "variable = 100\n",
    "print(f\"Variable is a number: {variable}\")\n",
    "variable = \"Now I'm a string!\"\n",
    "print(f\"Variable is now text: {variable}\")"
   ]
  },
  {
   "cell_type": "markdown",
   "id": "753b2926",
   "metadata": {},
   "source": [
    "## Creating Dynamic Content\n",
    "\n",
    "Variables make our code more flexible and reusable:"
   ]
  },
  {
   "cell_type": "code",
   "execution_count": 8,
   "id": "db16fb2e",
   "metadata": {},
   "outputs": [
    {
     "name": "stdout",
     "output_type": "stream",
     "text": [
      "\n",
      "Programming Language: Python\n",
      "Current Version: 3.9\n",
      "Years Since First Release: 30\n",
      "Status: Mature\n",
      "\n"
     ]
    }
   ],
   "source": [
    "# Creating a simple template system\n",
    "language = \"Python\"\n",
    "version = 3.9\n",
    "years_old = 30\n",
    "\n",
    "description = f\"\"\"\n",
    "Programming Language: {language}\n",
    "Current Version: {version}\n",
    "Years Since First Release: {years_old}\n",
    "Status: {'Mature' if years_old >= 20 else 'Young'}\n",
    "\"\"\"\n",
    "\n",
    "print(description)"
   ]
  },
  {
   "cell_type": "markdown",
   "id": "9836dbc8",
   "metadata": {},
   "source": [
    "## Practical Example: Personal Information System\n",
    "\n",
    "Here's a practical example that brings together what we've learned:"
   ]
  },
  {
   "cell_type": "code",
   "execution_count": 9,
   "id": "edc39e0e",
   "metadata": {},
   "outputs": [
    {
     "name": "stdout",
     "output_type": "stream",
     "text": [
      "\n",
      "=== Personal Profile ===\n",
      "Name: John\n",
      "Age: 36\n",
      "Skills: Python, Telling bad jokes\n",
      "Experience Level: Senior\n",
      "======================\n",
      "\n"
     ]
    }
   ],
   "source": [
    "\n",
    "name = \"John\"\n",
    "\n",
    "skills = [\"Python\", \"Telling bad jokes\"]\n",
    "\n",
    "profile = f\"\"\"\n",
    "=== Personal Profile ===\n",
    "Name: {name}\n",
    "Age: {age}\n",
    "Skills: {', '.join(skills)}\n",
    "Experience Level: {'Senior' if age >= 30 else 'Junior'}\n",
    "======================\n",
    "\"\"\"\n",
    "\n",
    "\n",
    "print(profile)"
   ]
  },
  {
   "cell_type": "markdown",
   "id": "3952b5e7",
   "metadata": {},
   "source": [
    "## Key Takeaways\n",
    "\n",
    "- Variables are containers for storing data in Python\n",
    "- They can hold different types of data (numbers, strings, etc.)\n",
    "- Variables can be updated or changed at any time\n",
    "- F-strings provide an elegant way to include variables in strings\n",
    "- Variables make our code more dynamic and reusable\n",
    "- Meaningful variable names make code easier to understand\n",
    "- Python variables are case-sensitive (`name` is different from `Name`)\n",
    "\n",
    "In the next lesson, we'll explore more complex data structures and how to use them with variables!"
   ]
  }
 ],
 "metadata": {
  "kernelspec": {
   "display_name": "oreilly-automate-tasks",
   "language": "python",
   "name": "oreilly-automate-tasks"
  },
  "language_info": {
   "codemirror_mode": {
    "name": "ipython",
    "version": 3
   },
   "file_extension": ".py",
   "mimetype": "text/x-python",
   "name": "python",
   "nbconvert_exporter": "python",
   "pygments_lexer": "ipython3",
   "version": "3.11.11"
  }
 },
 "nbformat": 4,
 "nbformat_minor": 5
}
