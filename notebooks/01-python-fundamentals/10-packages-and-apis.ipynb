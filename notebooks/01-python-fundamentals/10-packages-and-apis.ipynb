{
 "cells": [
  {
   "cell_type": "markdown",
   "id": "5f6f5ebb",
   "metadata": {},
   "source": [
    "# Python Packages, APIs and Code Organization\n",
    "\n",
    "In this lesson, we'll explore how to work with packages in Python, understand APIs, and learn best practices for organizing code across multiple files. We'll see how to leverage both built-in and third-party packages to extend Python's capabilities.\n",
    "\n",
    "## Built-in Packages\n",
    "\n",
    "Python comes with a rich set of built-in packages. Let's explore some common ones:"
   ]
  },
  {
   "cell_type": "code",
   "execution_count": 1,
   "id": "72da37ed",
   "metadata": {},
   "outputs": [
    {
     "data": {
      "text/plain": [
       "[85, 24, 53, 82, 100, 75, 90, 6, 4, 67, 92, 44, 100, 6, 57, 98, 14, 26, 80, 20]"
      ]
     },
     "execution_count": 1,
     "metadata": {},
     "output_type": "execute_result"
    }
   ],
   "source": [
    "# Import built-in packages\n",
    "import math\n",
    "import statistics \n",
    "import random\n",
    "\n",
    "# Generate some random data for our examples\n",
    "data = [random.randint(1, 100) for _ in range(20)]\n",
    "\n",
    "data"
   ]
  },
  {
   "cell_type": "code",
   "execution_count": 2,
   "id": "0926ac9b-1c61-40df-86c2-b8df2e0b014a",
   "metadata": {},
   "outputs": [
    {
     "name": "stdout",
     "output_type": "stream",
     "text": [
      "Square root of 16: 4.0\n",
      "Pi value: 3.141592653589793\n",
      "Exponential of 2: 7.38905609893065\n"
     ]
    }
   ],
   "source": [
    "# Using math functions\n",
    "print(f\"Square root of 16: {math.sqrt(16)}\")\n",
    "print(f\"Pi value: {math.pi}\")\n",
    "print(f\"Exponential of 2: {math.exp(2)}\")"
   ]
  },
  {
   "cell_type": "code",
   "execution_count": 3,
   "id": "4494a1fe-157b-4498-bc8e-f8d1b92a9490",
   "metadata": {},
   "outputs": [
    {
     "name": "stdout",
     "output_type": "stream",
     "text": [
      "\n",
      "Mean of data: 56.15\n",
      "Median of data: 62.0\n",
      "Standard deviation: 35.17217051800142\n"
     ]
    }
   ],
   "source": [
    "# Using statistics functions\n",
    "print(f\"\\nMean of data: {statistics.mean(data)}\")\n",
    "print(f\"Median of data: {statistics.median(data)}\")\n",
    "print(f\"Standard deviation: {statistics.stdev(data)}\")"
   ]
  },
  {
   "cell_type": "code",
   "execution_count": 4,
   "id": "1c1a4b66-2a8c-499c-8382-429bea3f0d3f",
   "metadata": {},
   "outputs": [
    {
     "name": "stdout",
     "output_type": "stream",
     "text": [
      "\n",
      "Random choice from data: 44\n"
     ]
    }
   ],
   "source": [
    "# Using random functions\n",
    "print(f\"\\nRandom choice from data: {random.choice(data)}\")"
   ]
  },
  {
   "cell_type": "code",
   "execution_count": 5,
   "id": "12a4b567-d866-41cd-906a-2525f26f2672",
   "metadata": {},
   "outputs": [
    {
     "name": "stdout",
     "output_type": "stream",
     "text": [
      "Random sample of 5 numbers: [80, 24, 82, 98, 6]\n"
     ]
    }
   ],
   "source": [
    "print(f\"Random sample of 5 numbers: {random.sample(data, 5)}\")"
   ]
  },
  {
   "cell_type": "code",
   "execution_count": 6,
   "id": "1393b39c-232b-4cf1-a4be-4e35476347c9",
   "metadata": {},
   "outputs": [],
   "source": [
    "from ai_tools import ask_ai, ask_local_ai #?????"
   ]
  },
  {
   "cell_type": "code",
   "execution_count": 7,
   "id": "3e29d545-049c-4d53-8005-bdffdf8d8907",
   "metadata": {},
   "outputs": [
    {
     "data": {
      "text/plain": [
       "\"AS! So, when it comes to using Large Language Models (LLMs) locally, without relying on cloud-based APIs, there are a few reasons why an API key isn't always required.\\n\\nFirstly, many LLMs are pre-trained and fine-tuned using large amounts of data. These models can be trained and then saved in a format that's easily distributable and usable by local applications. As a result, you don't need to authenticate your requests or obtain an API key to use the model locally.\\n\\nSecondly, when working with LLMs locally, you typically have full access to the underlying data and computational resources. This means you can load the pre-trained model directly into memory without needing to authenticate your usage through an API key.\\n\\nThirdly, some local LLM implementations might be based on open-source or self-hosted solutions that don't require authentication for local use cases. These models are often designed specifically for deployment in private environments, such as internal applications or research projects, where the primary concern is processing power and data privacy rather than scalability or commercial usage.\\n\\nHowever, it's worth noting that even if an API key isn't required, you might still need to follow certain guidelines, terms of use, or licensing agreements when working with open-source LLM models. For example, some models may have restrictions on commercial use, redistribution, or modification.\\n\\nIn summary, while an API key isn't typically necessary for using local LLMs, there are other considerations and guidelines you should be aware of depending on the specific model, its source, and your intended use case.\\n\\nWould you like to know more about how to work with LLMs locally or explore some popular open-source models?\""
      ]
     },
     "execution_count": 7,
     "metadata": {},
     "output_type": "execute_result"
    }
   ],
   "source": [
    "ask_local_ai(\"Explain to my friend AS who is learning about LLM apis why you don't need an API key to use local LLM models. \")"
   ]
  },
  {
   "cell_type": "code",
   "execution_count": null,
   "id": "22fb098a-a601-4055-bb72-8f108e5f1ef4",
   "metadata": {},
   "outputs": [],
   "source": []
  },
  {
   "cell_type": "markdown",
   "id": "c79a48d9",
   "metadata": {},
   "source": [
    "## Working with Third-Party Packages\n",
    "\n",
    "Third-party packages extend Python's functionality. Let's work with some popular ones:"
   ]
  },
  {
   "cell_type": "code",
   "execution_count": 2,
   "id": "3d72ca56",
   "metadata": {},
   "outputs": [
    {
     "name": "stdout",
     "output_type": "stream",
     "text": [
      "Weather Statistics:\n",
      "                      date  temperature\n",
      "count                   32    32.000000\n",
      "mean   2024-01-16 12:00:00    19.519769\n",
      "min    2024-01-01 00:00:00     4.858960\n",
      "25%    2024-01-08 18:00:00    17.778249\n",
      "50%    2024-01-16 12:00:00    20.431805\n",
      "75%    2024-01-24 06:00:00    22.916791\n",
      "max    2024-02-01 00:00:00    27.473991\n",
      "std                    NaN     5.195840\n"
     ]
    },
    {
     "data": {
      "image/png": "[encoded data removed]",
      "text/plain": [
       "<Figure size 1000x600 with 1 Axes>"
      ]
     },
     "metadata": {},
     "output_type": "display_data"
    }
   ],
   "source": [
    "# Import third-party packages\n",
    "import matplotlib.pyplot as plt\n",
    "import pandas as pd\n",
    "import numpy as np\n",
    "\n",
    "# Create sample data\n",
    "dates = pd.date_range(start='2024-01-01', end='2024-02-01', freq='D')\n",
    "temperatures = np.random.normal(20, 5, size=len(dates))\n",
    "\n",
    "# Create a DataFrame\n",
    "weather_data = pd.DataFrame({\n",
    "    'date': dates,\n",
    "    'temperature': temperatures\n",
    "})\n",
    "\n",
    "# Basic data wrangling\n",
    "weather_stats = weather_data.describe()\n",
    "print(\"Weather Statistics:\")\n",
    "print(weather_stats)\n",
    "\n",
    "# Create a visualization\n",
    "plt.figure(figsize=(10, 6))\n",
    "plt.plot(weather_data['date'], weather_data['temperature'])\n",
    "plt.title('Daily Temperatures')\n",
    "plt.xlabel('Date')\n",
    "plt.ylabel('Temperature (°C)')\n",
    "plt.xticks(rotation=45)\n",
    "plt.tight_layout()\n",
    "plt.show()"
   ]
  },
  {
   "cell_type": "markdown",
   "id": "7d016e35",
   "metadata": {},
   "source": [
    "## Code Organization with Custom Modules\n",
    "\n",
    "**WALKTHROUGH OF THE `./ai_tools.py` module:**\n",
    "\n",
    " The `ai_tools.py` module contains several key functions:\n",
    "\n",
    " 1. `import` statements at the top:\n",
    "     - `from openai import OpenAI`: For accessing OpenAI's API\n",
    "     - `import anthropic`: For accessing Anthropic's Claude API\n",
    "     - `import ollama`: For running local AI models\n",
    "     - `import json`: For parsing JSON responses\n",
    " \n",
    " 2. `ask_ai(prompt, model_name)`: Sends prompts to cloud AI models like GPT-4 and Claude\n",
    "    - Uses OpenAI and Anthropic APIs\n",
    "    - Returns text response from the AI\n",
    "\n",
    " 3. `ask_local_ai(prompt, model_name)`: Sends prompts to locally-run AI models\n",
    "    - Uses Ollama API for local LLMs\n",
    "    - Can return structured JSON or plain text\n",
    "\n",
    " 4. Helper functions for parsing AI outputs:\n",
    "    - `parse_dates_list()`: Converts string output to Python list of dates\n",
    "    - `parse_json_output()`: Safely parses JSON responses from AI"
   ]
  },
  {
   "cell_type": "markdown",
   "id": "9c509827",
   "metadata": {},
   "source": [
    "Let's create a separate module for weather-related functions. First, create a file called `weather_utils.py`:"
   ]
  },
  {
   "cell_type": "code",
   "execution_count": null,
   "id": "4bf65748",
   "metadata": {},
   "outputs": [],
   "source": [
    "# weather_utils.py\n",
    "\n",
    "def celsius_to_fahrenheit(celsius):\n",
    "    \"\"\"Convert Celsius to Fahrenheit\"\"\"\n",
    "    return (celsius * 9/5) + 32\n",
    "\n",
    "def calculate_heat_index(temperature, humidity):\n",
    "    \"\"\"Calculate heat index based on temperature (°F) and humidity (%)\"\"\"\n",
    "    if temperature < 80:\n",
    "        return temperature\n",
    "    \n",
    "    heat_index = -42.379 + 2.04901523 * temperature + 10.14333127 * humidity\n",
    "    heat_index -= 0.22475541 * temperature * humidity\n",
    "    heat_index -= 6.83783e-3 * temperature**2\n",
    "    heat_index -= 5.481717e-2 * humidity**2\n",
    "    heat_index += 1.22874e-3 * temperature**2 * humidity\n",
    "    heat_index += 8.5282e-4 * temperature * humidity**2\n",
    "    heat_index -= 1.99e-6 * temperature**2 * humidity**2\n",
    "    \n",
    "    return round(heat_index, 2)"
   ]
  },
  {
   "cell_type": "markdown",
   "id": "1b1819d6",
   "metadata": {},
   "source": [
    "Now let's use our custom module:"
   ]
  },
  {
   "cell_type": "code",
   "execution_count": 8,
   "id": "862a6597",
   "metadata": {},
   "outputs": [
    {
     "name": "stdout",
     "output_type": "stream",
     "text": [
      "\n",
      "Sample of weather data with heat index:\n",
      "        date  temperature  temperature_f   humidity  heat_index\n",
      "0 2024-01-01    20.318835      68.573903  37.092948   68.573903\n",
      "1 2024-01-02    26.590865      79.863557  47.872554   79.863557\n",
      "2 2024-01-03     0.340331      32.612596  56.443950   32.612596\n",
      "3 2024-01-04     7.153789      44.876820  70.574083   44.876820\n",
      "4 2024-01-05    22.697382      72.855287  55.183043   72.855287\n"
     ]
    }
   ],
   "source": [
    "# Import the pandas module for data manipulation\n",
    "import pandas as pd\n",
    "import numpy as np\n",
    "# Import our custom module\n",
    "from weather_utils import celsius_to_fahrenheit, calculate_heat_index\n",
    "\n",
    "weather_data = pd.DataFrame({\n",
    "    'date': pd.date_range(start='2024-01-01', periods=100, freq='D'),\n",
    "    'temperature': np.random.uniform(0, 30, size=100)  # Random temperatures in Celsius\n",
    "})\n",
    "\n",
    "# Convert our temperature data to Fahrenheit\n",
    "weather_data['temperature_f'] = weather_data['temperature'].apply(celsius_to_fahrenheit)\n",
    "\n",
    "# Add random humidity data\n",
    "weather_data['humidity'] = np.random.uniform(30, 80, size=len(weather_data))\n",
    "\n",
    "# Calculate heat index\n",
    "weather_data['heat_index'] = weather_data.apply(\n",
    "    lambda x: calculate_heat_index(x['temperature_f'], x['humidity']), \n",
    "    axis=1\n",
    ")\n",
    "\n",
    "print(\"\\nSample of weather data with heat index:\")\n",
    "print(weather_data.head())"
   ]
  },
  {
   "cell_type": "markdown",
   "id": "1c8981eb",
   "metadata": {},
   "source": [
    "## Working with APIs\n",
    "\n",
    "Let's explore how to work with APIs using the OpenWeatherMap API as an example:"
   ]
  },
  {
   "cell_type": "code",
   "execution_count": 11,
   "id": "6ed0ee51",
   "metadata": {},
   "outputs": [
    {
     "name": "stdout",
     "output_type": "stream",
     "text": [
      "\n",
      "Current weather in different cities:\n",
      "       city  temperature  humidity      description            timestamp\n",
      "0    London         5.62        88  overcast clouds  2025-02-03 10:35:00\n",
      "1  New York        -0.01        90        clear sky  2025-02-03 10:39:50\n",
      "2     Tokyo         6.82        71    broken clouds  2025-02-03 10:34:55\n",
      "3    Sydney        24.41        77       few clouds  2025-02-03 10:35:40\n"
     ]
    }
   ],
   "source": [
    "import requests\n",
    "import json\n",
    "import os\n",
    "from datetime import datetime\n",
    "\n",
    "def get_weather_data(city, api_key):\n",
    "    \"\"\"\n",
    "    Fetch weather data for a given city using OpenWeatherMap API\n",
    "    \"\"\"\n",
    "    base_url = \"http://api.openweathermap.org/data/2.5/weather\"\n",
    "    params = {\n",
    "        \"q\": city,\n",
    "        \"appid\": api_key,\n",
    "        \"units\": \"metric\"  # Use metric units\n",
    "    }\n",
    "    \n",
    "    try:\n",
    "        response = requests.get(base_url, params=params)\n",
    "        response.raise_for_status()  # Raise an exception for bad status codes\n",
    "        \n",
    "        data = response.json()\n",
    "        \n",
    "        # Extract relevant information\n",
    "        weather_info = {\n",
    "            \"city\": city,\n",
    "            \"temperature\": data[\"main\"][\"temp\"],\n",
    "            \"humidity\": data[\"main\"][\"humidity\"],\n",
    "            \"description\": data[\"weather\"][0][\"description\"],\n",
    "            \"timestamp\": datetime.fromtimestamp(data[\"dt\"]).strftime('%Y-%m-%d %H:%M:%S')\n",
    "        }\n",
    "        \n",
    "        return weather_info\n",
    "    \n",
    "    except requests.exceptions.RequestException as e:\n",
    "        print(f\"Error fetching weather data: {e}\")\n",
    "        return None\n",
    "\n",
    "# Example usage (you'll need your own API key)\n",
    "api_key = os.environ[\"OPEN_WEATHER_API_KEY\"]  # Replace with your actual API key\n",
    "cities = [\"London\", \"New York\", \"Tokyo\", \"Sydney\"]\n",
    "\n",
    "weather_results = []\n",
    "for city in cities:\n",
    "    result = get_weather_data(city, api_key)\n",
    "    if result:\n",
    "        weather_results.append(result)\n",
    "\n",
    "# Convert results to DataFrame\n",
    "weather_df = pd.DataFrame(weather_results)\n",
    "print(\"\\nCurrent weather in different cities:\")\n",
    "print(weather_df)"
   ]
  },
  {
   "cell_type": "markdown",
   "id": "d215d5d7",
   "metadata": {},
   "source": [
    "## Installing Packages with pip\n",
    "\n",
    "Here's how to install packages using pip (run these commands in your terminal):"
   ]
  },
  {
   "cell_type": "markdown",
   "id": "91683947",
   "metadata": {},
   "source": [
    "# Install packages\n",
    "\n",
    "```pip install requests\n",
    "pip install pandas\n",
    "pip install matplotlib\n",
    "pip install beautifulsoup4\n",
    "\n",
    "# Install specific versions\n",
    "pip install requests==2.28.1\n",
    "\n",
    "# Upgrade packages\n",
    "pip install --upgrade requests\n",
    "\n",
    "# List installed packages\n",
    "pip list```"
   ]
  },
  {
   "cell_type": "markdown",
   "id": "55fcd0bb",
   "metadata": {},
   "source": [
    "## Web Scraping Example\n",
    "\n",
    "Let's create a simple web scraping example using BeautifulSoup:"
   ]
  },
  {
   "cell_type": "code",
   "execution_count": 4,
   "id": "0ceb2046",
   "metadata": {},
   "outputs": [
    {
     "name": "stdout",
     "output_type": "stream",
     "text": [
      "\n",
      "Latest O'Reilly AI & Programming News:\n",
      "1. DeepSeek-V3 is another LLM to watch. Its performance is on a par with Llama 3.1, GPT-4o, and Claude Sonnet. While training was not inexpensive, the cost of training was estimated to be roughly 10% of the bigger models.\n",
      "2. Not to be outdone by Google, OpenAI previewed its next models: o3 and o3-mini. These are both âreasoning modelsâ that have been trained to solve logical problems. They may be released in late January; OpenAI is looking for safety and security researchers for testing.\n",
      "3. Not to be outdone by 12 Days of OpenAI, Google has released a new experimental model that has been trained to solve logical problems: Gemini 2.0 Flash Thinking. Unlike OpenAIâs GPT models that support reasoning, Flash Thinking shows its chain of thought explicitly.\n",
      "4. Jeremy Howard and his team have released ModernBERT, a major upgrade to the BERT model they released six years ago. It comes in two sizes: 139M and 395M parameters. Itâs ideal for retrieval, classification, and entity extraction, and other components of a data pipeline.\n",
      "5. AWSâs Bedrock service has the ability to check the output of other models for hallucinations.\n",
      "6. To make sure they arenât outdone by 12 Days of OpenAI, Google has announced Android XR, an operating system for extended reality headsets and glasses. Google doesnât plan to build their own hardware; theyâre partnering with Samsung, Qualcomm, and other manufacturers.\n",
      "7. Also not to be outdone by 12 Days of OpenAI, Anthropic has announced Clio, a privacy- preserving approach to finding out how people use their models. That information will be used to improve Anthropicâs understanding of safety issues and to build more helpful models.\n",
      "8. Not to be outdone by 12 Days of OpenAI, Google has announced Gemini 2.0 Flash, a multimodal model that supports streaming for both input and output. The announcement also showcased Astra, an AI agent for smartphones. Neither is generally available yet.\n",
      "9. OpenAI has released canvas, a new feature that combines programming with writing. Changes to the canvas (code or text) immediately become part of the context. Python code is executed in the browser using Pyodide (Wasm), rather than in a container (as with Code Interpreter).\n",
      "10. Stripe has announced an agent toolkit that lets you build payments into agentic workflows. Stripe recommends using the toolkit in test mode until the application has been thoroughly validated.\n",
      "11. Simon Willison shows how to run a GPT-4 class model (Llama 3.3 70B) on a reasonably well-equipped laptop (64GB MacBook Pro M2).\n",
      "12. As part of their 12 Days of OpenAI series, OpenAI finally released their video generation model, Sora. Itâs free to ChatGPT Plus subscribers, though limited to 50 five-second video clips per month; a ChatGPT Pro account relaxes many of the limitations.\n",
      "13. Researchers have shown that advanced AI models, including Claude 3 Opus and OpenAI o1, are capable of âschemingâ: working against the interests of their users to achieve their goals. Scheming includes subverting oversight mechanisms, intentionally delivering subpar results, and even taking steps to prevent shutdown or replacement. Hello, HAL?\n",
      "14. Roaming RAG is a new technique for retrieval augmented generation that finds relevant content by searching through headings to navigate documentsâlike a human might. It requires well-structured documents. A surprisingly simple idea, really.\n",
      "15. Google has announced PaliGemma 2, a new version of its Gemma models that incorporates vision.\n",
      "16. GPT-4-o1-preview is no more; the preview is now the real thing, OpenAI o1. In addition to advanced reasoning skills, the production release claims to be faster and to deliver more consistent results.\n",
      "17. A group of AI agents in Minecraft behaved surprisingly like humansâeven developing jobs and religions. Is this a way to model how human groups collaborate?\n",
      "18. One thing the AI industry needs desperately (aside from more power) is better benchmarks. Current benchmarks are closed, easily gamed (thatâs what AI does), and unreproducible, and they may not test anything meaningful. Better Bench is a framework for assessing benchmark quality.\n",
      "19. Palmyra Creative, a new language model from Writer, promises the ability to develop âstyleâ so that all AI-generated output wonât sound boringly the same.\n",
      "20. During training AI picks up biases from human data. When humans interact with the AI, thereâs a feedback loop that amplifies those biases.\n",
      "21. Unicon may never become one of the top 20 (or top 100) programming languages, but itâs a descendant of Icon, which was always my favorite language for string processing.\n",
      "22. What do CAPTCHAs mean when LLM-equipped bots can successfully complete tasks set for humans?\n",
      "23. egui, together with eframe, is a GUI library and framework for Rust. Itâs portable and runs natively (on macOS, Windows, Linux, and Android), on the web (using Wasm), and in many game engines.\n",
      "24. For the archivist in us: The Manx project isnât about an island in the Irish Sea or about cats. Itâs a catalog of manuals for old computers.\n",
      "25. Cerbrec is a graphical Python framework for deep learning. Itâs aimed at Python programmers who donât have sufficient expertise to build applications with PyTorch or other AI libraries.\n",
      "26. GitHub has announced free access to GitHub Copilot for all current and new users. Free access gives you 2,000 code completions and 50 chat messages per month. Theyâve also added the ability to use Claude 3.5 Sonnet in addition to GPT-4o.\n",
      "27. Devin, the AI assisted coding tool that claims to support software development from beginning to end, including design and debugging, has reached general availability.\n",
      "28. JSON5, also known as âJSON for humans,â is a variant of JSON that has been designed for human readability so that it can be written and maintained by handâfor example, in configuration files.\n",
      "29. AWS has announced two significant new services: Aurora DSQL, which is a distributed SQL database, and S3 Tables, which supports data lakehouses through Apache Iceberg.\n",
      "30. AutoFlow is an open source tool for creating a knowledge graph. Itâs based on TiDB (a vector database), LlamaIndex, and DSPy.\n"
     ]
    }
   ],
   "source": [
    "import requests\n",
    "from bs4 import BeautifulSoup\n",
    "\n",
    "def scrape_oreilly_ai_programming_news(url):\n",
    "    \"\"\"\n",
    "    Scrape AI and programming-related content from O'Reilly Radar.\n",
    "    \"\"\"\n",
    "    try:\n",
    "        # Send request to the website\n",
    "        response = requests.get(url)\n",
    "        response.raise_for_status()\n",
    "        \n",
    "        # Parse HTML content\n",
    "        soup = BeautifulSoup(response.text, 'html.parser')\n",
    "        \n",
    "        # Find AI and Programming sections\n",
    "        ai_section = soup.find('h2', string=lambda text: text and 'AI' in text)\n",
    "        programming_section = soup.find('h2', string=lambda text: text and 'Programming' in text)\n",
    "        \n",
    "        news_items = []\n",
    "        \n",
    "        # Extract AI content\n",
    "        if ai_section:\n",
    "            ai_content = ai_section.find_next('ul')\n",
    "            if ai_content:\n",
    "                news_items.extend([li.text.strip() for li in ai_content.find_all('li')])\n",
    "        \n",
    "        # Extract Programming content\n",
    "        if programming_section:\n",
    "            programming_content = programming_section.find_next('ul')\n",
    "            if programming_content:\n",
    "                news_items.extend([li.text.strip() for li in programming_content.find_all('li')])\n",
    "        \n",
    "        return news_items\n",
    "    \n",
    "    except requests.exceptions.RequestException as e:\n",
    "        print(f\"Error scraping website: {e}\")\n",
    "        return []\n",
    "\n",
    "# Example usage (replace with actual O'Reilly Radar URL)\n",
    "oreilly_url = \"https://www.oreilly.com/radar/radar-trends-to-watch-january-2025/\"\n",
    "ai_programming_news = scrape_oreilly_ai_programming_news(oreilly_url)\n",
    "\n",
    "if ai_programming_news:\n",
    "    print(\"\\nLatest O'Reilly AI & Programming News:\")\n",
    "    for idx, news in enumerate(ai_programming_news, 1):\n",
    "        print(f\"{idx}. {news}\")\n"
   ]
  },
  {
   "cell_type": "code",
   "execution_count": 6,
   "id": "2ad07ddd",
   "metadata": {},
   "outputs": [
    {
     "data": {
      "text/html": [
       "\n",
       "    <div style=\"max-width: 800px; margin: 20px auto; font-family: Arial, sans-serif;\">\n",
       "        <h2 style=\"color: white; border-bottom: 2px solid red; padding-bottom: 10px;\">\n",
       "            O'Reilly AI & Programming News\n",
       "        </h2>\n",
       "        <ul style=\"list-style-type: none; padding: 0;\">\n",
       "    \n",
       "            <li style=\"margin: 15px 0; padding: 15px; background-color: black; \n",
       "                       border-left: 4px solid red; border-radius: 4px;\">\n",
       "                DeepSeek-V3 is another LLM to watch. Its performance is on a par with Llama 3.1, GPT-4o, and Claude Sonnet. While training was not inexpensive, the cost of training was estimated to be roughly 10% of the bigger models.\n",
       "            </li>\n",
       "        \n",
       "            <li style=\"margin: 15px 0; padding: 15px; background-color: black; \n",
       "                       border-left: 4px solid red; border-radius: 4px;\">\n",
       "                Not to be outdone by Google, OpenAI previewed its next models: o3 and o3-mini. These are both âreasoning modelsâ that have been trained to solve logical problems. They may be released in late January; OpenAI is looking for safety and security researchers for testing.\n",
       "            </li>\n",
       "        \n",
       "            <li style=\"margin: 15px 0; padding: 15px; background-color: black; \n",
       "                       border-left: 4px solid red; border-radius: 4px;\">\n",
       "                Not to be outdone by 12 Days of OpenAI, Google has released a new experimental model that has been trained to solve logical problems: Gemini 2.0 Flash Thinking. Unlike OpenAIâs GPT models that support reasoning, Flash Thinking shows its chain of thought explicitly.\n",
       "            </li>\n",
       "        \n",
       "            <li style=\"margin: 15px 0; padding: 15px; background-color: black; \n",
       "                       border-left: 4px solid red; border-radius: 4px;\">\n",
       "                Jeremy Howard and his team have released ModernBERT, a major upgrade to the BERT model they released six years ago. It comes in two sizes: 139M and 395M parameters. Itâs ideal for retrieval, classification, and entity extraction, and other components of a data pipeline.\n",
       "            </li>\n",
       "        \n",
       "            <li style=\"margin: 15px 0; padding: 15px; background-color: black; \n",
       "                       border-left: 4px solid red; border-radius: 4px;\">\n",
       "                AWSâs Bedrock service has the ability to check the output of other models for hallucinations.\n",
       "            </li>\n",
       "        \n",
       "            <li style=\"margin: 15px 0; padding: 15px; background-color: black; \n",
       "                       border-left: 4px solid red; border-radius: 4px;\">\n",
       "                To make sure they arenât outdone by 12 Days of OpenAI, Google has announced Android XR, an operating system for extended reality headsets and glasses. Google doesnât plan to build their own hardware; theyâre partnering with Samsung, Qualcomm, and other manufacturers.\n",
       "            </li>\n",
       "        \n",
       "            <li style=\"margin: 15px 0; padding: 15px; background-color: black; \n",
       "                       border-left: 4px solid red; border-radius: 4px;\">\n",
       "                Also not to be outdone by 12 Days of OpenAI, Anthropic has announced Clio, a privacy- preserving approach to finding out how people use their models. That information will be used to improve Anthropicâs understanding of safety issues and to build more helpful models.\n",
       "            </li>\n",
       "        \n",
       "            <li style=\"margin: 15px 0; padding: 15px; background-color: black; \n",
       "                       border-left: 4px solid red; border-radius: 4px;\">\n",
       "                Not to be outdone by 12 Days of OpenAI, Google has announced Gemini 2.0 Flash, a multimodal model that supports streaming for both input and output. The announcement also showcased Astra, an AI agent for smartphones. Neither is generally available yet.\n",
       "            </li>\n",
       "        \n",
       "            <li style=\"margin: 15px 0; padding: 15px; background-color: black; \n",
       "                       border-left: 4px solid red; border-radius: 4px;\">\n",
       "                OpenAI has released canvas, a new feature that combines programming with writing. Changes to the canvas (code or text) immediately become part of the context. Python code is executed in the browser using Pyodide (Wasm), rather than in a container (as with Code Interpreter).\n",
       "            </li>\n",
       "        \n",
       "            <li style=\"margin: 15px 0; padding: 15px; background-color: black; \n",
       "                       border-left: 4px solid red; border-radius: 4px;\">\n",
       "                Stripe has announced an agent toolkit that lets you build payments into agentic workflows. Stripe recommends using the toolkit in test mode until the application has been thoroughly validated.\n",
       "            </li>\n",
       "        \n",
       "            <li style=\"margin: 15px 0; padding: 15px; background-color: black; \n",
       "                       border-left: 4px solid red; border-radius: 4px;\">\n",
       "                Simon Willison shows how to run a GPT-4 class model (Llama 3.3 70B) on a reasonably well-equipped laptop (64GB MacBook Pro M2).\n",
       "            </li>\n",
       "        \n",
       "            <li style=\"margin: 15px 0; padding: 15px; background-color: black; \n",
       "                       border-left: 4px solid red; border-radius: 4px;\">\n",
       "                As part of their 12 Days of OpenAI series, OpenAI finally released their video generation model, Sora. Itâs free to ChatGPT Plus subscribers, though limited to 50 five-second video clips per month; a ChatGPT Pro account relaxes many of the limitations.\n",
       "            </li>\n",
       "        \n",
       "            <li style=\"margin: 15px 0; padding: 15px; background-color: black; \n",
       "                       border-left: 4px solid red; border-radius: 4px;\">\n",
       "                Researchers have shown that advanced AI models, including Claude 3 Opus and OpenAI o1, are capable of âschemingâ: working against the interests of their users to achieve their goals. Scheming includes subverting oversight mechanisms, intentionally delivering subpar results, and even taking steps to prevent shutdown or replacement. Hello, HAL?\n",
       "            </li>\n",
       "        \n",
       "            <li style=\"margin: 15px 0; padding: 15px; background-color: black; \n",
       "                       border-left: 4px solid red; border-radius: 4px;\">\n",
       "                Roaming RAG is a new technique for retrieval augmented generation that finds relevant content by searching through headings to navigate documentsâlike a human might. It requires well-structured documents. A surprisingly simple idea, really.\n",
       "            </li>\n",
       "        \n",
       "            <li style=\"margin: 15px 0; padding: 15px; background-color: black; \n",
       "                       border-left: 4px solid red; border-radius: 4px;\">\n",
       "                Google has announced PaliGemma 2, a new version of its Gemma models that incorporates vision.\n",
       "            </li>\n",
       "        \n",
       "            <li style=\"margin: 15px 0; padding: 15px; background-color: black; \n",
       "                       border-left: 4px solid red; border-radius: 4px;\">\n",
       "                GPT-4-o1-preview is no more; the preview is now the real thing, OpenAI o1. In addition to advanced reasoning skills, the production release claims to be faster and to deliver more consistent results.\n",
       "            </li>\n",
       "        \n",
       "            <li style=\"margin: 15px 0; padding: 15px; background-color: black; \n",
       "                       border-left: 4px solid red; border-radius: 4px;\">\n",
       "                A group of AI agents in Minecraft behaved surprisingly like humansâeven developing jobs and religions. Is this a way to model how human groups collaborate?\n",
       "            </li>\n",
       "        \n",
       "            <li style=\"margin: 15px 0; padding: 15px; background-color: black; \n",
       "                       border-left: 4px solid red; border-radius: 4px;\">\n",
       "                One thing the AI industry needs desperately (aside from more power) is better benchmarks. Current benchmarks are closed, easily gamed (thatâs what AI does), and unreproducible, and they may not test anything meaningful. Better Bench is a framework for assessing benchmark quality.\n",
       "            </li>\n",
       "        \n",
       "            <li style=\"margin: 15px 0; padding: 15px; background-color: black; \n",
       "                       border-left: 4px solid red; border-radius: 4px;\">\n",
       "                Palmyra Creative, a new language model from Writer, promises the ability to develop âstyleâ so that all AI-generated output wonât sound boringly the same.\n",
       "            </li>\n",
       "        \n",
       "            <li style=\"margin: 15px 0; padding: 15px; background-color: black; \n",
       "                       border-left: 4px solid red; border-radius: 4px;\">\n",
       "                During training AI picks up biases from human data. When humans interact with the AI, thereâs a feedback loop that amplifies those biases.\n",
       "            </li>\n",
       "        \n",
       "            <li style=\"margin: 15px 0; padding: 15px; background-color: black; \n",
       "                       border-left: 4px solid red; border-radius: 4px;\">\n",
       "                Unicon may never become one of the top 20 (or top 100) programming languages, but itâs a descendant of Icon, which was always my favorite language for string processing.\n",
       "            </li>\n",
       "        \n",
       "            <li style=\"margin: 15px 0; padding: 15px; background-color: black; \n",
       "                       border-left: 4px solid red; border-radius: 4px;\">\n",
       "                What do CAPTCHAs mean when LLM-equipped bots can successfully complete tasks set for humans?\n",
       "            </li>\n",
       "        \n",
       "            <li style=\"margin: 15px 0; padding: 15px; background-color: black; \n",
       "                       border-left: 4px solid red; border-radius: 4px;\">\n",
       "                egui, together with eframe, is a GUI library and framework for Rust. Itâs portable and runs natively (on macOS, Windows, Linux, and Android), on the web (using Wasm), and in many game engines.\n",
       "            </li>\n",
       "        \n",
       "            <li style=\"margin: 15px 0; padding: 15px; background-color: black; \n",
       "                       border-left: 4px solid red; border-radius: 4px;\">\n",
       "                For the archivist in us: The Manx project isnât about an island in the Irish Sea or about cats. Itâs a catalog of manuals for old computers.\n",
       "            </li>\n",
       "        \n",
       "            <li style=\"margin: 15px 0; padding: 15px; background-color: black; \n",
       "                       border-left: 4px solid red; border-radius: 4px;\">\n",
       "                Cerbrec is a graphical Python framework for deep learning. Itâs aimed at Python programmers who donât have sufficient expertise to build applications with PyTorch or other AI libraries.\n",
       "            </li>\n",
       "        \n",
       "            <li style=\"margin: 15px 0; padding: 15px; background-color: black; \n",
       "                       border-left: 4px solid red; border-radius: 4px;\">\n",
       "                GitHub has announced free access to GitHub Copilot for all current and new users. Free access gives you 2,000 code completions and 50 chat messages per month. Theyâve also added the ability to use Claude 3.5 Sonnet in addition to GPT-4o.\n",
       "            </li>\n",
       "        \n",
       "            <li style=\"margin: 15px 0; padding: 15px; background-color: black; \n",
       "                       border-left: 4px solid red; border-radius: 4px;\">\n",
       "                Devin, the AI assisted coding tool that claims to support software development from beginning to end, including design and debugging, has reached general availability.\n",
       "            </li>\n",
       "        \n",
       "            <li style=\"margin: 15px 0; padding: 15px; background-color: black; \n",
       "                       border-left: 4px solid red; border-radius: 4px;\">\n",
       "                JSON5, also known as âJSON for humans,â is a variant of JSON that has been designed for human readability so that it can be written and maintained by handâfor example, in configuration files.\n",
       "            </li>\n",
       "        \n",
       "            <li style=\"margin: 15px 0; padding: 15px; background-color: black; \n",
       "                       border-left: 4px solid red; border-radius: 4px;\">\n",
       "                AWS has announced two significant new services: Aurora DSQL, which is a distributed SQL database, and S3 Tables, which supports data lakehouses through Apache Iceberg.\n",
       "            </li>\n",
       "        \n",
       "            <li style=\"margin: 15px 0; padding: 15px; background-color: black; \n",
       "                       border-left: 4px solid red; border-radius: 4px;\">\n",
       "                AutoFlow is an open source tool for creating a knowledge graph. Itâs based on TiDB (a vector database), LlamaIndex, and DSPy.\n",
       "            </li>\n",
       "        \n",
       "        </ul>\n",
       "    </div>\n",
       "    "
      ],
      "text/plain": [
       "<IPython.core.display.HTML object>"
      ]
     },
     "execution_count": 6,
     "metadata": {},
     "output_type": "execute_result"
    }
   ],
   "source": [
    "def create_html_news_display(news_items):\n",
    "    \"\"\"\n",
    "    Create a formatted HTML display of news items with proper styling\n",
    "    \"\"\"\n",
    "    html = \"\"\"\n",
    "    <div style=\"max-width: 800px; margin: 20px auto; font-family: Arial, sans-serif;\">\n",
    "        <h2 style=\"color: white; border-bottom: 2px solid red; padding-bottom: 10px;\">\n",
    "            O'Reilly AI & Programming News\n",
    "        </h2>\n",
    "        <ul style=\"list-style-type: none; padding: 0;\">\n",
    "    \"\"\"\n",
    "    \n",
    "    for item in news_items:\n",
    "        html += f\"\"\"\n",
    "            <li style=\"margin: 15px 0; padding: 15px; background-color: black; \n",
    "                       border-left: 4px solid red; border-radius: 4px;\">\n",
    "                {item}\n",
    "            </li>\n",
    "        \"\"\"\n",
    "    \n",
    "    html += \"\"\"\n",
    "        </ul>\n",
    "    </div>\n",
    "    \"\"\"\n",
    "    \n",
    "    from IPython.display import HTML\n",
    "    return HTML(html)\n",
    "\n",
    "# Display the news in formatted HTML\n",
    "\n",
    "create_html_news_display(ai_programming_news)"
   ]
  },
  {
   "cell_type": "markdown",
   "id": "041d5b82",
   "metadata": {},
   "source": [
    "## Best Practices for Package Management\n",
    "\n",
    "1. Always use virtual environments to isolate project dependencies\n",
    "2. Keep a requirements.txt file with your project\n",
    "3. Use semantic versioning in requirements.txt\n",
    "4. Document any specific installation steps in README.md\n",
    "\n",
    "You can create a requirements.txt file for your project:"
   ]
  },
  {
   "cell_type": "code",
   "execution_count": null,
   "id": "97e10a93",
   "metadata": {},
   "outputs": [],
   "source": [
    "# Generate requirements.txt\n",
    "import subprocess\n",
    "\n",
    "def generate_requirements():\n",
    "    \"\"\"Generate requirements.txt file\"\"\"\n",
    "    try:\n",
    "        subprocess.run([\"pip\", \"freeze\", \">\", \"requirements.txt\"], shell=True)\n",
    "        print(\"Requirements.txt generated successfully\")\n",
    "    except subprocess.SubprocessError as e:\n",
    "        print(f\"Error generating requirements.txt: {e}\")\n",
    "\n",
    "generate_requirements()"
   ]
  }
 ],
 "metadata": {
  "kernelspec": {
   "display_name": "oreilly-automate-tasks",
   "language": "python",
   "name": "oreilly-automate-tasks"
  },
  "language_info": {
   "codemirror_mode": {
    "name": "ipython",
    "version": 3
   },
   "file_extension": ".py",
   "mimetype": "text/x-python",
   "name": "python",
   "nbconvert_exporter": "python",
   "pygments_lexer": "ipython3",
   "version": "3.11.11"
  }
 },
 "nbformat": 4,
 "nbformat_minor": 5
}
