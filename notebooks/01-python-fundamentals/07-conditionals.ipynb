{
 "cells": [
  {
   "cell_type": "markdown",
   "id": "7d6e1692",
   "metadata": {},
   "source": [
    "# Python Conditionals and Decision Making\n",
    "\n",
    "## Introduction to Control Flow\n",
    "\n",
    "In programming, we often need to make decisions based on certain conditions. Python provides `if`, `elif`, and `else` statements for this purpose.\n",
    "\n",
    "## Basic If Statements"
   ]
  },
  {
   "cell_type": "code",
   "execution_count": 3,
   "id": "87bae65d",
   "metadata": {},
   "outputs": [
    {
     "name": "stdout",
     "output_type": "stream",
     "text": [
      "Good morning!\n"
     ]
    }
   ],
   "source": [
    "time_of_day = 10  # 24-hour format\n",
    "\n",
    "if time_of_day < 12:\n",
    "    print(\"Good morning!\")\n",
    "    \n",
    "if time_of_day>10:\n",
    "    print(\"14 is bigger than 10!\")"
   ]
  },
  {
   "cell_type": "markdown",
   "id": "6c92ecc4",
   "metadata": {},
   "source": [
    "## If-Else Statements"
   ]
  },
  {
   "cell_type": "code",
   "execution_count": 4,
   "id": "83c750bf",
   "metadata": {},
   "outputs": [
    {
     "name": "stdout",
     "output_type": "stream",
     "text": [
      "Warning: Battery low!\n",
      "Please connect charger\n"
     ]
    }
   ],
   "source": [
    "battery_percentage = 15\n",
    "\n",
    "if battery_percentage < 20:\n",
    "    print(\"Warning: Battery low!\")\n",
    "    print(\"Please connect charger\")\n",
    "else:\n",
    "    print(\"Battery level okay\")"
   ]
  },
  {
   "cell_type": "markdown",
   "id": "22f3b23b",
   "metadata": {},
   "source": [
    "## If-Elif-Else Chains"
   ]
  },
  {
   "cell_type": "code",
   "execution_count": 5,
   "id": "4e6f73f5",
   "metadata": {},
   "outputs": [
    {
     "name": "stdout",
     "output_type": "stream",
     "text": [
      "Warning: File is very small\n",
      "Warning: File is very large\n"
     ]
    }
   ],
   "source": [
    "def check_file_status(file_size_mb):\n",
    "    if file_size_mb == 0:\n",
    "        print(\"Error: File is empty\")\n",
    "    elif file_size_mb < 1:\n",
    "        print(\"Warning: File is very small\")\n",
    "    elif file_size_mb > 1000:\n",
    "        print(\"Warning: File is very large\")\n",
    "    else:\n",
    "        print(\"File size is acceptable\")\n",
    "\n",
    "check_file_status(0.5)\n",
    "check_file_status(1500)"
   ]
  },
  {
   "cell_type": "markdown",
   "id": "ec66ef73",
   "metadata": {},
   "source": [
    "## Comparison Operators"
   ]
  },
  {
   "cell_type": "code",
   "execution_count": 6,
   "id": "848be853",
   "metadata": {},
   "outputs": [
    {
     "name": "stdout",
     "output_type": "stream",
     "text": [
      "False\n",
      "True\n",
      "True\n",
      "False\n",
      "True\n",
      "False\n"
     ]
    }
   ],
   "source": [
    "# Common comparison operators\n",
    "x = 5\n",
    "y = 10\n",
    "\n",
    "print(x == y)  # Equal to\n",
    "print(x != y)  # Not equal to\n",
    "print(x < y)   # Less than\n",
    "print(x > y)   # Greater than\n",
    "print(x <= y)  # Less than or equal to\n",
    "print(x >= y)  # Greater than or equal to"
   ]
  },
  {
   "cell_type": "markdown",
   "id": "10212b93",
   "metadata": {},
   "source": [
    "## Logical Operators"
   ]
  },
  {
   "cell_type": "code",
   "execution_count": 7,
   "id": "a916df7f",
   "metadata": {},
   "outputs": [
    {
     "name": "stdout",
     "output_type": "stream",
     "text": [
      "System under heavy load!\n",
      "Consider closing some applications\n",
      "Daily tasks incomplete\n"
     ]
    }
   ],
   "source": [
    "cpu_usage = 85\n",
    "memory_usage = 90\n",
    "\n",
    "if cpu_usage > 80 and memory_usage > 80:\n",
    "    print(\"System under heavy load!\")\n",
    "    print(\"Consider closing some applications\")\n",
    "\n",
    "files_to_process = [\"doc1.txt\", \"doc2.txt\"]\n",
    "backup_done = False\n",
    "\n",
    "if not backup_done or len(files_to_process) > 0:\n",
    "    print(\"Daily tasks incomplete\")"
   ]
  },
  {
   "cell_type": "markdown",
   "id": "5c275474",
   "metadata": {},
   "source": [
    "## Nested Conditionals"
   ]
  },
  {
   "cell_type": "code",
   "execution_count": 8,
   "id": "8bde7e6f",
   "metadata": {},
   "outputs": [
    {
     "name": "stdout",
     "output_type": "stream",
     "text": [
      "Processing small text file: report.txt\n",
      "Unsupported file type: data.csv\n",
      "Text file too large: video.txt\n"
     ]
    },
    {
     "data": {
      "text/plain": [
       "False"
      ]
     },
     "execution_count": 8,
     "metadata": {},
     "output_type": "execute_result"
    }
   ],
   "source": [
    "def process_file(filename, size_mb):\n",
    "    if filename.endswith('.txt'):\n",
    "        if size_mb < 1:\n",
    "            print(f\"Processing small text file: {filename}\")\n",
    "            return True\n",
    "        else:\n",
    "            print(f\"Text file too large: {filename}\")\n",
    "            return False\n",
    "    else:\n",
    "        print(f\"Unsupported file type: {filename}\")\n",
    "        return False\n",
    "\n",
    "process_file(\"report.txt\", 0.5)\n",
    "process_file(\"data.csv\", 0.3)\n",
    "process_file(\"video.txt\", 10)"
   ]
  },
  {
   "cell_type": "markdown",
   "id": "0720e05b",
   "metadata": {},
   "source": [
    "## Conditional Expressions (Ternary Operator)"
   ]
  },
  {
   "cell_type": "code",
   "execution_count": 14,
   "id": "cac78168",
   "metadata": {},
   "outputs": [
    {
     "name": "stdout",
     "output_type": "stream",
     "text": [
      "Internet connection: Good\n"
     ]
    }
   ],
   "source": [
    "download_speed = 15  # Mbps\n",
    "\n",
    "connection_status = \"Good\" if download_speed >= 10 else \"Poor\"\n",
    "print(f\"Internet connection: {connection_status}\")"
   ]
  },
  {
   "cell_type": "markdown",
   "id": "aeaac4ce",
   "metadata": {},
   "source": [
    "## Checking Multiple Conditions"
   ]
  },
  {
   "cell_type": "code",
   "execution_count": 15,
   "id": "21799162",
   "metadata": {},
   "outputs": [
    {
     "name": "stdout",
     "output_type": "stream",
     "text": [
      "WARNING: CPU temperature critical!\n",
      "WARNING: Low disk space!\n",
      "INFO: 3 system updates available\n",
      "System status: All good!\n"
     ]
    }
   ],
   "source": [
    "def analyze_system_status(cpu_temp, disk_space, updates_pending):\n",
    "    if cpu_temp >= 80:\n",
    "        print(\"WARNING: CPU temperature critical!\")\n",
    "    \n",
    "    if disk_space < 1000:  # MB\n",
    "        print(\"WARNING: Low disk space!\")\n",
    "    \n",
    "    if updates_pending > 0:\n",
    "        print(f\"INFO: {updates_pending} system updates available\")\n",
    "    \n",
    "    if cpu_temp < 80 and disk_space >= 1000 and updates_pending == 0:\n",
    "        print(\"System status: All good!\")\n",
    "\n",
    "analyze_system_status(85, 500, 3)\n",
    "analyze_system_status(70, 1500, 0)"
   ]
  },
  {
   "cell_type": "markdown",
   "id": "6daf0f9e",
   "metadata": {},
   "source": [
    "## Practice Exercise"
   ]
  },
  {
   "cell_type": "code",
   "execution_count": 16,
   "id": "8c967033",
   "metadata": {},
   "outputs": [
    {
     "name": "stdout",
     "output_type": "stream",
     "text": [
      "Backup needed: More than 24 hours since last backup\n",
      "Backup needed: Large number of files modified\n",
      "Backup needed: Significant data changes\n",
      "No backup needed at this time\n"
     ]
    },
    {
     "data": {
      "text/plain": [
       "False"
      ]
     },
     "execution_count": 16,
     "metadata": {},
     "output_type": "execute_result"
    }
   ],
   "source": [
    "def automate_backup(file_count, total_size_mb, last_backup_hours):\n",
    "    \"\"\"\n",
    "    Decide if a backup should be performed based on various conditions\n",
    "    \"\"\"\n",
    "    if last_backup_hours > 24:\n",
    "        print(\"Backup needed: More than 24 hours since last backup\")\n",
    "        return True\n",
    "    elif file_count > 100:\n",
    "        print(\"Backup needed: Large number of files modified\")\n",
    "        return True\n",
    "    elif total_size_mb > 500:\n",
    "        print(\"Backup needed: Significant data changes\")\n",
    "        return True\n",
    "    else:\n",
    "        print(\"No backup needed at this time\")\n",
    "        return False\n",
    "\n",
    "# Test cases\n",
    "automate_backup(50, 100, 25)    # More than 24 hours\n",
    "automate_backup(150, 200, 5)    # Many files modified\n",
    "automate_backup(20, 600, 12)    # Large data changes\n",
    "automate_backup(10, 50, 2)      # No backup needed"
   ]
  },
  {
   "cell_type": "markdown",
   "id": "f49a07d3",
   "metadata": {},
   "source": [
    "## Summary\n",
    "- Conditionals allow programs to make decisions based on conditions\n",
    "- Basic syntax includes `if`, `elif`, and `else`\n",
    "- Comparison operators: `==`, `!=`, `<`, `>`, `<=`, `>=`\n",
    "- Logical operators: `and`, `or`, `not`\n",
    "- Nested conditionals for complex decision making\n",
    "- Ternary operator for simple conditional expressions"
   ]
  }
 ],
 "metadata": {
  "kernelspec": {
   "display_name": "oreilly-automate-tasks",
   "language": "python",
   "name": "oreilly-automate-tasks"
  },
  "language_info": {
   "codemirror_mode": {
    "name": "ipython",
    "version": 3
   },
   "file_extension": ".py",
   "mimetype": "text/x-python",
   "name": "python",
   "nbconvert_exporter": "python",
   "pygments_lexer": "ipython3",
   "version": "3.11.11"
  }
 },
 "nbformat": 4,
 "nbformat_minor": 5
}
