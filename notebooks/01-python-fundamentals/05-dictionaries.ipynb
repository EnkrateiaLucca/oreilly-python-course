{
 "cells": [
  {
   "cell_type": "markdown",
   "id": "75ea1605",
   "metadata": {},
   "source": [
    "# Python Dictionaries: Managing Key-Value Data\n",
    "\n",
    "In this lesson, we'll explore Python dictionaries - a powerful data structure for storing and managing key-value pairs. We'll learn how to create, manipulate, and use dictionaries effectively in various programming scenarios.\n",
    "\n",
    "## Basic Dictionary Operations\n",
    "\n",
    "Let's start with creating and accessing dictionaries:"
   ]
  },
  {
   "cell_type": "code",
   "execution_count": 1,
   "id": "4d46984c",
   "metadata": {},
   "outputs": [
    {
     "name": "stdout",
     "output_type": "stream",
     "text": [
      "Alice's number: 555-0101\n",
      "Bob's number: 555-0202\n",
      "Eve's number: Not found\n"
     ]
    }
   ],
   "source": [
    "# Creating a simple contact dictionary\n",
    "contacts = {\n",
    "    \"Alice\": \"555-0101\",\n",
    "    \"Bob\": \"555-0202\",\n",
    "    \"Charlie\": \"555-0303\",\n",
    "    \"Diana\": \"555-0404\"\n",
    "}\n",
    "\n",
    "# Accessing values\n",
    "print(f\"Alice's number: {contacts['Alice']}\")\n",
    "print(f\"Bob's number: {contacts.get('Bob')}\")\n",
    "# Using get() with default value for safety\n",
    "print(f\"Eve's number: {contacts.get('Eve', 'Not found')}\")"
   ]
  },
  {
   "cell_type": "markdown",
   "id": "b5d9aa57",
   "metadata": {},
   "source": [
    "## Essential Dictionary Methods\n",
    "\n",
    "Here's how to use common dictionary methods:"
   ]
  },
  {
   "cell_type": "code",
   "execution_count": 2,
   "id": "63e78013",
   "metadata": {},
   "outputs": [
    {
     "name": "stdout",
     "output_type": "stream",
     "text": [
      "Available fruits: ['apples', 'bananas', 'oranges']\n",
      "Quantities: [50, 30, 25]\n",
      "\n",
      "Current inventory:\n",
      "apples: 50\n",
      "bananas: 30\n",
      "oranges: 25\n",
      "\n",
      "Removed 30 bananas\n",
      "\n",
      "Final inventory: {'apples': 45, 'oranges': 25, 'grapes': 40}\n"
     ]
    }
   ],
   "source": [
    "def demonstrate_dictionary_methods():\n",
    "    inventory = {\n",
    "        \"apples\": 50,\n",
    "        \"bananas\": 30,\n",
    "        \"oranges\": 25\n",
    "    }\n",
    "    \n",
    "    # Getting all keys\n",
    "    print(\"Available fruits:\", list(inventory.keys()))\n",
    "    \n",
    "    # Getting all values\n",
    "    print(\"Quantities:\", list(inventory.values()))\n",
    "    \n",
    "    # Getting key-value pairs\n",
    "    print(\"\\nCurrent inventory:\")\n",
    "    for fruit, quantity in inventory.items():\n",
    "        print(f\"{fruit}: {quantity}\")\n",
    "    \n",
    "    # Adding/updating items\n",
    "    inventory.update({\n",
    "        \"apples\": 45,  # Update existing\n",
    "        \"grapes\": 40   # Add new\n",
    "    })\n",
    "    \n",
    "    # Removing items\n",
    "    removed_quantity = inventory.pop(\"bananas\")\n",
    "    print(f\"\\nRemoved {removed_quantity} bananas\")\n",
    "    \n",
    "    return inventory\n",
    "\n",
    "updated_inventory = demonstrate_dictionary_methods()\n",
    "print(\"\\nFinal inventory:\", updated_inventory)"
   ]
  },
  {
   "cell_type": "markdown",
   "id": "c8fadc5b",
   "metadata": {},
   "source": [
    "## Nested Dictionaries\n",
    "\n",
    "Dictionaries can contain complex data structures:"
   ]
  },
  {
   "cell_type": "code",
   "execution_count": 3,
   "id": "01ab69b4",
   "metadata": {},
   "outputs": [
    {
     "name": "stdout",
     "output_type": "stream",
     "text": [
      "User Profile Summary:\n",
      "Name: Sarah Wilson\n",
      "Title: Software Engineer\n",
      "Skills: Python, JavaScript, Docker\n",
      "Settings: {'theme': 'dark', 'notifications': True, 'language': 'English'}\n"
     ]
    }
   ],
   "source": [
    "# Creating a nested user profile\n",
    "user_profile = {\n",
    "    \"personal_info\": {\n",
    "        \"name\": \"Sarah Wilson\",\n",
    "        \"age\": 28,\n",
    "        \"location\": \"Seattle\"\n",
    "    },\n",
    "    \"professional_info\": {\n",
    "        \"title\": \"Software Engineer\",\n",
    "        \"skills\": [\"Python\", \"JavaScript\", \"Docker\"],\n",
    "        \"experience_years\": 5\n",
    "    },\n",
    "    \"preferences\": {\n",
    "        \"theme\": \"dark\",\n",
    "        \"notifications\": True,\n",
    "        \"language\": \"English\"\n",
    "    }\n",
    "}\n",
    "\n",
    "def display_profile(profile):\n",
    "    print(\"User Profile Summary:\")\n",
    "    print(f\"Name: {profile['personal_info']['name']}\")\n",
    "    print(f\"Title: {profile['professional_info']['title']}\")\n",
    "    print(f\"Skills: {', '.join(profile['professional_info']['skills'])}\")\n",
    "    print(f\"Settings: {profile['preferences']}\")\n",
    "\n",
    "display_profile(user_profile)"
   ]
  },
  {
   "cell_type": "markdown",
   "id": "860df672",
   "metadata": {},
   "source": [
    "## Practical Example: Task Management System\n",
    "\n",
    "Let's create a more complex example using dictionaries for task management:"
   ]
  },
  {
   "cell_type": "code",
   "execution_count": null,
   "id": "5a3f3049",
   "metadata": {},
   "outputs": [],
   "source": [
    "class TaskManager:\n",
    "    def __init__(self):\n",
    "        self.tasks = {}\n",
    "    \n",
    "    def add_task(self, task_id, description, priority=\"medium\", status=\"pending\"):\n",
    "        self.tasks[task_id] = {\n",
    "            \"description\": description,\n",
    "            \"priority\": priority,\n",
    "            \"status\": status,\n",
    "            \"created_at\": datetime.now().strftime(\"%Y-%m-%d %H:%M\")\n",
    "        }\n",
    "    \n",
    "    def update_status(self, task_id, status):\n",
    "        if task_id in self.tasks:\n",
    "            self.tasks[task_id][\"status\"] = status\n",
    "            return True\n",
    "        return False\n",
    "    \n",
    "    def get_tasks_by_priority(self, priority):\n",
    "        return {\n",
    "            task_id: task for task_id, task in self.tasks.items()\n",
    "            if task[\"priority\"] == priority\n",
    "        }\n",
    "    \n",
    "    def display_tasks(self):\n",
    "        for task_id, task in self.tasks.items():\n",
    "            print(f\"\\nTask {task_id}:\")\n",
    "            for key, value in task.items():\n",
    "                print(f\"  {key}: {value}\")\n",
    "\n",
    "# Example usage\n",
    "manager = TaskManager()\n",
    "manager.add_task(1, \"Complete project proposal\", \"high\")\n",
    "manager.add_task(2, \"Review code changes\", \"medium\")\n",
    "manager.add_task(3, \"Update documentation\", \"low\")\n",
    "manager.display_tasks()"
   ]
  },
  {
   "cell_type": "markdown",
   "id": "a3c8fece",
   "metadata": {},
   "source": [
    "## Dictionary Comprehensions\n",
    "\n",
    "Here's how to create dictionaries using comprehensions:"
   ]
  },
  {
   "cell_type": "code",
   "execution_count": 4,
   "id": "09ef6004",
   "metadata": {},
   "outputs": [
    {
     "name": "stdout",
     "output_type": "stream",
     "text": [
      "1\n",
      "2\n",
      "3\n",
      "4\n",
      "5\n"
     ]
    }
   ],
   "source": [
    "for num in range(1,6):\n",
    "    print(num)"
   ]
  },
  {
   "cell_type": "code",
   "execution_count": 5,
   "id": "8755451c",
   "metadata": {},
   "outputs": [
    {
     "name": "stdout",
     "output_type": "stream",
     "text": [
      "Square numbers: {1: 1, 2: 4, 3: 9, 4: 16, 5: 25}\n"
     ]
    }
   ],
   "source": [
    "# Creating a square numbers dictionary\n",
    "squares = {num: num**2 for num in range(1, 6)}\n",
    "print(\"Square numbers:\", squares)"
   ]
  },
  {
   "cell_type": "code",
   "execution_count": 6,
   "id": "d9d3c250",
   "metadata": {},
   "outputs": [
    {
     "name": "stdout",
     "output_type": "stream",
     "text": [
      "\n",
      "Top scorers: {'Alice': 95, 'Diana': 95}\n"
     ]
    }
   ],
   "source": [
    "# Filtering with dictionary comprehension\n",
    "scores = {\"Alice\": 95, \"Bob\": 82, \"Charlie\": 88, \"Diana\": 95}\n",
    "top_scores = {name: score for name, score in scores.items() if score >= 90}\n",
    "print(\"\\nTop scorers:\", top_scores)"
   ]
  },
  {
   "cell_type": "markdown",
   "id": "e405d244",
   "metadata": {},
   "source": [
    "## Key Takeaways\n",
    "\n",
    "- Dictionaries store key-value pairs for efficient data organization\n",
    "- Keys must be immutable (strings, numbers, tuples)\n",
    "- Common methods include:\n",
    "  - `keys()`, `values()`, `items()` for accessing elements\n",
    "  - `get()` for safe value retrieval\n",
    "  - `update()` for adding/modifying entries\n",
    "  - `pop()` for removing entries\n",
    "- Nested dictionaries can store complex data structures\n",
    "- Dictionary comprehensions provide concise creation syntax\n",
    "- Always use `get()` method when key existence is uncertain\n",
    "- Dictionaries are mutable and can be modified after creation\n",
    "\n",
    "In the next lesson, we'll explore how to combine dictionaries with other Python data structures for more complex applications!"
   ]
  }
 ],
 "metadata": {
  "kernelspec": {
   "display_name": "oreilly-automate-tasks",
   "language": "python",
   "name": "oreilly-automate-tasks"
  },
  "language_info": {
   "codemirror_mode": {
    "name": "ipython",
    "version": 3
   },
   "file_extension": ".py",
   "mimetype": "text/x-python",
   "name": "python",
   "nbconvert_exporter": "python",
   "pygments_lexer": "ipython3",
   "version": "3.11.11"
  }
 },
 "nbformat": 4,
 "nbformat_minor": 5
}
