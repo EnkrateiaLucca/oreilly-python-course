{
 "cells": [
  {
   "cell_type": "markdown",
   "id": "8fc07e46",
   "metadata": {},
   "source": [
    "# Python Functions: Building Reusable Code Blocks\n",
    "\n",
    "In this lesson, we'll explore Python functions - both built-in functions and how to create our own. Functions are essential building blocks that help us organize code, make it reusable, and break down complex problems into manageable pieces.\n",
    "\n",
    "## Built-in Functions\n",
    "\n",
    "Python comes with many useful built-in functions. Let's explore some common ones:"
   ]
  },
  {
   "cell_type": "code",
   "execution_count": 2,
   "id": "535f6192",
   "metadata": {},
   "outputs": [
    {
     "name": "stdout",
     "output_type": "stream",
     "text": [
      "Length of name: 9\n",
      "Length of number list: 5\n",
      "Pi rounded to 2 decimals: 3.14\n",
      "Pi rounded to whole number: 3\n"
     ]
    },
    {
     "data": {
      "text/plain": [
       "10"
      ]
     },
     "execution_count": 2,
     "metadata": {},
     "output_type": "execute_result"
    }
   ],
   "source": [
    "# len() - Calculates the length of sequences\n",
    "name = \"Alexander\"\n",
    "numbers = [1, 2, 3, 4, 5]\n",
    "\n",
    "print(f\"Length of name: {len(name)}\")\n",
    "print(f\"Length of number list: {len(numbers)}\")\n",
    "\n",
    "# round() - Rounds numbers to specified decimals\n",
    "pi = 3.14159\n",
    "print(f\"Pi rounded to 2 decimals: {round(pi, 2)}\")\n",
    "print(f\"Pi rounded to whole number: {round(pi)}\")\n",
    "\n",
    "# abs() - Returns absolute value\n",
    "temperature = -10\n",
    "abs(temperature)"
   ]
  },
  {
   "cell_type": "markdown",
   "id": "55352c65",
   "metadata": {},
   "source": [
    "## Creating Our Own Functions\n",
    "\n",
    "We can create custom functions using the `def` keyword:"
   ]
  },
  {
   "cell_type": "code",
   "execution_count": 3,
   "id": "7fe5252b",
   "metadata": {},
   "outputs": [
    {
     "name": "stdout",
     "output_type": "stream",
     "text": [
      "Good morning, Alice!\n",
      "Good evening, Bob!\n"
     ]
    }
   ],
   "source": [
    "def greet_user(name, time_of_day):\n",
    "    \"\"\"\n",
    "    Creates a personalized greeting based on time of day\n",
    "    \"\"\"\n",
    "    greeting = f\"Good {time_of_day}, {name}!\"\n",
    "    return greeting\n",
    "\n",
    "# Using our function\n",
    "morning_greeting = greet_user(\"Alice\", \"morning\")\n",
    "evening_greeting = greet_user(\"Bob\", \"evening\")\n",
    "\n",
    "print(morning_greeting)\n",
    "print(evening_greeting)"
   ]
  },
  {
   "cell_type": "markdown",
   "id": "77b4d97f",
   "metadata": {},
   "source": [
    "## Functions with Multiple Parameters\n",
    "\n",
    "Functions can take multiple parameters and perform complex operations:"
   ]
  },
  {
   "cell_type": "code",
   "execution_count": 4,
   "id": "3b9ec796",
   "metadata": {},
   "outputs": [
    {
     "name": "stdout",
     "output_type": "stream",
     "text": [
      "Class Statistics:\n",
      "Sum: 433\n",
      "Average: 86.6\n",
      "Max: 92\n",
      "Min: 78\n"
     ]
    }
   ],
   "source": [
    "def calculate_statistics(numbers):\n",
    "    \"\"\"\n",
    "    Calculate basic statistics for a list of numbers\n",
    "    \"\"\"\n",
    "    total = sum(numbers)\n",
    "    average = total / len(numbers)\n",
    "    maximum = max(numbers)\n",
    "    minimum = min(numbers)\n",
    "    \n",
    "    return {\n",
    "        \"sum\": total,\n",
    "        \"average\": average,\n",
    "        \"max\": maximum,\n",
    "        \"min\": minimum\n",
    "    }\n",
    "\n",
    "# Using our statistics function\n",
    "scores = [85, 92, 78, 90, 88]\n",
    "stats = calculate_statistics(scores)\n",
    "\n",
    "print(f\"Class Statistics:\")\n",
    "for key, value in stats.items():\n",
    "    print(f\"{key.capitalize()}: {value}\")"
   ]
  },
  {
   "cell_type": "markdown",
   "id": "6fbe72b1",
   "metadata": {},
   "source": [
    "## Functions with Default Parameters\n",
    "\n",
    "We can make functions more flexible by providing default values:"
   ]
  },
  {
   "cell_type": "code",
   "execution_count": 5,
   "id": "8133e31c",
   "metadata": {},
   "outputs": [
    {
     "name": "stdout",
     "output_type": "stream",
     "text": [
      "\n",
      "    === Profile ===\n",
      "    Name: Emma\n",
      "    Role: Student\n",
      "    Skills: Learning\n",
      "    =============\n",
      "    \n",
      "\n",
      "    === Profile ===\n",
      "    Name: John\n",
      "    Role: Developer\n",
      "    Skills: Python, JavaScript, SQL\n",
      "    =============\n",
      "    \n"
     ]
    }
   ],
   "source": [
    "def create_profile(name, role=\"Student\", skills=None):\n",
    "    if skills is None:\n",
    "        skills = [\"Learning\"]\n",
    "    \n",
    "    profile = f\"\"\"\n",
    "    === Profile ===\n",
    "    Name: {name}\n",
    "    Role: {role}\n",
    "    Skills: {', '.join(skills)}\n",
    "    =============\n",
    "    \"\"\"\n",
    "    return profile\n",
    "\n",
    "# Using default parameters\n",
    "print(create_profile(\"Emma\"))\n",
    "\n",
    "# Providing all parameters\n",
    "print(create_profile(\"John\", \"Developer\", [\"Python\", \"JavaScript\", \"SQL\"]))"
   ]
  },
  {
   "cell_type": "markdown",
   "id": "e0206990",
   "metadata": {},
   "source": [
    "## Building a Learning Assistant\n",
    "\n",
    "Here's a more complex example that uses functions to create a learning assistant:"
   ]
  },
  {
   "cell_type": "code",
   "execution_count": 6,
   "id": "a1808fd5",
   "metadata": {},
   "outputs": [
    {
     "name": "stdout",
     "output_type": "stream",
     "text": [
      "Study Plan for Python (4 weeks)\n",
      "\n",
      "Week 1: Basics and Data Types\n",
      "Week 2: Control Flow and Functions\n",
      "Week 3: Data Structures\n",
      "Week 4: Object-Oriented Programming\n",
      "\n"
     ]
    }
   ],
   "source": [
    "def create_study_plan(topic, duration_weeks=4):\n",
    "    \"\"\"\n",
    "    Creates a weekly study plan for a given topic\n",
    "    \"\"\"\n",
    "    weekly_topics = {\n",
    "        \"Python\": [\n",
    "            \"Basics and Data Types\",\n",
    "            \"Control Flow and Functions\",\n",
    "            \"Data Structures\",\n",
    "            \"Object-Oriented Programming\"\n",
    "        ],\n",
    "        \"Data Science\": [\n",
    "            \"Data Collection and Cleaning\",\n",
    "            \"Exploratory Data Analysis\",\n",
    "            \"Statistical Methods\",\n",
    "            \"Machine Learning Basics\"\n",
    "        ]\n",
    "    }\n",
    "    \n",
    "    if topic not in weekly_topics:\n",
    "        return \"Topic not found in curriculum\"\n",
    "    \n",
    "    study_plan = f\"Study Plan for {topic} ({duration_weeks} weeks)\\n\\n\"\n",
    "    \n",
    "    for week in range(duration_weeks):\n",
    "        week_topic = weekly_topics[topic][week % len(weekly_topics[topic])]\n",
    "        study_plan += f\"Week {week + 1}: {week_topic}\\n\"\n",
    "    \n",
    "    return study_plan\n",
    "\n",
    "# Create study plans\n",
    "print(create_study_plan(\"Python\"))"
   ]
  },
  {
   "cell_type": "markdown",
   "id": "6ac53739",
   "metadata": {},
   "source": [
    "## Key Takeaways\n",
    "\n",
    "- Functions help organize code and make it reusable\n",
    "- Python has many useful built-in functions like `len()`, `round()`, `print()`\n",
    "- We can create custom functions using the `def` keyword\n",
    "- Functions can take parameters and return values\n",
    "- Default parameters make functions more flexible\n",
    "- Functions should have clear names and documentation\n",
    "- Complex tasks can be broken down into smaller functions\n",
    "- Functions can call other functions\n",
    "\n",
    "In the next lesson, we'll explore Python lists and loops to handle collections of data!"
   ]
  }
 ],
 "metadata": {
  "kernelspec": {
   "display_name": "oreilly-automate-tasks",
   "language": "python",
   "name": "oreilly-automate-tasks"
  },
  "language_info": {
   "codemirror_mode": {
    "name": "ipython",
    "version": 3
   },
   "file_extension": ".py",
   "mimetype": "text/x-python",
   "name": "python",
   "nbconvert_exporter": "python",
   "pygments_lexer": "ipython3",
   "version": "3.11.11"
  }
 },
 "nbformat": 4,
 "nbformat_minor": 5
}
