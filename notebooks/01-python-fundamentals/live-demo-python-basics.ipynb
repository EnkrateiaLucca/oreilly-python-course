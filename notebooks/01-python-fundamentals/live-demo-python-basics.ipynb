{
 "cells": [
  {
   "cell_type": "markdown",
   "id": "8e07ba7a-1cc6-48f9-b882-835d2f6c1477",
   "metadata": {},
   "source": [
    "# What have we seen so far?\n",
    "\n",
    "Variables, data, operations..."
   ]
  },
  {
   "cell_type": "code",
   "execution_count": 1,
   "id": "51c0d742-0384-45bd-ac49-d64691c60467",
   "metadata": {},
   "outputs": [
    {
     "data": {
      "text/plain": [
       "int"
      ]
     },
     "execution_count": 1,
     "metadata": {},
     "output_type": "execute_result"
    }
   ],
   "source": [
    "variable = 10\n",
    "\n",
    "# how do we get the type of a variable?\n",
    "type(variable)"
   ]
  },
  {
   "cell_type": "code",
   "execution_count": 2,
   "id": "a495b930-8117-48f3-9899-7f3820e0cf9c",
   "metadata": {},
   "outputs": [
    {
     "data": {
      "text/plain": [
       "str"
      ]
     },
     "execution_count": 2,
     "metadata": {},
     "output_type": "execute_result"
    }
   ],
   "source": [
    "variable_str = \"10\"\n",
    "\n",
    "type(variable_str)"
   ]
  },
  {
   "cell_type": "code",
   "execution_count": 3,
   "id": "892656cf-aa47-4988-8128-67be0a1c9096",
   "metadata": {},
   "outputs": [
    {
     "data": {
      "text/plain": [
       "20"
      ]
     },
     "execution_count": 3,
     "metadata": {},
     "output_type": "execute_result"
    }
   ],
   "source": [
    "10 + 10"
   ]
  },
  {
   "cell_type": "code",
   "execution_count": 5,
   "id": "30f3ce46-8af0-40c6-84ee-729b1639c7f4",
   "metadata": {},
   "outputs": [
    {
     "data": {
      "text/plain": [
       "60"
      ]
     },
     "execution_count": 5,
     "metadata": {},
     "output_type": "execute_result"
    }
   ],
   "source": [
    "result = 20 * 3\n",
    "result"
   ]
  },
  {
   "cell_type": "code",
   "execution_count": 9,
   "id": "ebba7ba0-f0c2-44ec-8551-622a3b98843d",
   "metadata": {},
   "outputs": [
    {
     "data": {
      "text/plain": [
       "False"
      ]
     },
     "execution_count": 9,
     "metadata": {},
     "output_type": "execute_result"
    }
   ],
   "source": [
    "# Truthfullness and falsehood?\n",
    "\n",
    "20 == 10"
   ]
  },
  {
   "cell_type": "code",
   "execution_count": 7,
   "id": "261e8365-a7cb-4d17-a610-7d7616994446",
   "metadata": {},
   "outputs": [
    {
     "data": {
      "text/plain": [
       "bool"
      ]
     },
     "execution_count": 7,
     "metadata": {},
     "output_type": "execute_result"
    }
   ],
   "source": [
    "type(False)"
   ]
  },
  {
   "cell_type": "code",
   "execution_count": 12,
   "id": "1d33afd7-08c6-4237-9ee7-267dd02e9979",
   "metadata": {},
   "outputs": [
    {
     "data": {
      "text/plain": [
       "False"
      ]
     },
     "execution_count": 12,
     "metadata": {},
     "output_type": "execute_result"
    }
   ],
   "source": [
    "# The result of this operation is False which is stored inside the \n",
    "# bool_variable!\n",
    "bool_variable = 20 == 10\n",
    "\n",
    "bool_variable"
   ]
  },
  {
   "cell_type": "code",
   "execution_count": 13,
   "id": "d7675e3c-eacb-4526-bd03-38f78d77344a",
   "metadata": {},
   "outputs": [
    {
     "data": {
      "text/plain": [
       "True"
      ]
     },
     "execution_count": 13,
     "metadata": {},
     "output_type": "execute_result"
    }
   ],
   "source": [
    "'L' in 'Lucas'"
   ]
  },
  {
   "cell_type": "code",
   "execution_count": 15,
   "id": "1b4e6038-bd4d-46df-b47b-6b2a2f3e7a20",
   "metadata": {},
   "outputs": [
    {
     "data": {
      "text/plain": [
       "True"
      ]
     },
     "execution_count": 15,
     "metadata": {},
     "output_type": "execute_result"
    }
   ],
   "source": [
    "character = 'x'\n",
    "\n",
    "word = 'Extraordinary'\n",
    "\n",
    "character in word"
   ]
  },
  {
   "cell_type": "code",
   "execution_count": 17,
   "id": "6d9985fd-5991-4839-9411-a4898caf2bc4",
   "metadata": {},
   "outputs": [
    {
     "data": {
      "text/plain": [
       "True"
      ]
     },
     "execution_count": 17,
     "metadata": {},
     "output_type": "execute_result"
    }
   ],
   "source": [
    "number = 1000\n",
    "\n",
    "another_number = 300\n",
    "\n",
    "# What is the output going to be?\n",
    "number > another_number"
   ]
  },
  {
   "cell_type": "markdown",
   "id": "8b464617-ede0-407d-8a13-5cbdcf87b16c",
   "metadata": {},
   "source": [
    "# What do we do when we want to organize operations together in re-usable blocks?"
   ]
  },
  {
   "cell_type": "markdown",
   "id": "3b1fd11b-f2fe-4740-9cde-0e7599aa8e40",
   "metadata": {},
   "source": [
    "We use **FUNCTIONS**!"
   ]
  },
  {
   "cell_type": "markdown",
   "id": "42a217a6-5ef3-4888-b114-82886bf3d9e8",
   "metadata": {},
   "source": [
    "Python has a bunch of **built-in functions**"
   ]
  },
  {
   "cell_type": "code",
   "execution_count": 20,
   "id": "3f873a2c-5c12-417c-8503-07fa52bb53d6",
   "metadata": {},
   "outputs": [
    {
     "data": {
      "text/plain": [
       "5"
      ]
     },
     "execution_count": 20,
     "metadata": {},
     "output_type": "execute_result"
    }
   ],
   "source": [
    "name = \"Lucas\"\n",
    "numbers = [1,2,3,4,5]\n",
    "\n",
    "# built in function in Python to get the size of an 'iterable' which is an object\n",
    "# that we can loop over\n",
    "len(name)"
   ]
  },
  {
   "cell_type": "code",
   "execution_count": 27,
   "id": "197a9c68-ee3e-47d0-abdc-a14e5371a4d3",
   "metadata": {},
   "outputs": [
    {
     "data": {
      "text/plain": [
       "3"
      ]
     },
     "execution_count": 27,
     "metadata": {},
     "output_type": "execute_result"
    }
   ],
   "source": [
    "numbers = [1,2,3]\n",
    "len(numbers)"
   ]
  },
  {
   "cell_type": "code",
   "execution_count": 22,
   "id": "89325087-95e9-4469-bc62-4d5dade7915c",
   "metadata": {},
   "outputs": [
    {
     "data": {
      "text/plain": [
       "True"
      ]
     },
     "execution_count": 22,
     "metadata": {},
     "output_type": "execute_result"
    }
   ],
   "source": [
    "len(name)==len(numbers)"
   ]
  },
  {
   "cell_type": "code",
   "execution_count": 24,
   "id": "4a1b9ab3-b17e-4ee4-b9bf-a41670fefaed",
   "metadata": {},
   "outputs": [
    {
     "data": {
      "text/plain": [
       "1.145"
      ]
     },
     "execution_count": 24,
     "metadata": {},
     "output_type": "execute_result"
    }
   ],
   "source": [
    "decimal_number = 1.14547945728415472332\n",
    "\n",
    "round(decimal_number, 3)"
   ]
  },
  {
   "cell_type": "markdown",
   "id": "fdf1b1f1-28c5-4f41-9d1d-b4429c82b0f5",
   "metadata": {},
   "source": [
    "WE want to create our own functions Lucas!!!! how do we do that???"
   ]
  },
  {
   "cell_type": "code",
   "execution_count": 25,
   "id": "c6485027-14a5-4eed-979d-e9e100035254",
   "metadata": {},
   "outputs": [
    {
     "name": "stdout",
     "output_type": "stream",
     "text": [
      "Welcome to functions!\n",
      "Functions are fun!\n"
     ]
    }
   ],
   "source": [
    "def name_of_our_function():\n",
    "    print(\"Welcome to functions!\")\n",
    "    print(\"Functions are fun!\")\n",
    "\n",
    "name_of_our_function()"
   ]
  },
  {
   "cell_type": "code",
   "execution_count": 26,
   "id": "3dfe172e-3221-42da-9b78-fcfe52cab39d",
   "metadata": {},
   "outputs": [
    {
     "name": "stdout",
     "output_type": "stream",
     "text": [
      "Welcome to functions!\n",
      "Functions are fun!\n"
     ]
    }
   ],
   "source": [
    "name_of_our_function()"
   ]
  },
  {
   "cell_type": "markdown",
   "id": "af31a0e6-2908-4798-b1b8-4782148a9d24",
   "metadata": {},
   "source": [
    "I don't care! I want something useful!"
   ]
  },
  {
   "cell_type": "code",
   "execution_count": 28,
   "id": "f53e06a6-aa20-4386-8fd5-da2510a42156",
   "metadata": {},
   "outputs": [
    {
     "data": {
      "text/plain": [
       "[15, 3.0, 5, 1]"
      ]
     },
     "execution_count": 28,
     "metadata": {},
     "output_type": "execute_result"
    }
   ],
   "source": [
    "def calculate_stats(list_numbers):\n",
    "    \"\"\"\n",
    "    Calculate basic statistics for a list of numbers\n",
    "    \"\"\"\n",
    "\n",
    "    total_sum = sum(list_numbers)\n",
    "    # Avg of any group of numbers is the total sum divided by how\n",
    "    # many numbers are in the group! so Avg = total / #num of numbers\n",
    "    average = total_sum / len(list_numbers)\n",
    "    max_num = max(list_numbers)\n",
    "    min_num = min(list_numbers)\n",
    "\n",
    "    return [total_sum, average, max_num, min_num]\n",
    "\n",
    "calculate_stats([1,2,3,4,5])"
   ]
  },
  {
   "cell_type": "code",
   "execution_count": 30,
   "id": "d29bdab5-0153-404f-ad6b-0efeb18ded33",
   "metadata": {},
   "outputs": [
    {
     "data": {
      "text/plain": [
       "\"Hello Lucas and Marta and welcome to the 'Love is Kind of Blind' show!\""
      ]
     },
     "execution_count": 30,
     "metadata": {},
     "output_type": "execute_result"
    }
   ],
   "source": [
    "def greet_couple(name1, name2):\n",
    "    greeting_msg = f\"Hello {name1} and {name2} and welcome to the 'Love is Kind of Blind' show!\"\n",
    "    return greeting_msg\n",
    "\n",
    "greet_couple(\"Lucas\", \"Marta\")"
   ]
  },
  {
   "cell_type": "code",
   "execution_count": 32,
   "id": "68cac3d0-25a4-4075-a119-ffe5f850b321",
   "metadata": {},
   "outputs": [
    {
     "name": "stdout",
     "output_type": "stream",
     "text": [
      "Hello Lucas and Marta and welcome to the 'Love is Kind of Blind' show!\n",
      "Another message\n"
     ]
    }
   ],
   "source": [
    "print(greet_couple(\"Lucas\", \"Marta\"))\n",
    "\n",
    "print(\"Another message\")"
   ]
  },
  {
   "cell_type": "markdown",
   "id": "be412161-93a5-4a6b-8af0-4b618ce478a1",
   "metadata": {},
   "source": [
    "# How do we work with lots of data in an organized way?"
   ]
  },
  {
   "cell_type": "markdown",
   "id": "516d5860-94bc-46cc-b604-2fa38d5d66d4",
   "metadata": {},
   "source": [
    "Quick answer is to use lists and loops!"
   ]
  },
  {
   "cell_type": "code",
   "execution_count": 34,
   "id": "d72e43d1-0dd7-4f32-871f-4baa95f1fc42",
   "metadata": {},
   "outputs": [
    {
     "name": "stdout",
     "output_type": "stream",
     "text": [
      "Hi! Lucas\n",
      "Hi! Marcus\n",
      "Hi! John\n",
      "Hi! Pamela\n"
     ]
    }
   ],
   "source": [
    "list_names = [\"Lucas\", \"Marcus\", \"John\", \"Pamela\"]\n",
    "\n",
    "for name in list_names:\n",
    "    print(f\"Hi! {name}\")"
   ]
  },
  {
   "cell_type": "code",
   "execution_count": 36,
   "id": "406c8908-6b64-4cf2-a870-2829ad948f4c",
   "metadata": {},
   "outputs": [
    {
     "name": "stdout",
     "output_type": "stream",
     "text": [
      "Id: 0, person name: Lucas.\n",
      "Id: 1, person name: Marcus.\n",
      "Id: 2, person name: John.\n",
      "Id: 3, person name: Pamela.\n"
     ]
    }
   ],
   "source": [
    "for index,name in enumerate(list_names):\n",
    "    print(f\"Id: {index}, person name: {name}.\")"
   ]
  },
  {
   "cell_type": "code",
   "execution_count": 37,
   "id": "7cd0b71d-ab46-4396-b9ee-e7850e5de20d",
   "metadata": {},
   "outputs": [
    {
     "data": {
      "text/plain": [
       "'Lucas'"
      ]
     },
     "execution_count": 37,
     "metadata": {},
     "output_type": "execute_result"
    }
   ],
   "source": [
    "list_names[0]"
   ]
  },
  {
   "cell_type": "code",
   "execution_count": 38,
   "id": "96e28b01-b4f8-4f24-823b-ef0cadde220e",
   "metadata": {},
   "outputs": [
    {
     "data": {
      "text/plain": [
       "0"
      ]
     },
     "execution_count": 38,
     "metadata": {},
     "output_type": "execute_result"
    }
   ],
   "source": [
    "list_names.index(\"Lucas\")"
   ]
  },
  {
   "cell_type": "markdown",
   "id": "13cbc889-f0a9-4206-97e9-5c5c1f2d19dd",
   "metadata": {},
   "source": [
    "# Dictionaries!!!!"
   ]
  },
  {
   "cell_type": "code",
   "execution_count": 40,
   "id": "a7ac75c7-99ae-4119-951f-57c613c34cc3",
   "metadata": {},
   "outputs": [
    {
     "data": {
      "text/plain": [
       "{'Lucas': '555-0245', 'John': '555-6543', 'Dumbledore': '0900-1234'}"
      ]
     },
     "execution_count": 40,
     "metadata": {},
     "output_type": "execute_result"
    }
   ],
   "source": [
    "phone_book = {\n",
    "    \"Lucas\": \"555-0245\",\n",
    "    \"John\" : \"555-6543\",\n",
    "    \"Dumbledore\": \"0900-1234\"\n",
    "}\n",
    "phone_book"
   ]
  },
  {
   "cell_type": "code",
   "execution_count": 41,
   "id": "a52c4ace-fdbe-4906-a9c8-f5e9727c846f",
   "metadata": {},
   "outputs": [
    {
     "data": {
      "text/plain": [
       "dict_keys(['Lucas', 'John', 'Dumbledore'])"
      ]
     },
     "execution_count": 41,
     "metadata": {},
     "output_type": "execute_result"
    }
   ],
   "source": [
    "phone_book.keys()"
   ]
  },
  {
   "cell_type": "code",
   "execution_count": 43,
   "id": "4c5c02c8-dd7d-46e8-a6a9-8928298f1ce4",
   "metadata": {},
   "outputs": [
    {
     "data": {
      "text/plain": [
       "dict_values(['555-0245', '555-6543', '0900-1234'])"
      ]
     },
     "execution_count": 43,
     "metadata": {},
     "output_type": "execute_result"
    }
   ],
   "source": [
    "phone_book.values()"
   ]
  },
  {
   "cell_type": "code",
   "execution_count": 44,
   "id": "4e20150b-af33-41d0-995b-5475283505f7",
   "metadata": {},
   "outputs": [],
   "source": [
    "phone_book_and_recipe_book = {\n",
    "    \"Lucas\": \"555-0245\",\n",
    "    \"John\" : \"555-6543\",\n",
    "    \"Dumbledore\": \"0900-1234\",\n",
    "    \"pancake_recipe\": \"\"\"\n",
    "    Mix flour, eggs, milk, sugar, \n",
    "    and a pinch of salt into a smooth batter, \n",
    "    pour onto a hot pan, flip when bubbles form, \n",
    "    and serve warm with your favorite topping.\"\"\"\n",
    "}"
   ]
  },
  {
   "cell_type": "code",
   "execution_count": 45,
   "id": "4afb1407-58c9-4563-975f-5d3faa6229c6",
   "metadata": {},
   "outputs": [
    {
     "name": "stdin",
     "output_type": "stream",
     "text": [
      "What is your energy level now between 1-10? 8\n"
     ]
    },
    {
     "data": {
      "text/plain": [
       "True"
      ]
     },
     "execution_count": 45,
     "metadata": {},
     "output_type": "execute_result"
    }
   ],
   "source": [
    "def check_study_conditions(time_of_day, is_weekend):\n",
    "    \"\"\"\n",
    "    Determne if it's a good time to study \n",
    "    based on multiple factors like the time of day,\n",
    "    your energy levels and whether or not today\n",
    "    is a weekend.\n",
    "    \"\"\"\n",
    "    # checking if its between 9AM and 8PM\n",
    "    good_time = time_of_day >=9 and time_of_day <= 20\n",
    "\n",
    "    # checking energy levels\n",
    "    energy_level = int(input(\"What is your energy level now between 1-10?\"))\n",
    "    good_energy = energy_level>=6\n",
    "\n",
    "    # should you study? \n",
    "    should_study = (good_time and good_energy) or is_weekend\n",
    "\n",
    "    return should_study\n",
    "    \n",
    "check_study_conditions(10, False)"
   ]
  },
  {
   "cell_type": "code",
   "execution_count": 46,
   "id": "fc7bc6e4-f374-44b2-9eb5-b9db115f1d46",
   "metadata": {},
   "outputs": [
    {
     "name": "stdin",
     "output_type": "stream",
     "text": [
      "What is your energy level now between 1-10? 4\n"
     ]
    },
    {
     "data": {
      "text/plain": [
       "False"
      ]
     },
     "execution_count": 46,
     "metadata": {},
     "output_type": "execute_result"
    }
   ],
   "source": [
    "check_study_conditions(13,False)"
   ]
  },
  {
   "cell_type": "markdown",
   "id": "db79ce97-fc1b-47e8-a592-132c0e68244b",
   "metadata": {},
   "source": [
    "# We want the ability to perform decisions! \n",
    "\n",
    "For that we need conditionals!"
   ]
  },
  {
   "cell_type": "code",
   "execution_count": 51,
   "id": "24919399-7f78-4c65-9b08-c6f3e541a4bb",
   "metadata": {},
   "outputs": [
    {
     "name": "stdout",
     "output_type": "stream",
     "text": [
      "Good evening!\n"
     ]
    }
   ],
   "source": [
    "def greetings_based_on_time_of_day(current_time):\n",
    "    if current_time<12 and current_time>=5:\n",
    "        print(\"Good morning!\")\n",
    "    # else if this other scenario\n",
    "    elif current_time>=12 and current_time is current_time <=18:\n",
    "        print(\"Good afternoon\")\n",
    "    else:\n",
    "        print(\"Good evening!\")\n",
    "\n",
    "    \n",
    "greetings_based_on_time_of_day(4)    "
   ]
  },
  {
   "cell_type": "code",
   "execution_count": null,
   "id": "535e769d-0fb5-4db3-8b30-1a4367b2b7ca",
   "metadata": {},
   "outputs": [],
   "source": [
    "file_name = \"lucas_pancake_recipe.txt\"\n",
    "\n",
    "ext_txt = \".txt\"\n",
    "\n",
    "if ext_txt in file_name:\n",
    "    print(\"Its a text file!\")\n",
    "else:\n",
    "    print(\"Its not a text file!\")"
   ]
  },
  {
   "cell_type": "markdown",
   "id": "2f5a5c87-7130-4683-82a6-71740a9ebe94",
   "metadata": {},
   "source": [
    "Let's build our first automation!!"
   ]
  },
  {
   "cell_type": "markdown",
   "id": "d839c515-0757-4979-b09d-bbd5f37a09ca",
   "metadata": {},
   "source": [
    "Task prioritization system!"
   ]
  },
  {
   "cell_type": "code",
   "execution_count": 52,
   "id": "6ecb711f-3f00-4148-b64c-c8cfc35d5dde",
   "metadata": {},
   "outputs": [
    {
     "data": {
      "text/plain": [
       "{'task': 'FInishing intro to Python', 'priority': 'Mid!'}"
      ]
     },
     "execution_count": 52,
     "metadata": {},
     "output_type": "execute_result"
    }
   ],
   "source": [
    "def analyse_task(task_name, deadline_days, estimated_hours):\n",
    "    \"\"\"\n",
    "    Analyze a task and determine its priority level and handling strategy \n",
    "    \"\"\"\n",
    "    \n",
    "    is_urgent = deadline_days <= 3\n",
    "    is_big_task = estimated_hours > 4\n",
    "\n",
    "    if is_urgent and is_big_task:\n",
    "        priority_level = \"Critical!!!\"\n",
    "    elif is_urgent and not is_big_task:\n",
    "        priority_level = \"Mid!\"\n",
    "    else:\n",
    "        priority_level = \"low\"\n",
    "\n",
    "    return {\n",
    "    \"task\": task_name,\n",
    "    \"priority\": priority_level\n",
    "    }\n",
    "\n",
    "analyse_task(\"Finishing intro to Python\", 1, 1)"
   ]
  },
  {
   "cell_type": "markdown",
   "id": "9559a0a5-2625-4398-856a-a70bbc854659",
   "metadata": {},
   "source": [
    "# How do we work with tabular data?"
   ]
  },
  {
   "cell_type": "code",
   "execution_count": 55,
   "id": "376cb831-8a6e-4f22-b433-1dd47b881d67",
   "metadata": {},
   "outputs": [],
   "source": [
    "import pandas as pd"
   ]
  },
  {
   "cell_type": "code",
   "execution_count": 57,
   "id": "c561aaae-d105-4e40-babd-e3736eb8f2e7",
   "metadata": {},
   "outputs": [
    {
     "data": {
      "text/html": [
       "<div>\n",
       "<style scoped>\n",
       "    .dataframe tbody tr th:only-of-type {\n",
       "        vertical-align: middle;\n",
       "    }\n",
       "\n",
       "    .dataframe tbody tr th {\n",
       "        vertical-align: top;\n",
       "    }\n",
       "\n",
       "    .dataframe thead th {\n",
       "        text-align: right;\n",
       "    }\n",
       "</style>\n",
       "<table border=\"1\" class=\"dataframe\">\n",
       "  <thead>\n",
       "    <tr style=\"text-align: right;\">\n",
       "      <th></th>\n",
       "      <th>item</th>\n",
       "      <th>priority</th>\n",
       "      <th>estimated_cost</th>\n",
       "      <th>packed</th>\n",
       "    </tr>\n",
       "  </thead>\n",
       "  <tbody>\n",
       "    <tr>\n",
       "      <th>0</th>\n",
       "      <td>Tent</td>\n",
       "      <td>Essential</td>\n",
       "      <td>299.99</td>\n",
       "      <td>False</td>\n",
       "    </tr>\n",
       "    <tr>\n",
       "      <th>1</th>\n",
       "      <td>Sleeping Bag</td>\n",
       "      <td>Essential</td>\n",
       "      <td>149.99</td>\n",
       "      <td>False</td>\n",
       "    </tr>\n",
       "    <tr>\n",
       "      <th>2</th>\n",
       "      <td>Backpack</td>\n",
       "      <td>Essential</td>\n",
       "      <td>199.99</td>\n",
       "      <td>False</td>\n",
       "    </tr>\n",
       "    <tr>\n",
       "      <th>3</th>\n",
       "      <td>Hiking Boots</td>\n",
       "      <td>Essential</td>\n",
       "      <td>159.99</td>\n",
       "      <td>False</td>\n",
       "    </tr>\n",
       "    <tr>\n",
       "      <th>4</th>\n",
       "      <td>Water Filter</td>\n",
       "      <td>High</td>\n",
       "      <td>89.99</td>\n",
       "      <td>False</td>\n",
       "    </tr>\n",
       "    <tr>\n",
       "      <th>5</th>\n",
       "      <td>First Aid Kit</td>\n",
       "      <td>Essential</td>\n",
       "      <td>49.99</td>\n",
       "      <td>False</td>\n",
       "    </tr>\n",
       "    <tr>\n",
       "      <th>6</th>\n",
       "      <td>Headlamp</td>\n",
       "      <td>High</td>\n",
       "      <td>39.99</td>\n",
       "      <td>False</td>\n",
       "    </tr>\n",
       "    <tr>\n",
       "      <th>7</th>\n",
       "      <td>Camp Stove</td>\n",
       "      <td>Medium</td>\n",
       "      <td>79.99</td>\n",
       "      <td>False</td>\n",
       "    </tr>\n",
       "  </tbody>\n",
       "</table>\n",
       "</div>"
      ],
      "text/plain": [
       "            item   priority  estimated_cost  packed\n",
       "0           Tent  Essential          299.99   False\n",
       "1   Sleeping Bag  Essential          149.99   False\n",
       "2       Backpack  Essential          199.99   False\n",
       "3   Hiking Boots  Essential          159.99   False\n",
       "4   Water Filter       High           89.99   False\n",
       "5  First Aid Kit  Essential           49.99   False\n",
       "6       Headlamp       High           39.99   False\n",
       "7     Camp Stove     Medium           79.99   False"
      ]
     },
     "execution_count": 57,
     "metadata": {},
     "output_type": "execute_result"
    }
   ],
   "source": [
    "df = pd.read_csv(\"./camping_trip_gear.csv\")\n",
    "\n",
    "# dataframe! Has nothing to do with def which is \n",
    "# a special keyword in python for creating functions!\n",
    "df"
   ]
  },
  {
   "cell_type": "markdown",
   "id": "56720b59-c34d-46e9-9118-7ab5a94f50e5",
   "metadata": {},
   "source": [
    "How would I estimated the total cost of the all of the items?"
   ]
  },
  {
   "cell_type": "code",
   "execution_count": 58,
   "id": "da2cf5a5-979f-44b6-900f-4c8873fb5218",
   "metadata": {},
   "outputs": [
    {
     "data": {
      "text/plain": [
       "0             Tent\n",
       "1     Sleeping Bag\n",
       "2         Backpack\n",
       "3     Hiking Boots\n",
       "4     Water Filter\n",
       "5    First Aid Kit\n",
       "6         Headlamp\n",
       "7       Camp Stove\n",
       "Name: item, dtype: object"
      ]
     },
     "execution_count": 58,
     "metadata": {},
     "output_type": "execute_result"
    }
   ],
   "source": [
    "df[\"item\"]"
   ]
  },
  {
   "cell_type": "code",
   "execution_count": 59,
   "id": "3737221f-523d-4e48-8a3c-ac50af0a66ae",
   "metadata": {},
   "outputs": [
    {
     "data": {
      "text/html": [
       "<div>\n",
       "<style scoped>\n",
       "    .dataframe tbody tr th:only-of-type {\n",
       "        vertical-align: middle;\n",
       "    }\n",
       "\n",
       "    .dataframe tbody tr th {\n",
       "        vertical-align: top;\n",
       "    }\n",
       "\n",
       "    .dataframe thead th {\n",
       "        text-align: right;\n",
       "    }\n",
       "</style>\n",
       "<table border=\"1\" class=\"dataframe\">\n",
       "  <thead>\n",
       "    <tr style=\"text-align: right;\">\n",
       "      <th></th>\n",
       "      <th>item</th>\n",
       "      <th>priority</th>\n",
       "      <th>estimated_cost</th>\n",
       "      <th>packed</th>\n",
       "    </tr>\n",
       "  </thead>\n",
       "  <tbody>\n",
       "    <tr>\n",
       "      <th>0</th>\n",
       "      <td>Tent</td>\n",
       "      <td>Essential</td>\n",
       "      <td>299.99</td>\n",
       "      <td>False</td>\n",
       "    </tr>\n",
       "    <tr>\n",
       "      <th>1</th>\n",
       "      <td>Sleeping Bag</td>\n",
       "      <td>Essential</td>\n",
       "      <td>149.99</td>\n",
       "      <td>False</td>\n",
       "    </tr>\n",
       "    <tr>\n",
       "      <th>2</th>\n",
       "      <td>Backpack</td>\n",
       "      <td>Essential</td>\n",
       "      <td>199.99</td>\n",
       "      <td>False</td>\n",
       "    </tr>\n",
       "    <tr>\n",
       "      <th>3</th>\n",
       "      <td>Hiking Boots</td>\n",
       "      <td>Essential</td>\n",
       "      <td>159.99</td>\n",
       "      <td>False</td>\n",
       "    </tr>\n",
       "    <tr>\n",
       "      <th>4</th>\n",
       "      <td>Water Filter</td>\n",
       "      <td>High</td>\n",
       "      <td>89.99</td>\n",
       "      <td>False</td>\n",
       "    </tr>\n",
       "  </tbody>\n",
       "</table>\n",
       "</div>"
      ],
      "text/plain": [
       "           item   priority  estimated_cost  packed\n",
       "0          Tent  Essential          299.99   False\n",
       "1  Sleeping Bag  Essential          149.99   False\n",
       "2      Backpack  Essential          199.99   False\n",
       "3  Hiking Boots  Essential          159.99   False\n",
       "4  Water Filter       High           89.99   False"
      ]
     },
     "execution_count": 59,
     "metadata": {},
     "output_type": "execute_result"
    }
   ],
   "source": [
    "df.head()"
   ]
  },
  {
   "cell_type": "code",
   "execution_count": 62,
   "id": "707b1c4d-b1f5-4b21-8f37-037f4379688c",
   "metadata": {},
   "outputs": [
    {
     "data": {
      "text/plain": [
       "0    299.99\n",
       "1    149.99\n",
       "2    199.99\n",
       "3    159.99\n",
       "4     89.99\n",
       "5     49.99\n",
       "6     39.99\n",
       "7     79.99\n",
       "Name: estimated_cost, dtype: float64"
      ]
     },
     "execution_count": 62,
     "metadata": {},
     "output_type": "execute_result"
    }
   ],
   "source": [
    "df['estimated_cost']"
   ]
  },
  {
   "cell_type": "code",
   "execution_count": 64,
   "id": "1a3c2504-2de0-4e61-9f9e-39c911974187",
   "metadata": {},
   "outputs": [
    {
     "name": "stdout",
     "output_type": "stream",
     "text": [
      "299.99\n",
      "<class 'float'>\n",
      "149.99\n",
      "<class 'float'>\n",
      "199.99\n",
      "<class 'float'>\n",
      "159.99\n",
      "<class 'float'>\n",
      "89.99\n",
      "<class 'float'>\n",
      "49.99\n",
      "<class 'float'>\n",
      "39.99\n",
      "<class 'float'>\n",
      "79.99\n",
      "<class 'float'>\n"
     ]
    }
   ],
   "source": [
    "for number in df['estimated_cost']:\n",
    "    print(number)\n",
    "    print(type(number))"
   ]
  },
  {
   "cell_type": "code",
   "execution_count": 65,
   "id": "58248264-588b-4a24-b77d-bb4c9e5d0433",
   "metadata": {},
   "outputs": [
    {
     "name": "stdout",
     "output_type": "stream",
     "text": [
      "1069.92\n"
     ]
    }
   ],
   "source": [
    "# let's calculate the total of estimated cost for all items\n",
    "\n",
    "total_item_cost = 0\n",
    "for item_cost in df['estimated_cost']:\n",
    "    total_item_cost = total_item_cost+item_cost\n",
    "\n",
    "print(total_item_cost)"
   ]
  },
  {
   "cell_type": "code",
   "execution_count": 66,
   "id": "d607c116-9faf-4589-807b-0a3f9be917d8",
   "metadata": {},
   "outputs": [],
   "source": [
    "def calculate_total_item_cost(df):\n",
    "    total_item_cost = 0\n",
    "    for item_cost in df['estimated_cost']:\n",
    "        total_item_cost = total_item_cost+item_cost\n",
    "\n",
    "    return total_item_cost"
   ]
  },
  {
   "cell_type": "code",
   "execution_count": 67,
   "id": "f0f86f49-c7a1-4125-ade0-c57f713cabdd",
   "metadata": {},
   "outputs": [
    {
     "data": {
      "text/html": [
       "<div>\n",
       "<style scoped>\n",
       "    .dataframe tbody tr th:only-of-type {\n",
       "        vertical-align: middle;\n",
       "    }\n",
       "\n",
       "    .dataframe tbody tr th {\n",
       "        vertical-align: top;\n",
       "    }\n",
       "\n",
       "    .dataframe thead th {\n",
       "        text-align: right;\n",
       "    }\n",
       "</style>\n",
       "<table border=\"1\" class=\"dataframe\">\n",
       "  <thead>\n",
       "    <tr style=\"text-align: right;\">\n",
       "      <th></th>\n",
       "      <th>item</th>\n",
       "      <th>priority</th>\n",
       "      <th>estimated_cost</th>\n",
       "      <th>packed</th>\n",
       "    </tr>\n",
       "  </thead>\n",
       "  <tbody>\n",
       "    <tr>\n",
       "      <th>0</th>\n",
       "      <td>Tent</td>\n",
       "      <td>Essential</td>\n",
       "      <td>299.99</td>\n",
       "      <td>False</td>\n",
       "    </tr>\n",
       "    <tr>\n",
       "      <th>1</th>\n",
       "      <td>Sleeping Bag</td>\n",
       "      <td>Essential</td>\n",
       "      <td>149.99</td>\n",
       "      <td>False</td>\n",
       "    </tr>\n",
       "    <tr>\n",
       "      <th>2</th>\n",
       "      <td>Backpack</td>\n",
       "      <td>Essential</td>\n",
       "      <td>199.99</td>\n",
       "      <td>False</td>\n",
       "    </tr>\n",
       "    <tr>\n",
       "      <th>3</th>\n",
       "      <td>Hiking Boots</td>\n",
       "      <td>Essential</td>\n",
       "      <td>159.99</td>\n",
       "      <td>False</td>\n",
       "    </tr>\n",
       "    <tr>\n",
       "      <th>4</th>\n",
       "      <td>Water Filter</td>\n",
       "      <td>High</td>\n",
       "      <td>89.99</td>\n",
       "      <td>False</td>\n",
       "    </tr>\n",
       "    <tr>\n",
       "      <th>5</th>\n",
       "      <td>First Aid Kit</td>\n",
       "      <td>Essential</td>\n",
       "      <td>49.99</td>\n",
       "      <td>False</td>\n",
       "    </tr>\n",
       "    <tr>\n",
       "      <th>6</th>\n",
       "      <td>Headlamp</td>\n",
       "      <td>High</td>\n",
       "      <td>39.99</td>\n",
       "      <td>False</td>\n",
       "    </tr>\n",
       "    <tr>\n",
       "      <th>7</th>\n",
       "      <td>Camp Stove</td>\n",
       "      <td>Medium</td>\n",
       "      <td>79.99</td>\n",
       "      <td>False</td>\n",
       "    </tr>\n",
       "  </tbody>\n",
       "</table>\n",
       "</div>"
      ],
      "text/plain": [
       "            item   priority  estimated_cost  packed\n",
       "0           Tent  Essential          299.99   False\n",
       "1   Sleeping Bag  Essential          149.99   False\n",
       "2       Backpack  Essential          199.99   False\n",
       "3   Hiking Boots  Essential          159.99   False\n",
       "4   Water Filter       High           89.99   False\n",
       "5  First Aid Kit  Essential           49.99   False\n",
       "6       Headlamp       High           39.99   False\n",
       "7     Camp Stove     Medium           79.99   False"
      ]
     },
     "execution_count": 67,
     "metadata": {},
     "output_type": "execute_result"
    }
   ],
   "source": [
    "df"
   ]
  },
  {
   "cell_type": "code",
   "execution_count": 68,
   "id": "9b8858e9-34f4-47b1-b201-94c02109c952",
   "metadata": {},
   "outputs": [
    {
     "data": {
      "text/plain": [
       "1069.92"
      ]
     },
     "execution_count": 68,
     "metadata": {},
     "output_type": "execute_result"
    }
   ],
   "source": [
    "calculate_total_item_cost(df)"
   ]
  },
  {
   "cell_type": "markdown",
   "id": "4a271862-2099-46e6-a6b9-944ff22460de",
   "metadata": {},
   "source": [
    "# Working with Files!"
   ]
  },
  {
   "cell_type": "code",
   "execution_count": null,
   "id": "f2483c01-94a8-4360-92f2-5653875fe5e1",
   "metadata": {},
   "outputs": [],
   "source": [
    "Let's go to notebook number 02!!!"
   ]
  }
 ],
 "metadata": {
  "kernelspec": {
   "display_name": "orielly-python-course",
   "language": "python",
   "name": "orielly-python-course"
  },
  "language_info": {
   "codemirror_mode": {
    "name": "ipython",
    "version": 3
   },
   "file_extension": ".py",
   "mimetype": "text/x-python",
   "name": "python",
   "nbconvert_exporter": "python",
   "pygments_lexer": "ipython3",
   "version": "3.13.0"
  }
 },
 "nbformat": 4,
 "nbformat_minor": 5
}
