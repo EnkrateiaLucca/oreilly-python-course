{
 "cells": [
  {
   "cell_type": "markdown",
   "id": "a919f203",
   "metadata": {
    "slideshow": {
     "slide_type": "slide"
    }
   },
   "source": [
    "# Python Basics: Data Types and Operations\n",
    "\n",
    "In this lesson, we'll explore Python's fundamental data types and the operations we can perform with them. We'll learn about integers, floats, strings, and basic arithmetic operations, as well as some special operations that make Python unique.\n",
    "\n",
    "## Basic Data Types\n",
    "\n",
    "Let's start by exploring different data types in Python using the `type()` function:"
   ]
  },
  {
   "cell_type": "code",
   "execution_count": 1,
   "id": "ec73d23a",
   "metadata": {
    "slideshow": {
     "slide_type": "slide"
    }
   },
   "outputs": [
    {
     "name": "stdout",
     "output_type": "stream",
     "text": [
      "<class 'int'>\n",
      "<class 'float'>\n",
      "<class 'str'>\n",
      "<class 'list'>\n"
     ]
    }
   ],
   "source": [
    "# Let's check some basic data types\n",
    "print(type(42))        # integer\n",
    "print(type(3.14159))   # float\n",
    "print(type(\"Hello\"))   # string\n",
    "print(type([1,2,3]))   # list"
   ]
  },
  {
   "cell_type": "markdown",
   "id": "c54e0b00",
   "metadata": {},
   "source": [
    "## Arithmetic Operations\n",
    "\n",
    "Python supports all standard arithmetic operations. Let's explore them:"
   ]
  },
  {
   "cell_type": "code",
   "execution_count": 2,
   "id": "46e2fc7c",
   "metadata": {},
   "outputs": [
    {
     "name": "stdout",
     "output_type": "stream",
     "text": [
      "40\n",
      "20\n",
      "48\n",
      "20.0\n",
      "2\n",
      "3\n",
      "8\n"
     ]
    }
   ],
   "source": [
    "# Basic arithmetic\n",
    "print(25 + 15)    # Addition: 40\n",
    "print(50 - 30)    # Subtraction: 20\n",
    "print(8 * 6)      # Multiplication: 48\n",
    "print(100 / 5)    # Division: 20.0\n",
    "\n",
    "# Special operations\n",
    "print(17 % 5)     # Modulus (remainder): 2\n",
    "print(17 // 5)    # Floor division: 3\n",
    "print(2 ** 3)     # Exponentiation: 8"
   ]
  },
  {
   "cell_type": "markdown",
   "id": "1114fd8f",
   "metadata": {},
   "source": [
    "## String Operations\n",
    "\n",
    "Strings have their own set of operations that are different from numerical operations:"
   ]
  },
  {
   "cell_type": "code",
   "execution_count": 3,
   "id": "3020f25f",
   "metadata": {},
   "outputs": [
    {
     "name": "stdout",
     "output_type": "stream",
     "text": [
      "Hello World\n",
      "Python! Python! Python! \n",
      "Error: can only concatenate str (not \"int\") to str\n",
      "Error: unsupported operand type(s) for -: 'str' and 'str'\n"
     ]
    }
   ],
   "source": [
    "# String concatenation\n",
    "print(\"Hello\" + \" \" + \"World\")    # Works!\n",
    "\n",
    "# String multiplication\n",
    "print(\"Python! \" * 3)             # Repeats the string 3 times\n",
    "\n",
    "# These operations will cause errors:\n",
    "try:\n",
    "    print(\"Python\" + 3)           # TypeError\n",
    "except TypeError as e:\n",
    "    print(f\"Error: {e}\")\n",
    "\n",
    "try:\n",
    "    print(\"Python\" - \"hon\")       # TypeError\n",
    "except TypeError as e:\n",
    "    print(f\"Error: {e}\")"
   ]
  },
  {
   "cell_type": "markdown",
   "id": "99df94ba",
   "metadata": {},
   "source": [
    "## String Formatting with F-strings\n",
    "\n",
    "F-strings provide an elegant way to format strings with variables:"
   ]
  },
  {
   "cell_type": "code",
   "execution_count": 4,
   "id": "5850f217",
   "metadata": {},
   "outputs": [
    {
     "data": {
      "text/plain": [
       "'Lucas'"
      ]
     },
     "execution_count": 4,
     "metadata": {},
     "output_type": "execute_result"
    }
   ],
   "source": [
    "variable_lucas = \"Lucas\"\n",
    "\n",
    "variable_lucas"
   ]
  },
  {
   "cell_type": "code",
   "execution_count": 5,
   "id": "3116ccc9",
   "metadata": {},
   "outputs": [
    {
     "name": "stdout",
     "output_type": "stream",
     "text": [
      "The distance to Mars is approximately 225.0 million kilometers\n"
     ]
    }
   ],
   "source": [
    "# Using f-strings for dynamic string creation\n",
    "planet = \"Mars\"\n",
    "distance = 225.0\n",
    "message = f\"The distance to {planet} is approximately {distance} million kilometers\"\n",
    "print(message)"
   ]
  },
  {
   "cell_type": "code",
   "execution_count": 6,
   "id": "fba83df7",
   "metadata": {},
   "outputs": [
    {
     "name": "stdout",
     "output_type": "stream",
     "text": [
      "\n",
      "Python is a:\n",
      "1. High-level\n",
      "2. Interpreted\n",
      "3. Dynamic\n",
      "programming language\n",
      "\n"
     ]
    }
   ],
   "source": [
    "# Multiple line strings using triple quotes\n",
    "description = \"\"\"\n",
    "Python is a:\n",
    "1. High-level\n",
    "2. Interpreted\n",
    "3. Dynamic\n",
    "programming language\n",
    "\"\"\"\n",
    "print(description)"
   ]
  },
  {
   "cell_type": "markdown",
   "id": "bd0b2ee6",
   "metadata": {},
   "source": [
    "## Type Conversions\n",
    "\n",
    "Sometimes we need to convert between different types:"
   ]
  },
  {
   "cell_type": "code",
   "execution_count": 7,
   "id": "03cfc54c",
   "metadata": {},
   "outputs": [
    {
     "name": "stdout",
     "output_type": "stream",
     "text": [
      "String: 42, type: <class 'str'>\n",
      "Integer: 42, type: <class 'int'>\n",
      "Float: 42.0, type: <class 'float'>\n"
     ]
    }
   ],
   "source": [
    "# Converting between different types\n",
    "number_str = \"42\"\n",
    "number_int = int(number_str)\n",
    "number_float = float(number_str)\n",
    "\n",
    "print(f\"String: {number_str}, type: {type(number_str)}\")\n",
    "print(f\"Integer: {number_int}, type: {type(number_int)}\")\n",
    "print(f\"Float: {number_float}, type: {type(number_float)}\")"
   ]
  },
  {
   "cell_type": "markdown",
   "id": "d6517f01",
   "metadata": {},
   "source": [
    "## Exercise\n",
    "\n",
    "Here's a small exercise to practice what we've learned:"
   ]
  },
  {
   "cell_type": "code",
   "execution_count": 8,
   "id": "07a9bc41",
   "metadata": {},
   "outputs": [
    {
     "name": "stdout",
     "output_type": "stream",
     "text": [
      "Subtraction: -10\n",
      "Multiplication: 200\n",
      "Division: 0.5\n",
      "Modulus: 10\n",
      "Floor Division: 0\n",
      "Exponentiation: 100\n"
     ]
    }
   ],
   "source": [
    "# Create a script that calculates the sum of all numbers in a list\n",
    "\n",
    "\n",
    "a = 10\n",
    "b = 20\n",
    "\n",
    "print(f\"Subtraction: {a - b}\")\n",
    "print(f\"Multiplication: {a * b}\")\n",
    "print(f\"Division: {a / b}\")\n",
    "print(f\"Modulus: {a % b}\")\n",
    "print(f\"Floor Division: {a // b}\")\n",
    "print(f\"Exponentiation: {a ** 2}\")  # Square of first number\n",
    "\n",
    "# Try it out"
   ]
  },
  {
   "cell_type": "markdown",
   "id": "9bb81ade",
   "metadata": {},
   "source": [
    "## Key Takeaways\n",
    "\n",
    "- Python has several basic data types: integers (`int`), floating-point numbers (`float`), strings (`str`), and more\n",
    "- The `type()` function helps you identify the type of any value\n",
    "- Different data types support different operations\n",
    "- Arithmetic operations work on numbers (integers and floats)\n",
    "- String operations include concatenation (`+`) and repetition (`*`)\n",
    "- F-strings provide an easy way to create formatted strings\n",
    "- Type errors occur when trying to perform operations between incompatible types\n",
    "- Triple quotes (`\"\"\"`) allow for multi-line strings\n",
    "\n",
    "In the next lesson, we'll explore more complex data structures and control flow in Python!"
   ]
  }
 ],
 "metadata": {
  "kernelspec": {
   "display_name": "oreilly-automate-tasks",
   "language": "python",
   "name": "oreilly-automate-tasks"
  },
  "language_info": {
   "codemirror_mode": {
    "name": "ipython",
    "version": 3
   },
   "file_extension": ".py",
   "mimetype": "text/x-python",
   "name": "python",
   "nbconvert_exporter": "python",
   "pygments_lexer": "ipython3",
   "version": "3.11.11"
  }
 },
 "nbformat": 4,
 "nbformat_minor": 5
}
