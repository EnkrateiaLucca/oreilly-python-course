{
 "cells": [
  {
   "cell_type": "code",
   "execution_count": 1,
   "id": "99888126-0ffe-46af-ade5-aaa8613a164c",
   "metadata": {},
   "outputs": [],
   "source": [
    "pdf_path = \"../assets/sample_contract.pdf\""
   ]
  },
  {
   "cell_type": "code",
   "execution_count": 2,
   "id": "6b9b640f-b852-432f-b9cf-fc3ef0a63465",
   "metadata": {},
   "outputs": [],
   "source": [
    "import sys\n",
    "sys.path.append(\"../../scripts/\")\n",
    "\n",
    "from ai_tools import ask_ai"
   ]
  },
  {
   "cell_type": "code",
   "execution_count": 3,
   "id": "0ced3ed4-0fa8-4e0e-92c8-54e503bd1d41",
   "metadata": {},
   "outputs": [
    {
     "data": {
      "text/plain": [
       "'Here\\'s a simple Python function that uses the `PyMuPDF` library (also known as `fitz`) to load the contents of a PDF file:\\n\\n```python\\nimport fitz  # PyMuPDF\\n\\ndef load_pdf_contents(file_path):\\n    text = \"\"\\n    with fitz.open(file_path) as pdf:\\n        for page in pdf:\\n            text += page.get_text()\\n    return text\\n```\\n\\nMake sure to install the `PyMuPDF` library first using pip:\\n\\n```bash\\npip install PyMuPDF\\n```'"
      ]
     },
     "execution_count": 3,
     "metadata": {},
     "output_type": "execute_result"
    }
   ],
   "source": []
  }
 ],
 "metadata": {
  "kernelspec": {
   "display_name": "Python 3 (ipykernel)",
   "language": "python",
   "name": "python3"
  },
  "language_info": {
   "codemirror_mode": {
    "name": "ipython",
    "version": 3
   },
   "file_extension": ".py",
   "mimetype": "text/x-python",
   "name": "python",
   "nbconvert_exporter": "python",
   "pygments_lexer": "ipython3",
   "version": "3.13.0"
  }
 },
 "nbformat": 4,
 "nbformat_minor": 5
}
