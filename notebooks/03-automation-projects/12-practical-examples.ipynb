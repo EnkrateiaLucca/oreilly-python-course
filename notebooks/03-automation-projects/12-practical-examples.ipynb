{
 "cells": [
  {
   "cell_type": "markdown",
   "id": "6b946939",
   "metadata": {},
   "source": [
    "Report of several practical examples where people have automated downloads (or file retrieval) with Python. Many examples you see on Reddit, developer blogs, and tutorials show that—whether it’s downloading a report, a media file, or scraping content for later use—Python’s rich ecosystem makes it straightforward. Here are eight representative examples with concise code snippets:\n",
    "\n",
    "---\n",
    "\n",
    "### 1. Basic File Download with `urllib`\n",
    "\n",
    "A common starting point is to use Python’s built‐in `urllib.request.urlretrieve` to download a file from an HTTP URL. For example:"
   ]
  },
  {
   "cell_type": "code",
   "execution_count": null,
   "id": "0b40b106",
   "metadata": {},
   "outputs": [],
   "source": [
    "import urllib.request\n",
    "\n",
    "url = \"http://example.com/file.zip\"\n",
    "filename = \"file.zip\"\n",
    "urllib.request.urlretrieve(url, filename)\n",
    "print(\"Downloaded file.zip\")"
   ]
  },
  {
   "cell_type": "markdown",
   "id": "7680a8bb",
   "metadata": {},
   "source": [
    "This approach requires no external dependencies and is ideal for simple one‐off downloads.  \n",
    "\n",
    "\n",
    "---\n",
    "\n",
    "### 2. Download Using the Python `wget` Module\n",
    "\n",
    "There’s also a third‐party module named `wget` (a Python wrapper, not to be confused with the command line tool) that offers a very simple interface:"
   ]
  },
  {
   "cell_type": "code",
   "execution_count": null,
   "id": "908ef4d3",
   "metadata": {},
   "outputs": [],
   "source": [
    "import wget\n",
    "\n",
    "url = \"http://example.com/file.zip\"\n",
    "filename = wget.download(url)\n",
    "print(\"Downloaded file to:\", filename)"
   ]
  },
  {
   "cell_type": "markdown",
   "id": "ae02a7ad",
   "metadata": {},
   "source": [
    "This can be handy when you want a one-liner that mimics the familiar Unix tool.  \n",
    "\n",
    "\n",
    "---\n",
    "\n",
    "### 3. Conditional Download (Based on File Age)\n",
    "\n",
    "Sometimes you want to download a file only if it’s missing or older than a given age. For example, to download a CSV file if it’s older than one day:"
   ]
  },
  {
   "cell_type": "code",
   "execution_count": null,
   "id": "afa04191",
   "metadata": {},
   "outputs": [],
   "source": [
    "import urllib.request\n",
    "import os\n",
    "import time\n",
    "\n",
    "url = 'http://example.com/data.csv'\n",
    "local_file = 'data.csv'\n",
    "# Download if file doesn't exist or is older than 24 hours (86400 seconds)\n",
    "if not os.path.exists(local_file) or (os.path.getmtime(local_file) < time.time() - 86400):\n",
    "    urllib.request.urlretrieve(url, local_file)\n",
    "    print(\"Updated data.csv\")\n",
    "else:\n",
    "    print(\"data.csv is up-to-date\")"
   ]
  },
  {
   "cell_type": "markdown",
   "id": "435ebc81",
   "metadata": {},
   "source": [
    "This pattern is popular in automating daily report updates.  \n",
    "\n",
    "\n",
    "---\n",
    "\n",
    "### 4. Downloading Large Files with `requests` and Streaming\n",
    "\n",
    "When downloading large files, it’s best to stream the response in chunks. This approach uses the `requests` library:"
   ]
  },
  {
   "cell_type": "code",
   "execution_count": null,
   "id": "ccf410cc",
   "metadata": {},
   "outputs": [],
   "source": [
    "import requests\n",
    "\n",
    "url = \"http://example.com/largefile.zip\"\n",
    "local_filename = \"largefile.zip\"\n",
    "with requests.get(url, stream=True) as r:\n",
    "    r.raise_for_status()\n",
    "    with open(local_filename, 'wb') as f:\n",
    "        for chunk in r.iter_content(chunk_size=8192):\n",
    "            if chunk:\n",
    "                f.write(chunk)\n",
    "print(\"Large file downloaded successfully.\")"
   ]
  },
  {
   "cell_type": "markdown",
   "id": "eb3dd9b2",
   "metadata": {},
   "source": [
    "Using streaming helps avoid high memory usage with large downloads.  \n",
    "\n",
    "\n",
    "---\n",
    "\n",
    "### 5. Automating Downloads via Selenium\n",
    "\n",
    "For sites that require a login or button clicks (for instance, downloading a report from a secure portal), Selenium can be used to simulate user actions:"
   ]
  },
  {
   "cell_type": "code",
   "execution_count": null,
   "id": "1d8b142b",
   "metadata": {},
   "outputs": [],
   "source": [
    "from selenium import webdriver\n",
    "from selenium.webdriver.common.by import By\n",
    "from selenium.webdriver.common.keys import Keys\n",
    "import time\n",
    "\n",
    "driver = webdriver.Chrome()  # Assumes chromedriver is installed and in PATH\n",
    "driver.get(\"http://example.com/login\")\n",
    "# Fill in login form\n",
    "driver.find_element(By.ID, \"username\").send_keys(\"myusername\")\n",
    "driver.find_element(By.ID, \"password\").send_keys(\"mypassword\" + Keys.RETURN)\n",
    "time.sleep(3)  # Wait for login to complete\n",
    "# Navigate to download page and click the download button\n",
    "driver.get(\"http://example.com/download\")\n",
    "driver.find_element(By.ID, \"downloadButton\").click()\n",
    "time.sleep(5)  # Wait for download to start/complete\n",
    "driver.quit()"
   ]
  },
  {
   "cell_type": "markdown",
   "id": "4530c201",
   "metadata": {},
   "source": [
    "This method is frequently mentioned in discussions where users automate downloading reports or files from platforms that don’t offer direct URL-based downloads.  \n",
    "\n",
    "\n",
    "---\n",
    "\n",
    "### 6. Downloading Videos Using `youtube_dl`\n",
    "\n",
    "For media files (especially videos from platforms like YouTube), many developers rely on the popular tool `youtube_dl` (which now has forks such as `yt-dlp`):"
   ]
  },
  {
   "cell_type": "code",
   "execution_count": null,
   "id": "3f6f8c99",
   "metadata": {},
   "outputs": [],
   "source": [
    "import youtube_dl\n",
    "\n",
    "ydl_opts = {}\n",
    "with youtube_dl.YoutubeDL(ydl_opts) as ydl:\n",
    "    ydl.download(['https://www.youtube.com/watch?v=EXAMPLE_ID'])"
   ]
  },
  {
   "cell_type": "markdown",
   "id": "1908d72a",
   "metadata": {},
   "source": [
    "This snippet automatically downloads the video file using the robust features of the youtube_dl ecosystem.  \n",
    "\n",
    "\n",
    "---\n",
    "\n",
    "### 7. Invoking the Command-line `wget` from Python\n",
    "\n",
    "Sometimes you want to leverage the battle-tested command-line utility wget (especially for features like resuming downloads). You can invoke it via Python’s subprocess module:"
   ]
  },
  {
   "cell_type": "code",
   "execution_count": null,
   "id": "08848b9e",
   "metadata": {},
   "outputs": [],
   "source": [
    "import subprocess\n",
    "\n",
    "url = \"http://example.com/file.zip\"\n",
    "# The \"-c\" flag allows resuming an interrupted download.\n",
    "subprocess.run([\"wget\", \"-c\", url])"
   ]
  },
  {
   "cell_type": "markdown",
   "id": "0bf7258f",
   "metadata": {},
   "source": [
    "This is useful when you’re comfortable with wget’s features and want to combine them with your Python workflow.  \n",
    "\n",
    "\n",
    "---\n",
    "\n",
    "### 8. Concurrent Downloads Using `aiohttp` and `asyncio`\n",
    "\n",
    "For scenarios where you need to download many files at once, asynchronous code with `aiohttp` can dramatically speed things up:"
   ]
  },
  {
   "cell_type": "code",
   "execution_count": null,
   "id": "00b1ea44",
   "metadata": {},
   "outputs": [],
   "source": [
    "import aiohttp\n",
    "import asyncio\n",
    "\n",
    "async def download_file(session, url, filename):\n",
    "    async with session.get(url) as resp:\n",
    "        with open(filename, 'wb') as f:\n",
    "            while True:\n",
    "                chunk = await resp.content.read(1024)\n",
    "                if not chunk:\n",
    "                    break\n",
    "                f.write(chunk)\n",
    "    print(f\"Downloaded {filename}\")\n",
    "\n",
    "async def main():\n",
    "    files = [\n",
    "        (\"http://example.com/file1.zip\", \"file1.zip\"),\n",
    "        (\"http://example.com/file2.zip\", \"file2.zip\"),\n",
    "        # Add more (url, filename) tuples as needed.\n",
    "    ]\n",
    "    async with aiohttp.ClientSession() as session:\n",
    "        tasks = [download_file(session, url, fname) for url, fname in files]\n",
    "        await asyncio.gather(*tasks)\n",
    "\n",
    "asyncio.run(main())"
   ]
  },
  {
   "cell_type": "markdown",
   "id": "8aca6ff9",
   "metadata": {},
   "source": [
    "This approach uses asynchronous programming to start multiple downloads concurrently, which is ideal when processing many files in bulk.  "
   ]
  },
  {
   "cell_type": "markdown",
   "id": "ec42cbdc",
   "metadata": {},
   "source": [
    "# Example for Organizing Downloads Folder"
   ]
  },
  {
   "cell_type": "markdown",
   "id": "b24f9e9c",
   "metadata": {},
   "source": [
    "**Prompt to ChatGPT (GPT-4o)**\n",
    "```\n",
    "Write a Python script that organizes files in my 'Downloads' folder by moving them into subfolders based on their file type (e.g., PDFs to a 'PDFs' folder, images to an 'Images' folder, etc.). The script should create folders if they don’t exist.\n",
    "```"
   ]
  },
  {
   "cell_type": "code",
   "execution_count": null,
   "id": "4be87676",
   "metadata": {},
   "outputs": [],
   "source": [
    "import os\n",
    "import shutil\n",
    "from collections import defaultdict\n",
    "\n",
    "# Define the downloads directory\n",
    "DOWNLOADS_DIR = os.path.expanduser(\"~/Downloads\")\n",
    "\n",
    "# Define file type categories\n",
    "FILE_CATEGORIES = {\n",
    "    \"Images\": [\".jpg\", \".jpeg\", \".png\", \".gif\", \".bmp\", \".svg\", \".tiff\"],\n",
    "    \"Documents\": [\".pdf\", \".doc\", \".docx\", \".txt\", \".odt\", \".rtf\", \".tex\"],\n",
    "    \"Spreadsheets\": [\".xls\", \".xlsx\", \".csv\", \".ods\"],\n",
    "    \"Presentations\": [\".ppt\", \".pptx\", \".key\"],\n",
    "    \"Archives\": [\".zip\", \".rar\", \".tar\", \".gz\", \".7z\"],\n",
    "    \"Executables\": [\".exe\", \".dmg\", \".pkg\", \".app\"],\n",
    "    \"Videos\": [\".mp4\", \".mkv\", \".mov\", \".avi\", \".flv\", \".wmv\"],\n",
    "    \"Music\": [\".mp3\", \".wav\", \".flac\", \".aac\", \".ogg\", \".m4a\"],\n",
    "    \"Code\": [\".py\", \".js\", \".html\", \".css\", \".java\", \".c\", \".cpp\", \".go\", \".sh\", \".ipynb\"]\n",
    "}\n",
    "\n",
    "# Reverse the dictionary to map file extensions to their respective categories\n",
    "EXTENSION_TO_CATEGORY = {ext: category for category, exts in FILE_CATEGORIES.items() for ext in exts}\n",
    "\n",
    "# Ensure categorized folders exist\n",
    "def create_folders():\n",
    "    for folder in FILE_CATEGORIES.keys():\n",
    "        folder_path = os.path.join(DOWNLOADS_DIR, folder)\n",
    "        if not os.path.exists(folder_path):\n",
    "            os.makedirs(folder_path)\n",
    "\n",
    "# Organize files\n",
    "def organize_downloads():\n",
    "    create_folders()\n",
    "    \n",
    "    for filename in os.listdir(DOWNLOADS_DIR):\n",
    "        file_path = os.path.join(DOWNLOADS_DIR, filename)\n",
    "        \n",
    "        # Skip directories\n",
    "        if os.path.isdir(file_path):\n",
    "            continue\n",
    "        \n",
    "        # Get the file extension\n",
    "        _, ext = os.path.splitext(filename)\n",
    "        ext = ext.lower()\n",
    "        \n",
    "        # Determine the category\n",
    "        category = EXTENSION_TO_CATEGORY.get(ext, \"Other\")\n",
    "        \n",
    "        # Create 'Other' folder if needed\n",
    "        target_folder = os.path.join(DOWNLOADS_DIR, category)\n",
    "        if not os.path.exists(target_folder):\n",
    "            os.makedirs(target_folder)\n",
    "        \n",
    "        # Move the file\n",
    "        shutil.move(file_path, os.path.join(target_folder, filename))\n",
    "        print(f\"Moved: {filename} -> {category}/\")\n",
    "\n",
    "if __name__ == \"__main__\":\n",
    "    organize_downloads()\n"
   ]
  }
 ],
 "metadata": {
  "kernelspec": {
   "display_name": "oreilly-automate-tasks",
   "language": "python",
   "name": "oreilly-automate-tasks"
  },
  "language_info": {
   "name": "python",
   "version": "3.11.11"
  }
 },
 "nbformat": 4,
 "nbformat_minor": 5
}
