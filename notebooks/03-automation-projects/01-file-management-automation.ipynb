{
 "cells": [
  {
   "cell_type": "code",
   "execution_count": 1,
   "metadata": {},
   "outputs": [],
   "source": [
    "from ai_tools import ask_ai\n",
    "from IPython.display import Markdown"
   ]
  },
  {
   "cell_type": "code",
   "execution_count": null,
   "metadata": {},
   "outputs": [
    {
     "data": {
      "text/plain": [
       "'2024-04-18 - $48,727.50'"
      ]
     },
     "metadata": {},
     "output_type": "display_data"
    }
   ],
   "source": [
    "def extract_invoice_data(invoice_contents):\n",
    "    extraction_prompt = f\"\"\"Extract the following information from this invoice:\n",
    "    - Date\n",
    "    - Total Amount\n",
    "    \n",
    "    Invoice contents:\n",
    "    {invoice_contents}\n",
    "    \n",
    "    Return only the date and total amount separated by dashes\n",
    "    like this:\n",
    "    \n",
    "    2024-04-15 - $18,900.00\n",
    "    2024-04-18 - $48,727.50 \n",
    "    2023-12-31 - €2,350.44\n",
    "    \n",
    "    Extracted information:\n",
    "    \"\"\"\n",
    "    \n",
    "    extracted_data = ask_ai(extraction_prompt)\n",
    "    return extracted_data\n",
    "\n",
    "example_data = \"\"\"\n",
    "TECH SOLUTIONS INC.\n",
    "789 Innovation Drive\n",
    "Seattle, WA 98101\n",
    "Tax ID: 98-7654321\n",
    "\n",
    "INVOICE\n",
    "\n",
    "Bill To:                                    Invoice No: INV-2024-0103 \n",
    "Sarah Johnson                               Date: April 18, 2024\n",
    "789 Enterprise Road                         Due Date: May 18, 2024\n",
    "Chicago, IL 60601\n",
    "\n",
    "Description                     Quantity    Rate        Amount\n",
    "-----------------------------------------------------------------\n",
    "AI Model Development              120      $200.00    $24,000.00\n",
    "Data Processing Services           80      $125.00    $10,000.00\n",
    "System Integration                 40      $175.00     $7,000.00\n",
    "Hardware Configuration             1     $3,500.00     $3,500.00\n",
    "                                                    ------------\n",
    "                                           Subtotal:  $44,500.00\n",
    "                                           Tax (9.5%): $4,227.50\n",
    "                                           Total:     $48,727.50\n",
    "\n",
    "\"\"\"\n",
    "\n",
    "extract_invoice_data(example_data)"
   ]
  },
  {
   "cell_type": "markdown",
   "metadata": {},
   "source": [
    "Now, let's apply this to all the invoice data we have!"
   ]
  },
  {
   "cell_type": "code",
   "execution_count": null,
   "metadata": {},
   "outputs": [
    {
     "data": {
      "text/plain": [
       "[{'file': 'invoice1.txt', 'date': '2023-12-31', 'amount': '€2,350.44'},\n",
       " {'file': 'invoice2.txt', 'date': '2024-04-15', 'amount': '$18,900.00'},\n",
       " {'file': 'invoice3.txt', 'date': '2024-04-18', 'amount': '$48,727.50'}]"
      ]
     },
     "metadata": {},
     "output_type": "display_data"
    }
   ],
   "source": [
    "folder_with_invoices = \"./assets-resources/fake-invoices/\"\n",
    "invoice_files = [\"invoice1.txt\", \"invoice2.txt\", \"invoice3.txt\"]\n",
    "\n",
    "invoice_data_list = []\n",
    "for invoice_file in invoice_files:\n",
    "    file_path = folder_with_invoices + invoice_file\n",
    "    with open(file_path, \"r\") as f:\n",
    "        invoice_contents = f.read()\n",
    "    \n",
    "    extracted_data = extract_invoice_data(invoice_contents)\n",
    "    date, amount = extracted_data.split(\" - \")\n",
    "    invoice_data = {\n",
    "        \"file\": invoice_file,\n",
    "        \"date\": date,\n",
    "        \"amount\": amount\n",
    "    }\n",
    "    \n",
    "    invoice_data_list.append(invoice_data)\n",
    "\n",
    "invoice_data_list"
   ]
  },
  {
   "cell_type": "code",
   "execution_count": null,
   "metadata": {},
   "outputs": [
    {
     "data": {
      "text/markdown": [
       "# Invoice Data Summary\n",
       "\n",
       "## invoice1.txt\n",
       "\n",
       "**Date:** 2023-12-31\n",
       "\n",
       "**Amount:** €2,350.44\n",
       "\n",
       "## invoice2.txt\n",
       "\n",
       "**Date:** 2024-04-15\n",
       "\n",
       "**Amount:** $18,900.00\n",
       "\n",
       "## invoice3.txt\n",
       "\n",
       "**Date:** 2024-04-18\n",
       "\n",
       "**Amount:** $48,727.50\n",
       "\n"
      ],
      "text/plain": [
       "<IPython.core.display.Markdown object>"
      ]
     },
     "metadata": {},
     "output_type": "display_data"
    }
   ],
   "source": [
    "# Display the markdown content in the notebook\n",
    "markdown_content = \"# Invoice Data Summary\\n\\n\"\n",
    "for invoice in invoice_data_list:\n",
    "    markdown_content += f\"## {invoice['file']}\\n\\n\"\n",
    "    markdown_content += f\"**Date:** {invoice['date']}\\n\\n\"\n",
    "    markdown_content += f\"**Amount:** {invoice['amount']}\\n\\n\"\n",
    "\n",
    "Markdown(markdown_content)"
   ]
  },
  {
   "cell_type": "markdown",
   "metadata": {},
   "source": [
    "## Practical Example: Document Analysis System\n",
    "\n",
    "Let's create a system that analyzes text documents and extracts key information:"
   ]
  },
  {
   "cell_type": "code",
   "execution_count": null,
   "metadata": {},
   "outputs": [
    {
     "name": "stdout",
     "output_type": "stream",
     "text": [
      "Document Analysis Report\n",
      "========================\n",
      "Filename: sample_doc.txt\n",
      "Character Count: 93\n",
      "Word Count: 16\n",
      "Line Count: 3\n",
      "Unique Words: 14\n",
      "\n"
     ]
    }
   ],
   "source": [
    "def analyze_document(filename):\n",
    "    \"\"\"\n",
    "    Analyzes a document and extracts key metrics\n",
    "    \"\"\"\n",
    "    with open(filename, \"r\") as file:\n",
    "        content = file.read()\n",
    "    \n",
    "    # Basic metrics\n",
    "    metrics = {\n",
    "        \"filename\": filename,\n",
    "        \"total_chars\": len(content),\n",
    "        \"total_words\": len(content.split()),\n",
    "        \"total_lines\": len(content.splitlines()),\n",
    "        \"unique_words\": len(set(content.lower().split()))\n",
    "    }\n",
    "    \n",
    "    return metrics\n",
    "\n",
    "def generate_report(metrics):\n",
    "    \"\"\"\n",
    "    Creates a formatted report from document metrics\n",
    "    \"\"\"\n",
    "    report = f\"\"\"Document Analysis Report\n",
    "========================\n",
    "Filename: {metrics['filename']}\n",
    "Character Count: {metrics['total_chars']}\n",
    "Word Count: {metrics['total_words']}\n",
    "Line Count: {metrics['total_lines']}\n",
    "Unique Words: {metrics['unique_words']}\n",
    "\"\"\"\n",
    "    return report\n",
    "\n",
    "# Example usage\n",
    "sample_text = \"\"\"This is a sample document.\n",
    "It contains multiple lines of text.\n",
    "We will analyze this document.\"\"\"\n",
    "\n",
    "with open(\"sample_doc.txt\", \"w\") as file:\n",
    "    file.write(sample_text)\n",
    "\n",
    "metrics = analyze_document(\"sample_doc.txt\")\n",
    "print(generate_report(metrics))"
   ]
  },
  {
   "cell_type": "markdown",
   "metadata": {},
   "source": [
    "## Working with Multiple Files\n",
    "\n",
    "Here's how to process multiple files in a directory:"
   ]
  },
  {
   "cell_type": "code",
   "execution_count": null,
   "metadata": {},
   "outputs": [
    {
     "name": "stdout",
     "output_type": "stream",
     "text": [
      "Could not find file: file1.txt\n",
      "Could not find file: file2.txt\n",
      "Could not find file: file3.txt\n"
     ]
    }
   ],
   "source": [
    "def batch_process_files(file_list, processor_func):\n",
    "    \"\"\"\n",
    "    Process multiple files using a given processor function\n",
    "    \"\"\"\n",
    "    results = []\n",
    "    for filename in file_list:\n",
    "        try:\n",
    "            with open(filename, \"r\") as file:\n",
    "                content = file.read()\n",
    "                result = processor_func(content)\n",
    "                results.append({\n",
    "                    \"filename\": filename,\n",
    "                    \"result\": result\n",
    "                })\n",
    "        except FileNotFoundError:\n",
    "            print(f\"Could not find file: {filename}\")\n",
    "    return results\n",
    "\n",
    "# Example processor function\n",
    "def count_words(content):\n",
    "    return len(content.split())\n",
    "\n",
    "# Example usage\n",
    "files = [\"file1.txt\", \"file2.txt\", \"file3.txt\"]\n",
    "word_counts = batch_process_files(files, count_words)"
   ]
  },
  {
   "cell_type": "markdown",
   "metadata": {},
   "source": [
    "## Creating a Simple Log System\n",
    "\n",
    "Let's implement a basic logging system:"
   ]
  },
  {
   "cell_type": "code",
   "execution_count": null,
   "metadata": {},
   "outputs": [
    {
     "name": "stdout",
     "output_type": "stream",
     "text": [
      "\n",
      "Log contents:\n",
      "[2025-01-30 11:10:57] INFO: Application started\n",
      "[2025-01-30 11:10:57] DEBUG: Processing data...\n",
      "[2025-01-30 11:10:57] ERROR: Error in data processing\n",
      "\n"
     ]
    }
   ],
   "source": [
    "from datetime import datetime\n",
    "\n",
    "class SimpleLogger:\n",
    "    def __init__(self, log_file):\n",
    "        self.log_file = log_file\n",
    "    \n",
    "    def log(self, message, level=\"INFO\"):\n",
    "        timestamp = datetime.now().strftime(\"%Y-%m-%d %H:%M:%S\")\n",
    "        log_entry = f\"[{timestamp}] {level}: {message}\\n\"\n",
    "        \n",
    "        with open(self.log_file, \"a\") as file:\n",
    "            file.write(log_entry)\n",
    "    \n",
    "    def read_logs(self):\n",
    "        try:\n",
    "            with open(self.log_file, \"r\") as file:\n",
    "                return file.read()\n",
    "        except FileNotFoundError:\n",
    "            return \"No logs found\"\n",
    "\n",
    "# Example usage\n",
    "logger = SimpleLogger(\"app.log\")\n",
    "logger.log(\"Application started\")\n",
    "logger.log(\"Processing data...\", \"DEBUG\")\n",
    "logger.log(\"Error in data processing\", \"ERROR\")\n",
    "print(\"\\nLog contents:\")\n",
    "print(logger.read_logs())"
   ]
  }
 ],
 "metadata": {
  "kernelspec": {
   "display_name": "oreilly-automate-tasks",
   "language": "python",
   "name": "oreilly-automate-tasks"
  },
  "language_info": {
   "codemirror_mode": {
    "name": "ipython",
    "version": 3
   },
   "file_extension": ".py",
   "mimetype": "text/x-python",
   "name": "python",
   "nbconvert_exporter": "python",
   "pygments_lexer": "ipython3",
   "version": "3.11.11"
  }
 },
 "nbformat": 4,
 "nbformat_minor": 2
}
