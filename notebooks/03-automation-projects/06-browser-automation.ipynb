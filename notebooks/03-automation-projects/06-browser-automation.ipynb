{
 "cells": [
  {
   "cell_type": "markdown",
   "id": "4398d318",
   "metadata": {},
   "source": [
    "# Introduction to Browser Automation with Playwright in Python\n",
    "\n",
    "This lesson covers automating web browser interactions using the Playwright library in Python, drawing from Python programming fundamentals.\n",
    "\n",
    "## Basic Setup and Imports"
   ]
  },
  {
   "cell_type": "markdown",
   "id": "e62f1289",
   "metadata": {},
   "source": [
    "**<span style=\"color: red\">DISCLAIMER: this notebook will only run locally (not on Google Colab)</span>**"
   ]
  },
  {
   "cell_type": "markdown",
   "id": "abbfd76f",
   "metadata": {},
   "source": [
    "%pip install playwright\n",
    "%playwright install"
   ]
  },
  {
   "cell_type": "markdown",
   "id": "24712c7f",
   "metadata": {},
   "source": [
    "## Understanding Browser Automation Flow\n",
    "\n",
    "\n",
    "Let's break down the script: `./add_movie_to_watchlist.py`:\n",
    "\n",
    "```python\n",
    "import re\n",
    "from playwright.sync_api import Playwright, sync_playwright, expect\n",
    "import os\n",
    "import sys\n",
    "\n",
    "def run(playwright: Playwright) -> None:\n",
    "    movie_to_search = sys.argv[1] \n",
    "    browser = playwright.chromium.launch(headless=False)\n",
    "    context = browser.new_context()\n",
    "    page = context.new_page()\n",
    "    page.goto(\"https://letterboxd.com/\")\n",
    "    page.get_by_label(\"Do not consent\").click()\n",
    "    page.get_by_role(\"link\", name=\"Sign in\").click()\n",
    "    page.get_by_label(\"Username\").fill(os.environ[\"LETTERBOXD_USER\"])\n",
    "    page.get_by_label(\"Username\").press(\"Tab\")\n",
    "    page.get_by_label(\"Password\").fill(os.environ[\"LETTERBOXD_PWD\"])\n",
    "    page.get_by_role(\"button\", name=\"Sign in\").click()\n",
    "    page.locator(\".navitem > .replace\").click()\n",
    "    page.get_by_label(\"Search:\").fill(movie_to_search)\n",
    "    page.get_by_role(\"button\", name=\"Search\").click()\n",
    "    page.get_by_role(\"link\", name=movie_to_search, exact=True).first.click()\n",
    "    page.get_by_role(\"link\", name=\"Add this film to your\").click()\n",
    "\n",
    "    # ---------------------\n",
    "    context.close()\n",
    "    browser.close()\n",
    "\n",
    "\n",
    "with sync_playwright() as playwright:\n",
    "    run(playwright)\n",
    "```"
   ]
  },
  {
   "cell_type": "markdown",
   "id": "26f39ae9",
   "metadata": {},
   "source": [
    "# Browser Automation with Playwright - A Tutorial\n",
    "\n",
    "## Overview\n",
    "This script uses Playwright to automate the process of adding movies to a Letterboxd watchlist.\n",
    "\n",
    "## Script Structure\n",
    "\n",
    "### 1. Imports and Setup\n",
    "```python\n",
    "import re\n",
    "from playwright.sync_api import Playwright, sync_playwright, expect\n",
    "import os\n",
    "import sys\n",
    "```\n",
    "Key imports for browser automation, environment variables, and system arguments.\n",
    "\n",
    "### 2. Main Function\n",
    "```python\n",
    "def run(playwright: Playwright) -> None:\n",
    "```\n",
    "The main function that handles browser automation, taking a Playwright instance as parameter.\n",
    "\n",
    "### 3. Browser Setup\n",
    "```python\n",
    "browser = playwright.chromium.launch(headless=False)\n",
    "context = browser.new_context()\n",
    "page = context.new_page()\n",
    "```\n",
    "- Launches Chromium browser in visible mode\n",
    "- Creates a new browser context\n",
    "- Opens a new page\n",
    "\n",
    "### 4. Authentication Flow\n",
    "```python\n",
    "page.get_by_label(\"Username\").fill(os.environ[\"LETTERBOXD_USER\"])\n",
    "page.get_by_label(\"Password\").fill(os.environ[\"LETTERBOXD_PWD\"])\n",
    "page.get_by_role(\"button\", name=\"Sign in\").click()\n",
    "```\n",
    "Handles login using environment variables for credentials.\n",
    "\n",
    "### 5. Movie Search and Addition\n",
    "```python\n",
    "page.get_by_label(\"Search:\").fill(movie_to_search)\n",
    "page.get_by_role(\"button\", name=\"Search\").click()\n",
    "page.get_by_role(\"link\", name=movie_to_search, exact=True).first.click()\n",
    "page.get_by_role(\"link\", name=\"Add this film to your\").click()\n",
    "```\n",
    "Searches for and adds the specified movie to watchlist.\n",
    "\n",
    "### 6. Cleanup\n",
    "```python\n",
    "context.close()\n",
    "browser.close()\n",
    "```\n",
    "Properly closes browser context and instance.\n",
    "\n",
    "### 7. Script Execution\n",
    "```python\n",
    "with sync_playwright() as playwright:\n",
    "    run(playwright)\n",
    "```\n",
    "Runs the automation script using Playwright's context manager.\n",
    "\n",
    "## Usage\n",
    "Run the script with a movie title as argument:\n",
    "```bash\n",
    "python add_movie_to_watchlist.py \"Movie Title\"\n",
    "```\n",
    "\n",
    "## Environment Variables\n",
    "Required environment variables:\n",
    "- `LETTERBOXD_USER`: Letterboxd username\n",
    "- `LETTERBOXD_PWD`: Letterboxd password"
   ]
  },
  {
   "cell_type": "markdown",
   "id": "a39c7cfa",
   "metadata": {},
   "source": [
    "This code demonstrates core Playwright concepts:\n",
    "- Browser and context management\n",
    "- Page navigation and interaction\n",
    "- Form filling and button clicking\n",
    "- Error handling and retries\n",
    "- Environment variable usage\n",
    "- Command line arguments\n",
    "- Type hints and documentation\n",
    "\n",
    "The example uses IMDb instead of Letterboxd but follows similar patterns while introducing additional programming concepts."
   ]
  },
  {
   "cell_type": "markdown",
   "id": "ca071f20",
   "metadata": {},
   "source": [
    "![](2025-02-04-14-30-46.png)"
   ]
  },
  {
   "cell_type": "markdown",
   "id": "2f245db4",
   "metadata": {},
   "source": [
    "But what is cool about the script is that I didn't really write it! I obtained through a mix of prompting ChatGPT and playwright `codegen` tool that allows us to interact with a browser and get the necessary code to reproduce such action! Example of a terminal command you can run:\n",
    "\n",
    "`playwright codegen https://letterboxd.com/`"
   ]
  },
  {
   "cell_type": "markdown",
   "id": "1b847b88",
   "metadata": {},
   "source": [
    "To save credentials to avoid having to redo login steps see example scripts at:\n",
    "- `./letterboxd_saving_auth_browser.py`\n",
    "- `./letterboxd_using_auth.py`"
   ]
  }
 ],
 "metadata": {
  "kernelspec": {
   "display_name": "oreilly-automate-tasks",
   "language": "python",
   "name": "oreilly-automate-tasks"
  },
  "language_info": {
   "codemirror_mode": {
    "name": "ipython",
    "version": 3
   },
   "file_extension": ".py",
   "mimetype": "text/x-python",
   "name": "python",
   "nbconvert_exporter": "python",
   "pygments_lexer": "ipython3",
   "version": "3.11.11"
  }
 },
 "nbformat": 4,
 "nbformat_minor": 5
}
