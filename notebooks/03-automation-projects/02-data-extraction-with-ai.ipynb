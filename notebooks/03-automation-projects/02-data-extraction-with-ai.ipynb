{
 "cells": [
  {
   "cell_type": "markdown",
   "metadata": {},
   "source": [
    "# Data Extraction: Automating Invoice Processing\n",
    "\n",
    "This notebook demonstrates how to extract structured data from text documents like receipts and invoices using AI. We'll explore:\n",
    "\n",
    "1. Basic text extraction using prompts\n",
    "2. Structured output formats (JSON, XML)\n",
    "\n",
    "The techniques shown here can help automate manual data entry tasks and standardize information extraction from semi-structured documents."
   ]
  },
  {
   "cell_type": "code",
   "execution_count": 1,
   "metadata": {},
   "outputs": [
    {
     "data": {
      "text/plain": [
       "'EXEMPLO, UNIPESSOAL, LDA. AV. DA LIBERDADE, 120 - 2o ESQ 123456789 1250-140 LISBOA\\nEXEMPLO, UNIPESSOAL, LDA.\\nAV. DA LIBERDADE, 120 - 2o ESQ 1250-140 LISBOA\\nLISBOA\\nJOANA SILVA PEREIRA 0033\\nDATA ANALYST 12345678901\\n298765432\\nAFIN 0010.20.987654\\n123456789 Original\\nLISBOA\\nRecibo de Vencimentos\\nRecibo de Vencimentos Período Janeiro\\nData Fecho 31/01/2024 Vencimento 3.900,00\\nPeríodo Data Fecho Vencimento Venc. / Hora N. Dias Mês:\\nFaltas Alim.\\nCód.\\nR01 R06 R13 D01 D02 D05\\nJaneiro 31/01/2024\\n3.900,00 20,00 20.00\\nNome\\nN.o Mecan. Categoria\\nN.o Benef.\\nN.o Contrib. Departamento Seguro\\nJOANA SILVA PEREIRA 0033\\nDATA ANALYST 12345678901\\n298765432\\nAFIN 0010.20.987654\\nRetenção IRS\\nSDD IRS Retido Total Remun.\\nVenc. / Hora N. Dias Mês:\\n20,00 20.00\\nNome\\nN.o Mecan. Categoria\\nN.o Benef.\\nN.o Contrib. Departamento Seguro\\nTurno Data\\n01-2024 01-2024 01-2024 01-2024 01-2024 01-2024\\nCDD\\nSDH\\nFaltas\\nAlim. Turno CDH\\nRetenção IRS\\nIRS Retido\\nCDH\\nDescrição Remunerações Descontos\\nSDH\\nSDD\\nTotal Remun.\\n19.200,00\\nDescontos\\n500,00 1.200,00 150,00\\nCDD\\nDescrição Remunerações\\nVencimento 3.900,00 IHT 650,00\\n5.400,00 19.200,00\\n5.400,00\\nVencimento 3.900,00 IHT 650,00\\nCód. Data\\nR01 01-2024 R06 01-2024 R13 01-2024 D01 01-2024 D02 01-2024 D05 01-2024\\nSubsídio Alimentação Cartão Segurança Social\\nIRS (Venc. 29,18%) (29,18%) Desconto Subsidio Alim. Cartão\\n150,00\\nSubsídio Alimentação Cartão Segurança Social\\nIRS (Venc. 29,18%) (29,18%) Desconto Subsidio Alim. Cartão\\n150,00\\n500,00 1.200,00 150,00\\nFormas de Pagamento: % Remuneração\\n100,00\\nForma de Pagamento Moeda\\nFormas de Pagamento: % Remuneração\\n100,00\\nForma de Pagamento\\nTransferência\\nMoeda\\nTotal\\n4.400,00 1.800,00 Total Pago ( EUR ) 2.950,00\\nTotal\\n4.400,00 Total Pago ( EUR )\\n1.800,00 2.950,00\\nDeclaro que recebi a quantia constante neste recibo,\\nObs.\\nDeclaro que recebi a quantia constante neste recibo,\\nTransferência EUR\\nEUR'"
      ]
     },
     "execution_count": 1,
     "metadata": {},
     "output_type": "execute_result"
    }
   ],
   "source": [
    "with open(\"./invoice-data-sample.txt\", \"r\") as f:\n",
    "    receipt_data = f.read()\n",
    "    \n",
    "receipt_data"
   ]
  },
  {
   "cell_type": "code",
   "execution_count": 2,
   "metadata": {},
   "outputs": [
    {
     "data": {
      "text/markdown": [
       "EXEMPLO, UNIPESSOAL, LDA. AV. DA LIBERDADE, 120 - 2o ESQ 123456789 1250-140 LISBOA\n",
       "EXEMPLO, UNIPESSOAL, LDA.\n",
       "AV. DA LIBERDADE, 120 - 2o ESQ 1250-140 LISBOA\n",
       "LISBOA\n",
       "JOANA SILVA PEREIRA 0033\n",
       "DATA ANALYST 12345678901\n",
       "298765432\n",
       "AFIN 0010.20.987654\n",
       "123456789 Original\n",
       "LISBOA\n",
       "Recibo de Vencimentos\n",
       "Recibo de Vencimentos Período Janeiro\n",
       "Data Fecho 31/01/2024 Vencimento 3.900,00\n",
       "Período Data Fecho Vencimento Venc. / Hora N. Dias Mês:\n",
       "Faltas Alim.\n",
       "Cód.\n",
       "R01 R06 R13 D01 D02 D05\n",
       "Janeiro 31/01/2024\n",
       "3.900,00 20,00 20.00\n",
       "Nome\n",
       "N.o Mecan. Categoria\n",
       "N.o Benef.\n",
       "N.o Contrib. Departamento Seguro\n",
       "JOANA SILVA PEREIRA 0033\n",
       "DATA ANALYST 12345678901\n",
       "298765432\n",
       "AFIN 0010.20.987654\n",
       "Retenção IRS\n",
       "SDD IRS Retido Total Remun.\n",
       "Venc. / Hora N. Dias Mês:\n",
       "20,00 20.00\n",
       "Nome\n",
       "N.o Mecan. Categoria\n",
       "N.o Benef.\n",
       "N.o Contrib. Departamento Seguro\n",
       "Turno Data\n",
       "01-2024 01-2024 01-2024 01-2024 01-2024 01-2024\n",
       "CDD\n",
       "SDH\n",
       "Faltas\n",
       "Alim. Turno CDH\n",
       "Retenção IRS\n",
       "IRS Retido\n",
       "CDH\n",
       "Descrição Remunerações Descontos\n",
       "SDH\n",
       "SDD\n",
       "Total Remun.\n",
       "19.200,00\n",
       "Descontos\n",
       "500,00 1.200,00 150,00\n",
       "CDD\n",
       "Descrição Remunerações\n",
       "Vencimento 3.900,00 IHT 650,00\n",
       "5.400,00 19.200,00\n",
       "5.400,00\n",
       "Vencimento 3.900,00 IHT 650,00\n",
       "Cód. Data\n",
       "R01 01-2024 R06 01-2024 R13 01-2024 D01 01-2024 D02 01-2024 D05 01-2024\n",
       "Subsídio Alimentação Cartão Segurança Social\n",
       "IRS (Venc. 29,18%) (29,18%) Desconto Subsidio Alim. Cartão\n",
       "150,00\n",
       "Subsídio Alimentação Cartão Segurança Social\n",
       "IRS (Venc. 29,18%) (29,18%) Desconto Subsidio Alim. Cartão\n",
       "150,00\n",
       "500,00 1.200,00 150,00\n",
       "Formas de Pagamento: % Remuneração\n",
       "100,00\n",
       "Forma de Pagamento Moeda\n",
       "Formas de Pagamento: % Remuneração\n",
       "100,00\n",
       "Forma de Pagamento\n",
       "Transferência\n",
       "Moeda\n",
       "Total\n",
       "4.400,00 1.800,00 Total Pago ( EUR ) 2.950,00\n",
       "Total\n",
       "4.400,00 Total Pago ( EUR )\n",
       "1.800,00 2.950,00\n",
       "Declaro que recebi a quantia constante neste recibo,\n",
       "Obs.\n",
       "Declaro que recebi a quantia constante neste recibo,\n",
       "Transferência EUR\n",
       "EUR"
      ],
      "text/plain": [
       "<IPython.core.display.Markdown object>"
      ]
     },
     "execution_count": 2,
     "metadata": {},
     "output_type": "execute_result"
    }
   ],
   "source": [
    "from IPython.display import Markdown\n",
    "\n",
    "Markdown(receipt_data)"
   ]
  },
  {
   "cell_type": "code",
   "execution_count": 3,
   "metadata": {},
   "outputs": [
    {
     "data": {
      "text/plain": [
       "'Based on the provided receipt data, here is the extracted information:\\n\\n- **Company name:** EXEMPLO, UNIPESSOAL, LDA.\\n- **Date of closure:** 31/01/2024\\n- **Amount paid:** 2.950,00 EUR\\n\\nIf you need further assistance or additional extraction, feel free to ask!'"
      ]
     },
     "execution_count": 3,
     "metadata": {},
     "output_type": "execute_result"
    }
   ],
   "source": [
    "from ai_tools import ask_ai\n",
    "\n",
    "extraction_prompt = f\"\"\"\n",
    "\n",
    "You are an extraction engine for receipt data.\n",
    "Users will upload the contents of their receipts and you will extract\n",
    "the following fields:\n",
    "- Company name\n",
    "- Date of closure\n",
    "- Amount paid\n",
    "\n",
    "Extract the data from the following receipt:\n",
    "{receipt_data}\n",
    "\"\"\"\n",
    "\n",
    "structured_output = ask_ai(prompt=extraction_prompt)\n",
    "\n",
    "structured_output"
   ]
  },
  {
   "cell_type": "markdown",
   "metadata": {},
   "source": [
    "This output is ok but we don't want the conversational elements of the response right?\n",
    "\n",
    "To get around that, let's improve our initial prompt:"
   ]
  },
  {
   "cell_type": "code",
   "execution_count": 4,
   "metadata": {},
   "outputs": [
    {
     "data": {
      "text/plain": [
       "'```json\\n{\\n  \"company_name\": \"EXEMPLO, UNIPESSOAL, LDA.\",\\n  \"date_of_closure\": \"31/01/2024\",\\n  \"amount_paid\": \"2.950,00\"\\n}\\n```'"
      ]
     },
     "execution_count": 4,
     "metadata": {},
     "output_type": "execute_result"
    }
   ],
   "source": [
    "extraction_prompt_json = f\"\"\"\n",
    "You are an extraction engine for receipt data.\n",
    "Users will upload the contents of their receipts and you will extract\n",
    "the following fields as JSON OBJECTS:\n",
    "- Company name\n",
    "- Date of closure\n",
    "- Amount paid\n",
    "\n",
    "Extract the data from the following receipt:\n",
    "{receipt_data}\n",
    "\n",
    "Your OUTPUT SHOULD ONLY BE A JSON OBJECT WITH THE FOLLOWING FIELDS:\n",
    "- company_name\n",
    "- date_of_closure\n",
    "- amount_paid\n",
    "\"\"\"\n",
    "\n",
    "structured_output_json = ask_ai(prompt=extraction_prompt_json)\n",
    "\n",
    "structured_output_json"
   ]
  },
  {
   "cell_type": "code",
   "execution_count": 5,
   "metadata": {},
   "outputs": [
    {
     "data": {
      "text/plain": [
       "{'company_name': 'EXEMPLO, UNIPESSOAL, LDA.',\n",
       " 'date_of_closure': '31/01/2024',\n",
       " 'amount_paid': '2.950,00'}"
      ]
     },
     "execution_count": 5,
     "metadata": {},
     "output_type": "execute_result"
    }
   ],
   "source": [
    "# We need to import the json library to parse the JSON output\n",
    "import json\n",
    "\n",
    "def parse_json_output(json_str):\n",
    "    \"\"\"\n",
    "    This function parses the JSON output from the AI and removes the markdown code block markers if present.\n",
    "    \"\"\"\n",
    "    # Remove markdown code block markers if present\n",
    "    json_str = json_str.replace('```json', '').replace('```', '').strip()\n",
    "    \n",
    "    # Parse the JSON string into a Python dictionary\n",
    "    try:\n",
    "        return json.loads(json_str)\n",
    "    except json.JSONDecodeError:\n",
    "        print(\"Error: Could not parse JSON string\")\n",
    "        return None\n",
    "\n",
    "parsed_json = parse_json_output(structured_output_json)\n",
    "\n",
    "\n",
    "parsed_json"
   ]
  },
  {
   "cell_type": "code",
   "execution_count": 6,
   "metadata": {},
   "outputs": [
    {
     "name": "stdout",
     "output_type": "stream",
     "text": [
      "Company Name: EXEMPLO, UNIPESSOAL, LDA.\n",
      "Date of Closure: 31/01/2024\n",
      "Amount Paid: 2.950,00\n"
     ]
    }
   ],
   "source": [
    "print(f\"Company Name: {parsed_json['company_name']}\")\n",
    "print(f\"Date of Closure: {parsed_json['date_of_closure']}\")\n",
    "print(f\"Amount Paid: {parsed_json['amount_paid']}\")"
   ]
  },
  {
   "cell_type": "markdown",
   "metadata": {},
   "source": [
    "In Claude we can also do this quite easily using `xml` tags: `<output>{\"company_name\":....etc....} </output>`\n",
    "\n"
   ]
  },
  {
   "cell_type": "code",
   "execution_count": 7,
   "metadata": {},
   "outputs": [
    {
     "data": {
      "text/plain": [
       "\"I am Claude, an AI assistant created by Anthropic to be helpful, harmless, and honest. I don't have a specific version number or model name beyond that.\""
      ]
     },
     "execution_count": 7,
     "metadata": {},
     "output_type": "execute_result"
    }
   ],
   "source": [
    "from ai_tools import ask_ai\n",
    "\n",
    "ask_ai(prompt=\"Hi! Which model are you?\", model_name=\"claude-3-5-sonnet-20240620\")"
   ]
  },
  {
   "cell_type": "code",
   "execution_count": 8,
   "metadata": {},
   "outputs": [
    {
     "data": {
      "text/plain": [
       "'<output>\\n  <company_name>EXEMPLO, UNIPESSOAL, LDA.</company_name>\\n  <date_of_closure>31/01/2024</date_of_closure>\\n  <amount_paid>2950.00</amount_paid>\\n</output>'"
      ]
     },
     "execution_count": 8,
     "metadata": {},
     "output_type": "execute_result"
    }
   ],
   "source": [
    "extraction_prompt_claude = f\"\"\"\n",
    "You are an extraction engine for receipt data.\n",
    "Users will upload the contents of their receipts and you will extract key fields.\n",
    "\n",
    "Extract the following fields from this receipt:\n",
    "{receipt_data}\n",
    "\n",
    "Format your response using XML tags like this:\n",
    "<output>\n",
    "  <company_name>The company name</company_name>\n",
    "  <date_of_closure>The date of closure</date_of_closure>\n",
    "  <amount_paid>The amount paid</amount_paid>\n",
    "</output>\n",
    "\n",
    "Only include the XML tags and JSON object in your response, nothing else.\n",
    "\"\"\"\n",
    "output = ask_ai(prompt=extraction_prompt_claude, model_name=\"claude-3-5-sonnet-20240620\")\n",
    "\n",
    "output"
   ]
  },
  {
   "cell_type": "markdown",
   "metadata": {},
   "source": [
    "Now, let's write a function that properly parses this output from Claude:"
   ]
  },
  {
   "cell_type": "code",
   "execution_count": 9,
   "metadata": {},
   "outputs": [
    {
     "data": {
      "text/plain": [
       "'<company_name>EXEMPLO, UNIPESSOAL, LDA.</company_name>\\n  <date_of_closure>31/01/2024</date_of_closure>\\n  <amount_paid>2950.00</amount_paid>'"
      ]
     },
     "execution_count": 9,
     "metadata": {},
     "output_type": "execute_result"
    }
   ],
   "source": [
    "def parse_claude_output(output):\n",
    "    \"\"\"\n",
    "    This function parses the output from Claude and removes the XML tags.\n",
    "    \"\"\"\n",
    "    # Remove XML tags if present\n",
    "    output = output.replace('<output>', '').replace('</output>', '').strip()\n",
    "    return output\n",
    "\n",
    "output_parsed = parse_claude_output(output)\n",
    "\n",
    "output_parsed"
   ]
  },
  {
   "cell_type": "markdown",
   "metadata": {},
   "source": [
    "Now we can access each individual attribute easily by simply parsing the tags:\n"
   ]
  },
  {
   "cell_type": "code",
   "execution_count": 10,
   "metadata": {},
   "outputs": [
    {
     "name": "stdout",
     "output_type": "stream",
     "text": [
      "Company Name: EXEMPLO, UNIPESSOAL, LDA.\n",
      "Date of Closure: 31/01/2024\n",
      "Amount Paid: 2950.00\n"
     ]
    }
   ],
   "source": [
    "import re\n",
    "\n",
    "def extract_field(output, field_name):\n",
    "    \"\"\"Extract value between XML tags for a given field.\"\"\"\n",
    "    pattern = f\"<{field_name}>(.*?)</{field_name}>\"\n",
    "    match = re.search(pattern, output)\n",
    "    return match.group(1) if match else None\n",
    "\n",
    "# Extract each field\n",
    "company_name = extract_field(output_parsed, \"company_name\")\n",
    "date_of_closure = extract_field(output_parsed, \"date_of_closure\") \n",
    "amount_paid = extract_field(output_parsed, \"amount_paid\")\n",
    "\n",
    "print(f\"Company Name: {company_name}\")\n",
    "print(f\"Date of Closure: {date_of_closure}\")\n",
    "print(f\"Amount Paid: {amount_paid}\")"
   ]
  },
  {
   "cell_type": "markdown",
   "metadata": {},
   "source": [
    "But what if you don't want to send your private data to some cloud provider?\n",
    "\n",
    "In that case, we use local models! After a lot of advancements, we can now easily use local models to extract structured outputs similar to what we have been doing before."
   ]
  },
  {
   "cell_type": "code",
   "execution_count": 11,
   "metadata": {},
   "outputs": [
    {
     "name": "stdout",
     "output_type": "stream",
     "text": [
      "Company Name: EXEMPLO, UNIPESSOAL, LDA. AV. DA LIBERDADE\n",
      "Date of Closure: 31/01/2024\n",
      "Amount Paid: 2950.0\n"
     ]
    }
   ],
   "source": [
    "from ai_tools import ask_local_ai\n",
    "import json\n",
    "\n",
    "extraction_prompt_json = f\"\"\"\n",
    "You are an extraction engine for receipt data.\n",
    "Users will upload the contents of their receipts and you will extract\n",
    "the following fields as JSON OBJECTS:\n",
    "- Company name\n",
    "- Date of closure\n",
    "- Amount paid\n",
    "\n",
    "Extract the data from the following receipt:\n",
    "{receipt_data}\n",
    "\n",
    "Your OUTPUT SHOULD ONLY BE A JSON OBJECT WITH THE FOLLOWING FIELDS:\n",
    "- company_name\n",
    "- date_of_closure\n",
    "- amount_paid\n",
    "\"\"\"\n",
    "\n",
    "output_string = ask_local_ai(extraction_prompt_json, structured=True)\n",
    "\n",
    "output_json = json.loads(output_string)\n",
    "\n",
    "print(f\"Company Name: {output_json['company_name']}\")\n",
    "print(f\"Date of Closure: {output_json['date_of_closure']}\")\n",
    "print(f\"Amount Paid: {output_json['amount_paid']}\")"
   ]
  },
  {
   "cell_type": "markdown",
   "metadata": {},
   "source": [
    "The fancier way of doing this for those interested in exploring more about structured extractions is using something called `pydantic` a data validation library that perfectly integrates with LLM APIs like openai's and anthropics to create these structured outputs in a more programatic and organized fashion.\n",
    "See an example in: `./structured_output_with_pydantic.py`."
   ]
  }
 ],
 "metadata": {
  "kernelspec": {
   "display_name": "oreilly-automate-tasks",
   "language": "python",
   "name": "oreilly-automate-tasks"
  },
  "language_info": {
   "codemirror_mode": {
    "name": "ipython",
    "version": 3
   },
   "file_extension": ".py",
   "mimetype": "text/x-python",
   "name": "python",
   "nbconvert_exporter": "python",
   "pygments_lexer": "ipython3",
   "version": "3.11.11"
  }
 },
 "nbformat": 4,
 "nbformat_minor": 2
}
