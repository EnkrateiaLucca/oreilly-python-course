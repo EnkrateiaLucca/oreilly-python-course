{
 "cells": [
  {
   "cell_type": "markdown",
   "id": "8f5ec465",
   "metadata": {},
   "source": [
    "# 📄 Building a Simple Report-Style PDF with **ReportLab**\n",
    "\n",
    "You’re about to walk through every line of a small script that spits out a finished PDF—title page, paragraph, table, bar chart, and even a little “logo” drawn on the page. No prior ReportLab or PDF-generation experience required. Just follow along, run the code cells, and a fresh `sample_report.pdf` will appear on your desktop.\n",
    "\n",
    "---\n",
    "\n",
    "## Prerequisites\n",
    "\n"
   ]
  },
  {
   "cell_type": "code",
   "execution_count": null,
   "id": "0544c383",
   "metadata": {},
   "outputs": [],
   "source": [
    "# Run this once in a terminal or Jupyter cell\n",
    "pip install reportlab\n"
   ]
  },
  {
   "cell_type": "markdown",
   "id": "c006e902",
   "metadata": {},
   "source": [
    "\n",
    "That’s it. ReportLab is pure-Python, no system libraries to compile.\n",
    "\n",
    "---\n",
    "\n",
    "## 1. Imports and Dependencies\n",
    "\n"
   ]
  },
  {
   "cell_type": "code",
   "execution_count": null,
   "id": "2045667e",
   "metadata": {},
   "outputs": [],
   "source": [
    "from reportlab.lib.pagesizes import letter\n",
    "from reportlab.platypus import SimpleDocTemplate, Paragraph, Spacer, Table, TableStyle\n",
    "from reportlab.lib.styles import getSampleStyleSheet, ParagraphStyle\n",
    "from reportlab.lib.units import inch\n",
    "from reportlab.lib import colors\n",
    "from reportlab.graphics.shapes import Drawing, Rect, Circle\n",
    "from reportlab.graphics.charts.barcharts import VerticalBarChart\n",
    "from reportlab.graphics import renderPDF\n",
    "from reportlab.lib.enums import TA_CENTER\n",
    "import os\n"
   ]
  },
  {
   "cell_type": "markdown",
   "id": "4eac9947",
   "metadata": {},
   "source": [
    "\n",
    "**What’s going on?**\n",
    "\n",
    "* **`platypus`** — ReportLab’s “build-a-document” framework. You feed it “flowables” (Paragraphs, Tables, etc.) and it lays them out.\n",
    "* **`lib.pagesizes.letter`** — A tuple with width & height in points (1 pt = 1/72 inch).\n",
    "* **`Drawing`, `Rect`, `Circle`, `VerticalBarChart`** — Shapes and charts live in the graphics sub-package.\n",
    "* **`os`** — Only used to figure out where your Desktop folder lives.\n",
    "\n",
    "---\n",
    "\n",
    "## 2. Decide Where to Save the PDF\n",
    "\n"
   ]
  },
  {
   "cell_type": "code",
   "execution_count": null,
   "id": "bc262688",
   "metadata": {},
   "outputs": [],
   "source": [
    "desktop_path = os.path.expanduser(\"~/Desktop\")   # Works on macOS & Linux\n",
    "filename = os.path.join(desktop_path, \"sample_report.pdf\")\n"
   ]
  },
  {
   "cell_type": "markdown",
   "id": "7ba4efe0",
   "metadata": {},
   "source": [
    "\n",
    "The `~` expands to your home directory. If you’re on Windows, swap `~/Desktop` for something like `C:/Users/<YOU>/Desktop` or just any folder you have write access to.\n",
    "\n",
    "---\n",
    "\n",
    "## 3. Create the **SimpleDocTemplate**\n",
    "\n"
   ]
  },
  {
   "cell_type": "code",
   "execution_count": null,
   "id": "326e4ef1",
   "metadata": {},
   "outputs": [],
   "source": [
    "doc = SimpleDocTemplate(\n",
    "    filename,\n",
    "    pagesize=letter,\n",
    "    topMargin=0.5 * inch      # ½-inch top margin\n",
    ")\n",
    "story = []  # A plain Python list that will hold our “flowables”\n"
   ]
  },
  {
   "cell_type": "markdown",
   "id": "7b4896f1",
   "metadata": {},
   "source": [
    "\n",
    "`SimpleDocTemplate` is the easiest wrapper around a PDF file. When we later call `doc.build(story)`, it writes the whole thing out.\n",
    "\n",
    "---\n",
    "\n",
    "## 4. Define Text Styles\n",
    "\n"
   ]
  },
  {
   "cell_type": "code",
   "execution_count": null,
   "id": "0a0b952c",
   "metadata": {},
   "outputs": [],
   "source": [
    "styles = getSampleStyleSheet()  # Built-in defaults\n",
    "\n",
    "title_style = ParagraphStyle(\n",
    "    \"CustomTitle\",\n",
    "    parent=styles[\"Heading1\"],\n",
    "    fontSize=24,\n",
    "    spaceAfter=30,          # pts of space below\n",
    "    alignment=TA_CENTER,\n",
    "    textColor=colors.darkblue\n",
    ")\n",
    "\n",
    "subtitle_style = ParagraphStyle(\n",
    "    \"CustomSubtitle\",\n",
    "    parent=styles[\"Heading2\"],\n",
    "    fontSize=16,\n",
    "    spaceAfter=20,\n",
    "    alignment=TA_CENTER,\n",
    "    textColor=colors.grey\n",
    ")\n"
   ]
  },
  {
   "cell_type": "markdown",
   "id": "21a7db1d",
   "metadata": {},
   "source": [
    "\n",
    "Paragraph styles decide **font, size, colour, alignment, spacing,** everything. We inherit from the default headings but tweak what we need.\n",
    "\n",
    "---\n",
    "\n",
    "## 5. Add Title, Subtitle, and Body Text\n",
    "\n"
   ]
  },
  {
   "cell_type": "code",
   "execution_count": null,
   "id": "55157f0d",
   "metadata": {},
   "outputs": [],
   "source": [
    "from reportlab.platypus import Paragraph, Spacer\n",
    "\n",
    "# Title & subtitle\n",
    "story.append(Paragraph(\"Company Annual Report\", title_style))\n",
    "story.append(Paragraph(\"Financial Performance Overview 2024\", subtitle_style))\n",
    "\n",
    "# Blank vertical space (exactly 20 pts tall)\n",
    "story.append(Spacer(1, 20))\n",
    "\n",
    "# Body paragraph\n",
    "paragraph_text = \"\"\"\n",
    "This comprehensive report presents our company's outstanding performance throughout 2024. \n",
    "Our strategic initiatives have resulted in significant growth across all key metrics, \n",
    "demonstrating our commitment to excellence and innovation. The following data showcases \n",
    "our achievements in revenue, customer satisfaction, and market expansion. We continue \n",
    "to build on our strong foundation while exploring new opportunities for sustainable growth.\n",
    "\"\"\"\n",
    "story.append(Paragraph(paragraph_text, styles[\"Normal\"]))\n",
    "story.append(Spacer(1, 20))\n"
   ]
  },
  {
   "cell_type": "markdown",
   "id": "85f17f92",
   "metadata": {},
   "source": [
    "\n",
    "*Don’t overthink `Spacer`—it’s literally an invisible rectangle that forces vertical breathing room.*\n",
    "\n",
    "---\n",
    "\n",
    "## 6. Build a Quick Table\n",
    "\n"
   ]
  },
  {
   "cell_type": "code",
   "execution_count": null,
   "id": "4ab27731",
   "metadata": {},
   "outputs": [],
   "source": [
    "table_data = [\n",
    "    [\"Quarter\", \"Revenue ($M)\", \"Growth (%)\"],\n",
    "    [\"Q1 2024\", \"125.4\", \"12.3\"],\n",
    "    [\"Q2 2024\", \"142.8\", \"18.7\"],\n",
    "    [\"Q3 2024\", \"156.2\", \"15.2\"],\n",
    "    [\"Q4 2024\", \"178.9\", \"22.1\"],\n",
    "]\n",
    "\n",
    "table = Table(table_data, colWidths=[1.5 * inch] * 3)\n",
    "\n",
    "table.setStyle(TableStyle([\n",
    "    (\"BACKGROUND\", (0, 0), (-1, 0), colors.darkblue),   # Header row fill\n",
    "    (\"TEXTCOLOR\", (0, 0), (-1, 0), colors.whitesmoke),\n",
    "    (\"ALIGN\",     (0, 0), (-1, -1), \"CENTER\"),\n",
    "    (\"FONTNAME\",  (0, 0), (-1, 0), \"Helvetica-Bold\"),\n",
    "    (\"FONTSIZE\",  (0, 0), (-1, 0), 12),\n",
    "    (\"BOTTOMPADDING\", (0, 0), (-1, 0), 12),\n",
    "    (\"BACKGROUND\", (0, 1), (-1, -1), colors.lightgrey),\n",
    "    (\"GRID\", (0, 0), (-1, -1), 1, colors.black),\n",
    "]))\n",
    "story.append(table)\n",
    "story.append(Spacer(1, 30))\n"
   ]
  },
  {
   "cell_type": "markdown",
   "id": "bfa43c4e",
   "metadata": {},
   "source": [
    "\n",
    "Coordinate scheme: `(col, row)`, zero-based. `(0,0)` is top-left. `(-1,0)` means “last column in row 0”. Styling is chainable; set as many rules as you want in a single shot.\n",
    "\n",
    "---\n",
    "\n",
    "## 7. Draw a Bar Chart and a Simple “Logo”\n",
    "\n"
   ]
  },
  {
   "cell_type": "code",
   "execution_count": null,
   "id": "155ac407",
   "metadata": {},
   "outputs": [],
   "source": [
    "drawing = Drawing(400, 200)  # Canvas for vector graphics\n",
    "\n",
    "# Faux logo: blue rectangle + orange circle\n",
    "drawing.add(Rect(10, 150, 60, 30, fillColor=colors.darkblue, strokeColor=colors.black))\n",
    "drawing.add(Circle(90, 165, 15, fillColor=colors.orange, strokeColor=colors.black))\n",
    "\n",
    "# Vertical bar chart\n",
    "chart = VerticalBarChart()\n",
    "chart.x, chart.y = 120, 50\n",
    "chart.width, chart.height = 250, 125\n",
    "chart.data = [[125.4, 142.8, 156.2, 178.9]]\n",
    "chart.categoryAxis.categoryNames = [\"Q1\", \"Q2\", \"Q3\", \"Q4\"]\n",
    "\n",
    "chart.valueAxis.valueMin = 0\n",
    "chart.valueAxis.valueMax = 200\n",
    "chart.bars[0].fillColor = colors.darkblue\n",
    "chart.bars[0].strokeColor = colors.black\n",
    "\n",
    "drawing.add(chart)\n",
    "story.append(drawing)\n"
   ]
  },
  {
   "cell_type": "markdown",
   "id": "b9d561ca",
   "metadata": {},
   "source": [
    "\n",
    "### What’s a `Drawing`?\n",
    "\n",
    "Think of it as an SVG-ish container. Anything you add lives in its own coordinate system (origin at bottom-left). When we tuck the entire `Drawing` into `story`, ReportLab converts it to PDF vector commands.\n",
    "\n",
    "---\n",
    "\n",
    "## 8. Compile Everything into the PDF\n",
    "\n"
   ]
  },
  {
   "cell_type": "code",
   "execution_count": null,
   "id": "4b800803",
   "metadata": {},
   "outputs": [],
   "source": [
    "doc.build(story)\n",
    "print(f\"PDF generated successfully ⇒ {filename}\")\n"
   ]
  },
  {
   "cell_type": "markdown",
   "id": "067d8fa0",
   "metadata": {},
   "source": [
    "\n",
    "`build()` chews through the flowables top-to-bottom, lays them out, writes pages, and closes the file. If there’s any error in your flowables, you’ll see it now.\n",
    "\n",
    "---\n",
    "\n",
    "## 9. Wrap It in a Function (Optional but Clean)\n",
    "\n"
   ]
  },
  {
   "cell_type": "code",
   "execution_count": null,
   "id": "eee5122a",
   "metadata": {},
   "outputs": [],
   "source": [
    "def create_pdf():\n",
    "    # all the code above goes here\n",
    "    pass\n",
    "\n",
    "if __name__ == \"__main__\":\n",
    "    create_pdf()\n"
   ]
  },
  {
   "cell_type": "markdown",
   "id": "43f34050",
   "metadata": {},
   "source": [
    "\n",
    "This “main guard” means:\n",
    "\n",
    "* Running the script normally (`python myscript.py`) → it executes.\n",
    "* Importing the script from **another** Python file → it does **not** auto-run and make random PDFs.\n",
    "\n",
    "In a Jupyter notebook you can **skip** the guard and just call `create_pdf()` directly.\n",
    "\n",
    "---\n",
    "\n",
    "## 🏁 Test It\n",
    "\n"
   ]
  },
  {
   "cell_type": "code",
   "execution_count": null,
   "id": "ec74e149",
   "metadata": {},
   "outputs": [],
   "source": [
    "create_pdf()\n"
   ]
  },
  {
   "cell_type": "markdown",
   "id": "1736e6a2",
   "metadata": {},
   "source": [
    "\n",
    "Head to your desktop—`sample_report.pdf` should be waiting. Open it. You’ll see:\n",
    "\n",
    "1. **Dark-blue title** centered, size 24 pt\n",
    "2. **Grey subtitle** just below, size 16 pt\n",
    "3. A paragraph of body text\n",
    "4. A light-grey table of quarterly numbers\n",
    "5. A mini “logo” plus a bar chart showing revenue growth\n",
    "\n",
    "If something’s off (table columns mis-aligned, fonts ugly, chart too small), tweak numbers and rerun. PDF generation is instant, so experiment fearlessly.\n",
    "\n",
    "---"
   ]
  }
 ],
 "metadata": {
  "kernelspec": {
   "display_name": "Python 3 (ipykernel)",
   "language": "python",
   "name": "python3"
  },
  "language_info": {
   "codemirror_mode": {
    "name": "ipython",
    "version": 3
   },
   "file_extension": ".py",
   "mimetype": "text/x-python",
   "name": "python",
   "nbconvert_exporter": "python",
   "pygments_lexer": "ipython3",
   "version": "3.13.1"
  }
 },
 "nbformat": 4,
 "nbformat_minor": 5
}
