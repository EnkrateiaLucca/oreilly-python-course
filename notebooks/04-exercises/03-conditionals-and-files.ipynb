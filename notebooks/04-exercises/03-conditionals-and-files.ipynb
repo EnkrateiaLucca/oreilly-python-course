{
 "cells": [
  {
   "cell_type": "markdown",
   "metadata": {},
   "source": [
    "# SV question: 'if and if -> use case explain it one more time.'"
   ]
  },
  {
   "cell_type": "code",
   "execution_count": 1,
   "metadata": {},
   "outputs": [
    {
     "name": "stdout",
     "output_type": "stream",
     "text": [
      "Lucas is older than 30!\n"
     ]
    }
   ],
   "source": [
    "name = \"Lucas\"\n",
    "\n",
    "age = 33\n",
    "#      True      AND  TRUE\n",
    "if name==\"Lucas\" and age>30:\n",
    "    # This gets executed!\n",
    "    print(\"Lucas is older than 30!\")"
   ]
  },
  {
   "cell_type": "markdown",
   "metadata": {},
   "source": [
    "# PP question: 'how do we import the necessary modules when we are using Google Collab for the Notebooks?'"
   ]
  },
  {
   "cell_type": "code",
   "execution_count": 2,
   "metadata": {},
   "outputs": [],
   "source": [
    "from openai import OpenAI\n",
    "import anthropic\n",
    "import ollama\n",
    "import json\n",
    "\n",
    "def ask_ai(prompt, model_name=\"gpt-4o-mini\"):\n",
    "    \"\"\"\n",
    "    Send prompt to an LLM and get output text back.    \n",
    "    \"\"\"\n",
    "    if \"claude\" in model_name:\n",
    "        client = anthropic.Anthropic()\n",
    "\n",
    "        # Send a message to the Claude AI\n",
    "        response = client.messages.create(\n",
    "            model=model_name,\n",
    "            messages=[\n",
    "                {\n",
    "                    \"role\": \"user\", \"content\": prompt\n",
    "                }\n",
    "                ],\n",
    "            max_tokens=4000,\n",
    "        )\n",
    "        output = response.content[0].text\n",
    "        return output        \n",
    "    else:\n",
    "        client = OpenAI()\n",
    "        response = client.chat.completions.create(\n",
    "            model=model_name,\n",
    "            messages=[\n",
    "                {\n",
    "                    \"role\": \"system\",\n",
    "                    \"content\": \"You are a helpful assistant.\"\n",
    "                },\n",
    "                {\n",
    "                    \"role\": \"user\",\n",
    "                    \"content\": prompt\n",
    "                }\n",
    "            ],\n",
    "        )\n",
    "        output = response.choices[0].message.content\n",
    "        return output\n",
    "\n",
    "\n",
    "def ask_local_ai(prompt, model_name=\"llama3.2\", structured=False):\n",
    "    \"\"\"\n",
    "    Send prompt to a local LLM and get output text back.\n",
    "    \"\"\"\n",
    "    client = ollama.Client()\n",
    "    if structured:\n",
    "        response = client.chat(model=model_name, \n",
    "                               messages=\n",
    "                               [\n",
    "                                   {\"role\": \"user\", \"content\": prompt}\n",
    "                                ],\n",
    "                               format='json')\n",
    "        return response.message.content\n",
    "    else:\n",
    "        response = client.chat(model=model_name, \n",
    "                               messages=\n",
    "                               [\n",
    "                                   {\"role\": \"user\", \"content\": prompt}\n",
    "                                ])\n",
    "        return response.message.content\n",
    "\n",
    "\n",
    "def parse_dates_list(output_str):\n",
    "    \"\"\"\n",
    "    Parse the string output containing a Python list of dates into an actual Python list.\n",
    "    \n",
    "    Args:\n",
    "        output_str (str): String containing a Python list representation of dates\n",
    "        \n",
    "    Returns:\n",
    "        list: List of date strings\n",
    "    \"\"\"\n",
    "    # Remove markdown code block formatting if present\n",
    "    output_str = output_str.replace('```python', '').replace('```', '').strip()\n",
    "    \n",
    "    # Safely evaluate the string as a Python expression\n",
    "    dates_list = eval(output_str)\n",
    "    \n",
    "    return dates_list\n",
    "\n",
    "def parse_json_output(json_str):\n",
    "    \"\"\"\n",
    "    This function parses the JSON output from the AI and removes the markdown code block markers if present.\n",
    "    \"\"\"\n",
    "    # Remove markdown code block markers if present\n",
    "    json_str = json_str.replace('```json', '').replace('```', '').strip()\n",
    "    \n",
    "    # Parse the JSON string into a Python dictionary\n",
    "    try:\n",
    "        return json.loads(json_str)\n",
    "    except json.JSONDecodeError:\n",
    "        print(\"Error: Could not parse JSON string\")\n",
    "        return None"
   ]
  },
  {
   "cell_type": "markdown",
   "metadata": {},
   "source": [
    "# CA question: 'Can you explain how to try to open a file, but if it exists create the next rev of the file?  \n",
    "the rev of a file meaning if the file name ends in _1 and it exists then write/create a filename ending _2 thanks'"
   ]
  },
  {
   "cell_type": "code",
   "execution_count": 6,
   "metadata": {},
   "outputs": [],
   "source": [
    "import os\n",
    "\n",
    "file_name = \"./ca-file1.txt\"\n",
    "\n",
    "if os.path.exists(file_name):\n",
    "    file_name = file_name.replace(\"1\", \"2\")\n",
    "    with open(file_name, \"w\") as f:\n",
    "        f.write(file_name)"
   ]
  },
  {
   "cell_type": "code",
   "execution_count": null,
   "metadata": {},
   "outputs": [],
   "source": []
  },
  {
   "cell_type": "code",
   "execution_count": null,
   "metadata": {},
   "outputs": [],
   "source": []
  }
 ],
 "metadata": {
  "kernelspec": {
   "display_name": "oreilly-automate-tasks",
   "language": "python",
   "name": "oreilly-automate-tasks"
  },
  "language_info": {
   "codemirror_mode": {
    "name": "ipython",
    "version": 3
   },
   "file_extension": ".py",
   "mimetype": "text/x-python",
   "name": "python",
   "nbconvert_exporter": "python",
   "pygments_lexer": "ipython3",
   "version": "3.11.11"
  }
 },
 "nbformat": 4,
 "nbformat_minor": 2
}
