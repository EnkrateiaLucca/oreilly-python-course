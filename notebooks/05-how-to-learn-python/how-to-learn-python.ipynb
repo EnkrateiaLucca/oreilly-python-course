{
 "cells": [
  {
   "cell_type": "code",
   "execution_count": 1,
   "id": "cc8e8654",
   "metadata": {},
   "outputs": [
    {
     "name": "stdout",
     "output_type": "stream",
     "text": [
      "hi\n"
     ]
    }
   ],
   "source": [
    "print(\"hi\")"
   ]
  },
  {
   "cell_type": "markdown",
   "id": "59b4a917",
   "metadata": {},
   "source": [
    "# How to Learn Python Skills Fast\n",
    "\n",
    "We're gonna start with this problem from 'LA' (shout out)\n",
    "\n",
    "i have quite a number of files on my computer. I would like to make an app to go over those files and:\n",
    "\n",
    "1. clasify them into folders\n",
    "\n",
    "2. create an index to find the file(s) treating a subject\n",
    "\n",
    "3. create a resume of specific file"
   ]
  },
  {
   "cell_type": "markdown",
   "id": "b3e1a5d4",
   "metadata": {},
   "source": [
    "Here’s a clearer and more structured version of your problem, expressed as a task someone could solve with Python:\n",
    "\n",
    "---\n",
    "\n",
    "### Task: File Organization and Indexing App\n",
    "\n",
    "You want to build a Python app that can manage and organize a collection of files on your computer. The app should be able to:\n",
    "\n",
    "1. **Classify files into folders**\n",
    "\n",
    "   * Automatically sort files into categories (e.g., by type, topic, or metadata) and move them into the appropriate folders.\n",
    "\n",
    "2. **Create a searchable index**\n",
    "\n",
    "   * Build an index or database that makes it easy to search for files based on their content or subject matter.\n",
    "\n",
    "3. **Summarize file contents**\n",
    "\n",
    "   * For specific files (like documents or PDFs), generate a short summary of their content so you can quickly understand what they are about without opening them.\n",
    "\n",
    "---\n",
    "\n",
    "Do you want me to also **break this down into smaller, beginner-friendly Python subtasks** (e.g., \"Step 1: scan all files in a directory,\" \"Step 2: classify by extension\") so you can gradually build towards the full app?\n"
   ]
  },
  {
   "cell_type": "markdown",
   "id": "be763d66",
   "metadata": {},
   "source": [
    "# Task Breakdown \n",
    "\n",
    "Got it 👍 Here’s a clear step-by-step path with **10 tiny Python challenges** that build up toward your file organization app. No code, just the challenges:\n",
    "\n",
    "1. **Work with paths**\n",
    "\n",
    "   * Write a Python script that prints the current working directory and lists all files in it.\n",
    "\n",
    "2. **Filter files by type**\n",
    "\n",
    "   * From a folder, list only files with a specific extension (e.g., `.txt` or `.pdf`).\n",
    "   \n",
    "\n",
    "3. **Move files**\n",
    "\n",
    "   * Write a script that moves a file from one folder to another.\n",
    "\n",
    "4. **Batch move by type**\n",
    "\n",
    "   * Automatically move all `.txt` files into a \"texts\" folder and all `.jpg` files into an \"images\" folder.\n",
    "\n",
    "5. **Read file content**\n",
    "\n",
    "   * Open a `.txt` file and print the first 5 lines.\n",
    "\n",
    "6. **Index file names**\n",
    "\n",
    "   * Create a Python dictionary where keys are file names and values are their file paths.\n",
    "\n",
    "7. **Search the index**\n",
    "\n",
    "   * Ask the user for a keyword and return all file names that contain it.\n",
    "\n",
    "8. **Summarize text files**\n",
    "\n",
    "   * For each `.txt` file, generate a \"summary\" by printing the first 2 sentences.\n",
    "\n",
    "9. **Index with summaries**\n",
    "\n",
    "   * Extend your dictionary so that each file also stores a short summary.\n",
    "\n",
    "10. **Bring it together**\n",
    "\n",
    "* Make a script that:\n",
    "\n",
    "  1. Classifies files into folders,\n",
    "  2. Creates an index of all files with paths and summaries,\n",
    "  3. Lets the user search the index for keywords.\n",
    "\n",
    "---\n",
    "\n",
    "Do you want me to also suggest which **Python topics/syntax** each challenge will teach you along the way (so you know what to focus on before trying each one)?\n"
   ]
  },
  {
   "cell_type": "markdown",
   "id": "dd35f598",
   "metadata": {},
   "source": [
    "1. **Work with paths**\n",
    "\n",
    "   * Write a Python script that prints the current working directory and lists all files in it.\n"
   ]
  },
  {
   "cell_type": "code",
   "execution_count": null,
   "id": "546665c3",
   "metadata": {},
   "outputs": [
    {
     "name": "stdout",
     "output_type": "stream",
     "text": [
      "/Users/greatmaster/Desktop/projects/oreilly-live-trainings/oreilly-python-course/notebooks/05-how-to-learn-python\n"
     ]
    }
   ],
   "source": [
    "import os\n",
    "\n",
    "current_dir = os.getcwd()\n",
    "\n",
    "print(current_dir)\n",
    "\n",
    "files_in_current_dir = os.listdir(current_dir)\n",
    "\n",
    "print(files_in_current_dir)"
   ]
  },
  {
   "cell_type": "markdown",
   "id": "c48a291d",
   "metadata": {},
   "source": [
    "# Task 2\n",
    "\n",
    "2. **Filter files by type**\n",
    "\n",
    "   * From a folder, list only files with a specific extension (e.g., `.txt` or `.pdf`)."
   ]
  },
  {
   "cell_type": "code",
   "execution_count": 12,
   "id": "65136f68",
   "metadata": {},
   "outputs": [
    {
     "name": "stdout",
     "output_type": "stream",
     "text": [
      "file.txt\n",
      "file.pdf\n",
      "lucas-tests.pdf\n",
      "la-example.txt\n"
     ]
    },
    {
     "data": {
      "text/plain": [
       "['file.txt', 'file.pdf', 'lucas-tests.pdf', 'la-example.txt']"
      ]
     },
     "execution_count": 12,
     "metadata": {},
     "output_type": "execute_result"
    }
   ],
   "source": [
    "import os\n",
    "\n",
    "current_folder_path = os.getcwd()\n",
    "\n",
    "lists_extensions = [\".txt\", \".pdf\"]\n",
    "\n",
    "files_in_current_dir = os.listdir(current_folder_path)\n",
    "\n",
    "files_in_current_dir\n",
    "\n",
    "# how to check if a string contains another?\n",
    "txt_pdf_files = []\n",
    "for file in files_in_current_dir:\n",
    "    for ext in lists_extensions:\n",
    "        if file.endswith(ext):\n",
    "            txt_pdf_files.append(file)\n",
    "            print(file)\n",
    "\n",
    "txt_pdf_files"
   ]
  },
  {
   "cell_type": "code",
   "execution_count": null,
   "id": "7398e5c9",
   "metadata": {},
   "outputs": [],
   "source": []
  },
  {
   "cell_type": "code",
   "execution_count": null,
   "id": "5397c2b6",
   "metadata": {},
   "outputs": [],
   "source": []
  }
 ],
 "metadata": {
  "language_info": {
   "name": "python"
  }
 },
 "nbformat": 4,
 "nbformat_minor": 5
}
